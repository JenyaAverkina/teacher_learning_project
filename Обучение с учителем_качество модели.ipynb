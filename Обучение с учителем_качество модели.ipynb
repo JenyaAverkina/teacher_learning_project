{
 "cells": [
  {
   "cell_type": "markdown",
   "metadata": {},
   "source": [
    "# Проект: Обучение с учителем: качество модели"
   ]
  },
  {
   "cell_type": "markdown",
   "metadata": {},
   "source": [
    "**План проекта**\n",
    "\n",
    "***1. Введение***\n",
    "\n",
    "***2. Загрузка и подготовка данных***\n",
    "\n",
    "Шаг 1: Загрузка данных\n",
    "\n",
    "- Загрузить данные из файлов: market_file.csv, market_money.csv, market_time.csv, money.csv.\n",
    "- Убедиться в корректности формата файлов (разделитель и формат данных).\n",
    "\n",
    "Шаг 2: Предобработка данных\n",
    "\n",
    "- Обработать названия столбцов (оставить кириллическими).\n",
    "- Проверить пропуски и аномалии в данных (обработка пропусков, дубликатов и выбор корректных типов данных).\n",
    "\n",
    "***3. Исследовательский анализ данных***\n",
    "\n",
    "Шаг 3: Проведение EDA\n",
    "\n",
    "- Изучить распределение признаков, используя графики и описательную статистику.\n",
    "- Определить клиентов с активностью не менее трех месяцев.\n",
    "- Оформить выводы о вычисленных статистиках и взаимосвязях между признаками.\n",
    "\n",
    "***4. Объединение таблиц***\n",
    "\n",
    "Шаг 4: Объединение данных\n",
    "\n",
    "- Объединить таблицы market_file.csv, market_money.csv, market_time.csv.\n",
    "- Создать отдельные столбцы для каждого периода выручки и времени, проведенного на сайте.\n",
    "\n",
    "***5. Корреляционный анализ***\n",
    "\n",
    "Шаг 5: Корреляционный анализ\n",
    "\n",
    "- Рассмотреть корреляцию количественных признаков в объединённой таблице.\n",
    "- Проверить наличие мультиколлинеарности и при необходимости удалить высоко коррелируемые признаки.\n",
    "\n",
    "***6. Моделирование***\n",
    "\n",
    "Шаг 6: Модели и пайплайны\n",
    "\n",
    "- Разработать пайплайн для обработки данных с использованием ColumnTransformer для кодирования и масштабирования признаков.\n",
    "- Обучить четыре модели:\n",
    "        KNeighborsClassifier()\n",
    "        DecisionTreeClassifier()\n",
    "        LogisticRegression()\n",
    "        SVC()\n",
    "- Подобрать гиперпараметры для каждой модели и выбрать метрику (например, F1-score или ROC-AUC).\n",
    "- Выбрать лучшую модель на основе метрики.\n",
    "\n",
    "***7. Анализ важности признаков***\n",
    "\n",
    "Шаг 7: Оценка важности признаков\n",
    "\n",
    "- Использовать метод SHAP для анализа важности признаков в лучшей модели.\n",
    "- Сделать выводы о наиболее значимых признаках и их влиянии на целевой признак.\n",
    "\n",
    "***8. Сегментация покупателей***\n",
    "\n",
    "Шаг 8: Сегментация\n",
    "\n",
    "- Использовать результаты моделирования и данные о прибыльности для выделения сегментов покупателей.\n",
    "- Провести графический и аналитический анализ выбранной группы покупателей.\n",
    "- Предложить меры по увеличению покупательской активности для выбранного сегмента.\n",
    "\n",
    "***9. Общий вывод***\n",
    "\n",
    "Шаг 9: Заключение\n",
    "\n",
    "- Описать задачу, исходные данные, проведённую предобработку.\n",
    "- Подвести итоги построения моделей и указать наилучшую модель.\n",
    "- Указать, какие изменения были предложены для повышения активности выбранного сегмента покупателей."
   ]
  },
  {
   "cell_type": "markdown",
   "metadata": {},
   "source": [
    "## Введение\n",
    "\n",
    "Цели проекта:  \n",
    "- Разработать модель, которая предскажет снижение покупательской активности клиентов за следующие три месяца.\n",
    "- Выделить сегменты покупателей, проанализировать их и предложить персонализированные предложения для повышения активности.  \n",
    "Задачи:  \n",
    "- Исследовать и подготовить данные для обучения модели.\n",
    "- Построить несколько моделей и выбрать наилучший вариант.\n",
    "- Проанализировать важность признаков для принятия обоснованных бизнес-решений.\n",
    "- Сегментировать покупателей и предложить стратегии увеличения их активности.\n"
   ]
  },
  {
   "cell_type": "markdown",
   "metadata": {},
   "source": [
    "## Загрузка и подготовка данных\n",
    "\n",
    "**Импорт библиотек**"
   ]
  },
  {
   "cell_type": "code",
   "execution_count": 1,
   "metadata": {
    "scrolled": true
   },
   "outputs": [
    {
     "name": "stdout",
     "output_type": "stream",
     "text": [
      "Collecting shap\n",
      "  Downloading shap-0.47.1-cp39-cp39-manylinux_2_17_x86_64.manylinux2014_x86_64.whl (939 kB)\n",
      "\u001b[K     |████████████████████████████████| 939 kB 1.2 MB/s eta 0:00:01\n",
      "\u001b[?25hRequirement already satisfied: numpy in /opt/conda/lib/python3.9/site-packages (from shap) (1.21.1)\n",
      "Requirement already satisfied: packaging>20.9 in /opt/conda/lib/python3.9/site-packages (from shap) (21.3)\n",
      "Requirement already satisfied: scipy in /opt/conda/lib/python3.9/site-packages (from shap) (1.9.1)\n",
      "Requirement already satisfied: scikit-learn in /opt/conda/lib/python3.9/site-packages (from shap) (0.24.1)\n",
      "Requirement already satisfied: numba>=0.54 in /opt/conda/lib/python3.9/site-packages (from shap) (0.56.0)\n",
      "Collecting cloudpickle\n",
      "  Downloading cloudpickle-3.1.1-py3-none-any.whl (20 kB)\n",
      "Collecting slicer==0.0.8\n",
      "  Downloading slicer-0.0.8-py3-none-any.whl (15 kB)\n",
      "Requirement already satisfied: pandas in /opt/conda/lib/python3.9/site-packages (from shap) (1.2.4)\n",
      "Requirement already satisfied: typing-extensions in /opt/conda/lib/python3.9/site-packages (from shap) (4.3.0)\n",
      "Requirement already satisfied: tqdm>=4.27.0 in /opt/conda/lib/python3.9/site-packages (from shap) (4.61.2)\n",
      "Requirement already satisfied: setuptools in /opt/conda/lib/python3.9/site-packages (from numba>=0.54->shap) (49.6.0.post20210108)\n",
      "Requirement already satisfied: llvmlite<0.40,>=0.39.0dev0 in /opt/conda/lib/python3.9/site-packages (from numba>=0.54->shap) (0.39.0)\n",
      "Requirement already satisfied: pyparsing!=3.0.5,>=2.0.2 in /opt/conda/lib/python3.9/site-packages (from packaging>20.9->shap) (2.4.7)\n",
      "Requirement already satisfied: python-dateutil>=2.7.3 in /opt/conda/lib/python3.9/site-packages (from pandas->shap) (2.8.1)\n",
      "Requirement already satisfied: pytz>=2017.3 in /opt/conda/lib/python3.9/site-packages (from pandas->shap) (2021.1)\n",
      "Requirement already satisfied: six>=1.5 in /opt/conda/lib/python3.9/site-packages (from python-dateutil>=2.7.3->pandas->shap) (1.16.0)\n",
      "Requirement already satisfied: threadpoolctl>=2.0.0 in /opt/conda/lib/python3.9/site-packages (from scikit-learn->shap) (3.1.0)\n",
      "Requirement already satisfied: joblib>=0.11 in /opt/conda/lib/python3.9/site-packages (from scikit-learn->shap) (1.1.0)\n",
      "Installing collected packages: slicer, cloudpickle, shap\n",
      "Successfully installed cloudpickle-3.1.1 shap-0.47.1 slicer-0.0.8\n",
      "Note: you may need to restart the kernel to use updated packages.\n"
     ]
    }
   ],
   "source": [
    "pip install shap"
   ]
  },
  {
   "cell_type": "code",
   "execution_count": 2,
   "metadata": {},
   "outputs": [
    {
     "name": "stdout",
     "output_type": "stream",
     "text": [
      "Collecting phik\n",
      "  Downloading phik-0.12.4-cp39-cp39-manylinux_2_17_x86_64.manylinux2014_x86_64.whl (686 kB)\n",
      "\u001b[K     |████████████████████████████████| 686 kB 1.2 MB/s eta 0:00:01\n",
      "\u001b[?25hRequirement already satisfied: pandas>=0.25.1 in /opt/conda/lib/python3.9/site-packages (from phik) (1.2.4)\n",
      "Requirement already satisfied: matplotlib>=2.2.3 in /opt/conda/lib/python3.9/site-packages (from phik) (3.3.4)\n",
      "Requirement already satisfied: numpy>=1.18.0 in /opt/conda/lib/python3.9/site-packages (from phik) (1.21.1)\n",
      "Requirement already satisfied: scipy>=1.5.2 in /opt/conda/lib/python3.9/site-packages (from phik) (1.9.1)\n",
      "Requirement already satisfied: joblib>=0.14.1 in /opt/conda/lib/python3.9/site-packages (from phik) (1.1.0)\n",
      "Requirement already satisfied: cycler>=0.10 in /opt/conda/lib/python3.9/site-packages (from matplotlib>=2.2.3->phik) (0.11.0)\n",
      "Requirement already satisfied: kiwisolver>=1.0.1 in /opt/conda/lib/python3.9/site-packages (from matplotlib>=2.2.3->phik) (1.4.4)\n",
      "Requirement already satisfied: pillow>=6.2.0 in /opt/conda/lib/python3.9/site-packages (from matplotlib>=2.2.3->phik) (8.4.0)\n",
      "Requirement already satisfied: pyparsing!=2.0.4,!=2.1.2,!=2.1.6,>=2.0.3 in /opt/conda/lib/python3.9/site-packages (from matplotlib>=2.2.3->phik) (2.4.7)\n",
      "Requirement already satisfied: python-dateutil>=2.1 in /opt/conda/lib/python3.9/site-packages (from matplotlib>=2.2.3->phik) (2.8.1)\n",
      "Requirement already satisfied: pytz>=2017.3 in /opt/conda/lib/python3.9/site-packages (from pandas>=0.25.1->phik) (2021.1)\n",
      "Requirement already satisfied: six>=1.5 in /opt/conda/lib/python3.9/site-packages (from python-dateutil>=2.1->matplotlib>=2.2.3->phik) (1.16.0)\n",
      "Installing collected packages: phik\n",
      "Successfully installed phik-0.12.4\n",
      "Note: you may need to restart the kernel to use updated packages.\n"
     ]
    }
   ],
   "source": [
    "pip install phik"
   ]
  },
  {
   "cell_type": "markdown",
   "metadata": {},
   "source": [
    "***Импортируем библиотеки***"
   ]
  },
  {
   "cell_type": "code",
   "execution_count": 3,
   "metadata": {},
   "outputs": [],
   "source": [
    "import pandas as pd\n",
    "import numpy as np\n",
    "import seaborn as sns\n",
    "import matplotlib.pyplot as plt\n",
    "from phik import phik_matrix\n",
    "from mpl_toolkits.mplot3d import Axes3D\n",
    "from sklearn.cluster import KMeans\n",
    "import shap\n",
    "from sklearn.compose import ColumnTransformer\n",
    "from sklearn.preprocessing import OneHotEncoder, StandardScaler, MinMaxScaler, OrdinalEncoder, LabelEncoder\n",
    "from sklearn.pipeline import Pipeline\n",
    "from sklearn.model_selection import GridSearchCV\n",
    "from sklearn.neighbors import KNeighborsClassifier\n",
    "from sklearn.tree import DecisionTreeClassifier\n",
    "from sklearn.linear_model import LogisticRegression\n",
    "from sklearn.svm import SVC\n",
    "from sklearn.metrics import f1_score, make_scorer\n",
    "from sklearn.model_selection import train_test_split\n",
    "from sklearn.datasets import make_classification\n",
    "from sklearn.inspection import permutation_importance\n",
    "from sklearn.dummy import DummyClassifier\n",
    "from sklearn.metrics import roc_curve, auc"
   ]
  },
  {
   "cell_type": "markdown",
   "metadata": {},
   "source": [
    "### Загрузка данных"
   ]
  },
  {
   "cell_type": "markdown",
   "metadata": {},
   "source": [
    "***Загружаем датасеты***"
   ]
  },
  {
   "cell_type": "code",
   "execution_count": 4,
   "metadata": {
    "id": "H6cQIZr3ElW1"
   },
   "outputs": [
    {
     "name": "stdout",
     "output_type": "stream",
     "text": [
      "Market File Data:\n"
     ]
    },
    {
     "data": {
      "text/html": [
       "<div>\n",
       "<style scoped>\n",
       "    .dataframe tbody tr th:only-of-type {\n",
       "        vertical-align: middle;\n",
       "    }\n",
       "\n",
       "    .dataframe tbody tr th {\n",
       "        vertical-align: top;\n",
       "    }\n",
       "\n",
       "    .dataframe thead th {\n",
       "        text-align: right;\n",
       "    }\n",
       "</style>\n",
       "<table border=\"1\" class=\"dataframe\">\n",
       "  <thead>\n",
       "    <tr style=\"text-align: right;\">\n",
       "      <th></th>\n",
       "      <th>id</th>\n",
       "      <th>Покупательская активность</th>\n",
       "      <th>Тип сервиса</th>\n",
       "      <th>Разрешить сообщать</th>\n",
       "      <th>Маркет_актив_6_мес</th>\n",
       "      <th>Маркет_актив_тек_мес</th>\n",
       "      <th>Длительность</th>\n",
       "      <th>Акционные_покупки</th>\n",
       "      <th>Популярная_категория</th>\n",
       "      <th>Средний_просмотр_категорий_за_визит</th>\n",
       "      <th>Неоплаченные_продукты_штук_квартал</th>\n",
       "      <th>Ошибка_сервиса</th>\n",
       "      <th>Страниц_за_визит</th>\n",
       "    </tr>\n",
       "  </thead>\n",
       "  <tbody>\n",
       "    <tr>\n",
       "      <th>0</th>\n",
       "      <td>215348</td>\n",
       "      <td>Снизилась</td>\n",
       "      <td>премиум</td>\n",
       "      <td>да</td>\n",
       "      <td>3.4</td>\n",
       "      <td>5</td>\n",
       "      <td>121</td>\n",
       "      <td>0.0</td>\n",
       "      <td>Товары для детей</td>\n",
       "      <td>6</td>\n",
       "      <td>2</td>\n",
       "      <td>1</td>\n",
       "      <td>5</td>\n",
       "    </tr>\n",
       "    <tr>\n",
       "      <th>1</th>\n",
       "      <td>215349</td>\n",
       "      <td>Снизилась</td>\n",
       "      <td>премиум</td>\n",
       "      <td>да</td>\n",
       "      <td>4.4</td>\n",
       "      <td>4</td>\n",
       "      <td>819</td>\n",
       "      <td>0.75</td>\n",
       "      <td>Товары для детей</td>\n",
       "      <td>4</td>\n",
       "      <td>4</td>\n",
       "      <td>2</td>\n",
       "      <td>5</td>\n",
       "    </tr>\n",
       "    <tr>\n",
       "      <th>2</th>\n",
       "      <td>215350</td>\n",
       "      <td>Снизилась</td>\n",
       "      <td>стандартт</td>\n",
       "      <td>нет</td>\n",
       "      <td>4.9</td>\n",
       "      <td>3</td>\n",
       "      <td>539</td>\n",
       "      <td>0.14</td>\n",
       "      <td>Домашний текстиль</td>\n",
       "      <td>5</td>\n",
       "      <td>2</td>\n",
       "      <td>1</td>\n",
       "      <td>5</td>\n",
       "    </tr>\n",
       "    <tr>\n",
       "      <th>3</th>\n",
       "      <td>215351</td>\n",
       "      <td>Снизилась</td>\n",
       "      <td>стандартт</td>\n",
       "      <td>да</td>\n",
       "      <td>3.2</td>\n",
       "      <td>5</td>\n",
       "      <td>896</td>\n",
       "      <td>0.99</td>\n",
       "      <td>Товары для детей</td>\n",
       "      <td>5</td>\n",
       "      <td>0</td>\n",
       "      <td>6</td>\n",
       "      <td>4</td>\n",
       "    </tr>\n",
       "    <tr>\n",
       "      <th>4</th>\n",
       "      <td>215352</td>\n",
       "      <td>Снизилась</td>\n",
       "      <td>стандартт</td>\n",
       "      <td>нет</td>\n",
       "      <td>5.1</td>\n",
       "      <td>3</td>\n",
       "      <td>1064</td>\n",
       "      <td>0.94</td>\n",
       "      <td>Товары для детей</td>\n",
       "      <td>3</td>\n",
       "      <td>2</td>\n",
       "      <td>3</td>\n",
       "      <td>2</td>\n",
       "    </tr>\n",
       "  </tbody>\n",
       "</table>\n",
       "</div>"
      ],
      "text/plain": [
       "       id Покупательская активность Тип сервиса Разрешить сообщать  \\\n",
       "0  215348                 Снизилась     премиум                 да   \n",
       "1  215349                 Снизилась     премиум                 да   \n",
       "2  215350                 Снизилась   стандартт                нет   \n",
       "3  215351                 Снизилась   стандартт                 да   \n",
       "4  215352                 Снизилась   стандартт                нет   \n",
       "\n",
       "  Маркет_актив_6_мес  Маркет_актив_тек_мес  Длительность Акционные_покупки  \\\n",
       "0                3.4                     5           121               0.0   \n",
       "1                4.4                     4           819              0.75   \n",
       "2                4.9                     3           539              0.14   \n",
       "3                3.2                     5           896              0.99   \n",
       "4                5.1                     3          1064              0.94   \n",
       "\n",
       "  Популярная_категория  Средний_просмотр_категорий_за_визит  \\\n",
       "0     Товары для детей                                    6   \n",
       "1     Товары для детей                                    4   \n",
       "2    Домашний текстиль                                    5   \n",
       "3     Товары для детей                                    5   \n",
       "4     Товары для детей                                    3   \n",
       "\n",
       "   Неоплаченные_продукты_штук_квартал  Ошибка_сервиса  Страниц_за_визит  \n",
       "0                                   2               1                 5  \n",
       "1                                   4               2                 5  \n",
       "2                                   2               1                 5  \n",
       "3                                   0               6                 4  \n",
       "4                                   2               3                 2  "
      ]
     },
     "metadata": {},
     "output_type": "display_data"
    },
    {
     "name": "stdout",
     "output_type": "stream",
     "text": [
      "Market Money Data:\n"
     ]
    },
    {
     "data": {
      "text/html": [
       "<div>\n",
       "<style scoped>\n",
       "    .dataframe tbody tr th:only-of-type {\n",
       "        vertical-align: middle;\n",
       "    }\n",
       "\n",
       "    .dataframe tbody tr th {\n",
       "        vertical-align: top;\n",
       "    }\n",
       "\n",
       "    .dataframe thead th {\n",
       "        text-align: right;\n",
       "    }\n",
       "</style>\n",
       "<table border=\"1\" class=\"dataframe\">\n",
       "  <thead>\n",
       "    <tr style=\"text-align: right;\">\n",
       "      <th></th>\n",
       "      <th>id</th>\n",
       "      <th>Период</th>\n",
       "      <th>Выручка</th>\n",
       "    </tr>\n",
       "  </thead>\n",
       "  <tbody>\n",
       "    <tr>\n",
       "      <th>0</th>\n",
       "      <td>215348</td>\n",
       "      <td>препредыдущий_месяц</td>\n",
       "      <td>0.0</td>\n",
       "    </tr>\n",
       "    <tr>\n",
       "      <th>1</th>\n",
       "      <td>215348</td>\n",
       "      <td>текущий_месяц</td>\n",
       "      <td>3293.1</td>\n",
       "    </tr>\n",
       "    <tr>\n",
       "      <th>2</th>\n",
       "      <td>215348</td>\n",
       "      <td>предыдущий_месяц</td>\n",
       "      <td>0.0</td>\n",
       "    </tr>\n",
       "    <tr>\n",
       "      <th>3</th>\n",
       "      <td>215349</td>\n",
       "      <td>препредыдущий_месяц</td>\n",
       "      <td>4472.0</td>\n",
       "    </tr>\n",
       "    <tr>\n",
       "      <th>4</th>\n",
       "      <td>215349</td>\n",
       "      <td>текущий_месяц</td>\n",
       "      <td>4971.6</td>\n",
       "    </tr>\n",
       "  </tbody>\n",
       "</table>\n",
       "</div>"
      ],
      "text/plain": [
       "       id               Период Выручка\n",
       "0  215348  препредыдущий_месяц     0.0\n",
       "1  215348        текущий_месяц  3293.1\n",
       "2  215348     предыдущий_месяц     0.0\n",
       "3  215349  препредыдущий_месяц  4472.0\n",
       "4  215349        текущий_месяц  4971.6"
      ]
     },
     "metadata": {},
     "output_type": "display_data"
    },
    {
     "name": "stdout",
     "output_type": "stream",
     "text": [
      "Market Time Data:\n"
     ]
    },
    {
     "data": {
      "text/html": [
       "<div>\n",
       "<style scoped>\n",
       "    .dataframe tbody tr th:only-of-type {\n",
       "        vertical-align: middle;\n",
       "    }\n",
       "\n",
       "    .dataframe tbody tr th {\n",
       "        vertical-align: top;\n",
       "    }\n",
       "\n",
       "    .dataframe thead th {\n",
       "        text-align: right;\n",
       "    }\n",
       "</style>\n",
       "<table border=\"1\" class=\"dataframe\">\n",
       "  <thead>\n",
       "    <tr style=\"text-align: right;\">\n",
       "      <th></th>\n",
       "      <th>id</th>\n",
       "      <th>Период</th>\n",
       "      <th>минут</th>\n",
       "    </tr>\n",
       "  </thead>\n",
       "  <tbody>\n",
       "    <tr>\n",
       "      <th>0</th>\n",
       "      <td>215348</td>\n",
       "      <td>текущий_месяц</td>\n",
       "      <td>14</td>\n",
       "    </tr>\n",
       "    <tr>\n",
       "      <th>1</th>\n",
       "      <td>215348</td>\n",
       "      <td>предыдцщий_месяц</td>\n",
       "      <td>13</td>\n",
       "    </tr>\n",
       "    <tr>\n",
       "      <th>2</th>\n",
       "      <td>215349</td>\n",
       "      <td>текущий_месяц</td>\n",
       "      <td>10</td>\n",
       "    </tr>\n",
       "    <tr>\n",
       "      <th>3</th>\n",
       "      <td>215349</td>\n",
       "      <td>предыдцщий_месяц</td>\n",
       "      <td>12</td>\n",
       "    </tr>\n",
       "    <tr>\n",
       "      <th>4</th>\n",
       "      <td>215350</td>\n",
       "      <td>текущий_месяц</td>\n",
       "      <td>13</td>\n",
       "    </tr>\n",
       "  </tbody>\n",
       "</table>\n",
       "</div>"
      ],
      "text/plain": [
       "       id            Период  минут\n",
       "0  215348     текущий_месяц     14\n",
       "1  215348  предыдцщий_месяц     13\n",
       "2  215349     текущий_месяц     10\n",
       "3  215349  предыдцщий_месяц     12\n",
       "4  215350     текущий_месяц     13"
      ]
     },
     "metadata": {},
     "output_type": "display_data"
    },
    {
     "name": "stdout",
     "output_type": "stream",
     "text": [
      "Money Data:\n"
     ]
    },
    {
     "data": {
      "text/html": [
       "<div>\n",
       "<style scoped>\n",
       "    .dataframe tbody tr th:only-of-type {\n",
       "        vertical-align: middle;\n",
       "    }\n",
       "\n",
       "    .dataframe tbody tr th {\n",
       "        vertical-align: top;\n",
       "    }\n",
       "\n",
       "    .dataframe thead th {\n",
       "        text-align: right;\n",
       "    }\n",
       "</style>\n",
       "<table border=\"1\" class=\"dataframe\">\n",
       "  <thead>\n",
       "    <tr style=\"text-align: right;\">\n",
       "      <th></th>\n",
       "      <th>id</th>\n",
       "      <th>Прибыль</th>\n",
       "    </tr>\n",
       "  </thead>\n",
       "  <tbody>\n",
       "    <tr>\n",
       "      <th>0</th>\n",
       "      <td>215348</td>\n",
       "      <td>0.98</td>\n",
       "    </tr>\n",
       "    <tr>\n",
       "      <th>1</th>\n",
       "      <td>215349</td>\n",
       "      <td>4.16</td>\n",
       "    </tr>\n",
       "    <tr>\n",
       "      <th>2</th>\n",
       "      <td>215350</td>\n",
       "      <td>3.13</td>\n",
       "    </tr>\n",
       "    <tr>\n",
       "      <th>3</th>\n",
       "      <td>215351</td>\n",
       "      <td>4.87</td>\n",
       "    </tr>\n",
       "    <tr>\n",
       "      <th>4</th>\n",
       "      <td>215352</td>\n",
       "      <td>4.21</td>\n",
       "    </tr>\n",
       "  </tbody>\n",
       "</table>\n",
       "</div>"
      ],
      "text/plain": [
       "       id  Прибыль\n",
       "0  215348     0.98\n",
       "1  215349     4.16\n",
       "2  215350     3.13\n",
       "3  215351     4.87\n",
       "4  215352     4.21"
      ]
     },
     "metadata": {},
     "output_type": "display_data"
    }
   ],
   "source": [
    "# Определяем пути к файлам\n",
    "market_file_path = '/datasets/market_file.csv'\n",
    "market_money_path = '/datasets/market_money.csv'\n",
    "market_time_path = '/datasets/market_time.csv'\n",
    "money_path = '/datasets/money.csv'\n",
    "\n",
    "# Загружаем данные\n",
    "market_file = pd.read_csv(market_file_path, decimal=',')\n",
    "market_money = pd.read_csv(market_money_path, decimal=',')\n",
    "market_time = pd.read_csv(market_time_path, decimal=',')\n",
    "money = pd.read_csv(money_path, decimal=',', sep=';')\n",
    "\n",
    "# Проверка загруженных данных\n",
    "print(\"Market File Data:\")\n",
    "display(market_file.head())\n",
    "\n",
    "print(\"Market Money Data:\")\n",
    "display(market_money.head())\n",
    "\n",
    "print(\"Market Time Data:\")\n",
    "display(market_time.head())\n",
    "\n",
    "print(\"Money Data:\")\n",
    "display(money.head()) "
   ]
  },
  {
   "cell_type": "markdown",
   "metadata": {},
   "source": [
    "***Проверяем данные методом `info()`***"
   ]
  },
  {
   "cell_type": "code",
   "execution_count": 5,
   "metadata": {},
   "outputs": [
    {
     "name": "stdout",
     "output_type": "stream",
     "text": [
      "<class 'pandas.core.frame.DataFrame'>\n",
      "RangeIndex: 1300 entries, 0 to 1299\n",
      "Data columns (total 13 columns):\n",
      " #   Column                               Non-Null Count  Dtype \n",
      "---  ------                               --------------  ----- \n",
      " 0   id                                   1300 non-null   int64 \n",
      " 1   Покупательская активность            1300 non-null   object\n",
      " 2   Тип сервиса                          1300 non-null   object\n",
      " 3   Разрешить сообщать                   1300 non-null   object\n",
      " 4   Маркет_актив_6_мес                   1300 non-null   object\n",
      " 5   Маркет_актив_тек_мес                 1300 non-null   int64 \n",
      " 6   Длительность                         1300 non-null   int64 \n",
      " 7   Акционные_покупки                    1300 non-null   object\n",
      " 8   Популярная_категория                 1300 non-null   object\n",
      " 9   Средний_просмотр_категорий_за_визит  1300 non-null   int64 \n",
      " 10  Неоплаченные_продукты_штук_квартал   1300 non-null   int64 \n",
      " 11  Ошибка_сервиса                       1300 non-null   int64 \n",
      " 12  Страниц_за_визит                     1300 non-null   int64 \n",
      "dtypes: int64(7), object(6)\n",
      "memory usage: 132.2+ KB\n",
      "None\n"
     ]
    },
    {
     "data": {
      "text/html": [
       "<div>\n",
       "<style scoped>\n",
       "    .dataframe tbody tr th:only-of-type {\n",
       "        vertical-align: middle;\n",
       "    }\n",
       "\n",
       "    .dataframe tbody tr th {\n",
       "        vertical-align: top;\n",
       "    }\n",
       "\n",
       "    .dataframe thead th {\n",
       "        text-align: right;\n",
       "    }\n",
       "</style>\n",
       "<table border=\"1\" class=\"dataframe\">\n",
       "  <thead>\n",
       "    <tr style=\"text-align: right;\">\n",
       "      <th></th>\n",
       "      <th>id</th>\n",
       "      <th>Покупательская активность</th>\n",
       "      <th>Тип сервиса</th>\n",
       "      <th>Разрешить сообщать</th>\n",
       "      <th>Маркет_актив_6_мес</th>\n",
       "      <th>Маркет_актив_тек_мес</th>\n",
       "      <th>Длительность</th>\n",
       "      <th>Акционные_покупки</th>\n",
       "      <th>Популярная_категория</th>\n",
       "      <th>Средний_просмотр_категорий_за_визит</th>\n",
       "      <th>Неоплаченные_продукты_штук_квартал</th>\n",
       "      <th>Ошибка_сервиса</th>\n",
       "      <th>Страниц_за_визит</th>\n",
       "    </tr>\n",
       "  </thead>\n",
       "  <tbody>\n",
       "    <tr>\n",
       "      <th>count</th>\n",
       "      <td>1300.000000</td>\n",
       "      <td>1300</td>\n",
       "      <td>1300</td>\n",
       "      <td>1300</td>\n",
       "      <td>1300</td>\n",
       "      <td>1300.000000</td>\n",
       "      <td>1300.000000</td>\n",
       "      <td>1300</td>\n",
       "      <td>1300</td>\n",
       "      <td>1300.00000</td>\n",
       "      <td>1300.000000</td>\n",
       "      <td>1300.000000</td>\n",
       "      <td>1300.000000</td>\n",
       "    </tr>\n",
       "    <tr>\n",
       "      <th>unique</th>\n",
       "      <td>NaN</td>\n",
       "      <td>2</td>\n",
       "      <td>3</td>\n",
       "      <td>2</td>\n",
       "      <td>41</td>\n",
       "      <td>NaN</td>\n",
       "      <td>NaN</td>\n",
       "      <td>42</td>\n",
       "      <td>6</td>\n",
       "      <td>NaN</td>\n",
       "      <td>NaN</td>\n",
       "      <td>NaN</td>\n",
       "      <td>NaN</td>\n",
       "    </tr>\n",
       "    <tr>\n",
       "      <th>top</th>\n",
       "      <td>NaN</td>\n",
       "      <td>Прежний уровень</td>\n",
       "      <td>стандарт</td>\n",
       "      <td>да</td>\n",
       "      <td>4.1</td>\n",
       "      <td>NaN</td>\n",
       "      <td>NaN</td>\n",
       "      <td>0.24</td>\n",
       "      <td>Товары для детей</td>\n",
       "      <td>NaN</td>\n",
       "      <td>NaN</td>\n",
       "      <td>NaN</td>\n",
       "      <td>NaN</td>\n",
       "    </tr>\n",
       "    <tr>\n",
       "      <th>freq</th>\n",
       "      <td>NaN</td>\n",
       "      <td>802</td>\n",
       "      <td>914</td>\n",
       "      <td>962</td>\n",
       "      <td>94</td>\n",
       "      <td>NaN</td>\n",
       "      <td>NaN</td>\n",
       "      <td>93</td>\n",
       "      <td>330</td>\n",
       "      <td>NaN</td>\n",
       "      <td>NaN</td>\n",
       "      <td>NaN</td>\n",
       "      <td>NaN</td>\n",
       "    </tr>\n",
       "    <tr>\n",
       "      <th>mean</th>\n",
       "      <td>215997.500000</td>\n",
       "      <td>NaN</td>\n",
       "      <td>NaN</td>\n",
       "      <td>NaN</td>\n",
       "      <td>NaN</td>\n",
       "      <td>4.011538</td>\n",
       "      <td>601.898462</td>\n",
       "      <td>NaN</td>\n",
       "      <td>NaN</td>\n",
       "      <td>3.27000</td>\n",
       "      <td>2.840000</td>\n",
       "      <td>4.185385</td>\n",
       "      <td>8.176923</td>\n",
       "    </tr>\n",
       "    <tr>\n",
       "      <th>std</th>\n",
       "      <td>375.421985</td>\n",
       "      <td>NaN</td>\n",
       "      <td>NaN</td>\n",
       "      <td>NaN</td>\n",
       "      <td>NaN</td>\n",
       "      <td>0.696868</td>\n",
       "      <td>249.856289</td>\n",
       "      <td>NaN</td>\n",
       "      <td>NaN</td>\n",
       "      <td>1.35535</td>\n",
       "      <td>1.971451</td>\n",
       "      <td>1.955298</td>\n",
       "      <td>3.978126</td>\n",
       "    </tr>\n",
       "    <tr>\n",
       "      <th>min</th>\n",
       "      <td>215348.000000</td>\n",
       "      <td>NaN</td>\n",
       "      <td>NaN</td>\n",
       "      <td>NaN</td>\n",
       "      <td>NaN</td>\n",
       "      <td>3.000000</td>\n",
       "      <td>110.000000</td>\n",
       "      <td>NaN</td>\n",
       "      <td>NaN</td>\n",
       "      <td>1.00000</td>\n",
       "      <td>0.000000</td>\n",
       "      <td>0.000000</td>\n",
       "      <td>1.000000</td>\n",
       "    </tr>\n",
       "    <tr>\n",
       "      <th>25%</th>\n",
       "      <td>215672.750000</td>\n",
       "      <td>NaN</td>\n",
       "      <td>NaN</td>\n",
       "      <td>NaN</td>\n",
       "      <td>NaN</td>\n",
       "      <td>4.000000</td>\n",
       "      <td>405.500000</td>\n",
       "      <td>NaN</td>\n",
       "      <td>NaN</td>\n",
       "      <td>2.00000</td>\n",
       "      <td>1.000000</td>\n",
       "      <td>3.000000</td>\n",
       "      <td>5.000000</td>\n",
       "    </tr>\n",
       "    <tr>\n",
       "      <th>50%</th>\n",
       "      <td>215997.500000</td>\n",
       "      <td>NaN</td>\n",
       "      <td>NaN</td>\n",
       "      <td>NaN</td>\n",
       "      <td>NaN</td>\n",
       "      <td>4.000000</td>\n",
       "      <td>606.000000</td>\n",
       "      <td>NaN</td>\n",
       "      <td>NaN</td>\n",
       "      <td>3.00000</td>\n",
       "      <td>3.000000</td>\n",
       "      <td>4.000000</td>\n",
       "      <td>8.000000</td>\n",
       "    </tr>\n",
       "    <tr>\n",
       "      <th>75%</th>\n",
       "      <td>216322.250000</td>\n",
       "      <td>NaN</td>\n",
       "      <td>NaN</td>\n",
       "      <td>NaN</td>\n",
       "      <td>NaN</td>\n",
       "      <td>4.000000</td>\n",
       "      <td>806.000000</td>\n",
       "      <td>NaN</td>\n",
       "      <td>NaN</td>\n",
       "      <td>4.00000</td>\n",
       "      <td>4.000000</td>\n",
       "      <td>6.000000</td>\n",
       "      <td>11.000000</td>\n",
       "    </tr>\n",
       "    <tr>\n",
       "      <th>max</th>\n",
       "      <td>216647.000000</td>\n",
       "      <td>NaN</td>\n",
       "      <td>NaN</td>\n",
       "      <td>NaN</td>\n",
       "      <td>NaN</td>\n",
       "      <td>5.000000</td>\n",
       "      <td>1079.000000</td>\n",
       "      <td>NaN</td>\n",
       "      <td>NaN</td>\n",
       "      <td>6.00000</td>\n",
       "      <td>10.000000</td>\n",
       "      <td>9.000000</td>\n",
       "      <td>20.000000</td>\n",
       "    </tr>\n",
       "  </tbody>\n",
       "</table>\n",
       "</div>"
      ],
      "text/plain": [
       "                   id Покупательская активность Тип сервиса  \\\n",
       "count     1300.000000                      1300        1300   \n",
       "unique            NaN                         2           3   \n",
       "top               NaN           Прежний уровень    стандарт   \n",
       "freq              NaN                       802         914   \n",
       "mean    215997.500000                       NaN         NaN   \n",
       "std        375.421985                       NaN         NaN   \n",
       "min     215348.000000                       NaN         NaN   \n",
       "25%     215672.750000                       NaN         NaN   \n",
       "50%     215997.500000                       NaN         NaN   \n",
       "75%     216322.250000                       NaN         NaN   \n",
       "max     216647.000000                       NaN         NaN   \n",
       "\n",
       "       Разрешить сообщать Маркет_актив_6_мес  Маркет_актив_тек_мес  \\\n",
       "count                1300               1300           1300.000000   \n",
       "unique                  2                 41                   NaN   \n",
       "top                    да                4.1                   NaN   \n",
       "freq                  962                 94                   NaN   \n",
       "mean                  NaN                NaN              4.011538   \n",
       "std                   NaN                NaN              0.696868   \n",
       "min                   NaN                NaN              3.000000   \n",
       "25%                   NaN                NaN              4.000000   \n",
       "50%                   NaN                NaN              4.000000   \n",
       "75%                   NaN                NaN              4.000000   \n",
       "max                   NaN                NaN              5.000000   \n",
       "\n",
       "        Длительность Акционные_покупки Популярная_категория  \\\n",
       "count    1300.000000              1300                 1300   \n",
       "unique           NaN                42                    6   \n",
       "top              NaN              0.24     Товары для детей   \n",
       "freq             NaN                93                  330   \n",
       "mean      601.898462               NaN                  NaN   \n",
       "std       249.856289               NaN                  NaN   \n",
       "min       110.000000               NaN                  NaN   \n",
       "25%       405.500000               NaN                  NaN   \n",
       "50%       606.000000               NaN                  NaN   \n",
       "75%       806.000000               NaN                  NaN   \n",
       "max      1079.000000               NaN                  NaN   \n",
       "\n",
       "        Средний_просмотр_категорий_за_визит  \\\n",
       "count                            1300.00000   \n",
       "unique                                  NaN   \n",
       "top                                     NaN   \n",
       "freq                                    NaN   \n",
       "mean                                3.27000   \n",
       "std                                 1.35535   \n",
       "min                                 1.00000   \n",
       "25%                                 2.00000   \n",
       "50%                                 3.00000   \n",
       "75%                                 4.00000   \n",
       "max                                 6.00000   \n",
       "\n",
       "        Неоплаченные_продукты_штук_квартал  Ошибка_сервиса  Страниц_за_визит  \n",
       "count                          1300.000000     1300.000000       1300.000000  \n",
       "unique                                 NaN             NaN               NaN  \n",
       "top                                    NaN             NaN               NaN  \n",
       "freq                                   NaN             NaN               NaN  \n",
       "mean                              2.840000        4.185385          8.176923  \n",
       "std                               1.971451        1.955298          3.978126  \n",
       "min                               0.000000        0.000000          1.000000  \n",
       "25%                               1.000000        3.000000          5.000000  \n",
       "50%                               3.000000        4.000000          8.000000  \n",
       "75%                               4.000000        6.000000         11.000000  \n",
       "max                              10.000000        9.000000         20.000000  "
      ]
     },
     "metadata": {},
     "output_type": "display_data"
    },
    {
     "name": "stdout",
     "output_type": "stream",
     "text": [
      "<class 'pandas.core.frame.DataFrame'>\n",
      "RangeIndex: 3900 entries, 0 to 3899\n",
      "Data columns (total 3 columns):\n",
      " #   Column   Non-Null Count  Dtype \n",
      "---  ------   --------------  ----- \n",
      " 0   id       3900 non-null   int64 \n",
      " 1   Период   3900 non-null   object\n",
      " 2   Выручка  3900 non-null   object\n",
      "dtypes: int64(1), object(2)\n",
      "memory usage: 91.5+ KB\n",
      "None\n"
     ]
    },
    {
     "data": {
      "text/html": [
       "<div>\n",
       "<style scoped>\n",
       "    .dataframe tbody tr th:only-of-type {\n",
       "        vertical-align: middle;\n",
       "    }\n",
       "\n",
       "    .dataframe tbody tr th {\n",
       "        vertical-align: top;\n",
       "    }\n",
       "\n",
       "    .dataframe thead th {\n",
       "        text-align: right;\n",
       "    }\n",
       "</style>\n",
       "<table border=\"1\" class=\"dataframe\">\n",
       "  <thead>\n",
       "    <tr style=\"text-align: right;\">\n",
       "      <th></th>\n",
       "      <th>id</th>\n",
       "      <th>Период</th>\n",
       "      <th>Выручка</th>\n",
       "    </tr>\n",
       "  </thead>\n",
       "  <tbody>\n",
       "    <tr>\n",
       "      <th>count</th>\n",
       "      <td>3900.000000</td>\n",
       "      <td>3900</td>\n",
       "      <td>3900</td>\n",
       "    </tr>\n",
       "    <tr>\n",
       "      <th>unique</th>\n",
       "      <td>NaN</td>\n",
       "      <td>3</td>\n",
       "      <td>2776</td>\n",
       "    </tr>\n",
       "    <tr>\n",
       "      <th>top</th>\n",
       "      <td>NaN</td>\n",
       "      <td>текущий_месяц</td>\n",
       "      <td>4729.0</td>\n",
       "    </tr>\n",
       "    <tr>\n",
       "      <th>freq</th>\n",
       "      <td>NaN</td>\n",
       "      <td>1300</td>\n",
       "      <td>8</td>\n",
       "    </tr>\n",
       "    <tr>\n",
       "      <th>mean</th>\n",
       "      <td>215997.500000</td>\n",
       "      <td>NaN</td>\n",
       "      <td>NaN</td>\n",
       "    </tr>\n",
       "    <tr>\n",
       "      <th>std</th>\n",
       "      <td>375.325686</td>\n",
       "      <td>NaN</td>\n",
       "      <td>NaN</td>\n",
       "    </tr>\n",
       "    <tr>\n",
       "      <th>min</th>\n",
       "      <td>215348.000000</td>\n",
       "      <td>NaN</td>\n",
       "      <td>NaN</td>\n",
       "    </tr>\n",
       "    <tr>\n",
       "      <th>25%</th>\n",
       "      <td>215672.750000</td>\n",
       "      <td>NaN</td>\n",
       "      <td>NaN</td>\n",
       "    </tr>\n",
       "    <tr>\n",
       "      <th>50%</th>\n",
       "      <td>215997.500000</td>\n",
       "      <td>NaN</td>\n",
       "      <td>NaN</td>\n",
       "    </tr>\n",
       "    <tr>\n",
       "      <th>75%</th>\n",
       "      <td>216322.250000</td>\n",
       "      <td>NaN</td>\n",
       "      <td>NaN</td>\n",
       "    </tr>\n",
       "    <tr>\n",
       "      <th>max</th>\n",
       "      <td>216647.000000</td>\n",
       "      <td>NaN</td>\n",
       "      <td>NaN</td>\n",
       "    </tr>\n",
       "  </tbody>\n",
       "</table>\n",
       "</div>"
      ],
      "text/plain": [
       "                   id         Период Выручка\n",
       "count     3900.000000           3900    3900\n",
       "unique            NaN              3    2776\n",
       "top               NaN  текущий_месяц  4729.0\n",
       "freq              NaN           1300       8\n",
       "mean    215997.500000            NaN     NaN\n",
       "std        375.325686            NaN     NaN\n",
       "min     215348.000000            NaN     NaN\n",
       "25%     215672.750000            NaN     NaN\n",
       "50%     215997.500000            NaN     NaN\n",
       "75%     216322.250000            NaN     NaN\n",
       "max     216647.000000            NaN     NaN"
      ]
     },
     "metadata": {},
     "output_type": "display_data"
    },
    {
     "name": "stdout",
     "output_type": "stream",
     "text": [
      "<class 'pandas.core.frame.DataFrame'>\n",
      "RangeIndex: 2600 entries, 0 to 2599\n",
      "Data columns (total 3 columns):\n",
      " #   Column  Non-Null Count  Dtype \n",
      "---  ------  --------------  ----- \n",
      " 0   id      2600 non-null   int64 \n",
      " 1   Период  2600 non-null   object\n",
      " 2   минут   2600 non-null   int64 \n",
      "dtypes: int64(2), object(1)\n",
      "memory usage: 61.1+ KB\n",
      "None\n"
     ]
    },
    {
     "data": {
      "text/html": [
       "<div>\n",
       "<style scoped>\n",
       "    .dataframe tbody tr th:only-of-type {\n",
       "        vertical-align: middle;\n",
       "    }\n",
       "\n",
       "    .dataframe tbody tr th {\n",
       "        vertical-align: top;\n",
       "    }\n",
       "\n",
       "    .dataframe thead th {\n",
       "        text-align: right;\n",
       "    }\n",
       "</style>\n",
       "<table border=\"1\" class=\"dataframe\">\n",
       "  <thead>\n",
       "    <tr style=\"text-align: right;\">\n",
       "      <th></th>\n",
       "      <th>id</th>\n",
       "      <th>Период</th>\n",
       "      <th>минут</th>\n",
       "    </tr>\n",
       "  </thead>\n",
       "  <tbody>\n",
       "    <tr>\n",
       "      <th>count</th>\n",
       "      <td>2600.000000</td>\n",
       "      <td>2600</td>\n",
       "      <td>2600.000000</td>\n",
       "    </tr>\n",
       "    <tr>\n",
       "      <th>unique</th>\n",
       "      <td>NaN</td>\n",
       "      <td>2</td>\n",
       "      <td>NaN</td>\n",
       "    </tr>\n",
       "    <tr>\n",
       "      <th>top</th>\n",
       "      <td>NaN</td>\n",
       "      <td>предыдцщий_месяц</td>\n",
       "      <td>NaN</td>\n",
       "    </tr>\n",
       "    <tr>\n",
       "      <th>freq</th>\n",
       "      <td>NaN</td>\n",
       "      <td>1300</td>\n",
       "      <td>NaN</td>\n",
       "    </tr>\n",
       "    <tr>\n",
       "      <th>mean</th>\n",
       "      <td>215997.500000</td>\n",
       "      <td>NaN</td>\n",
       "      <td>13.336154</td>\n",
       "    </tr>\n",
       "    <tr>\n",
       "      <th>std</th>\n",
       "      <td>375.349754</td>\n",
       "      <td>NaN</td>\n",
       "      <td>4.080198</td>\n",
       "    </tr>\n",
       "    <tr>\n",
       "      <th>min</th>\n",
       "      <td>215348.000000</td>\n",
       "      <td>NaN</td>\n",
       "      <td>4.000000</td>\n",
       "    </tr>\n",
       "    <tr>\n",
       "      <th>25%</th>\n",
       "      <td>215672.750000</td>\n",
       "      <td>NaN</td>\n",
       "      <td>10.000000</td>\n",
       "    </tr>\n",
       "    <tr>\n",
       "      <th>50%</th>\n",
       "      <td>215997.500000</td>\n",
       "      <td>NaN</td>\n",
       "      <td>13.000000</td>\n",
       "    </tr>\n",
       "    <tr>\n",
       "      <th>75%</th>\n",
       "      <td>216322.250000</td>\n",
       "      <td>NaN</td>\n",
       "      <td>16.000000</td>\n",
       "    </tr>\n",
       "    <tr>\n",
       "      <th>max</th>\n",
       "      <td>216647.000000</td>\n",
       "      <td>NaN</td>\n",
       "      <td>23.000000</td>\n",
       "    </tr>\n",
       "  </tbody>\n",
       "</table>\n",
       "</div>"
      ],
      "text/plain": [
       "                   id            Период        минут\n",
       "count     2600.000000              2600  2600.000000\n",
       "unique            NaN                 2          NaN\n",
       "top               NaN  предыдцщий_месяц          NaN\n",
       "freq              NaN              1300          NaN\n",
       "mean    215997.500000               NaN    13.336154\n",
       "std        375.349754               NaN     4.080198\n",
       "min     215348.000000               NaN     4.000000\n",
       "25%     215672.750000               NaN    10.000000\n",
       "50%     215997.500000               NaN    13.000000\n",
       "75%     216322.250000               NaN    16.000000\n",
       "max     216647.000000               NaN    23.000000"
      ]
     },
     "metadata": {},
     "output_type": "display_data"
    },
    {
     "name": "stdout",
     "output_type": "stream",
     "text": [
      "<class 'pandas.core.frame.DataFrame'>\n",
      "RangeIndex: 1300 entries, 0 to 1299\n",
      "Data columns (total 2 columns):\n",
      " #   Column   Non-Null Count  Dtype  \n",
      "---  ------   --------------  -----  \n",
      " 0   id       1300 non-null   int64  \n",
      " 1   Прибыль  1300 non-null   float64\n",
      "dtypes: float64(1), int64(1)\n",
      "memory usage: 20.4 KB\n",
      "None\n"
     ]
    },
    {
     "data": {
      "text/html": [
       "<div>\n",
       "<style scoped>\n",
       "    .dataframe tbody tr th:only-of-type {\n",
       "        vertical-align: middle;\n",
       "    }\n",
       "\n",
       "    .dataframe tbody tr th {\n",
       "        vertical-align: top;\n",
       "    }\n",
       "\n",
       "    .dataframe thead th {\n",
       "        text-align: right;\n",
       "    }\n",
       "</style>\n",
       "<table border=\"1\" class=\"dataframe\">\n",
       "  <thead>\n",
       "    <tr style=\"text-align: right;\">\n",
       "      <th></th>\n",
       "      <th>id</th>\n",
       "      <th>Прибыль</th>\n",
       "    </tr>\n",
       "  </thead>\n",
       "  <tbody>\n",
       "    <tr>\n",
       "      <th>count</th>\n",
       "      <td>1300.000000</td>\n",
       "      <td>1300.000000</td>\n",
       "    </tr>\n",
       "    <tr>\n",
       "      <th>mean</th>\n",
       "      <td>215997.500000</td>\n",
       "      <td>3.996631</td>\n",
       "    </tr>\n",
       "    <tr>\n",
       "      <th>std</th>\n",
       "      <td>375.421985</td>\n",
       "      <td>1.013722</td>\n",
       "    </tr>\n",
       "    <tr>\n",
       "      <th>min</th>\n",
       "      <td>215348.000000</td>\n",
       "      <td>0.860000</td>\n",
       "    </tr>\n",
       "    <tr>\n",
       "      <th>25%</th>\n",
       "      <td>215672.750000</td>\n",
       "      <td>3.300000</td>\n",
       "    </tr>\n",
       "    <tr>\n",
       "      <th>50%</th>\n",
       "      <td>215997.500000</td>\n",
       "      <td>4.045000</td>\n",
       "    </tr>\n",
       "    <tr>\n",
       "      <th>75%</th>\n",
       "      <td>216322.250000</td>\n",
       "      <td>4.670000</td>\n",
       "    </tr>\n",
       "    <tr>\n",
       "      <th>max</th>\n",
       "      <td>216647.000000</td>\n",
       "      <td>7.430000</td>\n",
       "    </tr>\n",
       "  </tbody>\n",
       "</table>\n",
       "</div>"
      ],
      "text/plain": [
       "                  id      Прибыль\n",
       "count    1300.000000  1300.000000\n",
       "mean   215997.500000     3.996631\n",
       "std       375.421985     1.013722\n",
       "min    215348.000000     0.860000\n",
       "25%    215672.750000     3.300000\n",
       "50%    215997.500000     4.045000\n",
       "75%    216322.250000     4.670000\n",
       "max    216647.000000     7.430000"
      ]
     },
     "metadata": {},
     "output_type": "display_data"
    }
   ],
   "source": [
    "# Проверка структуры и типов данных для каждого набора данных\n",
    "for df in [market_file, market_money, market_time, money]:\n",
    "    print(df.info())\n",
    "    display(df.describe(include='all'))"
   ]
  },
  {
   "cell_type": "markdown",
   "metadata": {},
   "source": [
    "**Выводы:**\n",
    "\n",
    "1. Общая структура данных  \n",
    "\n",
    "- Количество записей:\n",
    "`market_file`: 1300;\n",
    "`market_money`: 3900;\n",
    "`market_time`: 2600;\n",
    "`money`: 1300;\n",
    "Каждый набор данных содержит значительное количество записей, что позволяет проводить достаточно надежные статистические анализы.\n",
    "\n",
    "2. Типы данных\n",
    "\n",
    "- В большинстве наборов данных используются различные типы данных:\n",
    "Числовые (`int64`, `float64`): используются для количественных переменных (например, `количество`, `выручка`, `прибыль`).  \n",
    "Объектные (`object`): используются для категориальных переменных (например, `покупательская активность`, `тип сервиса`).\n",
    "\n",
    "3. Неполные данные\n",
    "\n",
    "Все наборы данных содержат отсутствующие значения (non-null count равен количеству записей), что предполагает полную заполненность данных. Это является положительным моментом, так как отсутствие пропущенных значений упрощает анализ.\n",
    "\n",
    "4. Уникальные значения\n",
    "\n",
    "- В некоторых столбцах присутствует ограниченное количество уникальных значений:\n",
    "Например, в столбце `покупательская активность` всего 2 уникальных значения, что может свидетельствовать о его категориальной природе. Аналогично в столбцах `тип сервиса`, `разрешить сообщать` и в других.\n",
    "\n",
    "5. Основные статистики\n",
    "\n",
    "- Поля с числовыми значениями (например, `выручка` и `прибыль`) имеют расчетные статистики (среднее, стандартное отклонение, минимум и максимум), что предоставляет необходимую информацию для дальнейшего анализа:\n",
    "Средняя выручка (`market_money`) составляет около 5025.70, с максимальным значением в 106862.20, что говорит о высоком разбросе данных и возможном присутствии выбросов или значительных продаж в определенные периоды.\n",
    "\n",
    "6. Оценка категорий\n",
    "\n",
    "- Столбцы, содержащие категориальные данные, такие как `популярная категория`, могут требовать дальнейшего анализа для понимания, какие из этих категорий наиболее прибыльны или имеют наилучшие показатели.\n",
    "\n",
    "7. Потенциальные проблемы\n",
    "\n",
    "- Из-за однородности данных в некоторых наборах (например, `market_file` с 6 уникальными значениями в `маркет_актив_6_мес` и 2 в других категориальных столбцах) существует риск недостатка разнообразия, что может ограничить возможности анализа.\n",
    "\n",
    "Заключение\n",
    "\n",
    "Структура данных в представленных наборах выглядит обнадеживающе, с полным отсутствием пропущенных значений и разнообразием числовых и категориальных переменных. Однако важно углубить анализ уникальных значений и статистик для определения закономерностей и выявления потенциала для улучшения бизнес-стратегий."
   ]
  },
  {
   "cell_type": "markdown",
   "metadata": {},
   "source": [
    "### Предобработка данных"
   ]
  },
  {
   "cell_type": "markdown",
   "metadata": {},
   "source": [
    "<u>Приведение названий столбцов к формату со строчной буквы.</u>"
   ]
  },
  {
   "cell_type": "code",
   "execution_count": 6,
   "metadata": {},
   "outputs": [
    {
     "name": "stdout",
     "output_type": "stream",
     "text": [
      "Market File Data (Updated Columns):\n",
      "['id', 'покупательская активность', 'тип сервиса', 'разрешить сообщать', 'маркет_актив_6_мес', 'маркет_актив_тек_мес', 'длительность', 'акционные_покупки', 'популярная_категория', 'средний_просмотр_категорий_за_визит', 'неоплаченные_продукты_штук_квартал', 'ошибка_сервиса', 'страниц_за_визит'] \n",
      "\n",
      "Market Money Data (Updated Columns):\n",
      "['id', 'период', 'выручка'] \n",
      "\n",
      "Market Time Data (Updated Columns):\n",
      "['id', 'период', 'минут'] \n",
      "\n",
      "Money Data (Updated Columns):\n",
      "['id', 'прибыль'] \n",
      "\n"
     ]
    }
   ],
   "source": [
    "market_file.columns = market_file.columns.str.lower()\n",
    "market_money.columns = market_money.columns.str.lower()\n",
    "market_time.columns = market_time.columns.str.lower()\n",
    "money.columns = money.columns.str.lower()\n",
    "\n",
    "# Проверка результатов\n",
    "print(\"Market File Data (Updated Columns):\")\n",
    "print(market_file.columns.tolist(), \"\\n\")\n",
    "\n",
    "print(\"Market Money Data (Updated Columns):\")\n",
    "print(market_money.columns.tolist(), \"\\n\")\n",
    "\n",
    "print(\"Market Time Data (Updated Columns):\")\n",
    "print(market_time.columns.tolist(), \"\\n\")\n",
    "\n",
    "print(\"Money Data (Updated Columns):\")\n",
    "print(money.columns.tolist(), \"\\n\")"
   ]
  },
  {
   "cell_type": "markdown",
   "metadata": {},
   "source": [
    "<u>Проверка пропусков.</u>"
   ]
  },
  {
   "cell_type": "code",
   "execution_count": 7,
   "metadata": {},
   "outputs": [
    {
     "name": "stdout",
     "output_type": "stream",
     "text": [
      "id                                     0\n",
      "покупательская активность              0\n",
      "тип сервиса                            0\n",
      "разрешить сообщать                     0\n",
      "маркет_актив_6_мес                     0\n",
      "маркет_актив_тек_мес                   0\n",
      "длительность                           0\n",
      "акционные_покупки                      0\n",
      "популярная_категория                   0\n",
      "средний_просмотр_категорий_за_визит    0\n",
      "неоплаченные_продукты_штук_квартал     0\n",
      "ошибка_сервиса                         0\n",
      "страниц_за_визит                       0\n",
      "dtype: int64 \n",
      "\n",
      "id         0\n",
      "период     0\n",
      "выручка    0\n",
      "dtype: int64 \n",
      "\n",
      "id        0\n",
      "период    0\n",
      "минут     0\n",
      "dtype: int64 \n",
      "\n",
      "id         0\n",
      "прибыль    0\n",
      "dtype: int64 \n",
      "\n"
     ]
    }
   ],
   "source": [
    "for df in [market_file, market_money, market_time, money]:\n",
    "    print(df.isnull().sum(), \"\\n\")"
   ]
  },
  {
   "cell_type": "markdown",
   "metadata": {},
   "source": [
    "<u>Проверка дубликатов</u>"
   ]
  },
  {
   "cell_type": "code",
   "execution_count": 8,
   "metadata": {},
   "outputs": [
    {
     "name": "stdout",
     "output_type": "stream",
     "text": [
      "Проверка дубликатов для market_file:\n",
      "\n",
      "Явные дубликаты (количество): 0\n",
      "Проверка дубликатов для market_money:\n",
      "\n",
      "Явные дубликаты (количество): 0\n",
      "Проверка дубликатов для market_time:\n",
      "\n",
      "Явные дубликаты (количество): 0\n",
      "Проверка дубликатов для money:\n",
      "\n",
      "Явные дубликаты (количество): 0\n"
     ]
    }
   ],
   "source": [
    "def check_duplicates(df, df_name):\n",
    "    print(f\"Проверка дубликатов для {df_name}:\\n\")\n",
    "    \n",
    "    # Явные дубликаты\n",
    "    explicit_duplicates = df[df.duplicated()]\n",
    "    print(f\"Явные дубликаты (количество): {len(explicit_duplicates)}\")\n",
    "    if not explicit_duplicates.empty:\n",
    "        print(explicit_duplicates, \"\\n\")\n",
    "check_duplicates(market_file, 'market_file')\n",
    "check_duplicates(market_money, 'market_money')\n",
    "check_duplicates(market_time, 'market_time')\n",
    "check_duplicates(money, 'money')"
   ]
  },
  {
   "cell_type": "code",
   "execution_count": 9,
   "metadata": {},
   "outputs": [
    {
     "name": "stdout",
     "output_type": "stream",
     "text": [
      "Уникальные значения в столбце 'покупательская активность': ['Снизилась' 'Прежний уровень']\n",
      "Распределение 'Тип сервиса': стандарт     914\n",
      "премиум      376\n",
      "стандартт     10\n",
      "Name: тип сервиса, dtype: int64\n"
     ]
    }
   ],
   "source": [
    "# Уникальные значения по столбцам\n",
    "print(\"Уникальные значения в столбце 'покупательская активность':\", market_file['покупательская активность'].unique())\n",
    "print(\"Распределение 'Тип сервиса':\", market_file['тип сервиса'].value_counts())"
   ]
  },
  {
   "cell_type": "code",
   "execution_count": 10,
   "metadata": {},
   "outputs": [
    {
     "name": "stdout",
     "output_type": "stream",
     "text": [
      "Уникальные периоды: ['препредыдущий_месяц' 'текущий_месяц' 'предыдущий_месяц']\n"
     ]
    }
   ],
   "source": [
    "# Проверка уникальных периодов\n",
    "print(\"Уникальные периоды:\", market_money['период'].unique())"
   ]
  },
  {
   "cell_type": "code",
   "execution_count": 11,
   "metadata": {},
   "outputs": [
    {
     "name": "stdout",
     "output_type": "stream",
     "text": [
      "Уникальные периоды: ['текущий_месяц' 'предыдцщий_месяц']\n"
     ]
    }
   ],
   "source": [
    "# Проверка уникальных периодов\n",
    "print(\"Уникальные периоды:\", market_time['период'].unique())"
   ]
  },
  {
   "cell_type": "code",
   "execution_count": 12,
   "metadata": {},
   "outputs": [
    {
     "name": "stdout",
     "output_type": "stream",
     "text": [
      "Обновленное распределение 'Тип сервиса': стандарт    924\n",
      "премиум     376\n",
      "Name: тип сервиса, dtype: int64\n",
      "Уникальные периоды: ['текущий_месяц' 'предыдущий_месяц']\n"
     ]
    }
   ],
   "source": [
    "# Изменение названия значений в market_file\n",
    "market_file['тип сервиса'] = market_file['тип сервиса'].replace({'стандартт': 'стандарт'})\n",
    "\n",
    "# Изменение названия значений в market_time\n",
    "market_time['период'] = market_time['период'].replace({'предыдцщий_месяц': 'предыдущий_месяц'})\n",
    "\n",
    "# Проверка изменений\n",
    "print(\"Обновленное распределение 'Тип сервиса':\", market_file['тип сервиса'].value_counts())\n",
    "print(\"Уникальные периоды:\", market_time['период'].unique())"
   ]
  },
  {
   "cell_type": "markdown",
   "metadata": {},
   "source": [
    "<u>Проверка выбросов.</u>"
   ]
  },
  {
   "cell_type": "markdown",
   "metadata": {},
   "source": [
    "<u>Визуализация выбросов</u>"
   ]
  },
  {
   "cell_type": "code",
   "execution_count": 13,
   "metadata": {},
   "outputs": [
    {
     "name": "stdout",
     "output_type": "stream",
     "text": [
      "Статистическое описание для market_money:\n",
      "                  id\n",
      "count    3900.000000\n",
      "mean   215997.500000\n",
      "std       375.325686\n",
      "min    215348.000000\n",
      "25%    215672.750000\n",
      "50%    215997.500000\n",
      "75%    216322.250000\n",
      "max    216647.000000 \n",
      "\n",
      "Статистическое описание для money:\n",
      "                  id      прибыль\n",
      "count    1300.000000  1300.000000\n",
      "mean   215997.500000     3.996631\n",
      "std       375.421985     1.013722\n",
      "min    215348.000000     0.860000\n",
      "25%    215672.750000     3.300000\n",
      "50%    215997.500000     4.045000\n",
      "75%    216322.250000     4.670000\n",
      "max    216647.000000     7.430000 \n",
      "\n"
     ]
    },
    {
     "data": {
      "image/png": "[encoded data removed]",
      "text/plain": [
       "<Figure size 720x432 with 1 Axes>"
      ]
     },
     "metadata": {
      "needs_background": "light"
     },
     "output_type": "display_data"
    },
    {
     "data": {
      "image/png": "[encoded data removed]",
      "text/plain": [
       "<Figure size 720x432 with 1 Axes>"
      ]
     },
     "metadata": {
      "needs_background": "light"
     },
     "output_type": "display_data"
    }
   ],
   "source": [
    "def visualize_outliers(df, column):\n",
    "    \"\"\"Функция для визуализации выбросов в данных.\"\"\"\n",
    "    # Приведение данных к числовому типу\n",
    "    df[column] = pd.to_numeric(df[column], errors='coerce')\n",
    "    \n",
    "    # Удаление строк с пустыми значениями\n",
    "    df_cleaned = df.dropna(subset=[column])\n",
    "    \n",
    "    # Проверка наличия данных\n",
    "    if df_cleaned.empty:\n",
    "        print(f\"Нет данных для отображения в столбце '{column}'\")\n",
    "        return\n",
    "    \n",
    "    # Построение графика\n",
    "    plt.figure(figsize=(10, 6))\n",
    "    sns.boxplot(x=df_cleaned[column])\n",
    "    plt.title(f'Диаграмма ящика для {column}')\n",
    "    plt.xlabel(column)\n",
    "    plt.show()\n",
    "\n",
    "\n",
    "dataframes = {\n",
    "    'market_money': market_money,\n",
    "    'money': money\n",
    "}\n",
    "\n",
    "for name, df in dataframes.items():\n",
    "    print(f\"Статистическое описание для {name}:\")\n",
    "    print(df.describe(), \"\\n\")\n",
    "\n",
    "# Визуализация выбросов\n",
    "visualize_outliers(market_money, 'выручка')\n",
    "visualize_outliers(money, 'прибыль')"
   ]
  },
  {
   "cell_type": "markdown",
   "metadata": {},
   "source": [
    "В статистическом описании `market_money` мы видим следующее:\n",
    "\n",
    "Выручка:  \n",
    "Минимум: 0.00  \n",
    "Максимум: 106862.20  \n",
    "25-й процентиль (Q1): 4590.15  \n",
    "Медиана (Q2): 4957.50  \n",
    "75-й процентиль (Q3): 5363.00  \n",
    "\n",
    "Потенциальные выбросы:  \n",
    "\n",
    "Максимальное значение (106862.20) значительно превышает 75-й процентиль, что указывает на наличие выброса. По правило, выбросы определяются как значения, выходящие за пределы."
   ]
  },
  {
   "cell_type": "code",
   "execution_count": 14,
   "metadata": {},
   "outputs": [
    {
     "name": "stderr",
     "output_type": "stream",
     "text": [
      "/tmp/ipykernel_32/1565514017.py:4: SettingWithCopyWarning: \n",
      "A value is trying to be set on a copy of a slice from a DataFrame.\n",
      "Try using .loc[row_indexer,col_indexer] = value instead\n",
      "\n",
      "See the caveats in the documentation: https://pandas.pydata.org/pandas-docs/stable/user_guide/indexing.html#returning-a-view-versus-a-copy\n",
      "  df[column] = pd.to_numeric(df[column], errors='coerce')\n"
     ]
    },
    {
     "data": {
      "image/png": "[encoded data removed]",
      "text/plain": [
       "<Figure size 720x432 with 1 Axes>"
      ]
     },
     "metadata": {
      "needs_background": "light"
     },
     "output_type": "display_data"
    },
    {
     "name": "stderr",
     "output_type": "stream",
     "text": [
      "/tmp/ipykernel_32/1565514017.py:4: SettingWithCopyWarning: \n",
      "A value is trying to be set on a copy of a slice from a DataFrame.\n",
      "Try using .loc[row_indexer,col_indexer] = value instead\n",
      "\n",
      "See the caveats in the documentation: https://pandas.pydata.org/pandas-docs/stable/user_guide/indexing.html#returning-a-view-versus-a-copy\n",
      "  df[column] = pd.to_numeric(df[column], errors='coerce')\n"
     ]
    },
    {
     "data": {
      "image/png": "[encoded data removed]",
      "text/plain": [
       "<Figure size 720x432 with 1 Axes>"
      ]
     },
     "metadata": {
      "needs_background": "light"
     },
     "output_type": "display_data"
    }
   ],
   "source": [
    "def remove_outliers_iqr(df, column):\n",
    "    \"\"\"Удаляет выбросы из DataFrame на основе метода IQR.\"\"\"\n",
    "    Q1 = df[column].quantile(0.25)\n",
    "    Q3 = df[column].quantile(0.75)\n",
    "    IQR = Q3 - Q1\n",
    "    lower_bound = Q1 - 1.5 * IQR\n",
    "    upper_bound = Q3 + 1.5 * IQR\n",
    "    \n",
    "    return df[(df[column] >= lower_bound) & (df[column] <= upper_bound)]\n",
    "cleaned_market_money_iqr = remove_outliers_iqr(market_money, 'выручка')\n",
    "cleaned_money_iqr = remove_outliers_iqr(money, 'прибыль') \n",
    "visualize_outliers(cleaned_market_money_iqr, 'выручка')\n",
    "visualize_outliers(cleaned_money_iqr, 'прибыль')"
   ]
  },
  {
   "cell_type": "markdown",
   "metadata": {},
   "source": [
    "**Выводы по предобработке данных:**\n",
    "\n",
    "- Приведение названий столбцов к нижнему регистру:  \n",
    "использовался метод `.str.lower()` для того, чтобы унифицировать формат названий столбцов. Это исключает ошибки, связанные с регистром букв при их использовании в дальнейшем.  \n",
    "- Проверка пропущенных значений:  \n",
    "были проверены все DataFrame на наличие пропущенных значений, и результаты показали, что все столбцы заполнены, что говорит о хорошем качестве данных.  \n",
    "- Проверка на наличие дубликатов:  \n",
    "была проведена проверка на явные дубликаты с помощью функции `check_duplicates`. Во всех наборах данных не было обнаружено дубликатов, что подтверждает чистоту данных.\n",
    "- Изучение уникальных значений:  \n",
    "были проверены уникальные значения в ключевых колонках, таких как `покупательская активность` и `тип сервиса`. Это позволило выявить потенциальные неправильные значения и несоответствия.\n",
    "- Коррекция ошибок в данных:  \n",
    "были исправлены обнаруженные ошибки в названиях значений, например, замена 'стандартт' на 'стандарт' и 'предыдцщий_месяц' на 'предыдущий_месяц'."
   ]
  },
  {
   "cell_type": "markdown",
   "metadata": {},
   "source": [
    "## Исследовательский анализ данных"
   ]
  },
  {
   "cell_type": "code",
   "execution_count": 15,
   "metadata": {},
   "outputs": [
    {
     "data": {
      "image/png": "[encoded data removed]",
      "text/plain": [
       "<Figure size 1440x1008 with 3 Axes>"
      ]
     },
     "metadata": {
      "needs_background": "light"
     },
     "output_type": "display_data"
    },
    {
     "data": {
      "image/png": "[encoded data removed]",
      "text/plain": [
       "<Figure size 1440x1008 with 5 Axes>"
      ]
     },
     "metadata": {
      "needs_background": "light"
     },
     "output_type": "display_data"
    },
    {
     "data": {
      "image/png": "[encoded data removed]",
      "text/plain": [
       "<Figure size 1440x1008 with 1 Axes>"
      ]
     },
     "metadata": {
      "needs_background": "light"
     },
     "output_type": "display_data"
    },
    {
     "data": {
      "text/plain": [
       "<Figure size 1440x1008 with 0 Axes>"
      ]
     },
     "metadata": {},
     "output_type": "display_data"
    },
    {
     "data": {
      "image/png": "[encoded data removed]",
      "text/plain": [
       "<Figure size 1728x1296 with 4 Axes>"
      ]
     },
     "metadata": {
      "needs_background": "light"
     },
     "output_type": "display_data"
    }
   ],
   "source": [
    "# 1. Изучаем распределение числовых признаков\n",
    "def plot_numerical_distributions(df):\n",
    "    # Исключим 'id' из числовых признаков\n",
    "    numerical_columns = df.select_dtypes(include=np.number).columns.drop('id').tolist()\n",
    "    \n",
    "    continuous_columns = []\n",
    "    discrete_columns = []\n",
    "    \n",
    "    # Проверяем типы данных и определяем дискретные и непрерывные признаки\n",
    "    for col in numerical_columns:\n",
    "        if df[col].nunique() <= 20:  \n",
    "            discrete_columns.append(col)\n",
    "        elif df[col].dtype in [np.float64, np.float32, np.int64, np.int32]:  \n",
    "            continuous_columns.append(col)\n",
    "        else:\n",
    "            continuous_columns.append(col)\n",
    "\n",
    "    # Специфические колонки для гистограмм\n",
    "    specific_columns = ['маркет_актив_6_мес', 'акционные_покупки']\n",
    "    \n",
    "    # Приводим специфические колонки к числовому типу и добавляем их в непрерывные\n",
    "    for col in specific_columns:\n",
    "        if col in df.columns:\n",
    "            df[col] = pd.to_numeric(df[col], errors='coerce')\n",
    "            continuous_columns.append(col)  # Добавляем к непрерывным\n",
    "\n",
    "    # Визуализируем непрерывные признаки с помощью гистограмм\n",
    "    plt.figure(figsize=(20, 14))\n",
    "    for i, col in enumerate(continuous_columns, 1):\n",
    "        plt.subplot(3, 3, i)\n",
    "        sns.histplot(df[col].dropna(), kde=True, bins=30)\n",
    "        plt.title(f'Гистограмма {col}')\n",
    "        plt.xlabel(col)\n",
    "        plt.ylabel('Частота')\n",
    "    plt.tight_layout()\n",
    "    plt.show()\n",
    "\n",
    "    # Визуализируем дискретные признаки с помощью countplot\n",
    "    plt.figure(figsize=(20, 14))\n",
    "    for i, col in enumerate(discrete_columns, 1):\n",
    "        plt.subplot(3, 3, i)\n",
    "        sns.countplot(x=df[col], order=df[col].value_counts().index)\n",
    "        plt.title(f'Количество {col}')\n",
    "    plt.tight_layout()\n",
    "    plt.show()\n",
    "\n",
    "# Визуализируем распределения числовых признаков для market_file\n",
    "plot_numerical_distributions(market_file)\n",
    "\n",
    "# Визуализируем распределения числовых признаков для market_money\n",
    "plot_numerical_distributions(market_money)\n",
    "\n",
    "# 2. Изучение категориальных признаков\n",
    "def plot_categorical_counts(df):\n",
    "    categorical_columns = df.select_dtypes(include='object').columns.tolist()\n",
    "    \n",
    "    plt.figure(figsize=(24, 18))\n",
    "    for i, col in enumerate(categorical_columns, 1):\n",
    "        plt.subplot(3, 3, i)\n",
    "        sns.countplot(y=df[col], order=df[col].value_counts().index)\n",
    "        plt.title(f'Количество {col}')\n",
    "    plt.tight_layout()\n",
    "    plt.show()\n",
    "\n",
    "# Визуализируем категориальные признаки для market_file\n",
    "plot_categorical_counts(market_file)"
   ]
  },
  {
   "cell_type": "markdown",
   "metadata": {},
   "source": [
    "График `'Количество маркет_актив_тек_мес'`   \n",
    "Описание: данные имеют выраженное распределение.  \n",
    "Вывод: указывает на наличие нескольких подгрупп в данной выборке.  \n",
    "\n",
    "График `'Гистограмма длительность'`  \n",
    "Описание: распределение нормальное.  \n",
    "Вывод: общее распределение данных указывает на то, что большая часть наблюдений находится вокруг среднего.  \n",
    "\n",
    "График `'Количество средний_просмотр_категорий_за_визит'`  \n",
    "Описание: пики значений хорошо выражены, с уменьшением частоты в краях.  \n",
    "Вывод: указывает на централизацию в определенном диапазоне значений.  \n",
    "\n",
    "График `'Количество неоплаченные_покупки_штук_квартал'`  \n",
    "Описание: распределение менее симметричное с возможными выбросами.  \n",
    "Вывод: необходимо исследовать причины смещения и возможные другие влияния, которые могут приводить к такой форме распределения.  \n",
    "\n",
    "График `'Количество ошибка_сервиса'`  \n",
    "Описание: распределение с уклоном в сторону более низких значений, но с выраженными пиками.  \n",
    "Вывод: сгруппированы наблюдения в определенных диапазонах.  \n",
    "\n",
    "График `'Количество страниц_за_визит'`  \n",
    "Описание: наблюдается равномерное распределение с несколькими выраженными пиками.  \n",
    "Вывод: это указывает на разнообразие в данных, что следует изучить для нахождения закономерностей и исключений.\n",
    "\n",
    "График `'Количество покупательская активность'`\n",
    "Описание: показан столбчатый график с двумя категориями - 'Прежний уровень', 'Снизилась', первая значительно больше второй.\n",
    "Вывод: явное преобладание одной категории над другой. Это говорит о доминирующем факторе в данной выборке, что стоит учитывать в анализе.\n",
    "\n",
    "График `'Количество тип сервиса'`\n",
    "Описание: столбчатый график с двумя категориями - 'Премиум' и 'Стандарт'. \n",
    "Вывод: из графика видно, что доминирует категория 'Стандарт' со значением около 1000, при этом значение типа 'Премиум' значительно ниже -  около 400. Что говорит о том, что пользователи в больминстве выбирают тип стандартный тип сервиса. \n",
    "\n",
    "График `'Количество разрешить сообщать'`  \n",
    "Описание: столбчатый график с двумя категориями - 'да' и 'нет'.  \n",
    "Вывод: из графика видно, что доминирует категория 'да' со значением около 1000, при этом значение типа 'нет' значительно ниже -  около 350. Что говорит о том, что пользователи в большинстве соглашаются на дополнительную рассылку о товаре. \n",
    "\n",
    "Гистограмма `'Количество маркет_актив_6_мес'`\n",
    "Описание: среднемесячное значение маркетинговых коммуникаций компании, которое приходилось на покупателя за последние 6 месяцев. Это значение показывает, какое число рассылок, звонков, показов рекламы и прочего приходилось на клиента.\n",
    "Вывод: можно наблюдать, как значения распределяются по накоплению. Это свидетельствует о том, что с увеличением количества наблюдений общее значение постепенно растет.\n",
    "\n",
    "Гистограмма `'Количество акционные_покупки'`  \n",
    "Описание: большая часть пользователей не участвует в акциях или делает минимальное количество покупок акционных товаров, что также может указывать на общую недоступность или отсутствие интереса к этим предложениям.\n",
    "Вывод:  распределение имеет правосторонний уклон, возможно, с наличием небольшого числа пользователей, которые активно участвуют в акциях (т.е. выбросы на верхнем диапазоне).  \n",
    "\n",
    "График `'Количество популярная_категория'`  \n",
    "Описание: самая популярная категория товаров у покупателя за последние 6 месяцев.  \n",
    "Вывод: показан сравнительный анализ категорий, что позволяет выделить ключевые элементы в данных. Он помогает определить, какие категории более значимы и должны быть в центре внимания."
   ]
  },
  {
   "cell_type": "code",
   "execution_count": 16,
   "metadata": {},
   "outputs": [
    {
     "name": "stdout",
     "output_type": "stream",
     "text": [
      "          id               период  выручка\n",
      "0     215348  препредыдущий_месяц      0.0\n",
      "1     215348        текущий_месяц   3293.1\n",
      "2     215348     предыдущий_месяц      0.0\n",
      "3     215349  препредыдущий_месяц   4472.0\n",
      "4     215349        текущий_месяц   4971.6\n",
      "...      ...                  ...      ...\n",
      "3895  216646  препредыдущий_месяц   4725.0\n",
      "3896  216646     предыдущий_месяц   4923.0\n",
      "3897  216647     предыдущий_месяц   4720.0\n",
      "3898  216647  препредыдущий_месяц   5183.0\n",
      "3899  216647        текущий_месяц   4448.3\n",
      "\n",
      "[3900 rows x 3 columns]\n"
     ]
    }
   ],
   "source": [
    "print(market_money)\n",
    "market_money['выручка'] = pd.to_numeric(market_money['выручка'], errors='coerce')"
   ]
  },
  {
   "cell_type": "code",
   "execution_count": 17,
   "metadata": {},
   "outputs": [
    {
     "name": "stdout",
     "output_type": "stream",
     "text": [
      "Количество клиентов с ненулевой выручкой на протяжении всех трёх периодов: 1297\n",
      "Активные клиенты по id:\n",
      "           id  маркет_актив_6_мес\n",
      "1     215349                 4.4\n",
      "2     215350                 4.9\n",
      "3     215351                 3.2\n",
      "4     215352                 5.1\n",
      "5     215353                 3.3\n",
      "...      ...                 ...\n",
      "1295  216643                 6.6\n",
      "1296  216644                 5.1\n",
      "1297  216645                 4.1\n",
      "1298  216646                 6.3\n",
      "1299  216647                 4.0\n",
      "\n",
      "[1297 rows x 2 columns]\n"
     ]
    }
   ],
   "source": [
    "# Фильтруем клиентов с ненулевой выручкой на протяжении всех трёх периодов\n",
    "active_money = market_money.groupby('id').filter(lambda x: (x['выручка'] > 0).all())\n",
    "\n",
    "# Получаем уникальные id активных клиентов\n",
    "unique_active_ids = active_money['id'].unique()\n",
    "\n",
    "# Отбираем полные данные по активным клиентам\n",
    "active_customers = market_file[market_file['id'].isin(unique_active_ids)].copy()\n",
    "\n",
    "# Вывод результатов\n",
    "num_active_customers = active_customers['id'].nunique()\n",
    "active_customers_details = active_customers[['id', 'маркет_актив_6_мес']]\n",
    "\n",
    "print(f\"Количество клиентов с ненулевой выручкой на протяжении всех трёх периодов: {num_active_customers}\")\n",
    "print(\"Активные клиенты по id:\\n\", active_customers_details)"
   ]
  },
  {
   "cell_type": "markdown",
   "metadata": {},
   "source": [
    "<u>Общая информация о результатах</u>  \n",
    "\n",
    "Количество клиентов с активностью не менее трех месяцев составило `1297`. Это довольно значительное количество, что указывает на наличие устойчивой и лояльной клиентской аудитории.\n",
    "\n",
    "- Показатели активности: в столбце `'маркет_актив_6_мес'` значения варьируются от 3.2 до 6.6 месяцев. Это говорит о том, что компания имеет клиентов с разнообразной активностью, что может быть очень полезным для дальнейшего формирования стратегий."
   ]
  },
  {
   "cell_type": "markdown",
   "metadata": {},
   "source": [
    "## Объединение таблиц"
   ]
  },
  {
   "cell_type": "markdown",
   "metadata": {},
   "source": [
    "### Объединим таблицы market_file.csv, market_money.csv, market_time.csv."
   ]
  },
  {
   "cell_type": "code",
   "execution_count": 18,
   "metadata": {},
   "outputs": [],
   "source": [
    "market_money['выручка'] = pd.to_numeric(market_money['выручка'], errors='coerce')\n",
    "market_time['минут'] = pd.to_numeric(market_time['минут'], errors='coerce')"
   ]
  },
  {
   "cell_type": "code",
   "execution_count": 19,
   "metadata": {},
   "outputs": [
    {
     "data": {
      "text/html": [
       "<div>\n",
       "<style scoped>\n",
       "    .dataframe tbody tr th:only-of-type {\n",
       "        vertical-align: middle;\n",
       "    }\n",
       "\n",
       "    .dataframe tbody tr th {\n",
       "        vertical-align: top;\n",
       "    }\n",
       "\n",
       "    .dataframe thead th {\n",
       "        text-align: right;\n",
       "    }\n",
       "</style>\n",
       "<table border=\"1\" class=\"dataframe\">\n",
       "  <thead>\n",
       "    <tr style=\"text-align: right;\">\n",
       "      <th></th>\n",
       "      <th>id</th>\n",
       "      <th>период</th>\n",
       "      <th>выручка</th>\n",
       "      <th>период(числовой)</th>\n",
       "    </tr>\n",
       "  </thead>\n",
       "  <tbody>\n",
       "    <tr>\n",
       "      <th>0</th>\n",
       "      <td>215348</td>\n",
       "      <td>препредыдущий_месяц</td>\n",
       "      <td>0.0</td>\n",
       "      <td>0</td>\n",
       "    </tr>\n",
       "    <tr>\n",
       "      <th>1</th>\n",
       "      <td>215348</td>\n",
       "      <td>текущий_месяц</td>\n",
       "      <td>3293.1</td>\n",
       "      <td>2</td>\n",
       "    </tr>\n",
       "    <tr>\n",
       "      <th>2</th>\n",
       "      <td>215348</td>\n",
       "      <td>предыдущий_месяц</td>\n",
       "      <td>0.0</td>\n",
       "      <td>1</td>\n",
       "    </tr>\n",
       "    <tr>\n",
       "      <th>3</th>\n",
       "      <td>215349</td>\n",
       "      <td>препредыдущий_месяц</td>\n",
       "      <td>4472.0</td>\n",
       "      <td>0</td>\n",
       "    </tr>\n",
       "    <tr>\n",
       "      <th>4</th>\n",
       "      <td>215349</td>\n",
       "      <td>текущий_месяц</td>\n",
       "      <td>4971.6</td>\n",
       "      <td>2</td>\n",
       "    </tr>\n",
       "    <tr>\n",
       "      <th>...</th>\n",
       "      <td>...</td>\n",
       "      <td>...</td>\n",
       "      <td>...</td>\n",
       "      <td>...</td>\n",
       "    </tr>\n",
       "    <tr>\n",
       "      <th>3895</th>\n",
       "      <td>216646</td>\n",
       "      <td>препредыдущий_месяц</td>\n",
       "      <td>4725.0</td>\n",
       "      <td>0</td>\n",
       "    </tr>\n",
       "    <tr>\n",
       "      <th>3896</th>\n",
       "      <td>216646</td>\n",
       "      <td>предыдущий_месяц</td>\n",
       "      <td>4923.0</td>\n",
       "      <td>1</td>\n",
       "    </tr>\n",
       "    <tr>\n",
       "      <th>3897</th>\n",
       "      <td>216647</td>\n",
       "      <td>предыдущий_месяц</td>\n",
       "      <td>4720.0</td>\n",
       "      <td>1</td>\n",
       "    </tr>\n",
       "    <tr>\n",
       "      <th>3898</th>\n",
       "      <td>216647</td>\n",
       "      <td>препредыдущий_месяц</td>\n",
       "      <td>5183.0</td>\n",
       "      <td>0</td>\n",
       "    </tr>\n",
       "    <tr>\n",
       "      <th>3899</th>\n",
       "      <td>216647</td>\n",
       "      <td>текущий_месяц</td>\n",
       "      <td>4448.3</td>\n",
       "      <td>2</td>\n",
       "    </tr>\n",
       "  </tbody>\n",
       "</table>\n",
       "<p>3900 rows × 4 columns</p>\n",
       "</div>"
      ],
      "text/plain": [
       "          id               период  выручка  период(числовой)\n",
       "0     215348  препредыдущий_месяц      0.0                 0\n",
       "1     215348        текущий_месяц   3293.1                 2\n",
       "2     215348     предыдущий_месяц      0.0                 1\n",
       "3     215349  препредыдущий_месяц   4472.0                 0\n",
       "4     215349        текущий_месяц   4971.6                 2\n",
       "...      ...                  ...      ...               ...\n",
       "3895  216646  препредыдущий_месяц   4725.0                 0\n",
       "3896  216646     предыдущий_месяц   4923.0                 1\n",
       "3897  216647     предыдущий_месяц   4720.0                 1\n",
       "3898  216647  препредыдущий_месяц   5183.0                 0\n",
       "3899  216647        текущий_месяц   4448.3                 2\n",
       "\n",
       "[3900 rows x 4 columns]"
      ]
     },
     "metadata": {},
     "output_type": "display_data"
    },
    {
     "data": {
      "text/html": [
       "<div>\n",
       "<style scoped>\n",
       "    .dataframe tbody tr th:only-of-type {\n",
       "        vertical-align: middle;\n",
       "    }\n",
       "\n",
       "    .dataframe tbody tr th {\n",
       "        vertical-align: top;\n",
       "    }\n",
       "\n",
       "    .dataframe thead th {\n",
       "        text-align: right;\n",
       "    }\n",
       "</style>\n",
       "<table border=\"1\" class=\"dataframe\">\n",
       "  <thead>\n",
       "    <tr style=\"text-align: right;\">\n",
       "      <th></th>\n",
       "      <th>id</th>\n",
       "      <th>период</th>\n",
       "      <th>минут</th>\n",
       "    </tr>\n",
       "  </thead>\n",
       "  <tbody>\n",
       "    <tr>\n",
       "      <th>0</th>\n",
       "      <td>215348</td>\n",
       "      <td>текущий_месяц</td>\n",
       "      <td>14</td>\n",
       "    </tr>\n",
       "    <tr>\n",
       "      <th>1</th>\n",
       "      <td>215348</td>\n",
       "      <td>предыдущий_месяц</td>\n",
       "      <td>13</td>\n",
       "    </tr>\n",
       "    <tr>\n",
       "      <th>2</th>\n",
       "      <td>215349</td>\n",
       "      <td>текущий_месяц</td>\n",
       "      <td>10</td>\n",
       "    </tr>\n",
       "    <tr>\n",
       "      <th>3</th>\n",
       "      <td>215349</td>\n",
       "      <td>предыдущий_месяц</td>\n",
       "      <td>12</td>\n",
       "    </tr>\n",
       "    <tr>\n",
       "      <th>4</th>\n",
       "      <td>215350</td>\n",
       "      <td>текущий_месяц</td>\n",
       "      <td>13</td>\n",
       "    </tr>\n",
       "    <tr>\n",
       "      <th>...</th>\n",
       "      <td>...</td>\n",
       "      <td>...</td>\n",
       "      <td>...</td>\n",
       "    </tr>\n",
       "    <tr>\n",
       "      <th>2595</th>\n",
       "      <td>216645</td>\n",
       "      <td>текущий_месяц</td>\n",
       "      <td>18</td>\n",
       "    </tr>\n",
       "    <tr>\n",
       "      <th>2596</th>\n",
       "      <td>216646</td>\n",
       "      <td>предыдущий_месяц</td>\n",
       "      <td>18</td>\n",
       "    </tr>\n",
       "    <tr>\n",
       "      <th>2597</th>\n",
       "      <td>216646</td>\n",
       "      <td>текущий_месяц</td>\n",
       "      <td>7</td>\n",
       "    </tr>\n",
       "    <tr>\n",
       "      <th>2598</th>\n",
       "      <td>216647</td>\n",
       "      <td>текущий_месяц</td>\n",
       "      <td>10</td>\n",
       "    </tr>\n",
       "    <tr>\n",
       "      <th>2599</th>\n",
       "      <td>216647</td>\n",
       "      <td>предыдущий_месяц</td>\n",
       "      <td>15</td>\n",
       "    </tr>\n",
       "  </tbody>\n",
       "</table>\n",
       "<p>2600 rows × 3 columns</p>\n",
       "</div>"
      ],
      "text/plain": [
       "          id            период  минут\n",
       "0     215348     текущий_месяц     14\n",
       "1     215348  предыдущий_месяц     13\n",
       "2     215349     текущий_месяц     10\n",
       "3     215349  предыдущий_месяц     12\n",
       "4     215350     текущий_месяц     13\n",
       "...      ...               ...    ...\n",
       "2595  216645     текущий_месяц     18\n",
       "2596  216646  предыдущий_месяц     18\n",
       "2597  216646     текущий_месяц      7\n",
       "2598  216647     текущий_месяц     10\n",
       "2599  216647  предыдущий_месяц     15\n",
       "\n",
       "[2600 rows x 3 columns]"
      ]
     },
     "metadata": {},
     "output_type": "display_data"
    },
    {
     "name": "stdout",
     "output_type": "stream",
     "text": [
      "Количество клиентов с ненулевой выручкой на протяжении всех трёх периодов: 1297\n",
      "Активные клиенты по id:\n",
      "           id  маркет_актив_6_мес  выручка_предыдущий_месяц  \\\n",
      "1     215349                 4.4                    5216.0   \n",
      "2     215350                 4.9                    5457.5   \n",
      "3     215351                 3.2                    6158.0   \n",
      "4     215352                 5.1                    5807.5   \n",
      "5     215353                 3.3                    4738.5   \n",
      "...      ...                 ...                       ...   \n",
      "1295  216643                 6.6                    3664.0   \n",
      "1296  216644                 5.1                    4729.0   \n",
      "1297  216645                 4.1                    5160.0   \n",
      "1298  216646                 6.3                    4923.0   \n",
      "1299  216647                 4.0                    4720.0   \n",
      "\n",
      "      выручка_препредыдущий_месяц  выручка_текущий_месяц  \\\n",
      "1                          4472.0                 4971.6   \n",
      "2                          4826.0                 5058.4   \n",
      "3                          4793.0                 6610.4   \n",
      "4                          4594.0                 5872.5   \n",
      "5                          5124.0                 5388.5   \n",
      "...                           ...                    ...   \n",
      "1295                       4704.0                 4741.7   \n",
      "1296                       5299.0                 5353.0   \n",
      "1297                       5334.0                 5139.2   \n",
      "1298                       4725.0                 5224.6   \n",
      "1299                       5183.0                 4448.3   \n",
      "\n",
      "      время_предыдущий_месяц  время_текущий_месяц  \n",
      "1                         12                   10  \n",
      "2                          8                   13  \n",
      "3                         11                   13  \n",
      "4                          8                   11  \n",
      "5                         10                   10  \n",
      "...                      ...                  ...  \n",
      "1295                      14                    7  \n",
      "1296                      12                   11  \n",
      "1297                      12                   18  \n",
      "1298                      18                    7  \n",
      "1299                      15                   10  \n",
      "\n",
      "[1297 rows x 7 columns]\n",
      "Итоговое количество активных клиентов в итоговой таблице: 1297\n"
     ]
    }
   ],
   "source": [
    "period_mapping = {\n",
    "    'препредыдущий_месяц': 0,\n",
    "    'предыдущий_месяц': 1,\n",
    "    'текущий_месяц': 2\n",
    "}\n",
    "market_money['период(числовой)'] = market_money['период'].map(period_mapping)\n",
    "display(market_money)\n",
    "display(market_time)\n",
    "\n",
    "for period in ['предыдущий_месяц', 'препредыдущий_месяц', 'текущий_месяц']:\n",
    "    active_customers[f'выручка_{period}'] = active_customers.apply(\n",
    "        lambda x: active_money[(active_money['id'] == x['id']) & (active_money['период'] == period)]['выручка'].values[0] \n",
    "                                if not active_money[(active_money['id'] == x['id']) & (active_money['период'] == period)].empty \n",
    "                                else 0.0, axis=1)\n",
    "\n",
    "for period in ['предыдущий_месяц', 'текущий_месяц']:\n",
    "    active_customers[f'время_{period}'] = active_customers.apply(\n",
    "        lambda x: market_time[(market_time['id'] == x['id']) & (market_time['период'] == period)]['минут'].values[0] \n",
    "                                if not market_time[(market_time['id'] == x['id']) & (market_time['период'] == period)].empty \n",
    "                                else 0, axis=1)\n",
    "\n",
    "# Для вывода результатов\n",
    "print(f\"Количество клиентов с ненулевой выручкой на протяжении всех трёх периодов: {num_active_customers}\")\n",
    "active_customers_details = active_customers[['id', 'маркет_актив_6_мес', 'выручка_предыдущий_месяц', \n",
    "                                               'выручка_препредыдущий_месяц', 'выручка_текущий_месяц', \n",
    "                                               'время_предыдущий_месяц', 'время_текущий_месяц']]\n",
    "print(\"Активные клиенты по id:\\n\", active_customers_details)\n",
    "\n",
    "# Проверка того, сколько клиентов в итоговой таблице\n",
    "final_count = active_customers['id'].nunique()\n",
    "print(f\"Итоговое количество активных клиентов в итоговой таблице: {final_count}\")"
   ]
  },
  {
   "cell_type": "markdown",
   "metadata": {},
   "source": [
    "### Создадим отдельные столбцы для каждого периода выручки и времени, проведенного на сайте."
   ]
  },
  {
   "cell_type": "code",
   "execution_count": 20,
   "metadata": {},
   "outputs": [
    {
     "name": "stdout",
     "output_type": "stream",
     "text": [
      "['id', 'покупательская активность', 'тип сервиса', 'разрешить сообщать', 'маркет_актив_6_мес', 'маркет_актив_тек_мес', 'длительность', 'акционные_покупки', 'популярная_категория', 'средний_просмотр_категорий_за_визит', 'неоплаченные_продукты_штук_квартал', 'ошибка_сервиса', 'страниц_за_визит', 'выручка_предыдущий_месяц', 'выручка_препредыдущий_месяц', 'выручка_текущий_месяц', 'период_предыдущий_месяц', 'период_текущий_месяц']\n",
      "Итоговое количество активных клиентов в финальной таблице после фильтрации: 1297\n"
     ]
    },
    {
     "data": {
      "text/html": [
       "<div>\n",
       "<style scoped>\n",
       "    .dataframe tbody tr th:only-of-type {\n",
       "        vertical-align: middle;\n",
       "    }\n",
       "\n",
       "    .dataframe tbody tr th {\n",
       "        vertical-align: top;\n",
       "    }\n",
       "\n",
       "    .dataframe thead th {\n",
       "        text-align: right;\n",
       "    }\n",
       "</style>\n",
       "<table border=\"1\" class=\"dataframe\">\n",
       "  <thead>\n",
       "    <tr style=\"text-align: right;\">\n",
       "      <th></th>\n",
       "      <th>id</th>\n",
       "      <th>покупательская активность</th>\n",
       "      <th>тип сервиса</th>\n",
       "      <th>разрешить сообщать</th>\n",
       "      <th>маркет_актив_6_мес</th>\n",
       "      <th>маркет_актив_тек_мес</th>\n",
       "      <th>длительность</th>\n",
       "      <th>акционные_покупки</th>\n",
       "      <th>популярная_категория</th>\n",
       "      <th>средний_просмотр_категорий_за_визит</th>\n",
       "      <th>неоплаченные_продукты_штук_квартал</th>\n",
       "      <th>ошибка_сервиса</th>\n",
       "      <th>страниц_за_визит</th>\n",
       "      <th>выручка_предыдущий_месяц</th>\n",
       "      <th>выручка_препредыдущий_месяц</th>\n",
       "      <th>выручка_текущий_месяц</th>\n",
       "      <th>период_предыдущий_месяц</th>\n",
       "      <th>период_текущий_месяц</th>\n",
       "    </tr>\n",
       "  </thead>\n",
       "  <tbody>\n",
       "    <tr>\n",
       "      <th>1</th>\n",
       "      <td>215349</td>\n",
       "      <td>Снизилась</td>\n",
       "      <td>премиум</td>\n",
       "      <td>да</td>\n",
       "      <td>4.4</td>\n",
       "      <td>4</td>\n",
       "      <td>819</td>\n",
       "      <td>0.75</td>\n",
       "      <td>Товары для детей</td>\n",
       "      <td>4</td>\n",
       "      <td>4</td>\n",
       "      <td>2</td>\n",
       "      <td>5</td>\n",
       "      <td>5216.0</td>\n",
       "      <td>4472.0</td>\n",
       "      <td>4971.6</td>\n",
       "      <td>12</td>\n",
       "      <td>10</td>\n",
       "    </tr>\n",
       "    <tr>\n",
       "      <th>2</th>\n",
       "      <td>215350</td>\n",
       "      <td>Снизилась</td>\n",
       "      <td>стандарт</td>\n",
       "      <td>нет</td>\n",
       "      <td>4.9</td>\n",
       "      <td>3</td>\n",
       "      <td>539</td>\n",
       "      <td>0.14</td>\n",
       "      <td>Домашний текстиль</td>\n",
       "      <td>5</td>\n",
       "      <td>2</td>\n",
       "      <td>1</td>\n",
       "      <td>5</td>\n",
       "      <td>5457.5</td>\n",
       "      <td>4826.0</td>\n",
       "      <td>5058.4</td>\n",
       "      <td>8</td>\n",
       "      <td>13</td>\n",
       "    </tr>\n",
       "    <tr>\n",
       "      <th>3</th>\n",
       "      <td>215351</td>\n",
       "      <td>Снизилась</td>\n",
       "      <td>стандарт</td>\n",
       "      <td>да</td>\n",
       "      <td>3.2</td>\n",
       "      <td>5</td>\n",
       "      <td>896</td>\n",
       "      <td>0.99</td>\n",
       "      <td>Товары для детей</td>\n",
       "      <td>5</td>\n",
       "      <td>0</td>\n",
       "      <td>6</td>\n",
       "      <td>4</td>\n",
       "      <td>6158.0</td>\n",
       "      <td>4793.0</td>\n",
       "      <td>6610.4</td>\n",
       "      <td>11</td>\n",
       "      <td>13</td>\n",
       "    </tr>\n",
       "    <tr>\n",
       "      <th>4</th>\n",
       "      <td>215352</td>\n",
       "      <td>Снизилась</td>\n",
       "      <td>стандарт</td>\n",
       "      <td>нет</td>\n",
       "      <td>5.1</td>\n",
       "      <td>3</td>\n",
       "      <td>1064</td>\n",
       "      <td>0.94</td>\n",
       "      <td>Товары для детей</td>\n",
       "      <td>3</td>\n",
       "      <td>2</td>\n",
       "      <td>3</td>\n",
       "      <td>2</td>\n",
       "      <td>5807.5</td>\n",
       "      <td>4594.0</td>\n",
       "      <td>5872.5</td>\n",
       "      <td>8</td>\n",
       "      <td>11</td>\n",
       "    </tr>\n",
       "    <tr>\n",
       "      <th>5</th>\n",
       "      <td>215353</td>\n",
       "      <td>Снизилась</td>\n",
       "      <td>стандарт</td>\n",
       "      <td>да</td>\n",
       "      <td>3.3</td>\n",
       "      <td>4</td>\n",
       "      <td>762</td>\n",
       "      <td>0.26</td>\n",
       "      <td>Домашний текстиль</td>\n",
       "      <td>4</td>\n",
       "      <td>1</td>\n",
       "      <td>1</td>\n",
       "      <td>4</td>\n",
       "      <td>4738.5</td>\n",
       "      <td>5124.0</td>\n",
       "      <td>5388.5</td>\n",
       "      <td>10</td>\n",
       "      <td>10</td>\n",
       "    </tr>\n",
       "    <tr>\n",
       "      <th>...</th>\n",
       "      <td>...</td>\n",
       "      <td>...</td>\n",
       "      <td>...</td>\n",
       "      <td>...</td>\n",
       "      <td>...</td>\n",
       "      <td>...</td>\n",
       "      <td>...</td>\n",
       "      <td>...</td>\n",
       "      <td>...</td>\n",
       "      <td>...</td>\n",
       "      <td>...</td>\n",
       "      <td>...</td>\n",
       "      <td>...</td>\n",
       "      <td>...</td>\n",
       "      <td>...</td>\n",
       "      <td>...</td>\n",
       "      <td>...</td>\n",
       "      <td>...</td>\n",
       "    </tr>\n",
       "    <tr>\n",
       "      <th>1295</th>\n",
       "      <td>216643</td>\n",
       "      <td>Прежний уровень</td>\n",
       "      <td>стандарт</td>\n",
       "      <td>да</td>\n",
       "      <td>6.6</td>\n",
       "      <td>3</td>\n",
       "      <td>318</td>\n",
       "      <td>0.24</td>\n",
       "      <td>Техника для красоты и здоровья</td>\n",
       "      <td>5</td>\n",
       "      <td>3</td>\n",
       "      <td>3</td>\n",
       "      <td>11</td>\n",
       "      <td>3664.0</td>\n",
       "      <td>4704.0</td>\n",
       "      <td>4741.7</td>\n",
       "      <td>14</td>\n",
       "      <td>7</td>\n",
       "    </tr>\n",
       "    <tr>\n",
       "      <th>1296</th>\n",
       "      <td>216644</td>\n",
       "      <td>Прежний уровень</td>\n",
       "      <td>стандарт</td>\n",
       "      <td>нет</td>\n",
       "      <td>5.1</td>\n",
       "      <td>4</td>\n",
       "      <td>454</td>\n",
       "      <td>0.21</td>\n",
       "      <td>Домашний текстиль</td>\n",
       "      <td>6</td>\n",
       "      <td>2</td>\n",
       "      <td>3</td>\n",
       "      <td>9</td>\n",
       "      <td>4729.0</td>\n",
       "      <td>5299.0</td>\n",
       "      <td>5353.0</td>\n",
       "      <td>12</td>\n",
       "      <td>11</td>\n",
       "    </tr>\n",
       "    <tr>\n",
       "      <th>1297</th>\n",
       "      <td>216645</td>\n",
       "      <td>Прежний уровень</td>\n",
       "      <td>стандарт</td>\n",
       "      <td>да</td>\n",
       "      <td>4.1</td>\n",
       "      <td>3</td>\n",
       "      <td>586</td>\n",
       "      <td>0.20</td>\n",
       "      <td>Домашний текстиль</td>\n",
       "      <td>3</td>\n",
       "      <td>2</td>\n",
       "      <td>5</td>\n",
       "      <td>7</td>\n",
       "      <td>5160.0</td>\n",
       "      <td>5334.0</td>\n",
       "      <td>5139.2</td>\n",
       "      <td>12</td>\n",
       "      <td>18</td>\n",
       "    </tr>\n",
       "    <tr>\n",
       "      <th>1298</th>\n",
       "      <td>216646</td>\n",
       "      <td>Прежний уровень</td>\n",
       "      <td>стандарт</td>\n",
       "      <td>да</td>\n",
       "      <td>6.3</td>\n",
       "      <td>5</td>\n",
       "      <td>645</td>\n",
       "      <td>0.12</td>\n",
       "      <td>Техника для красоты и здоровья</td>\n",
       "      <td>3</td>\n",
       "      <td>3</td>\n",
       "      <td>5</td>\n",
       "      <td>7</td>\n",
       "      <td>4923.0</td>\n",
       "      <td>4725.0</td>\n",
       "      <td>5224.6</td>\n",
       "      <td>18</td>\n",
       "      <td>7</td>\n",
       "    </tr>\n",
       "    <tr>\n",
       "      <th>1299</th>\n",
       "      <td>216647</td>\n",
       "      <td>Прежний уровень</td>\n",
       "      <td>премиум</td>\n",
       "      <td>да</td>\n",
       "      <td>4.0</td>\n",
       "      <td>5</td>\n",
       "      <td>906</td>\n",
       "      <td>0.94</td>\n",
       "      <td>Техника для красоты и здоровья</td>\n",
       "      <td>4</td>\n",
       "      <td>5</td>\n",
       "      <td>3</td>\n",
       "      <td>12</td>\n",
       "      <td>4720.0</td>\n",
       "      <td>5183.0</td>\n",
       "      <td>4448.3</td>\n",
       "      <td>15</td>\n",
       "      <td>10</td>\n",
       "    </tr>\n",
       "  </tbody>\n",
       "</table>\n",
       "<p>1297 rows × 18 columns</p>\n",
       "</div>"
      ],
      "text/plain": [
       "          id покупательская активность тип сервиса разрешить сообщать  \\\n",
       "1     215349                 Снизилась     премиум                 да   \n",
       "2     215350                 Снизилась    стандарт                нет   \n",
       "3     215351                 Снизилась    стандарт                 да   \n",
       "4     215352                 Снизилась    стандарт                нет   \n",
       "5     215353                 Снизилась    стандарт                 да   \n",
       "...      ...                       ...         ...                ...   \n",
       "1295  216643           Прежний уровень    стандарт                 да   \n",
       "1296  216644           Прежний уровень    стандарт                нет   \n",
       "1297  216645           Прежний уровень    стандарт                 да   \n",
       "1298  216646           Прежний уровень    стандарт                 да   \n",
       "1299  216647           Прежний уровень     премиум                 да   \n",
       "\n",
       "      маркет_актив_6_мес  маркет_актив_тек_мес  длительность  \\\n",
       "1                    4.4                     4           819   \n",
       "2                    4.9                     3           539   \n",
       "3                    3.2                     5           896   \n",
       "4                    5.1                     3          1064   \n",
       "5                    3.3                     4           762   \n",
       "...                  ...                   ...           ...   \n",
       "1295                 6.6                     3           318   \n",
       "1296                 5.1                     4           454   \n",
       "1297                 4.1                     3           586   \n",
       "1298                 6.3                     5           645   \n",
       "1299                 4.0                     5           906   \n",
       "\n",
       "      акционные_покупки            популярная_категория  \\\n",
       "1                  0.75                Товары для детей   \n",
       "2                  0.14               Домашний текстиль   \n",
       "3                  0.99                Товары для детей   \n",
       "4                  0.94                Товары для детей   \n",
       "5                  0.26               Домашний текстиль   \n",
       "...                 ...                             ...   \n",
       "1295               0.24  Техника для красоты и здоровья   \n",
       "1296               0.21               Домашний текстиль   \n",
       "1297               0.20               Домашний текстиль   \n",
       "1298               0.12  Техника для красоты и здоровья   \n",
       "1299               0.94  Техника для красоты и здоровья   \n",
       "\n",
       "      средний_просмотр_категорий_за_визит  неоплаченные_продукты_штук_квартал  \\\n",
       "1                                       4                                   4   \n",
       "2                                       5                                   2   \n",
       "3                                       5                                   0   \n",
       "4                                       3                                   2   \n",
       "5                                       4                                   1   \n",
       "...                                   ...                                 ...   \n",
       "1295                                    5                                   3   \n",
       "1296                                    6                                   2   \n",
       "1297                                    3                                   2   \n",
       "1298                                    3                                   3   \n",
       "1299                                    4                                   5   \n",
       "\n",
       "      ошибка_сервиса  страниц_за_визит  выручка_предыдущий_месяц  \\\n",
       "1                  2                 5                    5216.0   \n",
       "2                  1                 5                    5457.5   \n",
       "3                  6                 4                    6158.0   \n",
       "4                  3                 2                    5807.5   \n",
       "5                  1                 4                    4738.5   \n",
       "...              ...               ...                       ...   \n",
       "1295               3                11                    3664.0   \n",
       "1296               3                 9                    4729.0   \n",
       "1297               5                 7                    5160.0   \n",
       "1298               5                 7                    4923.0   \n",
       "1299               3                12                    4720.0   \n",
       "\n",
       "      выручка_препредыдущий_месяц  выручка_текущий_месяц  \\\n",
       "1                          4472.0                 4971.6   \n",
       "2                          4826.0                 5058.4   \n",
       "3                          4793.0                 6610.4   \n",
       "4                          4594.0                 5872.5   \n",
       "5                          5124.0                 5388.5   \n",
       "...                           ...                    ...   \n",
       "1295                       4704.0                 4741.7   \n",
       "1296                       5299.0                 5353.0   \n",
       "1297                       5334.0                 5139.2   \n",
       "1298                       4725.0                 5224.6   \n",
       "1299                       5183.0                 4448.3   \n",
       "\n",
       "      период_предыдущий_месяц  период_текущий_месяц  \n",
       "1                          12                    10  \n",
       "2                           8                    13  \n",
       "3                          11                    13  \n",
       "4                           8                    11  \n",
       "5                          10                    10  \n",
       "...                       ...                   ...  \n",
       "1295                       14                     7  \n",
       "1296                       12                    11  \n",
       "1297                       12                    18  \n",
       "1298                       18                     7  \n",
       "1299                       15                    10  \n",
       "\n",
       "[1297 rows x 18 columns]"
      ]
     },
     "metadata": {},
     "output_type": "display_data"
    },
    {
     "data": {
      "text/html": [
       "<div>\n",
       "<style scoped>\n",
       "    .dataframe tbody tr th:only-of-type {\n",
       "        vertical-align: middle;\n",
       "    }\n",
       "\n",
       "    .dataframe tbody tr th {\n",
       "        vertical-align: top;\n",
       "    }\n",
       "\n",
       "    .dataframe thead th {\n",
       "        text-align: right;\n",
       "    }\n",
       "</style>\n",
       "<table border=\"1\" class=\"dataframe\">\n",
       "  <thead>\n",
       "    <tr style=\"text-align: right;\">\n",
       "      <th></th>\n",
       "      <th>id</th>\n",
       "      <th>покупательская активность</th>\n",
       "      <th>тип сервиса</th>\n",
       "      <th>разрешить сообщать</th>\n",
       "      <th>маркет_актив_6_мес</th>\n",
       "      <th>маркет_актив_тек_мес</th>\n",
       "      <th>длительность</th>\n",
       "      <th>акционные_покупки</th>\n",
       "      <th>популярная_категория</th>\n",
       "      <th>средний_просмотр_категорий_за_визит</th>\n",
       "      <th>неоплаченные_продукты_штук_квартал</th>\n",
       "      <th>ошибка_сервиса</th>\n",
       "      <th>страниц_за_визит</th>\n",
       "      <th>выручка_предыдущий_месяц</th>\n",
       "      <th>выручка_препредыдущий_месяц</th>\n",
       "      <th>выручка_текущий_месяц</th>\n",
       "      <th>период_предыдущий_месяц</th>\n",
       "      <th>период_текущий_месяц</th>\n",
       "    </tr>\n",
       "  </thead>\n",
       "  <tbody>\n",
       "    <tr>\n",
       "      <th>1</th>\n",
       "      <td>215349</td>\n",
       "      <td>Снизилась</td>\n",
       "      <td>премиум</td>\n",
       "      <td>да</td>\n",
       "      <td>4.4</td>\n",
       "      <td>4</td>\n",
       "      <td>819</td>\n",
       "      <td>0.75</td>\n",
       "      <td>Товары для детей</td>\n",
       "      <td>4</td>\n",
       "      <td>4</td>\n",
       "      <td>2</td>\n",
       "      <td>5</td>\n",
       "      <td>5216.0</td>\n",
       "      <td>4472.0</td>\n",
       "      <td>4971.6</td>\n",
       "      <td>12</td>\n",
       "      <td>10</td>\n",
       "    </tr>\n",
       "    <tr>\n",
       "      <th>2</th>\n",
       "      <td>215350</td>\n",
       "      <td>Снизилась</td>\n",
       "      <td>стандарт</td>\n",
       "      <td>нет</td>\n",
       "      <td>4.9</td>\n",
       "      <td>3</td>\n",
       "      <td>539</td>\n",
       "      <td>0.14</td>\n",
       "      <td>Домашний текстиль</td>\n",
       "      <td>5</td>\n",
       "      <td>2</td>\n",
       "      <td>1</td>\n",
       "      <td>5</td>\n",
       "      <td>5457.5</td>\n",
       "      <td>4826.0</td>\n",
       "      <td>5058.4</td>\n",
       "      <td>8</td>\n",
       "      <td>13</td>\n",
       "    </tr>\n",
       "    <tr>\n",
       "      <th>3</th>\n",
       "      <td>215351</td>\n",
       "      <td>Снизилась</td>\n",
       "      <td>стандарт</td>\n",
       "      <td>да</td>\n",
       "      <td>3.2</td>\n",
       "      <td>5</td>\n",
       "      <td>896</td>\n",
       "      <td>0.99</td>\n",
       "      <td>Товары для детей</td>\n",
       "      <td>5</td>\n",
       "      <td>0</td>\n",
       "      <td>6</td>\n",
       "      <td>4</td>\n",
       "      <td>6158.0</td>\n",
       "      <td>4793.0</td>\n",
       "      <td>6610.4</td>\n",
       "      <td>11</td>\n",
       "      <td>13</td>\n",
       "    </tr>\n",
       "    <tr>\n",
       "      <th>4</th>\n",
       "      <td>215352</td>\n",
       "      <td>Снизилась</td>\n",
       "      <td>стандарт</td>\n",
       "      <td>нет</td>\n",
       "      <td>5.1</td>\n",
       "      <td>3</td>\n",
       "      <td>1064</td>\n",
       "      <td>0.94</td>\n",
       "      <td>Товары для детей</td>\n",
       "      <td>3</td>\n",
       "      <td>2</td>\n",
       "      <td>3</td>\n",
       "      <td>2</td>\n",
       "      <td>5807.5</td>\n",
       "      <td>4594.0</td>\n",
       "      <td>5872.5</td>\n",
       "      <td>8</td>\n",
       "      <td>11</td>\n",
       "    </tr>\n",
       "    <tr>\n",
       "      <th>5</th>\n",
       "      <td>215353</td>\n",
       "      <td>Снизилась</td>\n",
       "      <td>стандарт</td>\n",
       "      <td>да</td>\n",
       "      <td>3.3</td>\n",
       "      <td>4</td>\n",
       "      <td>762</td>\n",
       "      <td>0.26</td>\n",
       "      <td>Домашний текстиль</td>\n",
       "      <td>4</td>\n",
       "      <td>1</td>\n",
       "      <td>1</td>\n",
       "      <td>4</td>\n",
       "      <td>4738.5</td>\n",
       "      <td>5124.0</td>\n",
       "      <td>5388.5</td>\n",
       "      <td>10</td>\n",
       "      <td>10</td>\n",
       "    </tr>\n",
       "    <tr>\n",
       "      <th>...</th>\n",
       "      <td>...</td>\n",
       "      <td>...</td>\n",
       "      <td>...</td>\n",
       "      <td>...</td>\n",
       "      <td>...</td>\n",
       "      <td>...</td>\n",
       "      <td>...</td>\n",
       "      <td>...</td>\n",
       "      <td>...</td>\n",
       "      <td>...</td>\n",
       "      <td>...</td>\n",
       "      <td>...</td>\n",
       "      <td>...</td>\n",
       "      <td>...</td>\n",
       "      <td>...</td>\n",
       "      <td>...</td>\n",
       "      <td>...</td>\n",
       "      <td>...</td>\n",
       "    </tr>\n",
       "    <tr>\n",
       "      <th>1295</th>\n",
       "      <td>216643</td>\n",
       "      <td>Прежний уровень</td>\n",
       "      <td>стандарт</td>\n",
       "      <td>да</td>\n",
       "      <td>6.6</td>\n",
       "      <td>3</td>\n",
       "      <td>318</td>\n",
       "      <td>0.24</td>\n",
       "      <td>Техника для красоты и здоровья</td>\n",
       "      <td>5</td>\n",
       "      <td>3</td>\n",
       "      <td>3</td>\n",
       "      <td>11</td>\n",
       "      <td>3664.0</td>\n",
       "      <td>4704.0</td>\n",
       "      <td>4741.7</td>\n",
       "      <td>14</td>\n",
       "      <td>7</td>\n",
       "    </tr>\n",
       "    <tr>\n",
       "      <th>1296</th>\n",
       "      <td>216644</td>\n",
       "      <td>Прежний уровень</td>\n",
       "      <td>стандарт</td>\n",
       "      <td>нет</td>\n",
       "      <td>5.1</td>\n",
       "      <td>4</td>\n",
       "      <td>454</td>\n",
       "      <td>0.21</td>\n",
       "      <td>Домашний текстиль</td>\n",
       "      <td>6</td>\n",
       "      <td>2</td>\n",
       "      <td>3</td>\n",
       "      <td>9</td>\n",
       "      <td>4729.0</td>\n",
       "      <td>5299.0</td>\n",
       "      <td>5353.0</td>\n",
       "      <td>12</td>\n",
       "      <td>11</td>\n",
       "    </tr>\n",
       "    <tr>\n",
       "      <th>1297</th>\n",
       "      <td>216645</td>\n",
       "      <td>Прежний уровень</td>\n",
       "      <td>стандарт</td>\n",
       "      <td>да</td>\n",
       "      <td>4.1</td>\n",
       "      <td>3</td>\n",
       "      <td>586</td>\n",
       "      <td>0.20</td>\n",
       "      <td>Домашний текстиль</td>\n",
       "      <td>3</td>\n",
       "      <td>2</td>\n",
       "      <td>5</td>\n",
       "      <td>7</td>\n",
       "      <td>5160.0</td>\n",
       "      <td>5334.0</td>\n",
       "      <td>5139.2</td>\n",
       "      <td>12</td>\n",
       "      <td>18</td>\n",
       "    </tr>\n",
       "    <tr>\n",
       "      <th>1298</th>\n",
       "      <td>216646</td>\n",
       "      <td>Прежний уровень</td>\n",
       "      <td>стандарт</td>\n",
       "      <td>да</td>\n",
       "      <td>6.3</td>\n",
       "      <td>5</td>\n",
       "      <td>645</td>\n",
       "      <td>0.12</td>\n",
       "      <td>Техника для красоты и здоровья</td>\n",
       "      <td>3</td>\n",
       "      <td>3</td>\n",
       "      <td>5</td>\n",
       "      <td>7</td>\n",
       "      <td>4923.0</td>\n",
       "      <td>4725.0</td>\n",
       "      <td>5224.6</td>\n",
       "      <td>18</td>\n",
       "      <td>7</td>\n",
       "    </tr>\n",
       "    <tr>\n",
       "      <th>1299</th>\n",
       "      <td>216647</td>\n",
       "      <td>Прежний уровень</td>\n",
       "      <td>премиум</td>\n",
       "      <td>да</td>\n",
       "      <td>4.0</td>\n",
       "      <td>5</td>\n",
       "      <td>906</td>\n",
       "      <td>0.94</td>\n",
       "      <td>Техника для красоты и здоровья</td>\n",
       "      <td>4</td>\n",
       "      <td>5</td>\n",
       "      <td>3</td>\n",
       "      <td>12</td>\n",
       "      <td>4720.0</td>\n",
       "      <td>5183.0</td>\n",
       "      <td>4448.3</td>\n",
       "      <td>15</td>\n",
       "      <td>10</td>\n",
       "    </tr>\n",
       "  </tbody>\n",
       "</table>\n",
       "<p>1297 rows × 18 columns</p>\n",
       "</div>"
      ],
      "text/plain": [
       "          id покупательская активность тип сервиса разрешить сообщать  \\\n",
       "1     215349                 Снизилась     премиум                 да   \n",
       "2     215350                 Снизилась    стандарт                нет   \n",
       "3     215351                 Снизилась    стандарт                 да   \n",
       "4     215352                 Снизилась    стандарт                нет   \n",
       "5     215353                 Снизилась    стандарт                 да   \n",
       "...      ...                       ...         ...                ...   \n",
       "1295  216643           Прежний уровень    стандарт                 да   \n",
       "1296  216644           Прежний уровень    стандарт                нет   \n",
       "1297  216645           Прежний уровень    стандарт                 да   \n",
       "1298  216646           Прежний уровень    стандарт                 да   \n",
       "1299  216647           Прежний уровень     премиум                 да   \n",
       "\n",
       "      маркет_актив_6_мес  маркет_актив_тек_мес  длительность  \\\n",
       "1                    4.4                     4           819   \n",
       "2                    4.9                     3           539   \n",
       "3                    3.2                     5           896   \n",
       "4                    5.1                     3          1064   \n",
       "5                    3.3                     4           762   \n",
       "...                  ...                   ...           ...   \n",
       "1295                 6.6                     3           318   \n",
       "1296                 5.1                     4           454   \n",
       "1297                 4.1                     3           586   \n",
       "1298                 6.3                     5           645   \n",
       "1299                 4.0                     5           906   \n",
       "\n",
       "      акционные_покупки            популярная_категория  \\\n",
       "1                  0.75                Товары для детей   \n",
       "2                  0.14               Домашний текстиль   \n",
       "3                  0.99                Товары для детей   \n",
       "4                  0.94                Товары для детей   \n",
       "5                  0.26               Домашний текстиль   \n",
       "...                 ...                             ...   \n",
       "1295               0.24  Техника для красоты и здоровья   \n",
       "1296               0.21               Домашний текстиль   \n",
       "1297               0.20               Домашний текстиль   \n",
       "1298               0.12  Техника для красоты и здоровья   \n",
       "1299               0.94  Техника для красоты и здоровья   \n",
       "\n",
       "      средний_просмотр_категорий_за_визит  неоплаченные_продукты_штук_квартал  \\\n",
       "1                                       4                                   4   \n",
       "2                                       5                                   2   \n",
       "3                                       5                                   0   \n",
       "4                                       3                                   2   \n",
       "5                                       4                                   1   \n",
       "...                                   ...                                 ...   \n",
       "1295                                    5                                   3   \n",
       "1296                                    6                                   2   \n",
       "1297                                    3                                   2   \n",
       "1298                                    3                                   3   \n",
       "1299                                    4                                   5   \n",
       "\n",
       "      ошибка_сервиса  страниц_за_визит  выручка_предыдущий_месяц  \\\n",
       "1                  2                 5                    5216.0   \n",
       "2                  1                 5                    5457.5   \n",
       "3                  6                 4                    6158.0   \n",
       "4                  3                 2                    5807.5   \n",
       "5                  1                 4                    4738.5   \n",
       "...              ...               ...                       ...   \n",
       "1295               3                11                    3664.0   \n",
       "1296               3                 9                    4729.0   \n",
       "1297               5                 7                    5160.0   \n",
       "1298               5                 7                    4923.0   \n",
       "1299               3                12                    4720.0   \n",
       "\n",
       "      выручка_препредыдущий_месяц  выручка_текущий_месяц  \\\n",
       "1                          4472.0                 4971.6   \n",
       "2                          4826.0                 5058.4   \n",
       "3                          4793.0                 6610.4   \n",
       "4                          4594.0                 5872.5   \n",
       "5                          5124.0                 5388.5   \n",
       "...                           ...                    ...   \n",
       "1295                       4704.0                 4741.7   \n",
       "1296                       5299.0                 5353.0   \n",
       "1297                       5334.0                 5139.2   \n",
       "1298                       4725.0                 5224.6   \n",
       "1299                       5183.0                 4448.3   \n",
       "\n",
       "      период_предыдущий_месяц  период_текущий_месяц  \n",
       "1                          12                    10  \n",
       "2                           8                    13  \n",
       "3                          11                    13  \n",
       "4                           8                    11  \n",
       "5                          10                    10  \n",
       "...                       ...                   ...  \n",
       "1295                       14                     7  \n",
       "1296                       12                    11  \n",
       "1297                       12                    18  \n",
       "1298                       18                     7  \n",
       "1299                       15                    10  \n",
       "\n",
       "[1297 rows x 18 columns]"
      ]
     },
     "metadata": {},
     "output_type": "display_data"
    }
   ],
   "source": [
    "\n",
    "# Создание сводных таблиц\n",
    "money_pivot = market_money.pivot_table(index='id', columns='период', values='выручка', aggfunc='sum').fillna(0).reset_index()\n",
    "time_pivot = market_time.pivot_table(index='id', columns='период', values='минут', aggfunc='sum').fillna(0).reset_index()\n",
    "\n",
    "# Переименование столбцов в сводных таблицах для удобства\n",
    "money_pivot.columns = ['id'] + ['выручка_' + str(col) for col in money_pivot.columns[1:]]\n",
    "time_pivot.columns = ['id'] + ['период_' + str(col) for col in time_pivot.columns[1:]]\n",
    "\n",
    "\n",
    "# Объединяем все данные\n",
    "final_data = pd.merge(market_file, money_pivot, on='id', how='outer')\n",
    "final_data = pd.merge(final_data, time_pivot, on='id', how='outer')\n",
    "\n",
    "# Проверяем наличие конфликтующих столбцов\n",
    "print(final_data.columns.tolist())\n",
    "\n",
    "# Удаляем лишние префиксы, если они всё еще есть\n",
    "final_data.columns = [col.replace('_x', '').replace('_y', '') for col in final_data.columns]\n",
    "# Удаляем неактивных клиентов из final_data\n",
    "filtered_final_data = final_data[final_data['id'].isin(unique_active_ids)]\n",
    "final_count_after_filtering = filtered_final_data['id'].nunique()\n",
    "print(f\"Итоговое количество активных клиентов в финальной таблице после фильтрации: {final_count_after_filtering}\")\n",
    "\n",
    "# Выводим отфильтрованные данные\n",
    "display(filtered_final_data)\n",
    "final_data = filtered_final_data\n",
    "# Печатаем окончательный DataFrame для проверки\n",
    "display(final_data) "
   ]
  },
  {
   "cell_type": "markdown",
   "metadata": {},
   "source": [
    "## Корреляционный анализ"
   ]
  },
  {
   "cell_type": "markdown",
   "metadata": {},
   "source": [
    "### Рассмотрим корреляцию признаков с помощью метода 'phik'."
   ]
  },
  {
   "cell_type": "code",
   "execution_count": 21,
   "metadata": {},
   "outputs": [
    {
     "data": {
      "image/png": "[encoded data removed]",
      "text/plain": [
       "<Figure size 864x576 with 2 Axes>"
      ]
     },
     "metadata": {
      "needs_background": "light"
     },
     "output_type": "display_data"
    },
    {
     "name": "stdout",
     "output_type": "stream",
     "text": [
      "Высоко коррелирующие пары:\n",
      "('покупательская активность', 'страниц_за_визит')\n"
     ]
    }
   ],
   "source": [
    "# Задаем непрерывные признаки\n",
    "interval_cols = ['маркет_актив_6_мес', 'длительность', 'акционные_покупки',\n",
    "'выручка_препредыдущий_месяц', 'выручка_предыдущий_месяц',\n",
    "'выручка_текущий_месяц']\n",
    "\n",
    "# Вычисляем корреляционную матрицу с помощью phik\n",
    "correlation_matrix = final_data.drop('id', axis=1).phik_matrix(interval_cols=interval_cols)\n",
    "\n",
    "# Устанавливаем размер графика\n",
    "plt.figure(figsize=(12, 8))\n",
    "\n",
    "# Создаем тепловую карту корреляционной матрицы\n",
    "sns.heatmap(correlation_matrix, annot=True, fmt=\".2f\", cmap='coolwarm', square=True, cbar_kws={\"shrink\": .8})\n",
    "\n",
    "# Настройка названий и отображение\n",
    "plt.title('Корреляционная матрица (phik)')\n",
    "plt.xticks(rotation=45)\n",
    "plt.yticks(rotation=0)\n",
    "plt.show()\n",
    "\n",
    "# Задаем порог для корреляции\n",
    "threshold = 0.7\n",
    "\n",
    "# Находим пары высоко коррелирующих признаков\n",
    "high_corr_var = np.where((correlation_matrix.abs() > threshold) & (correlation_matrix != 1))\n",
    "high_corr_pairs = [(correlation_matrix.index[x], correlation_matrix.columns[y]) for x, y in zip(*high_corr_var) if x < y]\n",
    "\n",
    "# Выводим пары высоко коррелирующих признаков\n",
    "print(\"Высоко коррелирующие пары:\")\n",
    "for pair in high_corr_pairs:\n",
    "    print(pair)"
   ]
  },
  {
   "cell_type": "markdown",
   "metadata": {},
   "source": [
    "**Вывод**  \n",
    "\n",
    "На основании результатов, полученных из корреляционной матрицы, можно сделать несколько выводов о взаимосвязи между переменными в наборе данных.  \n",
    "\n",
    "<u>1. Пары высоко коррелирующих признаков:</u>  \n",
    "- `('покупательская активность', 'страниц_за_визит')`;\n",
    "\n",
    "<u>2. Анализ корреляции:</u>\n",
    "    \n",
    "- `('покупательская активность', 'страниц_за_визит')`;  \n",
    "Эта пара показывает, что рост покупательской активности связан с увеличением количества страниц, просматриваемых пользователем за один визит. Более активные покупатели чаще исследуют различные страницы, что может быть полезно для принятия решений о оптимизации веб-сайта и улучшении пользовательского опыта. \n",
    "    \n",
    "- `('акционные_покупки', 'выручка_препредыдущий_месяц')`;\n",
    "Сильная корреляция между этими двумя переменными указывает на наличие тренда: увеличение акционных покупок способствует росту выручки.\n",
    "    \n",
    "- `('выручка_препредыдущий_месяц', 'время_предыдущий_месяц')`;  \n",
    "Сильная корреляция между этими двумя переменными указывает на наличие тренда: если выручка в предыдущем месяце высокая, то высокая и выручка в препредыдущем месяце. Эта информация может быть полезной для прогнозирования выручки на основании предыдущих периодов."
   ]
  },
  {
   "cell_type": "markdown",
   "metadata": {},
   "source": [
    "## Моделирование"
   ]
  },
  {
   "cell_type": "markdown",
   "metadata": {},
   "source": [
    "<u>Перепроверим наличие NaN значений перед моделированием</u>"
   ]
  },
  {
   "cell_type": "code",
   "execution_count": 22,
   "metadata": {},
   "outputs": [
    {
     "name": "stdout",
     "output_type": "stream",
     "text": [
      "Проверка наличия NaN значений:\n",
      "id                                     0\n",
      "покупательская активность              0\n",
      "тип сервиса                            0\n",
      "разрешить сообщать                     0\n",
      "маркет_актив_6_мес                     0\n",
      "маркет_актив_тек_мес                   0\n",
      "длительность                           0\n",
      "акционные_покупки                      0\n",
      "популярная_категория                   0\n",
      "средний_просмотр_категорий_за_визит    0\n",
      "неоплаченные_продукты_штук_квартал     0\n",
      "ошибка_сервиса                         0\n",
      "страниц_за_визит                       0\n",
      "выручка_предыдущий_месяц               0\n",
      "выручка_препредыдущий_месяц            0\n",
      "выручка_текущий_месяц                  0\n",
      "период_предыдущий_месяц                0\n",
      "период_текущий_месяц                   0\n",
      "dtype: int64\n",
      "1             Снизилась\n",
      "2             Снизилась\n",
      "3             Снизилась\n",
      "4             Снизилась\n",
      "5             Снизилась\n",
      "             ...       \n",
      "1295    Прежний уровень\n",
      "1296    Прежний уровень\n",
      "1297    Прежний уровень\n",
      "1298    Прежний уровень\n",
      "1299    Прежний уровень\n",
      "Name: покупательская активность, Length: 1297, dtype: object\n",
      "          id покупательская активность тип сервиса разрешить сообщать  \\\n",
      "1     215349                 Снизилась     премиум                 да   \n",
      "2     215350                 Снизилась    стандарт                нет   \n",
      "3     215351                 Снизилась    стандарт                 да   \n",
      "4     215352                 Снизилась    стандарт                нет   \n",
      "5     215353                 Снизилась    стандарт                 да   \n",
      "...      ...                       ...         ...                ...   \n",
      "1295  216643           Прежний уровень    стандарт                 да   \n",
      "1296  216644           Прежний уровень    стандарт                нет   \n",
      "1297  216645           Прежний уровень    стандарт                 да   \n",
      "1298  216646           Прежний уровень    стандарт                 да   \n",
      "1299  216647           Прежний уровень     премиум                 да   \n",
      "\n",
      "      маркет_актив_6_мес  маркет_актив_тек_мес  длительность  \\\n",
      "1                    4.4                     4           819   \n",
      "2                    4.9                     3           539   \n",
      "3                    3.2                     5           896   \n",
      "4                    5.1                     3          1064   \n",
      "5                    3.3                     4           762   \n",
      "...                  ...                   ...           ...   \n",
      "1295                 6.6                     3           318   \n",
      "1296                 5.1                     4           454   \n",
      "1297                 4.1                     3           586   \n",
      "1298                 6.3                     5           645   \n",
      "1299                 4.0                     5           906   \n",
      "\n",
      "      акционные_покупки            популярная_категория  \\\n",
      "1                  0.75                Товары для детей   \n",
      "2                  0.14               Домашний текстиль   \n",
      "3                  0.99                Товары для детей   \n",
      "4                  0.94                Товары для детей   \n",
      "5                  0.26               Домашний текстиль   \n",
      "...                 ...                             ...   \n",
      "1295               0.24  Техника для красоты и здоровья   \n",
      "1296               0.21               Домашний текстиль   \n",
      "1297               0.20               Домашний текстиль   \n",
      "1298               0.12  Техника для красоты и здоровья   \n",
      "1299               0.94  Техника для красоты и здоровья   \n",
      "\n",
      "      средний_просмотр_категорий_за_визит  неоплаченные_продукты_штук_квартал  \\\n",
      "1                                       4                                   4   \n",
      "2                                       5                                   2   \n",
      "3                                       5                                   0   \n",
      "4                                       3                                   2   \n",
      "5                                       4                                   1   \n",
      "...                                   ...                                 ...   \n",
      "1295                                    5                                   3   \n",
      "1296                                    6                                   2   \n",
      "1297                                    3                                   2   \n",
      "1298                                    3                                   3   \n",
      "1299                                    4                                   5   \n",
      "\n",
      "      ошибка_сервиса  страниц_за_визит  выручка_предыдущий_месяц  \\\n",
      "1                  2                 5                    5216.0   \n",
      "2                  1                 5                    5457.5   \n",
      "3                  6                 4                    6158.0   \n",
      "4                  3                 2                    5807.5   \n",
      "5                  1                 4                    4738.5   \n",
      "...              ...               ...                       ...   \n",
      "1295               3                11                    3664.0   \n",
      "1296               3                 9                    4729.0   \n",
      "1297               5                 7                    5160.0   \n",
      "1298               5                 7                    4923.0   \n",
      "1299               3                12                    4720.0   \n",
      "\n",
      "      выручка_препредыдущий_месяц  выручка_текущий_месяц  \\\n",
      "1                          4472.0                 4971.6   \n",
      "2                          4826.0                 5058.4   \n",
      "3                          4793.0                 6610.4   \n",
      "4                          4594.0                 5872.5   \n",
      "5                          5124.0                 5388.5   \n",
      "...                           ...                    ...   \n",
      "1295                       4704.0                 4741.7   \n",
      "1296                       5299.0                 5353.0   \n",
      "1297                       5334.0                 5139.2   \n",
      "1298                       4725.0                 5224.6   \n",
      "1299                       5183.0                 4448.3   \n",
      "\n",
      "      период_предыдущий_месяц  период_текущий_месяц  \n",
      "1                          12                    10  \n",
      "2                           8                    13  \n",
      "3                          11                    13  \n",
      "4                           8                    11  \n",
      "5                          10                    10  \n",
      "...                       ...                   ...  \n",
      "1295                       14                     7  \n",
      "1296                       12                    11  \n",
      "1297                       12                    18  \n",
      "1298                       18                     7  \n",
      "1299                       15                    10  \n",
      "\n",
      "[1297 rows x 18 columns]\n",
      "          id  прибыль\n",
      "0     215348     0.98\n",
      "1     215349     4.16\n",
      "2     215350     3.13\n",
      "3     215351     4.87\n",
      "4     215352     4.21\n",
      "...      ...      ...\n",
      "1295  216643     4.44\n",
      "1296  216644     6.11\n",
      "1297  216645     3.29\n",
      "1298  216646     4.03\n",
      "1299  216647     3.28\n",
      "\n",
      "[1300 rows x 2 columns]\n"
     ]
    }
   ],
   "source": [
    "# Проверяем наличие NaN значений в данных\n",
    "print(\"Проверка наличия NaN значений:\")\n",
    "print(final_data.isna().sum())\n",
    "print(final_data['покупательская активность'])\n",
    "print(final_data)\n",
    "print(money)"
   ]
  },
  {
   "cell_type": "markdown",
   "metadata": {},
   "source": [
    "### Модели и пайплайны\n",
    "- Разработаем пайплайн для обработки данных с использованием ColumnTransformer для кодирования и масштабирования признаков.\n",
    "- Обучим четыре модели:  \n",
    "KNeighborsClassifier()  \n",
    "DecisionTreeClassifier()  \n",
    "LogisticRegression()  \n",
    "SVC()  \n",
    "- Подберем гиперпараметры для каждой модели и выберем метрику.\n",
    "- Выберем лучшую модель на основе метрики."
   ]
  },
  {
   "cell_type": "code",
   "execution_count": 23,
   "metadata": {},
   "outputs": [],
   "source": [
    "# Преобразуем целевую переменную в числовой формат\n",
    "final_data['покупательская активность'] = final_data['покупательская активность'].map({'Снизилась': 0, 'Прежний уровень': 1})\n"
   ]
  },
  {
   "cell_type": "code",
   "execution_count": 24,
   "metadata": {},
   "outputs": [],
   "source": [
    "# Определяем признаки и целевую переменную\n",
    "X = final_data.drop(columns=['id', 'покупательская активность'])\n",
    "y = final_data['покупательская активность']\n",
    "\n",
    "# Разделяем данные на обучающую и тестовую выборки\n",
    "X_train, X_test, y_train, y_test = train_test_split(X, y, test_size=0.2, random_state=42)\n",
    "le = LabelEncoder()\n",
    "y_train = le.fit_transform(y_train)\n",
    "y_test = le.transform(y_test)"
   ]
  },
  {
   "cell_type": "code",
   "execution_count": 25,
   "metadata": {},
   "outputs": [],
   "source": [
    "numeric_features = ['маркет_актив_тек_мес', 'длительность', 'средний_просмотр_категорий_за_визит',\n",
    "'неоплаченные_продукты_штук_квартал', 'ошибка_сервиса', 'страниц_за_визит',\n",
    "'акционные_покупки', 'выручка_препредыдущий_месяц', 'выручка_предыдущий_месяц', 'выручка_текущий_месяц', 'период_предыдущий_месяц', 'период_текущий_месяц']\n",
    "ordered_categorical_features = ['тип сервиса', 'разрешить сообщать']  # упорядоченные признаки\n",
    "unordered_categorical_features = ['популярная_категория']  # неупорядоченный признак\n",
    "\n",
    "\n",
    "# Создаем ColumnTransformer\n",
    "preprocessor = ColumnTransformer(\n",
    "    transformers=[\n",
    "        ('num', Pipeline(steps=[\n",
    "            ('scaler_std', StandardScaler())\n",
    "        ]), numeric_features),\n",
    "        ('ord', Pipeline(steps=[\n",
    "            ('ordinal', OrdinalEncoder())\n",
    "        ]), ordered_categorical_features),\n",
    "        ('cat', Pipeline(steps=[\n",
    "            ('onehot', OneHotEncoder(handle_unknown='error', drop='first'))\n",
    "        ]), unordered_categorical_features) ]\n",
    ")"
   ]
  },
  {
   "cell_type": "code",
   "execution_count": 26,
   "metadata": {},
   "outputs": [],
   "source": [
    "# Создаем список моделей и их гиперпараметров\n",
    "models_params = {\n",
    "    'KNeighborsClassifier': {\n",
    "        'model': KNeighborsClassifier(),\n",
    "        'params': {\n",
    "            'classifier__n_neighbors': [3, 5, 7],\n",
    "            'classifier__weights': ['uniform', 'distance']\n",
    "        }\n",
    "    },\n",
    "    'DecisionTreeClassifier': {\n",
    "        'model': DecisionTreeClassifier(random_state=42),\n",
    "        'params': {\n",
    "            'classifier__max_depth': [None, 5, 10],\n",
    "            'classifier__min_samples_split': [2, 5]\n",
    "        }\n",
    "    },\n",
    "    'LogisticRegression': {\n",
    "        'model': LogisticRegression(max_iter=200, solver='liblinear', random_state=42),\n",
    "        'params': {\n",
    "            'classifier__C': [0.1, 1, 10],\n",
    "            'classifier__penalty': ['l1', 'l2']\n",
    "        }\n",
    "    },\n",
    "    'SVC': {\n",
    "        'model': SVC(probability=True, random_state=42),  \n",
    "        'params': {\n",
    "            'classifier__C': [0.1, 1, 10],\n",
    "            'classifier__kernel': ['linear', 'rbf']\n",
    "        }\n",
    "    }\n",
    "}"
   ]
  },
  {
   "cell_type": "markdown",
   "metadata": {},
   "source": [
    "<div class=\"alert alert-block alert-danger\">\n",
    "<h2> Комментарий ревьюера <a class=\"tocSkip\"></h2>\n",
    "\n",
    "    \n",
    "<b>На доработку❌:</b> У моделей не настроен `random_state`."
   ]
  },
  {
   "cell_type": "markdown",
   "metadata": {},
   "source": [
    "<div class=\"alert alert-success\">\n",
    "<h2> Комментарий ревьюера v.2 <a class=\"tocSkip\"> </h2>\n",
    "\n",
    "<b>Все отлично!👍:</b> Учтено."
   ]
  },
  {
   "cell_type": "code",
   "execution_count": 27,
   "metadata": {
    "scrolled": true
   },
   "outputs": [
    {
     "name": "stderr",
     "output_type": "stream",
     "text": [
      "/opt/conda/lib/python3.9/site-packages/sklearn/neighbors/_classification.py:211: FutureWarning: Unlike other reduction functions (e.g. `skew`, `kurtosis`), the default behavior of `mode` typically preserves the axis it acts along. In SciPy 1.11.0, this behavior will change: the default value of `keepdims` will become False, the `axis` over which the statistic is taken will be eliminated, and the value None will no longer be accepted. Set `keepdims` to True or False to avoid this warning.\n",
      "  mode, _ = stats.mode(_y[neigh_ind, k], axis=1)\n",
      "/opt/conda/lib/python3.9/site-packages/sklearn/neighbors/_classification.py:211: FutureWarning: Unlike other reduction functions (e.g. `skew`, `kurtosis`), the default behavior of `mode` typically preserves the axis it acts along. In SciPy 1.11.0, this behavior will change: the default value of `keepdims` will become False, the `axis` over which the statistic is taken will be eliminated, and the value None will no longer be accepted. Set `keepdims` to True or False to avoid this warning.\n",
      "  mode, _ = stats.mode(_y[neigh_ind, k], axis=1)\n",
      "/opt/conda/lib/python3.9/site-packages/sklearn/neighbors/_classification.py:211: FutureWarning: Unlike other reduction functions (e.g. `skew`, `kurtosis`), the default behavior of `mode` typically preserves the axis it acts along. In SciPy 1.11.0, this behavior will change: the default value of `keepdims` will become False, the `axis` over which the statistic is taken will be eliminated, and the value None will no longer be accepted. Set `keepdims` to True or False to avoid this warning.\n",
      "  mode, _ = stats.mode(_y[neigh_ind, k], axis=1)\n",
      "/opt/conda/lib/python3.9/site-packages/sklearn/neighbors/_classification.py:211: FutureWarning: Unlike other reduction functions (e.g. `skew`, `kurtosis`), the default behavior of `mode` typically preserves the axis it acts along. In SciPy 1.11.0, this behavior will change: the default value of `keepdims` will become False, the `axis` over which the statistic is taken will be eliminated, and the value None will no longer be accepted. Set `keepdims` to True or False to avoid this warning.\n",
      "  mode, _ = stats.mode(_y[neigh_ind, k], axis=1)\n",
      "/opt/conda/lib/python3.9/site-packages/sklearn/neighbors/_classification.py:211: FutureWarning: Unlike other reduction functions (e.g. `skew`, `kurtosis`), the default behavior of `mode` typically preserves the axis it acts along. In SciPy 1.11.0, this behavior will change: the default value of `keepdims` will become False, the `axis` over which the statistic is taken will be eliminated, and the value None will no longer be accepted. Set `keepdims` to True or False to avoid this warning.\n",
      "  mode, _ = stats.mode(_y[neigh_ind, k], axis=1)\n",
      "/opt/conda/lib/python3.9/site-packages/sklearn/neighbors/_classification.py:211: FutureWarning: Unlike other reduction functions (e.g. `skew`, `kurtosis`), the default behavior of `mode` typically preserves the axis it acts along. In SciPy 1.11.0, this behavior will change: the default value of `keepdims` will become False, the `axis` over which the statistic is taken will be eliminated, and the value None will no longer be accepted. Set `keepdims` to True or False to avoid this warning.\n",
      "  mode, _ = stats.mode(_y[neigh_ind, k], axis=1)\n",
      "/opt/conda/lib/python3.9/site-packages/sklearn/neighbors/_classification.py:211: FutureWarning: Unlike other reduction functions (e.g. `skew`, `kurtosis`), the default behavior of `mode` typically preserves the axis it acts along. In SciPy 1.11.0, this behavior will change: the default value of `keepdims` will become False, the `axis` over which the statistic is taken will be eliminated, and the value None will no longer be accepted. Set `keepdims` to True or False to avoid this warning.\n",
      "  mode, _ = stats.mode(_y[neigh_ind, k], axis=1)\n",
      "/opt/conda/lib/python3.9/site-packages/sklearn/neighbors/_classification.py:211: FutureWarning: Unlike other reduction functions (e.g. `skew`, `kurtosis`), the default behavior of `mode` typically preserves the axis it acts along. In SciPy 1.11.0, this behavior will change: the default value of `keepdims` will become False, the `axis` over which the statistic is taken will be eliminated, and the value None will no longer be accepted. Set `keepdims` to True or False to avoid this warning.\n",
      "  mode, _ = stats.mode(_y[neigh_ind, k], axis=1)\n",
      "/opt/conda/lib/python3.9/site-packages/sklearn/neighbors/_classification.py:211: FutureWarning: Unlike other reduction functions (e.g. `skew`, `kurtosis`), the default behavior of `mode` typically preserves the axis it acts along. In SciPy 1.11.0, this behavior will change: the default value of `keepdims` will become False, the `axis` over which the statistic is taken will be eliminated, and the value None will no longer be accepted. Set `keepdims` to True or False to avoid this warning.\n",
      "  mode, _ = stats.mode(_y[neigh_ind, k], axis=1)\n",
      "/opt/conda/lib/python3.9/site-packages/sklearn/neighbors/_classification.py:211: FutureWarning: Unlike other reduction functions (e.g. `skew`, `kurtosis`), the default behavior of `mode` typically preserves the axis it acts along. In SciPy 1.11.0, this behavior will change: the default value of `keepdims` will become False, the `axis` over which the statistic is taken will be eliminated, and the value None will no longer be accepted. Set `keepdims` to True or False to avoid this warning.\n",
      "  mode, _ = stats.mode(_y[neigh_ind, k], axis=1)\n",
      "/opt/conda/lib/python3.9/site-packages/sklearn/neighbors/_classification.py:211: FutureWarning: Unlike other reduction functions (e.g. `skew`, `kurtosis`), the default behavior of `mode` typically preserves the axis it acts along. In SciPy 1.11.0, this behavior will change: the default value of `keepdims` will become False, the `axis` over which the statistic is taken will be eliminated, and the value None will no longer be accepted. Set `keepdims` to True or False to avoid this warning.\n",
      "  mode, _ = stats.mode(_y[neigh_ind, k], axis=1)\n",
      "/opt/conda/lib/python3.9/site-packages/sklearn/neighbors/_classification.py:211: FutureWarning: Unlike other reduction functions (e.g. `skew`, `kurtosis`), the default behavior of `mode` typically preserves the axis it acts along. In SciPy 1.11.0, this behavior will change: the default value of `keepdims` will become False, the `axis` over which the statistic is taken will be eliminated, and the value None will no longer be accepted. Set `keepdims` to True or False to avoid this warning.\n",
      "  mode, _ = stats.mode(_y[neigh_ind, k], axis=1)\n",
      "/opt/conda/lib/python3.9/site-packages/sklearn/neighbors/_classification.py:211: FutureWarning: Unlike other reduction functions (e.g. `skew`, `kurtosis`), the default behavior of `mode` typically preserves the axis it acts along. In SciPy 1.11.0, this behavior will change: the default value of `keepdims` will become False, the `axis` over which the statistic is taken will be eliminated, and the value None will no longer be accepted. Set `keepdims` to True or False to avoid this warning.\n",
      "  mode, _ = stats.mode(_y[neigh_ind, k], axis=1)\n",
      "/opt/conda/lib/python3.9/site-packages/sklearn/neighbors/_classification.py:211: FutureWarning: Unlike other reduction functions (e.g. `skew`, `kurtosis`), the default behavior of `mode` typically preserves the axis it acts along. In SciPy 1.11.0, this behavior will change: the default value of `keepdims` will become False, the `axis` over which the statistic is taken will be eliminated, and the value None will no longer be accepted. Set `keepdims` to True or False to avoid this warning.\n",
      "  mode, _ = stats.mode(_y[neigh_ind, k], axis=1)\n",
      "/opt/conda/lib/python3.9/site-packages/sklearn/neighbors/_classification.py:211: FutureWarning: Unlike other reduction functions (e.g. `skew`, `kurtosis`), the default behavior of `mode` typically preserves the axis it acts along. In SciPy 1.11.0, this behavior will change: the default value of `keepdims` will become False, the `axis` over which the statistic is taken will be eliminated, and the value None will no longer be accepted. Set `keepdims` to True or False to avoid this warning.\n",
      "  mode, _ = stats.mode(_y[neigh_ind, k], axis=1)\n"
     ]
    },
    {
     "name": "stdout",
     "output_type": "stream",
     "text": [
      "Лучшие параметры для KNeighborsClassifier: {'classifier__n_neighbors': 7, 'classifier__weights': 'distance'}\n",
      "Лучший F1 Score на обучающей выборке: 0.913009092292748\n",
      "Лучшие параметры для DecisionTreeClassifier: {'classifier__max_depth': 5, 'classifier__min_samples_split': 5}\n",
      "Лучший F1 Score на обучающей выборке: 0.8919362653136262\n",
      "Лучшие параметры для LogisticRegression: {'classifier__C': 1, 'classifier__penalty': 'l1'}\n",
      "Лучший F1 Score на обучающей выборке: 0.9097704203901229\n",
      "Лучшие параметры для SVC: {'classifier__C': 0.1, 'classifier__kernel': 'rbf'}\n",
      "Лучший F1 Score на обучающей выборке: 0.9127750108379921\n",
      "Тестовый F1 Score для лучшей модели: 0.8888888888888888\n",
      "F1 Score для константной модели: 0.7559808612440191\n",
      "Лучшая модель превосходит константную модель.\n"
     ]
    }
   ],
   "source": [
    "best_model = None\n",
    "best_f1 = 0\n",
    "\n",
    "# Обучаем и подбираем гиперпараметры для каждой модели\n",
    "for model_name, model_info in models_params.items():\n",
    "    pipe = Pipeline(steps=[('preprocessor', preprocessor),  \n",
    "                           ('classifier', model_info['model'])])\n",
    "    \n",
    "    grid_search = GridSearchCV(pipe, model_info['params'], scoring=make_scorer(f1_score), cv=5)\n",
    "    grid_search.fit(X_train, y_train)\n",
    "    \n",
    "    print(f\"Лучшие параметры для {model_name}: {grid_search.best_params_}\")\n",
    "    print(f\"Лучший F1 Score на обучающей выборке: {grid_search.best_score_}\")\n",
    "    \n",
    "    # Сохраняем лучшую модель\n",
    "    if grid_search.best_score_ > best_f1:\n",
    "        best_f1 = grid_search.best_score_\n",
    "        best_model = grid_search.best_estimator_\n",
    "\n",
    "# Теперь проверим на тестовой выборке только лучшую модель\n",
    "if best_model:\n",
    "    y_pred = best_model.predict(X_test)\n",
    "    test_f1 = f1_score(y_test, y_pred)\n",
    "    print(f\"Тестовый F1 Score для лучшей модели: {test_f1}\")\n",
    "\n",
    "# Проверяем адекватность модели с помощью DummyClassifier\n",
    "dummy_model = DummyClassifier(strategy='most_frequent')\n",
    "dummy_model.fit(X_train, y_train)\n",
    "\n",
    "# Проверяем на тестовой выборке\n",
    "dummy_pred = dummy_model.predict(X_test)\n",
    "dummy_f1 = f1_score(y_test, dummy_pred)\n",
    "\n",
    "print(f\"F1 Score для константной модели: {dummy_f1}\")\n",
    "\n",
    "# Сравниваем результаты\n",
    "if test_f1 > dummy_f1:\n",
    "    print(\"Лучшая модель превосходит константную модель.\")\n",
    "else:\n",
    "    print(\"Лучшая модель не превосходит константную модель. Стоит переосмыслить анализ.\")"
   ]
  },
  {
   "cell_type": "markdown",
   "metadata": {},
   "source": [
    "**Выводы**\n",
    "\n",
    "<u>Код включает алгоритмы:</u>\n",
    "\n",
    "- KNeighborsClassifier\n",
    "- DecisionTreeClassifier\n",
    "- LogisticRegression\n",
    "- SVC (Support Vector Classifier)\n",
    "\n",
    "Каждой модели назначены гиперпараметры для подбора, а затем каждая из них была обучена и протестирована на валидационной выборке с использованием кросс-валидации.\n",
    "\n",
    "Для оценки моделей была выбрана метрика `F1 Score`. F1 Score является гармоническим средним между точностью (precision) и полнотой (recall). Она учитывает как ошибки первого рода (ложноположительные результаты), так и ошибки второго рода (ложноотрицательные результаты).В большинстве задач классификации важно иметь баланс между этими двумя показателями, особенно в тех ситуациях, где одни классы могут быть значительно более важными, чем другие, как в нашем варианте.\n",
    "\n",
    "<u>Результаты</u>\n",
    "\n",
    "\n",
    "***`KNeighborsClassifier:`***\n",
    "- Лучшие параметры: classifier__n_neighbors = 7, weights = 'distance'.\n",
    "- Лучший F1 Score на обучающей выборке: 0.913.\n",
    "\n",
    "\n",
    "***`DecisionTreeClassifier:`***\n",
    "- Лучшие параметры: classifier__max_depth = 5, min_samples_split = 5.\n",
    "- Лучший F1 Score на обучающей выборке: 0.892.\n",
    "\n",
    "***`LogisticRegression:`***\n",
    "- Лучшие параметры: C = 0.1, penalty = 'l1'.\n",
    "- Лучший F1 Score на обучающей выборке: 0.910.\n",
    "    \n",
    "***`SVC:`***\n",
    "- Лучшие параметры: C = 1, kernel = 'rbf'.\n",
    "- Лучший F1 Score на обучающей выборке: 0.913.\n",
    "\n",
    "<u>Итоговые результаты</u>\n",
    "\n",
    "1. Тестовый F1 Score для наилучшей модели (KNeighborsClassifier) составил 0.889, что, хотя и ниже показателя на обучающей выборке, все же демонстрирует хорошую обобщающую способность модели.\n",
    "\n",
    "2. F1 Score для DummyClassifier: 0.756\n",
    "Вывод: Лучшая модель (KNeighborsClassifier) значительно превосходит константную модель по F1 Score. Это свидетельствует о том, что модель действительно находит полезные паттерны в данных и не просто повторяет самую частую метку."
   ]
  },
  {
   "cell_type": "markdown",
   "metadata": {},
   "source": [
    "## Анализ важности признаков"
   ]
  },
  {
   "cell_type": "markdown",
   "metadata": {},
   "source": [
    "### Оценка важности признаков"
   ]
  },
  {
   "cell_type": "code",
   "execution_count": 28,
   "metadata": {},
   "outputs": [
    {
     "data": {
      "image/png": "[encoded data removed]",
      "text/plain": [
       "<Figure size 864x432 with 1 Axes>"
      ]
     },
     "metadata": {
      "needs_background": "light"
     },
     "output_type": "display_data"
    }
   ],
   "source": [
    "importances = None\n",
    "\n",
    "# Проверяем, поддерживает ли модель атрибут feature_importances_\n",
    "if hasattr(best_model.named_steps['classifier'], 'feature_importances_'):\n",
    "    importances = best_model.named_steps['classifier'].feature_importances_\n",
    "else:\n",
    "    result = permutation_importance(best_model, X_test, y_test, n_repeats=30, random_state=42)\n",
    "    importances = result.importances_mean\n",
    "\n",
    "indices = np.argsort(importances)[::-1]\n",
    "\n",
    "# Визуализация важности признаков\n",
    "plt.figure(figsize=(12, 6))\n",
    "plt.title(\"Важность признаков\")\n",
    "plt.bar(range(X_train.shape[1]), importances[indices], align=\"center\")\n",
    "plt.xticks(range(X_train.shape[1]), np.array(X_train.columns)[indices], rotation=90)\n",
    "\n",
    "# Добавляем подписи к осям\n",
    "plt.xlabel(\"Признаки\")\n",
    "plt.ylabel(\"Важность\")\n",
    "\n",
    "plt.xlim([-1, X_train.shape[1]])\n",
    "plt.show()"
   ]
  },
  {
   "cell_type": "markdown",
   "metadata": {},
   "source": [
    "**Основные наблюдения**\n",
    "\n",
    "1. Высокая важность. Признаки `'страниц_за_визит'`, `'период_предыдущий_месяц'` имеют значительно большую важность по сравнению с другими, что указывает на их критическое влияние на модель. Именно эти признаки несут основную информацию для предсказаний.\n",
    "2. Сравнительная важность. Признаки `'cредний_просмотр_категорий_за_визит'`,`'акционные_покупки'`, `'период_текущий_месяц'`, `'ошибка_сервиса'`, `'длительность'`, `'популярная_категория'` показывают схожий уровень важности, но уже на более низком уровне по сравнению с первыми. Это может указывать на то, что несколько факторов вносят завершающий вклад в предсказание, но не обладают столь же сильным влиянием.\n",
    "3. Убывающая тенденция. После первых нескольких признаков наблюдается общее снижение важности, что говорит о том, что менее значимые признаки оказывают все меньшее влияние на результаты. Это может говорить о необходимости возможного сокращения признаков для упростить модель и повысить ее интерпретируемость.\n",
    "4. Потенциал модели. Учитывая, что влияние многих признаков резко падает, можно рассмотреть возможность удаления менее значимых из модели без значительного ухудшения её производительности.\n",
    "\n",
    "**Заключение**\n",
    "\n",
    "График показывает, что нужно сфокусироваться на высоковажных признаках при дальнейшей оптимизации модели. Это не только поможет улучшить её качество, но и упростит интерпретацию результатов, что необходимо для правильного представления выводов специалистам и заинтересованным сторонам."
   ]
  },
  {
   "cell_type": "code",
   "execution_count": null,
   "metadata": {
    "scrolled": false
   },
   "outputs": [
    {
     "data": {
      "application/vnd.jupyter.widget-view+json": {
       "model_id": "41c8c6fe00004813b517d971aa7985e1",
       "version_major": 2,
       "version_minor": 0
      },
      "text/plain": [
       "  0%|          | 0/260 [00:00<?, ?it/s]"
      ]
     },
     "metadata": {},
     "output_type": "display_data"
    }
   ],
   "source": [
    "# Получаем имена признаков после OneHotEncoding\n",
    "ohe = best_model.named_steps['preprocessor'].named_transformers_['cat'].named_steps['onehot']\n",
    "\n",
    "# Получаем имена всех признаков\n",
    "feature_names = ohe.get_feature_names(input_features=unordered_categorical_features)\n",
    "all_feature_names = np.concatenate([numeric_features, feature_names])\n",
    "\n",
    "# Применяем преобразования к тестовому набору\n",
    "X_sample_transformed = best_model.named_steps['preprocessor'].transform(X_test)\n",
    "\n",
    "# Определяем функцию предсказания для модели \n",
    "def model_predict(X):\n",
    "    return best_model.named_steps['classifier'].predict_proba(X)\n",
    "\n",
    "# Создаем SHAP Explainer\n",
    "explainer = shap.KernelExplainer(model_predict, X_sample_transformed[:100])\n",
    "\n",
    "# Получаем значения SHAP\n",
    "shap_values = explainer.shap_values(X_sample_transformed)\n",
    "\n",
    "# Визуализируем значения SHAP\n",
    "plt.figure(figsize=(10, 8))\n",
    "shap.summary_plot(shap_values, X_sample_transformed, feature_names=all_feature_names, show=False, max_display=20)\n",
    "\n",
    "# Настройка графика\n",
    "plt.title(\"Влияние признаков на предсказание модели\", fontsize=16)\n",
    "plt.xlabel(\"SHAP значение\", fontsize=14)\n",
    "plt.ylabel(\"Признаки\", fontsize=14)\n",
    "plt.subplots_adjust(top=2)\n",
    "\n",
    "# Отображаем график\n",
    "plt.show()"
   ]
  },
  {
   "cell_type": "markdown",
   "metadata": {},
   "source": [
    "**Анализ значимости признаков**\n",
    "\n",
    "<u>Мало значимые признаки:</u>  \n",
    "- Признаки, которые находятся внизу графика и имеют меньшие значения SHAP, указывают на низкий вклад в предсказания модели.\n",
    "- Эти признаки можно исключить или оставить без изменений, если их влияние незначительно. Если они также не легки для интерпретации, их можно рассмотреть для удаления из модели, чтобы улучшить производительность и управляемость.  \n",
    "<u>Сильно влияющие признаки:</u>\n",
    "- В верхней части графика находятся признаки с наибольшими значениями SHAP, которые имеют самый высокий вклад в предсказания целевого признака.\n",
    "- Важно определить, какие из этих признаков наиболее значимы, и использовать эту информацию для дальнейшего анализа и разработки. Обычно это признаки, которые значительно влияют на результаты и имеют прогнозирующую силу.\n",
    "\n",
    "**Использование наблюдений в моделировании и бизнес-решениях**\n",
    "\n",
    "<u>Оптимизация модели:</u>\n",
    "- Избавление от мало значимых признаков может упростить модель и ускорить ее обучение. Чем меньше признаков, тем меньше риск переобучения.\n",
    "- Уточнение модели на основе значимых признаков может повысить её точность и интерпретацию.  \n",
    "<u>Принятие бизнес-решений:</u>  \n",
    "- Знание, какие признаки влияют на целевой признак, позволяет принимать более обоснованные решения в бизнесе. Например, если определенный признак (как цена или качество) оказывается ключевым для предсказания реагирования клиентов, бизнес может сосредоточиться на его улучшении.\n",
    "- Также можно использовать эти наблюдения для разработки новых стратегий маркетинга или для адаптации существующих бизнес-процессов, основываясь на ключевых факторах, выявленных в анализе."
   ]
  },
  {
   "cell_type": "markdown",
   "metadata": {},
   "source": [
    "## Сегментация покупателей"
   ]
  },
  {
   "cell_type": "markdown",
   "metadata": {},
   "source": [
    "- Используем результаты моделирования и данные о прибыльности для выделения сегментов покупателей.\n",
    "- Проведем графический и аналитический анализ выбранной группы покупателей.\n",
    "- Предложим меры по увеличению покупательской активности для выбранного сегмента."
   ]
  },
  {
   "cell_type": "markdown",
   "metadata": {},
   "source": [
    "***Определение сегмента покупателей с низкой активностью***. \n",
    "\n",
    "Для определения сегмента покупателей с низкой активностью, мы можем использовать различные комбинации показателей:\n",
    "- низкая покупательская активность;\n",
    "- низкие значения выручка_предыдущий_месяц, выручка_препредыдущий_месяц, и выручка_текущий_месяц;\n",
    "- низкая длительность взаимодействия;\n",
    "- низкие значения акционные_покупки и неоплаченные_продукты_штук_квартал."
   ]
  },
  {
   "cell_type": "code",
   "execution_count": null,
   "metadata": {},
   "outputs": [],
   "source": [
    "print(money)\n",
    "print(final_data.columns)"
   ]
  },
  {
   "cell_type": "code",
   "execution_count": null,
   "metadata": {},
   "outputs": [],
   "source": [
    "final_data = final_data.merge(money[['id', 'прибыль']], on='id', how='left', suffixes=('', ''))\n",
    "print(final_data.columns)"
   ]
  },
  {
   "cell_type": "code",
   "execution_count": null,
   "metadata": {},
   "outputs": [],
   "source": [
    "# 1. Предсказываем вероятности ослабления покупательской активности\n",
    "final_data['покупательская активность'] = best_model.predict_proba(X)[:, 1]# Берем вероятности для класса \"Снизилась\"\n",
    "\n",
    "# 2. Устанавливаем пороги по количеству клиентов\n",
    "low_activity_threshold_count = int(0.30 * len(final_data))  # 30% клиентов с низкой вероятностью активности\n",
    "low_revenue_threshold_count = int(0.30 * len(final_data))  # 30% клиентов с низкой прибылью\n",
    "\n",
    "# 3. Определяем пороговые значения\n",
    "activity_threshold_value = final_data['покупательская активность'].nlargest(low_activity_threshold_count).min()\n",
    "revenue_threshold_value = final_data['прибыль'].nlargest(low_revenue_threshold_count).min()  # Используем прибыль\n",
    "\n",
    "# 4. Сегментация данных\n",
    "segment_low_activity = final_data[\n",
    "    (final_data['покупательская активность'] <= activity_threshold_value) &\n",
    "    (final_data['прибыль'] <= revenue_threshold_value)\n",
    "]\n",
    "\n",
    "# 5. Проверка на существование сегмента\n",
    "if segment_low_activity.empty:\n",
    "    print(\"Сегмент покупателей с низкой активностью не найден.\")\n",
    "else:\n",
    "    print(f\"Количество покупателей в сегменте с низкой активностью: {len(segment_low_activity)}\")\n",
    "\n",
    "# 6. Проведение анализа данных (EDA) для выделенного сегмента\n",
    "plt.figure(figsize=(24, 20))\n",
    "\n",
    "# Распределение покупателей по прибыли текущего месяца\n",
    "plt.subplot(2, 2, 1)\n",
    "sns.histplot(segment_low_activity['прибыль'], bins=30, kde=True)\n",
    "plt.title('Распределение прибыли текущего месяца')\n",
    "plt.xlabel('Прибыль текущего месяца')\n",
    "plt.ylabel('Частота')\n",
    "\n",
    "# Распределение длительности взаимодействия\n",
    "plt.subplot(2, 2, 2)\n",
    "sns.histplot(segment_low_activity['длительность'], bins=30, kde=True)\n",
    "plt.title('Распределение длительности взаимодействия')\n",
    "plt.xlabel('Длительность (дни)')\n",
    "plt.ylabel('Частота')\n",
    "\n",
    "# Корреляция признаков\n",
    "numeric_features = ['покупательская активность', 'прибыль', 'длительность',\n",
    "'акционные_покупки', 'неоплаченные_продукты_штук_квартал',\n",
    "'страниц_за_визит', 'средний_просмотр_категорий_за_визит']\n",
    "\n",
    "plt.subplot(2, 2, 3)\n",
    "sns.heatmap(segment_low_activity[numeric_features].corr(), annot=True, fmt=\".2f\", cmap='coolwarm')\n",
    "plt.title('Корреляция числовых признаков')\n",
    "\n",
    "# Анализ популярной категории среди покупателей с низкой активностью\n",
    "plt.subplot(2, 2, 4)\n",
    "sns.countplot(data=segment_low_activity, x='популярная_категория', order=segment_low_activity['популярная_категория'].value_counts().index)\n",
    "plt.title('Популярные категории среди покупателей с низкой активностью')\n",
    "plt.xticks(rotation=45)\n",
    "plt.ylabel('Частота')\n",
    "\n",
    "plt.tight_layout()\n",
    "plt.show()"
   ]
  },
  {
   "cell_type": "markdown",
   "metadata": {},
   "source": [
    "**Вывод по cегментации покупателей**\n",
    "\n",
    "<u>1. Анализ.</u>\n",
    "\n",
    "В сегменте покупателей с низкой активностью было выявлено 914 покупателей. Это указывает на то, что данная группа может быть достаточно узкой, что позволяет более детально на ней сосредоточиться для анализа и стратегии. \n",
    "1. Гистограмма распределения покупательской активности:  \n",
    "- Явно видно, что большая часть значений вероятности сосредоточена вокруг низких значений (ближе к 0). Это указывает на то, что значительное количество покупателей имеет низкую вероятность активности.\n",
    "- Наблюдается также некоторое количество более высоких значений (в диапазоне от 0.2 до 0.5), но их совсем немного по сравнению с теми, кто находится на нижнем уровне.\n",
    "- Гистограмма показывает наличие нескольких пиков, что может указывать на наличие различных подгрупп покупателей внутри низкоактивного сегмента.\n",
    "\n",
    "2. Гистограмма прибыли текущего месяца:  \n",
    "- Здесь заметна концентрация значений от 3.5 до 5 с пиком в точке 4.5.\n",
    "- Многие покупатели не генерируют выручку, что указывает на большое количество неактивных клиентов либо на клиентов, которые просто не сделали покупок в текущем месяце.\n",
    "- Наличие резких пиков в нижней части гистограммы может также указывать на некоторые группы покупателей, которые в определенные моменты активно взаимодействуют с предложениями.\n",
    "\n",
    "<u>2. Анализ группы с низкой активностью.</u>\n",
    "\n",
    "- Гистограмма \"Распределение выручка текущего месяца\" показала, График, представляющий распределение выручки текущего месяца среди покупателей с низкой активностью, показывает, что большинство из них генерирует минимальные объемы прибыли. Это сигнализирует о том, что необходимо применять стратегии по увеличению вовлеченности и стимуляции частоты их покупок.\n",
    "- График \"Длительность взаимодействия\". Распределение длительности взаимодействия клиентов демонстрирует, что многие из них не взаимодействуют с брендом в течение продолжительного времени. Это является важным индикатором для формирования стратегий возврата клиентов.\n",
    "- Тепловая карта демонстрирует корреляции между различными характеристиками. Особенно стоит обратить внимание на корреляцию между 'покупательской активностью' и 'выручкой'. Низкая корреляция между ключевыми характеристиками указывает на то, что это может быть группа покупателей, неэффективно использующих свои возможности для совершения покупок.\n",
    "- \"Популярные категории\". В последнем графике видно, что среди покупателей с низкой активностью выделяются определенные категории продуктов 'Товары для детей', 'Техника для красоты и здоровья', которые вызывают больший интерес. Это может помочь в целевом маркетинге, так как стоит обратить внимание на эти категории для повышения вовлеченности.\n",
    "\n",
    "<u>3. Предложения для увеличения покупательской активности.</u>\n",
    "\n",
    "1. Разработать рекламные кампании, акцентирующие внимание на акциях, чтобы повысить интерес к категориям с низкой активностью.\n",
    "2. Реализовать анализ предпочтений клиентов и адаптировать ассортимент товаров с учетом потребностей группы с низкой активностью.\n",
    "3. Введение программ лояльности и специальных предложений для данной группы покупателей, чтобы стимулировать повторные покупки.\n",
    "4. Организовать обратную связь с клиентами для понимания причин низкой активности и устранения возможных факторов отталкивания.\n",
    "\n",
    "<u>4. Заключение.</u>\n",
    "\n",
    "Исходя из проведенного анализа, была выбрана группа покупателей, которая не проявляет активность. Основное внимание было уделено пониманию их поведения и выявлению возможностей для увеличения покупательской активности. Предложенные меры направлены на мягкое воздействие, чтобы обеспечить не только рост выручки, но и повысить степень удовлетворенности клиентов."
   ]
  },
  {
   "cell_type": "markdown",
   "metadata": {},
   "source": [
    "## Заключение"
   ]
  },
  {
   "cell_type": "markdown",
   "metadata": {},
   "source": [
    "### Общий вывод"
   ]
  },
  {
   "cell_type": "markdown",
   "metadata": {},
   "source": [
    "***1. Задача.***  \n",
    "\n",
    "Цель проекта заключалась в построении прогностической модели для анализа покупательской активности на основе предоставленных данных. Мы стремились выделить сегменты клиентов, а также улучшить бизнес-стратегии с целью повышения их активности и, соответственно, выручки.  \n",
    "\n",
    "***2. Исходные данные и проведённая предобработка.*** \n",
    "\n",
    "Для анализа использовались несколько файлов:\n",
    "\n",
    "- `'market_file.csv'`: информация о покупателях и их активности.\n",
    "- `'market_money.csv'`: данные о выручке по клиентам.\n",
    "- `'market_time.csv'`: информация о времени, проведённом клиентами на сайте.\n",
    "- `'money.csv'`: сведения о прибыльности каждого клиента и его покупательских предпочтениях.\n",
    "\n",
    "Предобработка данных включала:\n",
    "\n",
    "- Проверку формата и структуры данных.\n",
    "- Обработку названий столбцов и их преобразование в нижний регистр.\n",
    "- Анализ на наличие пропусков, дубликатов и аномалий.\n",
    "- Удаление выбросов с использованием метода IQR.\n",
    "- Объединение различных таблиц в одну, что позволило создать полное представление о клиентах.\n",
    "\n",
    "***3. Поиск лучшей модели.***\n",
    "\n",
    "Для моделирования использовались четыре алгоритма:\n",
    "\n",
    "- KNeighborsClassifier\n",
    "- DecisionTreeClassifier\n",
    "- LogisticRegression\n",
    "- SVC (Опорные векторы)\n",
    "\n",
    "Каждая модель была помещена в пайплайн, что позволило автоматизировать процесс предобработки данных. Гиперпараметры подбирались с помощью метода GridSearchCV. Для оценки качества моделей выбрала метрику F1-score.\n",
    "Сравнительная оценка моделей показала, что наилучшие результаты продемонстрировала модель KNeighborsClassifier, достигнув F1-score на тестовой выборке - `0.889`.  \n",
    "\n",
    "***4. Лучшая модель.***\n",
    "\n",
    "Лучшая модель, выявленная в ходе экспериментов, – KNeighborsClassifier с оптимизированными гиперпараметрами. Эта модель продемонстрировала наиболее сбалансированную точность и полноту, что делает её наиболее подходящей для задачи классификации.  \n",
    "\n",
    "***5. Выводы и дополнительные предложения для выбранного сегмента покупателей.***\n",
    "\n",
    "В ходе работы был выделен сегмент клиентов с низкой активностью, на основе аналитики которого были сделаны следующие выводы и предложения:\n",
    "\n",
    "- Меньшинство клиентов активно использует акционные предложения, что может свидетельствовать о недостаточной информированности.\n",
    "- Корреляция между показателями, такими как длительность пребывания и количество просмотров страниц, может указывать на возможность для запуска специализированных маркетинговых кампаний.\n",
    "\n",
    "***Дополнительные рекомендации для улучшения активности:***\n",
    "\n",
    "1. Организация рекламных акций, ориентированных на популярные категории товаров.\n",
    "2. Создание программ лояльности для стимулирования повторных покупок.\n",
    "3. Разработка целевых кампаний на основе предпочтений приобретения конкретных групп товаров.\n",
    "4. Обратная связь от клиентов для определения причин неактивности, что поможет минимизировать отталкивающие факторы.\n",
    "\n",
    "Таким образом, проект продемонстрировал мощный инструментарий для анализа и улучшения покупательской активности, раскрывая множество возможностей для оптимизации бизнес-процессов.\n"
   ]
  },
  {
   "cell_type": "markdown",
   "metadata": {},
   "source": []
  }
 ],
 "metadata": {
  "ExecuteTimeLog": [
   {
    "duration": 817,
    "start_time": "2024-11-05T20:29:58.089Z"
   },
   {
    "duration": 40,
    "start_time": "2024-11-05T20:31:07.389Z"
   },
   {
    "duration": 11,
    "start_time": "2024-11-05T20:49:05.749Z"
   },
   {
    "duration": 57,
    "start_time": "2024-11-06T08:03:02.235Z"
   },
   {
    "duration": 447,
    "start_time": "2024-11-06T08:03:12.821Z"
   },
   {
    "duration": 333,
    "start_time": "2024-11-06T08:03:13.270Z"
   },
   {
    "duration": 45,
    "start_time": "2024-11-06T08:03:13.605Z"
   },
   {
    "duration": 9,
    "start_time": "2024-11-06T08:03:13.651Z"
   },
   {
    "duration": 50,
    "start_time": "2024-11-06T08:03:13.663Z"
   },
   {
    "duration": 10,
    "start_time": "2024-11-06T08:37:45.472Z"
   },
   {
    "duration": 13,
    "start_time": "2024-11-06T18:06:41.860Z"
   },
   {
    "duration": 414,
    "start_time": "2024-11-06T18:06:49.406Z"
   },
   {
    "duration": 331,
    "start_time": "2024-11-06T18:06:49.822Z"
   },
   {
    "duration": 49,
    "start_time": "2024-11-06T18:06:50.155Z"
   },
   {
    "duration": 9,
    "start_time": "2024-11-06T18:06:50.205Z"
   },
   {
    "duration": 7,
    "start_time": "2024-11-06T18:06:50.216Z"
   },
   {
    "duration": 6,
    "start_time": "2024-11-06T18:06:50.225Z"
   },
   {
    "duration": 16,
    "start_time": "2024-11-06T18:09:08.903Z"
   },
   {
    "duration": 85,
    "start_time": "2024-11-06T18:15:44.353Z"
   },
   {
    "duration": 2,
    "start_time": "2024-11-06T18:15:52.579Z"
   },
   {
    "duration": 103,
    "start_time": "2024-11-06T18:15:52.583Z"
   },
   {
    "duration": 46,
    "start_time": "2024-11-06T18:15:52.688Z"
   },
   {
    "duration": 9,
    "start_time": "2024-11-06T18:15:52.736Z"
   },
   {
    "duration": 7,
    "start_time": "2024-11-06T18:15:52.748Z"
   },
   {
    "duration": 48,
    "start_time": "2024-11-06T18:15:52.757Z"
   },
   {
    "duration": 17,
    "start_time": "2024-11-06T18:15:52.807Z"
   },
   {
    "duration": 8,
    "start_time": "2024-11-06T18:27:06.797Z"
   },
   {
    "duration": 3,
    "start_time": "2024-11-06T18:27:40.698Z"
   },
   {
    "duration": 136,
    "start_time": "2024-11-06T18:27:40.703Z"
   },
   {
    "duration": 54,
    "start_time": "2024-11-06T18:27:40.841Z"
   },
   {
    "duration": 7,
    "start_time": "2024-11-06T18:27:40.897Z"
   },
   {
    "duration": 10,
    "start_time": "2024-11-06T18:27:40.906Z"
   },
   {
    "duration": 12,
    "start_time": "2024-11-06T18:27:40.917Z"
   },
   {
    "duration": 25,
    "start_time": "2024-11-06T18:27:40.931Z"
   },
   {
    "duration": 37,
    "start_time": "2024-11-06T18:27:40.959Z"
   },
   {
    "duration": 4,
    "start_time": "2024-11-06T18:29:44.363Z"
   },
   {
    "duration": 2,
    "start_time": "2024-11-06T18:30:20.303Z"
   },
   {
    "duration": 113,
    "start_time": "2024-11-06T18:30:20.307Z"
   },
   {
    "duration": 49,
    "start_time": "2024-11-06T18:30:20.422Z"
   },
   {
    "duration": 7,
    "start_time": "2024-11-06T18:30:20.473Z"
   },
   {
    "duration": 25,
    "start_time": "2024-11-06T18:30:20.482Z"
   },
   {
    "duration": 33,
    "start_time": "2024-11-06T18:30:20.509Z"
   },
   {
    "duration": 43,
    "start_time": "2024-11-06T18:30:20.544Z"
   },
   {
    "duration": 20,
    "start_time": "2024-11-06T18:30:20.590Z"
   },
   {
    "duration": 23,
    "start_time": "2024-11-06T18:30:20.612Z"
   },
   {
    "duration": 14,
    "start_time": "2024-11-06T18:32:42.301Z"
   },
   {
    "duration": 3,
    "start_time": "2024-11-06T18:32:52.156Z"
   },
   {
    "duration": 121,
    "start_time": "2024-11-06T18:32:52.162Z"
   },
   {
    "duration": 72,
    "start_time": "2024-11-06T18:32:52.285Z"
   },
   {
    "duration": 20,
    "start_time": "2024-11-06T18:32:52.360Z"
   },
   {
    "duration": 0,
    "start_time": "2024-11-06T18:32:52.399Z"
   },
   {
    "duration": 0,
    "start_time": "2024-11-06T18:32:52.401Z"
   },
   {
    "duration": 0,
    "start_time": "2024-11-06T18:32:52.402Z"
   },
   {
    "duration": 0,
    "start_time": "2024-11-06T18:32:52.404Z"
   },
   {
    "duration": 0,
    "start_time": "2024-11-06T18:32:52.405Z"
   },
   {
    "duration": 0,
    "start_time": "2024-11-06T18:32:52.406Z"
   },
   {
    "duration": 290,
    "start_time": "2024-11-06T18:35:14.321Z"
   },
   {
    "duration": 111,
    "start_time": "2024-11-06T18:36:38.672Z"
   },
   {
    "duration": 4,
    "start_time": "2024-11-06T18:36:46.449Z"
   },
   {
    "duration": 119,
    "start_time": "2024-11-06T18:36:46.455Z"
   },
   {
    "duration": 98,
    "start_time": "2024-11-06T18:36:46.576Z"
   },
   {
    "duration": 12,
    "start_time": "2024-11-06T18:36:46.675Z"
   },
   {
    "duration": 22,
    "start_time": "2024-11-06T18:36:46.701Z"
   },
   {
    "duration": 8,
    "start_time": "2024-11-06T18:36:46.725Z"
   },
   {
    "duration": 17,
    "start_time": "2024-11-06T18:36:46.735Z"
   },
   {
    "duration": 32,
    "start_time": "2024-11-06T18:36:46.754Z"
   },
   {
    "duration": 33,
    "start_time": "2024-11-06T18:36:46.788Z"
   },
   {
    "duration": 1154,
    "start_time": "2024-11-06T18:40:36.307Z"
   },
   {
    "duration": 17,
    "start_time": "2024-11-06T18:41:18.682Z"
   },
   {
    "duration": 50,
    "start_time": "2024-11-07T17:45:51.698Z"
   },
   {
    "duration": 358,
    "start_time": "2024-11-07T17:45:58.084Z"
   },
   {
    "duration": 422,
    "start_time": "2024-11-07T17:45:58.444Z"
   },
   {
    "duration": 78,
    "start_time": "2024-11-07T17:45:58.868Z"
   },
   {
    "duration": 7,
    "start_time": "2024-11-07T17:45:58.948Z"
   },
   {
    "duration": 10,
    "start_time": "2024-11-07T17:45:58.957Z"
   },
   {
    "duration": 11,
    "start_time": "2024-11-07T17:45:58.968Z"
   },
   {
    "duration": 20,
    "start_time": "2024-11-07T17:45:58.980Z"
   },
   {
    "duration": 5,
    "start_time": "2024-11-07T17:45:59.020Z"
   },
   {
    "duration": 36,
    "start_time": "2024-11-07T17:45:59.027Z"
   },
   {
    "duration": 16,
    "start_time": "2024-11-07T17:47:23.699Z"
   },
   {
    "duration": 32,
    "start_time": "2024-11-07T17:50:55.614Z"
   },
   {
    "duration": 843,
    "start_time": "2024-11-07T18:20:40.302Z"
   },
   {
    "duration": 3,
    "start_time": "2024-11-07T18:21:01.703Z"
   },
   {
    "duration": 112,
    "start_time": "2024-11-07T18:21:01.712Z"
   },
   {
    "duration": 76,
    "start_time": "2024-11-07T18:21:01.826Z"
   },
   {
    "duration": 49,
    "start_time": "2024-11-07T18:21:01.903Z"
   },
   {
    "duration": 19,
    "start_time": "2024-11-07T18:21:01.954Z"
   },
   {
    "duration": 7,
    "start_time": "2024-11-07T18:21:01.975Z"
   },
   {
    "duration": 24,
    "start_time": "2024-11-07T18:21:01.984Z"
   },
   {
    "duration": 7,
    "start_time": "2024-11-07T18:21:02.010Z"
   },
   {
    "duration": 1153,
    "start_time": "2024-11-07T18:21:02.019Z"
   },
   {
    "duration": 821,
    "start_time": "2024-11-07T18:29:21.458Z"
   },
   {
    "duration": 930,
    "start_time": "2024-11-07T18:32:59.361Z"
   },
   {
    "duration": 3,
    "start_time": "2024-11-07T18:53:23.405Z"
   },
   {
    "duration": 108,
    "start_time": "2024-11-07T18:53:23.413Z"
   },
   {
    "duration": 73,
    "start_time": "2024-11-07T18:53:23.523Z"
   },
   {
    "duration": 7,
    "start_time": "2024-11-07T18:53:23.598Z"
   },
   {
    "duration": 9,
    "start_time": "2024-11-07T18:53:23.622Z"
   },
   {
    "duration": 17,
    "start_time": "2024-11-07T18:53:23.633Z"
   },
   {
    "duration": 15,
    "start_time": "2024-11-07T18:53:23.651Z"
   },
   {
    "duration": 5,
    "start_time": "2024-11-07T18:53:23.668Z"
   },
   {
    "duration": 869,
    "start_time": "2024-11-07T18:53:23.675Z"
   },
   {
    "duration": 25,
    "start_time": "2024-11-07T18:58:32.687Z"
   },
   {
    "duration": 37,
    "start_time": "2024-11-07T19:00:59.510Z"
   },
   {
    "duration": 56,
    "start_time": "2024-11-09T19:12:02.169Z"
   },
   {
    "duration": 438,
    "start_time": "2024-11-09T19:12:09.070Z"
   },
   {
    "duration": 356,
    "start_time": "2024-11-09T19:12:09.510Z"
   },
   {
    "duration": 87,
    "start_time": "2024-11-09T19:12:09.867Z"
   },
   {
    "duration": 7,
    "start_time": "2024-11-09T19:12:09.965Z"
   },
   {
    "duration": 40,
    "start_time": "2024-11-09T19:12:09.975Z"
   },
   {
    "duration": 19,
    "start_time": "2024-11-09T19:12:10.016Z"
   },
   {
    "duration": 16,
    "start_time": "2024-11-09T19:12:10.037Z"
   },
   {
    "duration": 1276,
    "start_time": "2024-11-09T19:12:10.055Z"
   },
   {
    "duration": 0,
    "start_time": "2024-11-09T19:12:11.332Z"
   },
   {
    "duration": 3,
    "start_time": "2024-11-09T19:13:59.153Z"
   },
   {
    "duration": 113,
    "start_time": "2024-11-09T19:13:59.158Z"
   },
   {
    "duration": 81,
    "start_time": "2024-11-09T19:13:59.272Z"
   },
   {
    "duration": 7,
    "start_time": "2024-11-09T19:13:59.364Z"
   },
   {
    "duration": 15,
    "start_time": "2024-11-09T19:13:59.373Z"
   },
   {
    "duration": 13,
    "start_time": "2024-11-09T19:13:59.389Z"
   },
   {
    "duration": 13,
    "start_time": "2024-11-09T19:13:59.403Z"
   },
   {
    "duration": 4,
    "start_time": "2024-11-09T19:13:59.418Z"
   },
   {
    "duration": 74,
    "start_time": "2024-11-09T19:13:59.424Z"
   },
   {
    "duration": 7,
    "start_time": "2024-11-09T19:45:49.428Z"
   },
   {
    "duration": 4,
    "start_time": "2024-11-09T19:46:41.630Z"
   },
   {
    "duration": 4,
    "start_time": "2024-11-09T19:47:04.338Z"
   },
   {
    "duration": 12,
    "start_time": "2024-11-09T19:47:28.204Z"
   },
   {
    "duration": 11,
    "start_time": "2024-11-09T19:47:57.708Z"
   },
   {
    "duration": 13,
    "start_time": "2024-11-09T20:56:03.009Z"
   },
   {
    "duration": 409,
    "start_time": "2024-11-10T12:14:29.067Z"
   },
   {
    "duration": 367,
    "start_time": "2024-11-10T12:14:29.477Z"
   },
   {
    "duration": 75,
    "start_time": "2024-11-10T12:14:29.845Z"
   },
   {
    "duration": 7,
    "start_time": "2024-11-10T12:14:29.922Z"
   },
   {
    "duration": 53,
    "start_time": "2024-11-10T12:14:29.931Z"
   },
   {
    "duration": 8,
    "start_time": "2024-11-10T12:14:29.986Z"
   },
   {
    "duration": 78,
    "start_time": "2024-11-10T12:14:29.996Z"
   },
   {
    "duration": 4,
    "start_time": "2024-11-10T12:14:30.076Z"
   },
   {
    "duration": 38,
    "start_time": "2024-11-10T12:14:30.082Z"
   },
   {
    "duration": 21,
    "start_time": "2024-11-10T12:14:30.122Z"
   },
   {
    "duration": 14,
    "start_time": "2024-11-10T12:14:30.145Z"
   },
   {
    "duration": 8,
    "start_time": "2024-11-10T12:14:30.160Z"
   },
   {
    "duration": 19,
    "start_time": "2024-11-10T12:14:30.169Z"
   },
   {
    "duration": 11,
    "start_time": "2024-11-10T12:14:30.189Z"
   },
   {
    "duration": 10,
    "start_time": "2024-11-10T13:02:03.463Z"
   },
   {
    "duration": 13,
    "start_time": "2024-11-10T13:36:47.125Z"
   },
   {
    "duration": 74,
    "start_time": "2024-11-10T13:39:03.448Z"
   },
   {
    "duration": 463,
    "start_time": "2024-11-12T17:28:59.707Z"
   },
   {
    "duration": 332,
    "start_time": "2024-11-12T17:29:00.172Z"
   },
   {
    "duration": 84,
    "start_time": "2024-11-12T17:29:00.505Z"
   },
   {
    "duration": 8,
    "start_time": "2024-11-12T17:29:00.591Z"
   },
   {
    "duration": 26,
    "start_time": "2024-11-12T17:29:00.600Z"
   },
   {
    "duration": 8,
    "start_time": "2024-11-12T17:29:00.628Z"
   },
   {
    "duration": 15,
    "start_time": "2024-11-12T17:29:00.638Z"
   },
   {
    "duration": 6,
    "start_time": "2024-11-12T17:29:00.655Z"
   },
   {
    "duration": 26,
    "start_time": "2024-11-12T17:29:00.662Z"
   },
   {
    "duration": 6,
    "start_time": "2024-11-12T17:29:00.691Z"
   },
   {
    "duration": 21,
    "start_time": "2024-11-12T17:29:00.699Z"
   },
   {
    "duration": 19,
    "start_time": "2024-11-12T17:29:00.722Z"
   },
   {
    "duration": 59,
    "start_time": "2024-11-12T17:29:00.742Z"
   },
   {
    "duration": 10,
    "start_time": "2024-11-12T17:29:00.803Z"
   },
   {
    "duration": 13,
    "start_time": "2024-11-12T17:29:00.815Z"
   },
   {
    "duration": 91,
    "start_time": "2024-11-12T17:29:00.829Z"
   },
   {
    "duration": 6,
    "start_time": "2024-11-12T17:32:12.452Z"
   },
   {
    "duration": 10,
    "start_time": "2024-11-12T17:33:57.295Z"
   },
   {
    "duration": 11,
    "start_time": "2024-11-12T17:34:26.513Z"
   },
   {
    "duration": 7,
    "start_time": "2024-11-12T17:36:27.241Z"
   },
   {
    "duration": 6,
    "start_time": "2024-11-12T17:37:18.232Z"
   },
   {
    "duration": 69,
    "start_time": "2024-11-12T17:37:29.768Z"
   },
   {
    "duration": 3,
    "start_time": "2024-11-12T17:37:52.182Z"
   },
   {
    "duration": 95,
    "start_time": "2024-11-12T17:37:52.186Z"
   },
   {
    "duration": 89,
    "start_time": "2024-11-12T17:37:52.283Z"
   },
   {
    "duration": 7,
    "start_time": "2024-11-12T17:37:52.373Z"
   },
   {
    "duration": 13,
    "start_time": "2024-11-12T17:37:52.382Z"
   },
   {
    "duration": 23,
    "start_time": "2024-11-12T17:37:52.396Z"
   },
   {
    "duration": 13,
    "start_time": "2024-11-12T17:37:52.421Z"
   },
   {
    "duration": 4,
    "start_time": "2024-11-12T17:37:52.435Z"
   },
   {
    "duration": 8,
    "start_time": "2024-11-12T17:37:52.440Z"
   },
   {
    "duration": 19,
    "start_time": "2024-11-12T17:37:52.449Z"
   },
   {
    "duration": 5,
    "start_time": "2024-11-12T17:37:52.469Z"
   },
   {
    "duration": 9,
    "start_time": "2024-11-12T17:37:52.476Z"
   },
   {
    "duration": 37,
    "start_time": "2024-11-12T17:37:52.486Z"
   },
   {
    "duration": 26,
    "start_time": "2024-11-12T17:37:52.525Z"
   },
   {
    "duration": 4,
    "start_time": "2024-11-12T17:37:52.553Z"
   },
   {
    "duration": 12,
    "start_time": "2024-11-12T17:37:52.559Z"
   },
   {
    "duration": 55,
    "start_time": "2024-11-12T17:37:52.572Z"
   },
   {
    "duration": 16,
    "start_time": "2024-11-12T17:44:38.104Z"
   },
   {
    "duration": 929,
    "start_time": "2024-11-12T17:44:52.655Z"
   },
   {
    "duration": 113,
    "start_time": "2024-11-12T17:44:53.586Z"
   },
   {
    "duration": 91,
    "start_time": "2024-11-12T17:44:53.702Z"
   },
   {
    "duration": 8,
    "start_time": "2024-11-12T17:44:53.795Z"
   },
   {
    "duration": 11,
    "start_time": "2024-11-12T17:44:53.819Z"
   },
   {
    "duration": 13,
    "start_time": "2024-11-12T17:44:53.832Z"
   },
   {
    "duration": 29,
    "start_time": "2024-11-12T17:44:53.846Z"
   },
   {
    "duration": 11,
    "start_time": "2024-11-12T17:44:53.877Z"
   },
   {
    "duration": 29,
    "start_time": "2024-11-12T17:44:53.890Z"
   },
   {
    "duration": 30,
    "start_time": "2024-11-12T17:44:53.921Z"
   },
   {
    "duration": 5,
    "start_time": "2024-11-12T17:44:53.952Z"
   },
   {
    "duration": 11,
    "start_time": "2024-11-12T17:44:53.958Z"
   },
   {
    "duration": 18,
    "start_time": "2024-11-12T17:44:53.971Z"
   },
   {
    "duration": 8,
    "start_time": "2024-11-12T17:44:53.991Z"
   },
   {
    "duration": 25,
    "start_time": "2024-11-12T17:44:54.000Z"
   },
   {
    "duration": 4,
    "start_time": "2024-11-12T17:44:54.027Z"
   },
   {
    "duration": 73,
    "start_time": "2024-11-12T17:44:54.033Z"
   },
   {
    "duration": 1828,
    "start_time": "2024-11-12T17:44:54.107Z"
   },
   {
    "duration": 48,
    "start_time": "2024-11-12T17:52:08.973Z"
   },
   {
    "duration": 9,
    "start_time": "2024-11-12T17:52:53.631Z"
   },
   {
    "duration": 3,
    "start_time": "2024-11-12T17:52:57.829Z"
   },
   {
    "duration": 98,
    "start_time": "2024-11-12T17:52:57.834Z"
   },
   {
    "duration": 96,
    "start_time": "2024-11-12T17:52:57.934Z"
   },
   {
    "duration": 7,
    "start_time": "2024-11-12T17:52:58.032Z"
   },
   {
    "duration": 11,
    "start_time": "2024-11-12T17:52:58.041Z"
   },
   {
    "duration": 9,
    "start_time": "2024-11-12T17:52:58.054Z"
   },
   {
    "duration": 17,
    "start_time": "2024-11-12T17:52:58.065Z"
   },
   {
    "duration": 6,
    "start_time": "2024-11-12T17:52:58.117Z"
   },
   {
    "duration": 7,
    "start_time": "2024-11-12T17:52:58.126Z"
   },
   {
    "duration": 10,
    "start_time": "2024-11-12T17:52:58.135Z"
   },
   {
    "duration": 4,
    "start_time": "2024-11-12T17:52:58.146Z"
   },
   {
    "duration": 9,
    "start_time": "2024-11-12T17:52:58.151Z"
   },
   {
    "duration": 11,
    "start_time": "2024-11-12T17:52:58.161Z"
   },
   {
    "duration": 46,
    "start_time": "2024-11-12T17:52:58.173Z"
   },
   {
    "duration": 6,
    "start_time": "2024-11-12T17:52:58.220Z"
   },
   {
    "duration": 7,
    "start_time": "2024-11-12T17:52:58.227Z"
   },
   {
    "duration": 61,
    "start_time": "2024-11-12T17:52:58.235Z"
   },
   {
    "duration": 1914,
    "start_time": "2024-11-12T17:52:58.298Z"
   },
   {
    "duration": 5,
    "start_time": "2024-11-12T17:53:00.217Z"
   },
   {
    "duration": 4,
    "start_time": "2024-11-12T18:27:15.479Z"
   },
   {
    "duration": 15,
    "start_time": "2024-11-12T18:27:47.487Z"
   },
   {
    "duration": 253,
    "start_time": "2024-11-12T18:28:08.836Z"
   },
   {
    "duration": 98,
    "start_time": "2024-11-12T18:28:09.091Z"
   },
   {
    "duration": 83,
    "start_time": "2024-11-12T18:28:09.191Z"
   },
   {
    "duration": 8,
    "start_time": "2024-11-12T18:28:09.275Z"
   },
   {
    "duration": 26,
    "start_time": "2024-11-12T18:28:09.286Z"
   },
   {
    "duration": 22,
    "start_time": "2024-11-12T18:28:09.314Z"
   },
   {
    "duration": 34,
    "start_time": "2024-11-12T18:28:09.338Z"
   },
   {
    "duration": 30,
    "start_time": "2024-11-12T18:28:09.374Z"
   },
   {
    "duration": 30,
    "start_time": "2024-11-12T18:28:09.406Z"
   },
   {
    "duration": 32,
    "start_time": "2024-11-12T18:28:09.437Z"
   },
   {
    "duration": 20,
    "start_time": "2024-11-12T18:28:09.471Z"
   },
   {
    "duration": 32,
    "start_time": "2024-11-12T18:28:09.493Z"
   },
   {
    "duration": 43,
    "start_time": "2024-11-12T18:28:09.527Z"
   },
   {
    "duration": 12,
    "start_time": "2024-11-12T18:28:09.573Z"
   },
   {
    "duration": 12,
    "start_time": "2024-11-12T18:28:09.587Z"
   },
   {
    "duration": 8,
    "start_time": "2024-11-12T18:28:09.601Z"
   },
   {
    "duration": 82,
    "start_time": "2024-11-12T18:28:09.611Z"
   },
   {
    "duration": 1767,
    "start_time": "2024-11-12T18:28:09.695Z"
   },
   {
    "duration": 4,
    "start_time": "2024-11-12T18:28:11.464Z"
   },
   {
    "duration": 59,
    "start_time": "2024-11-12T18:30:50.955Z"
   },
   {
    "duration": 95,
    "start_time": "2024-11-12T18:30:51.016Z"
   },
   {
    "duration": 84,
    "start_time": "2024-11-12T18:30:51.112Z"
   },
   {
    "duration": 20,
    "start_time": "2024-11-12T18:30:51.198Z"
   },
   {
    "duration": 41,
    "start_time": "2024-11-12T18:30:51.220Z"
   },
   {
    "duration": 10,
    "start_time": "2024-11-12T18:30:51.263Z"
   },
   {
    "duration": 16,
    "start_time": "2024-11-12T18:30:51.274Z"
   },
   {
    "duration": 4,
    "start_time": "2024-11-12T18:30:51.292Z"
   },
   {
    "duration": 10,
    "start_time": "2024-11-12T18:30:51.298Z"
   },
   {
    "duration": 4,
    "start_time": "2024-11-12T18:30:51.309Z"
   },
   {
    "duration": 4,
    "start_time": "2024-11-12T18:30:51.317Z"
   },
   {
    "duration": 8,
    "start_time": "2024-11-12T18:30:51.322Z"
   },
   {
    "duration": 11,
    "start_time": "2024-11-12T18:30:51.332Z"
   },
   {
    "duration": 17,
    "start_time": "2024-11-12T18:30:51.346Z"
   },
   {
    "duration": 8,
    "start_time": "2024-11-12T18:30:51.364Z"
   },
   {
    "duration": 9,
    "start_time": "2024-11-12T18:30:51.374Z"
   },
   {
    "duration": 86,
    "start_time": "2024-11-12T18:30:51.384Z"
   },
   {
    "duration": 1890,
    "start_time": "2024-11-12T18:30:51.472Z"
   },
   {
    "duration": 6,
    "start_time": "2024-11-12T18:30:53.364Z"
   },
   {
    "duration": 55,
    "start_time": "2024-11-12T18:30:53.372Z"
   },
   {
    "duration": 1779,
    "start_time": "2024-11-13T10:44:55.833Z"
   },
   {
    "duration": 319,
    "start_time": "2024-11-13T10:44:57.614Z"
   },
   {
    "duration": 100,
    "start_time": "2024-11-13T10:44:57.935Z"
   },
   {
    "duration": 7,
    "start_time": "2024-11-13T10:44:58.037Z"
   },
   {
    "duration": 10,
    "start_time": "2024-11-13T10:44:58.046Z"
   },
   {
    "duration": 7,
    "start_time": "2024-11-13T10:44:58.057Z"
   },
   {
    "duration": 41,
    "start_time": "2024-11-13T10:44:58.066Z"
   },
   {
    "duration": 5,
    "start_time": "2024-11-13T10:44:58.108Z"
   },
   {
    "duration": 33,
    "start_time": "2024-11-13T10:44:58.114Z"
   },
   {
    "duration": 38,
    "start_time": "2024-11-13T10:44:58.149Z"
   },
   {
    "duration": 35,
    "start_time": "2024-11-13T10:44:58.189Z"
   },
   {
    "duration": 21,
    "start_time": "2024-11-13T10:44:58.226Z"
   },
   {
    "duration": 12,
    "start_time": "2024-11-13T10:44:58.249Z"
   },
   {
    "duration": 16,
    "start_time": "2024-11-13T10:44:58.264Z"
   },
   {
    "duration": 18,
    "start_time": "2024-11-13T10:44:58.281Z"
   },
   {
    "duration": 32,
    "start_time": "2024-11-13T10:44:58.300Z"
   },
   {
    "duration": 76,
    "start_time": "2024-11-13T10:44:58.333Z"
   },
   {
    "duration": 1838,
    "start_time": "2024-11-13T10:44:58.411Z"
   },
   {
    "duration": 4,
    "start_time": "2024-11-13T10:45:00.251Z"
   },
   {
    "duration": 222,
    "start_time": "2024-11-13T10:45:00.257Z"
   },
   {
    "duration": 6717,
    "start_time": "2024-11-13T11:04:13.790Z"
   },
   {
    "duration": 4,
    "start_time": "2024-11-13T11:05:34.328Z"
   },
   {
    "duration": 8149,
    "start_time": "2024-11-13T11:05:41.804Z"
   },
   {
    "duration": 4,
    "start_time": "2024-11-13T11:09:39.972Z"
   },
   {
    "duration": 121,
    "start_time": "2024-11-13T11:09:39.978Z"
   },
   {
    "duration": 83,
    "start_time": "2024-11-13T11:09:40.100Z"
   },
   {
    "duration": 21,
    "start_time": "2024-11-13T11:09:40.185Z"
   },
   {
    "duration": 39,
    "start_time": "2024-11-13T11:09:40.208Z"
   },
   {
    "duration": 7,
    "start_time": "2024-11-13T11:09:40.249Z"
   },
   {
    "duration": 16,
    "start_time": "2024-11-13T11:09:40.258Z"
   },
   {
    "duration": 6,
    "start_time": "2024-11-13T11:09:40.275Z"
   },
   {
    "duration": 31,
    "start_time": "2024-11-13T11:09:40.283Z"
   },
   {
    "duration": 5,
    "start_time": "2024-11-13T11:09:40.317Z"
   },
   {
    "duration": 6,
    "start_time": "2024-11-13T11:09:40.324Z"
   },
   {
    "duration": 19,
    "start_time": "2024-11-13T11:09:40.331Z"
   },
   {
    "duration": 17,
    "start_time": "2024-11-13T11:09:40.351Z"
   },
   {
    "duration": 9,
    "start_time": "2024-11-13T11:09:40.370Z"
   },
   {
    "duration": 5,
    "start_time": "2024-11-13T11:09:40.381Z"
   },
   {
    "duration": 14,
    "start_time": "2024-11-13T11:09:40.387Z"
   },
   {
    "duration": 59,
    "start_time": "2024-11-13T11:09:40.402Z"
   },
   {
    "duration": 1868,
    "start_time": "2024-11-13T11:09:40.462Z"
   },
   {
    "duration": 4,
    "start_time": "2024-11-13T11:09:42.332Z"
   },
   {
    "duration": 6955,
    "start_time": "2024-11-13T11:09:42.338Z"
   },
   {
    "duration": 4,
    "start_time": "2024-11-13T11:10:40.765Z"
   },
   {
    "duration": 6314,
    "start_time": "2024-11-13T11:11:19.774Z"
   },
   {
    "duration": 14,
    "start_time": "2024-11-13T11:13:14.144Z"
   },
   {
    "duration": 5338,
    "start_time": "2024-11-13T11:14:54.198Z"
   },
   {
    "duration": 16,
    "start_time": "2024-11-13T11:16:29.683Z"
   },
   {
    "duration": 15,
    "start_time": "2024-11-13T11:16:57.217Z"
   },
   {
    "duration": 4,
    "start_time": "2024-11-13T11:17:07.465Z"
   },
   {
    "duration": 107,
    "start_time": "2024-11-13T11:17:07.471Z"
   },
   {
    "duration": 83,
    "start_time": "2024-11-13T11:17:07.580Z"
   },
   {
    "duration": 8,
    "start_time": "2024-11-13T11:17:07.665Z"
   },
   {
    "duration": 43,
    "start_time": "2024-11-13T11:17:07.675Z"
   },
   {
    "duration": 15,
    "start_time": "2024-11-13T11:17:07.720Z"
   },
   {
    "duration": 21,
    "start_time": "2024-11-13T11:17:07.737Z"
   },
   {
    "duration": 19,
    "start_time": "2024-11-13T11:17:07.760Z"
   },
   {
    "duration": 32,
    "start_time": "2024-11-13T11:17:07.781Z"
   },
   {
    "duration": 24,
    "start_time": "2024-11-13T11:17:07.815Z"
   },
   {
    "duration": 25,
    "start_time": "2024-11-13T11:17:07.841Z"
   },
   {
    "duration": 18,
    "start_time": "2024-11-13T11:17:07.868Z"
   },
   {
    "duration": 27,
    "start_time": "2024-11-13T11:17:07.887Z"
   },
   {
    "duration": 13,
    "start_time": "2024-11-13T11:17:07.917Z"
   },
   {
    "duration": 11,
    "start_time": "2024-11-13T11:17:07.931Z"
   },
   {
    "duration": 20,
    "start_time": "2024-11-13T11:17:07.944Z"
   },
   {
    "duration": 61,
    "start_time": "2024-11-13T11:17:07.966Z"
   },
   {
    "duration": 1780,
    "start_time": "2024-11-13T11:17:08.029Z"
   },
   {
    "duration": 18,
    "start_time": "2024-11-13T11:17:09.811Z"
   },
   {
    "duration": 6,
    "start_time": "2024-11-13T11:17:09.831Z"
   },
   {
    "duration": 9658,
    "start_time": "2024-11-13T11:17:09.838Z"
   },
   {
    "duration": 17,
    "start_time": "2024-11-13T11:17:55.063Z"
   },
   {
    "duration": 53,
    "start_time": "2024-11-13T18:30:22.757Z"
   },
   {
    "duration": 1637,
    "start_time": "2024-11-13T18:30:30.779Z"
   },
   {
    "duration": 381,
    "start_time": "2024-11-13T18:30:32.418Z"
   },
   {
    "duration": 86,
    "start_time": "2024-11-13T18:30:32.801Z"
   },
   {
    "duration": 8,
    "start_time": "2024-11-13T18:30:32.888Z"
   },
   {
    "duration": 14,
    "start_time": "2024-11-13T18:30:32.898Z"
   },
   {
    "duration": 7,
    "start_time": "2024-11-13T18:30:32.914Z"
   },
   {
    "duration": 17,
    "start_time": "2024-11-13T18:30:32.922Z"
   },
   {
    "duration": 4,
    "start_time": "2024-11-13T18:30:32.941Z"
   },
   {
    "duration": 32,
    "start_time": "2024-11-13T18:30:32.946Z"
   },
   {
    "duration": 18,
    "start_time": "2024-11-13T18:30:32.980Z"
   },
   {
    "duration": 10,
    "start_time": "2024-11-13T18:30:33.000Z"
   },
   {
    "duration": 9,
    "start_time": "2024-11-13T18:30:33.012Z"
   },
   {
    "duration": 21,
    "start_time": "2024-11-13T18:30:33.023Z"
   },
   {
    "duration": 9,
    "start_time": "2024-11-13T18:30:33.047Z"
   },
   {
    "duration": 19,
    "start_time": "2024-11-13T18:30:33.057Z"
   },
   {
    "duration": 9,
    "start_time": "2024-11-13T18:30:33.078Z"
   },
   {
    "duration": 65,
    "start_time": "2024-11-13T18:30:33.089Z"
   },
   {
    "duration": 1844,
    "start_time": "2024-11-13T18:30:33.156Z"
   },
   {
    "duration": 21,
    "start_time": "2024-11-13T18:30:35.002Z"
   },
   {
    "duration": 4,
    "start_time": "2024-11-13T18:30:35.025Z"
   },
   {
    "duration": 2737,
    "start_time": "2024-11-13T18:30:35.031Z"
   },
   {
    "duration": 5,
    "start_time": "2024-11-13T18:44:37.257Z"
   },
   {
    "duration": 107,
    "start_time": "2024-11-13T18:44:37.264Z"
   },
   {
    "duration": 80,
    "start_time": "2024-11-13T18:44:37.373Z"
   },
   {
    "duration": 7,
    "start_time": "2024-11-13T18:44:37.455Z"
   },
   {
    "duration": 24,
    "start_time": "2024-11-13T18:44:37.476Z"
   },
   {
    "duration": 8,
    "start_time": "2024-11-13T18:44:37.501Z"
   },
   {
    "duration": 15,
    "start_time": "2024-11-13T18:44:37.511Z"
   },
   {
    "duration": 11,
    "start_time": "2024-11-13T18:44:37.527Z"
   },
   {
    "duration": 12,
    "start_time": "2024-11-13T18:44:37.540Z"
   },
   {
    "duration": 19,
    "start_time": "2024-11-13T18:44:37.553Z"
   },
   {
    "duration": 4,
    "start_time": "2024-11-13T18:44:37.576Z"
   },
   {
    "duration": 25,
    "start_time": "2024-11-13T18:44:37.581Z"
   },
   {
    "duration": 16,
    "start_time": "2024-11-13T18:44:37.608Z"
   },
   {
    "duration": 23,
    "start_time": "2024-11-13T18:44:37.626Z"
   },
   {
    "duration": 7,
    "start_time": "2024-11-13T18:44:37.651Z"
   },
   {
    "duration": 6,
    "start_time": "2024-11-13T18:44:37.661Z"
   },
   {
    "duration": 63,
    "start_time": "2024-11-13T18:44:37.668Z"
   },
   {
    "duration": 1854,
    "start_time": "2024-11-13T18:44:37.733Z"
   },
   {
    "duration": 27,
    "start_time": "2024-11-13T18:44:39.589Z"
   },
   {
    "duration": 5,
    "start_time": "2024-11-13T18:44:39.617Z"
   },
   {
    "duration": 58,
    "start_time": "2024-11-13T18:44:39.623Z"
   },
   {
    "duration": 21,
    "start_time": "2024-11-13T18:47:35.779Z"
   },
   {
    "duration": 32,
    "start_time": "2024-11-13T18:48:02.608Z"
   },
   {
    "duration": 19,
    "start_time": "2024-11-13T18:48:21.493Z"
   },
   {
    "duration": 32,
    "start_time": "2024-11-13T18:49:13.035Z"
   },
   {
    "duration": 6,
    "start_time": "2024-11-13T18:49:18.328Z"
   },
   {
    "duration": 116,
    "start_time": "2024-11-13T18:49:18.336Z"
   },
   {
    "duration": 92,
    "start_time": "2024-11-13T18:49:18.454Z"
   },
   {
    "duration": 7,
    "start_time": "2024-11-13T18:49:18.548Z"
   },
   {
    "duration": 25,
    "start_time": "2024-11-13T18:49:18.557Z"
   },
   {
    "duration": 8,
    "start_time": "2024-11-13T18:49:18.583Z"
   },
   {
    "duration": 14,
    "start_time": "2024-11-13T18:49:18.593Z"
   },
   {
    "duration": 5,
    "start_time": "2024-11-13T18:49:18.609Z"
   },
   {
    "duration": 8,
    "start_time": "2024-11-13T18:49:18.615Z"
   },
   {
    "duration": 5,
    "start_time": "2024-11-13T18:49:18.625Z"
   },
   {
    "duration": 4,
    "start_time": "2024-11-13T18:49:18.631Z"
   },
   {
    "duration": 44,
    "start_time": "2024-11-13T18:49:18.637Z"
   },
   {
    "duration": 37,
    "start_time": "2024-11-13T18:49:18.683Z"
   },
   {
    "duration": 9,
    "start_time": "2024-11-13T18:49:18.721Z"
   },
   {
    "duration": 5,
    "start_time": "2024-11-13T18:49:18.732Z"
   },
   {
    "duration": 5,
    "start_time": "2024-11-13T18:49:18.738Z"
   },
   {
    "duration": 114,
    "start_time": "2024-11-13T18:49:18.745Z"
   },
   {
    "duration": 1773,
    "start_time": "2024-11-13T18:49:18.862Z"
   },
   {
    "duration": 53,
    "start_time": "2024-11-13T18:49:20.637Z"
   },
   {
    "duration": 22,
    "start_time": "2024-11-13T18:49:20.692Z"
   },
   {
    "duration": 16,
    "start_time": "2024-11-13T18:49:20.715Z"
   },
   {
    "duration": 5,
    "start_time": "2024-11-13T18:51:00.102Z"
   },
   {
    "duration": 111,
    "start_time": "2024-11-13T18:51:00.109Z"
   },
   {
    "duration": 84,
    "start_time": "2024-11-13T18:51:00.222Z"
   },
   {
    "duration": 7,
    "start_time": "2024-11-13T18:51:00.308Z"
   },
   {
    "duration": 11,
    "start_time": "2024-11-13T18:51:00.317Z"
   },
   {
    "duration": 8,
    "start_time": "2024-11-13T18:51:00.329Z"
   },
   {
    "duration": 42,
    "start_time": "2024-11-13T18:51:00.338Z"
   },
   {
    "duration": 4,
    "start_time": "2024-11-13T18:51:00.382Z"
   },
   {
    "duration": 37,
    "start_time": "2024-11-13T18:51:00.387Z"
   },
   {
    "duration": 12,
    "start_time": "2024-11-13T18:51:00.426Z"
   },
   {
    "duration": 17,
    "start_time": "2024-11-13T18:51:00.439Z"
   },
   {
    "duration": 10,
    "start_time": "2024-11-13T18:51:00.458Z"
   },
   {
    "duration": 12,
    "start_time": "2024-11-13T18:51:00.471Z"
   },
   {
    "duration": 22,
    "start_time": "2024-11-13T18:51:00.484Z"
   },
   {
    "duration": 4,
    "start_time": "2024-11-13T18:51:00.508Z"
   },
   {
    "duration": 5,
    "start_time": "2024-11-13T18:51:00.514Z"
   },
   {
    "duration": 79,
    "start_time": "2024-11-13T18:51:00.520Z"
   },
   {
    "duration": 1780,
    "start_time": "2024-11-13T18:51:00.601Z"
   },
   {
    "duration": 46,
    "start_time": "2024-11-13T18:51:02.382Z"
   },
   {
    "duration": 1,
    "start_time": "2024-11-13T18:51:02.429Z"
   },
   {
    "duration": 0,
    "start_time": "2024-11-13T18:51:02.431Z"
   },
   {
    "duration": 5,
    "start_time": "2024-11-13T18:51:24.617Z"
   },
   {
    "duration": 104,
    "start_time": "2024-11-13T18:51:24.623Z"
   },
   {
    "duration": 169,
    "start_time": "2024-11-13T18:51:24.728Z"
   },
   {
    "duration": 6,
    "start_time": "2024-11-13T18:51:24.899Z"
   },
   {
    "duration": 15,
    "start_time": "2024-11-13T18:51:24.908Z"
   },
   {
    "duration": 8,
    "start_time": "2024-11-13T18:51:24.925Z"
   },
   {
    "duration": 44,
    "start_time": "2024-11-13T18:51:24.934Z"
   },
   {
    "duration": 4,
    "start_time": "2024-11-13T18:51:24.980Z"
   },
   {
    "duration": 6,
    "start_time": "2024-11-13T18:51:24.985Z"
   },
   {
    "duration": 22,
    "start_time": "2024-11-13T18:51:24.992Z"
   },
   {
    "duration": 5,
    "start_time": "2024-11-13T18:51:25.015Z"
   },
   {
    "duration": 8,
    "start_time": "2024-11-13T18:51:25.022Z"
   },
   {
    "duration": 13,
    "start_time": "2024-11-13T18:51:25.031Z"
   },
   {
    "duration": 36,
    "start_time": "2024-11-13T18:51:25.046Z"
   },
   {
    "duration": 5,
    "start_time": "2024-11-13T18:51:25.084Z"
   },
   {
    "duration": 8,
    "start_time": "2024-11-13T18:51:25.090Z"
   },
   {
    "duration": 81,
    "start_time": "2024-11-13T18:51:25.100Z"
   },
   {
    "duration": 1726,
    "start_time": "2024-11-13T18:51:25.183Z"
   },
   {
    "duration": 40,
    "start_time": "2024-11-13T18:51:26.910Z"
   },
   {
    "duration": 25,
    "start_time": "2024-11-13T18:51:26.951Z"
   },
   {
    "duration": 32,
    "start_time": "2024-11-13T18:51:26.978Z"
   },
   {
    "duration": 71,
    "start_time": "2024-11-13T19:17:02.090Z"
   },
   {
    "duration": 54,
    "start_time": "2024-11-13T19:27:32.556Z"
   },
   {
    "duration": 91,
    "start_time": "2024-11-13T19:33:20.562Z"
   },
   {
    "duration": 64,
    "start_time": "2024-11-13T19:44:25.831Z"
   },
   {
    "duration": 70,
    "start_time": "2024-11-13T19:45:00.543Z"
   },
   {
    "duration": 27,
    "start_time": "2024-11-13T19:45:12.722Z"
   },
   {
    "duration": 50,
    "start_time": "2024-11-16T11:39:24.220Z"
   },
   {
    "duration": 1488,
    "start_time": "2024-11-16T11:39:31.367Z"
   },
   {
    "duration": 349,
    "start_time": "2024-11-16T11:39:32.857Z"
   },
   {
    "duration": 75,
    "start_time": "2024-11-16T11:39:33.208Z"
   },
   {
    "duration": 7,
    "start_time": "2024-11-16T11:39:33.286Z"
   },
   {
    "duration": 41,
    "start_time": "2024-11-16T11:39:33.295Z"
   },
   {
    "duration": 11,
    "start_time": "2024-11-16T11:39:33.338Z"
   },
   {
    "duration": 16,
    "start_time": "2024-11-16T11:39:33.351Z"
   },
   {
    "duration": 33,
    "start_time": "2024-11-16T11:39:33.369Z"
   },
   {
    "duration": 9,
    "start_time": "2024-11-16T11:39:33.404Z"
   },
   {
    "duration": 34,
    "start_time": "2024-11-16T11:39:33.415Z"
   },
   {
    "duration": 7,
    "start_time": "2024-11-16T11:39:33.451Z"
   },
   {
    "duration": 24,
    "start_time": "2024-11-16T11:39:33.460Z"
   },
   {
    "duration": 40,
    "start_time": "2024-11-16T11:39:33.486Z"
   },
   {
    "duration": 8,
    "start_time": "2024-11-16T11:39:33.528Z"
   },
   {
    "duration": 12,
    "start_time": "2024-11-16T11:39:33.538Z"
   },
   {
    "duration": 65,
    "start_time": "2024-11-16T11:39:33.552Z"
   },
   {
    "duration": 88,
    "start_time": "2024-11-16T11:39:33.619Z"
   },
   {
    "duration": 1562,
    "start_time": "2024-11-16T11:39:33.708Z"
   },
   {
    "duration": 97,
    "start_time": "2024-11-16T11:39:35.272Z"
   },
   {
    "duration": 0,
    "start_time": "2024-11-16T11:39:35.371Z"
   },
   {
    "duration": 16,
    "start_time": "2024-11-16T11:42:25.090Z"
   },
   {
    "duration": 9,
    "start_time": "2024-11-16T11:42:33.775Z"
   },
   {
    "duration": 4,
    "start_time": "2024-11-16T11:43:12.751Z"
   },
   {
    "duration": 93,
    "start_time": "2024-11-16T11:43:12.757Z"
   },
   {
    "duration": 70,
    "start_time": "2024-11-16T11:43:12.851Z"
   },
   {
    "duration": 8,
    "start_time": "2024-11-16T11:43:12.923Z"
   },
   {
    "duration": 10,
    "start_time": "2024-11-16T11:43:12.932Z"
   },
   {
    "duration": 7,
    "start_time": "2024-11-16T11:43:12.943Z"
   },
   {
    "duration": 13,
    "start_time": "2024-11-16T11:43:12.952Z"
   },
   {
    "duration": 4,
    "start_time": "2024-11-16T11:43:12.967Z"
   },
   {
    "duration": 43,
    "start_time": "2024-11-16T11:43:12.972Z"
   },
   {
    "duration": 4,
    "start_time": "2024-11-16T11:43:13.019Z"
   },
   {
    "duration": 3,
    "start_time": "2024-11-16T11:43:13.025Z"
   },
   {
    "duration": 8,
    "start_time": "2024-11-16T11:43:13.030Z"
   },
   {
    "duration": 9,
    "start_time": "2024-11-16T11:43:13.040Z"
   },
   {
    "duration": 27,
    "start_time": "2024-11-16T11:43:13.051Z"
   },
   {
    "duration": 4,
    "start_time": "2024-11-16T11:43:13.080Z"
   },
   {
    "duration": 6,
    "start_time": "2024-11-16T11:43:13.113Z"
   },
   {
    "duration": 63,
    "start_time": "2024-11-16T11:43:13.121Z"
   },
   {
    "duration": 1571,
    "start_time": "2024-11-16T11:43:13.185Z"
   },
   {
    "duration": 18,
    "start_time": "2024-11-16T11:43:14.758Z"
   },
   {
    "duration": 50,
    "start_time": "2024-11-16T11:43:14.778Z"
   },
   {
    "duration": 20350,
    "start_time": "2024-11-16T11:50:38.476Z"
   },
   {
    "duration": 17780,
    "start_time": "2024-11-16T11:54:00.128Z"
   },
   {
    "duration": 5,
    "start_time": "2024-11-16T12:08:45.134Z"
   },
   {
    "duration": 126,
    "start_time": "2024-11-16T12:08:45.142Z"
   },
   {
    "duration": 67,
    "start_time": "2024-11-16T12:08:45.269Z"
   },
   {
    "duration": 7,
    "start_time": "2024-11-16T12:08:45.337Z"
   },
   {
    "duration": 15,
    "start_time": "2024-11-16T12:08:45.346Z"
   },
   {
    "duration": 18,
    "start_time": "2024-11-16T12:08:45.362Z"
   },
   {
    "duration": 18,
    "start_time": "2024-11-16T12:08:45.382Z"
   },
   {
    "duration": 12,
    "start_time": "2024-11-16T12:08:45.401Z"
   },
   {
    "duration": 10,
    "start_time": "2024-11-16T12:08:45.414Z"
   },
   {
    "duration": 9,
    "start_time": "2024-11-16T12:08:45.425Z"
   },
   {
    "duration": 5,
    "start_time": "2024-11-16T12:08:45.436Z"
   },
   {
    "duration": 7,
    "start_time": "2024-11-16T12:08:45.443Z"
   },
   {
    "duration": 13,
    "start_time": "2024-11-16T12:08:45.451Z"
   },
   {
    "duration": 10,
    "start_time": "2024-11-16T12:08:45.467Z"
   },
   {
    "duration": 4,
    "start_time": "2024-11-16T12:08:45.479Z"
   },
   {
    "duration": 29,
    "start_time": "2024-11-16T12:08:45.484Z"
   },
   {
    "duration": 49,
    "start_time": "2024-11-16T12:08:45.514Z"
   },
   {
    "duration": 1541,
    "start_time": "2024-11-16T12:08:45.565Z"
   },
   {
    "duration": 26,
    "start_time": "2024-11-16T12:08:47.108Z"
   },
   {
    "duration": 76,
    "start_time": "2024-11-16T12:08:47.136Z"
   },
   {
    "duration": 25,
    "start_time": "2024-11-16T12:11:31.570Z"
   },
   {
    "duration": 25,
    "start_time": "2024-11-16T12:13:25.702Z"
   },
   {
    "duration": 16,
    "start_time": "2024-11-16T12:14:20.212Z"
   },
   {
    "duration": 8,
    "start_time": "2024-11-16T12:14:57.573Z"
   },
   {
    "duration": 26,
    "start_time": "2024-11-16T12:18:01.310Z"
   },
   {
    "duration": 20,
    "start_time": "2024-11-16T12:18:18.654Z"
   },
   {
    "duration": 4,
    "start_time": "2024-11-16T12:19:12.488Z"
   },
   {
    "duration": 91,
    "start_time": "2024-11-16T12:19:12.494Z"
   },
   {
    "duration": 75,
    "start_time": "2024-11-16T12:19:12.586Z"
   },
   {
    "duration": 9,
    "start_time": "2024-11-16T12:19:12.662Z"
   },
   {
    "duration": 15,
    "start_time": "2024-11-16T12:19:12.673Z"
   },
   {
    "duration": 23,
    "start_time": "2024-11-16T12:19:12.690Z"
   },
   {
    "duration": 14,
    "start_time": "2024-11-16T12:19:12.714Z"
   },
   {
    "duration": 4,
    "start_time": "2024-11-16T12:19:12.730Z"
   },
   {
    "duration": 7,
    "start_time": "2024-11-16T12:19:12.736Z"
   },
   {
    "duration": 5,
    "start_time": "2024-11-16T12:19:12.745Z"
   },
   {
    "duration": 3,
    "start_time": "2024-11-16T12:19:12.752Z"
   },
   {
    "duration": 17,
    "start_time": "2024-11-16T12:19:12.756Z"
   },
   {
    "duration": 45,
    "start_time": "2024-11-16T12:19:12.775Z"
   },
   {
    "duration": 9,
    "start_time": "2024-11-16T12:19:12.823Z"
   },
   {
    "duration": 5,
    "start_time": "2024-11-16T12:19:12.834Z"
   },
   {
    "duration": 6,
    "start_time": "2024-11-16T12:19:12.841Z"
   },
   {
    "duration": 91,
    "start_time": "2024-11-16T12:19:12.848Z"
   },
   {
    "duration": 1533,
    "start_time": "2024-11-16T12:19:12.941Z"
   },
   {
    "duration": 22,
    "start_time": "2024-11-16T12:19:14.476Z"
   },
   {
    "duration": 3640,
    "start_time": "2024-11-16T12:19:14.512Z"
   },
   {
    "duration": 16,
    "start_time": "2024-11-16T12:20:13.519Z"
   },
   {
    "duration": 25,
    "start_time": "2024-11-16T12:20:26.888Z"
   },
   {
    "duration": 20,
    "start_time": "2024-11-16T12:21:32.442Z"
   },
   {
    "duration": 4,
    "start_time": "2024-11-16T12:21:36.773Z"
   },
   {
    "duration": 92,
    "start_time": "2024-11-16T12:21:36.778Z"
   },
   {
    "duration": 67,
    "start_time": "2024-11-16T12:21:36.871Z"
   },
   {
    "duration": 6,
    "start_time": "2024-11-16T12:21:36.940Z"
   },
   {
    "duration": 37,
    "start_time": "2024-11-16T12:21:36.947Z"
   },
   {
    "duration": 7,
    "start_time": "2024-11-16T12:21:36.985Z"
   },
   {
    "duration": 12,
    "start_time": "2024-11-16T12:21:36.993Z"
   },
   {
    "duration": 6,
    "start_time": "2024-11-16T12:21:37.007Z"
   },
   {
    "duration": 4,
    "start_time": "2024-11-16T12:21:37.015Z"
   },
   {
    "duration": 12,
    "start_time": "2024-11-16T12:21:37.022Z"
   },
   {
    "duration": 16,
    "start_time": "2024-11-16T12:21:37.035Z"
   },
   {
    "duration": 35,
    "start_time": "2024-11-16T12:21:37.053Z"
   },
   {
    "duration": 15,
    "start_time": "2024-11-16T12:21:37.090Z"
   },
   {
    "duration": 15,
    "start_time": "2024-11-16T12:21:37.107Z"
   },
   {
    "duration": 11,
    "start_time": "2024-11-16T12:21:37.123Z"
   },
   {
    "duration": 24,
    "start_time": "2024-11-16T12:21:37.135Z"
   },
   {
    "duration": 77,
    "start_time": "2024-11-16T12:21:37.160Z"
   },
   {
    "duration": 1471,
    "start_time": "2024-11-16T12:21:37.239Z"
   },
   {
    "duration": 22,
    "start_time": "2024-11-16T12:21:38.712Z"
   },
   {
    "duration": 3608,
    "start_time": "2024-11-16T12:21:38.735Z"
   },
   {
    "duration": 35,
    "start_time": "2024-11-16T12:25:20.826Z"
   },
   {
    "duration": 19,
    "start_time": "2024-11-16T12:25:38.812Z"
   },
   {
    "duration": 3,
    "start_time": "2024-11-16T12:26:18.491Z"
   },
   {
    "duration": 90,
    "start_time": "2024-11-16T12:26:18.498Z"
   },
   {
    "duration": 64,
    "start_time": "2024-11-16T12:26:18.590Z"
   },
   {
    "duration": 7,
    "start_time": "2024-11-16T12:26:18.655Z"
   },
   {
    "duration": 8,
    "start_time": "2024-11-16T12:26:18.664Z"
   },
   {
    "duration": 10,
    "start_time": "2024-11-16T12:26:18.674Z"
   },
   {
    "duration": 31,
    "start_time": "2024-11-16T12:26:18.686Z"
   },
   {
    "duration": 4,
    "start_time": "2024-11-16T12:26:18.718Z"
   },
   {
    "duration": 7,
    "start_time": "2024-11-16T12:26:18.723Z"
   },
   {
    "duration": 6,
    "start_time": "2024-11-16T12:26:18.731Z"
   },
   {
    "duration": 3,
    "start_time": "2024-11-16T12:26:18.738Z"
   },
   {
    "duration": 7,
    "start_time": "2024-11-16T12:26:18.742Z"
   },
   {
    "duration": 15,
    "start_time": "2024-11-16T12:26:18.750Z"
   },
   {
    "duration": 45,
    "start_time": "2024-11-16T12:26:18.767Z"
   },
   {
    "duration": 4,
    "start_time": "2024-11-16T12:26:18.814Z"
   },
   {
    "duration": 14,
    "start_time": "2024-11-16T12:26:18.819Z"
   },
   {
    "duration": 48,
    "start_time": "2024-11-16T12:26:18.834Z"
   },
   {
    "duration": 1483,
    "start_time": "2024-11-16T12:26:18.883Z"
   },
   {
    "duration": 32,
    "start_time": "2024-11-16T12:26:20.368Z"
   },
   {
    "duration": 42117,
    "start_time": "2024-11-16T12:26:20.412Z"
   },
   {
    "duration": 27,
    "start_time": "2024-11-16T12:47:24.808Z"
   },
   {
    "duration": 9,
    "start_time": "2024-11-16T12:47:31.465Z"
   },
   {
    "duration": 0,
    "start_time": "2024-11-16T12:47:31.475Z"
   },
   {
    "duration": 0,
    "start_time": "2024-11-16T12:47:31.476Z"
   },
   {
    "duration": 0,
    "start_time": "2024-11-16T12:47:31.477Z"
   },
   {
    "duration": 0,
    "start_time": "2024-11-16T12:47:31.478Z"
   },
   {
    "duration": 0,
    "start_time": "2024-11-16T12:47:31.479Z"
   },
   {
    "duration": 0,
    "start_time": "2024-11-16T12:47:31.481Z"
   },
   {
    "duration": 0,
    "start_time": "2024-11-16T12:47:31.482Z"
   },
   {
    "duration": 0,
    "start_time": "2024-11-16T12:47:31.483Z"
   },
   {
    "duration": 0,
    "start_time": "2024-11-16T12:47:31.485Z"
   },
   {
    "duration": 0,
    "start_time": "2024-11-16T12:47:31.486Z"
   },
   {
    "duration": 10,
    "start_time": "2024-11-16T12:47:31.489Z"
   },
   {
    "duration": 15,
    "start_time": "2024-11-16T12:47:31.501Z"
   },
   {
    "duration": 9,
    "start_time": "2024-11-16T12:47:31.517Z"
   },
   {
    "duration": 20,
    "start_time": "2024-11-16T12:47:31.527Z"
   },
   {
    "duration": 8,
    "start_time": "2024-11-16T12:47:31.548Z"
   },
   {
    "duration": 55,
    "start_time": "2024-11-16T12:47:31.558Z"
   },
   {
    "duration": 1592,
    "start_time": "2024-11-16T12:47:31.615Z"
   },
   {
    "duration": 23,
    "start_time": "2024-11-16T12:47:33.211Z"
   },
   {
    "duration": 43207,
    "start_time": "2024-11-16T12:47:33.236Z"
   },
   {
    "duration": 26,
    "start_time": "2024-11-16T12:48:16.444Z"
   },
   {
    "duration": 4309,
    "start_time": "2024-11-16T12:49:14.320Z"
   },
   {
    "duration": 3285,
    "start_time": "2024-11-16T12:50:21.591Z"
   },
   {
    "duration": 1736,
    "start_time": "2024-11-16T12:50:24.879Z"
   },
   {
    "duration": 93,
    "start_time": "2024-11-16T12:50:26.617Z"
   },
   {
    "duration": 68,
    "start_time": "2024-11-16T12:50:26.712Z"
   },
   {
    "duration": 7,
    "start_time": "2024-11-16T12:50:26.782Z"
   },
   {
    "duration": 26,
    "start_time": "2024-11-16T12:50:26.790Z"
   },
   {
    "duration": 6,
    "start_time": "2024-11-16T12:50:26.818Z"
   },
   {
    "duration": 17,
    "start_time": "2024-11-16T12:50:26.825Z"
   },
   {
    "duration": 5,
    "start_time": "2024-11-16T12:50:26.843Z"
   },
   {
    "duration": 20,
    "start_time": "2024-11-16T12:50:26.849Z"
   },
   {
    "duration": 3,
    "start_time": "2024-11-16T12:50:26.870Z"
   },
   {
    "duration": 4,
    "start_time": "2024-11-16T12:50:26.874Z"
   },
   {
    "duration": 7,
    "start_time": "2024-11-16T12:50:26.880Z"
   },
   {
    "duration": 10,
    "start_time": "2024-11-16T12:50:26.913Z"
   },
   {
    "duration": 8,
    "start_time": "2024-11-16T12:50:26.924Z"
   },
   {
    "duration": 5,
    "start_time": "2024-11-16T12:50:26.933Z"
   },
   {
    "duration": 6,
    "start_time": "2024-11-16T12:50:26.939Z"
   },
   {
    "duration": 78,
    "start_time": "2024-11-16T12:50:26.946Z"
   },
   {
    "duration": 1520,
    "start_time": "2024-11-16T12:50:27.026Z"
   },
   {
    "duration": 23,
    "start_time": "2024-11-16T12:50:28.548Z"
   },
   {
    "duration": 44462,
    "start_time": "2024-11-16T12:50:28.572Z"
   },
   {
    "duration": 179,
    "start_time": "2024-11-16T12:51:13.035Z"
   },
   {
    "duration": 48,
    "start_time": "2024-11-16T12:54:03.574Z"
   },
   {
    "duration": 28,
    "start_time": "2024-11-16T13:00:01.220Z"
   },
   {
    "duration": 2663,
    "start_time": "2024-11-16T13:00:13.927Z"
   },
   {
    "duration": 5,
    "start_time": "2024-11-16T13:00:16.592Z"
   },
   {
    "duration": 114,
    "start_time": "2024-11-16T13:00:16.598Z"
   },
   {
    "duration": 68,
    "start_time": "2024-11-16T13:00:16.714Z"
   },
   {
    "duration": 8,
    "start_time": "2024-11-16T13:00:16.783Z"
   },
   {
    "duration": 26,
    "start_time": "2024-11-16T13:00:16.792Z"
   },
   {
    "duration": 7,
    "start_time": "2024-11-16T13:00:16.819Z"
   },
   {
    "duration": 20,
    "start_time": "2024-11-16T13:00:16.827Z"
   },
   {
    "duration": 4,
    "start_time": "2024-11-16T13:00:16.849Z"
   },
   {
    "duration": 8,
    "start_time": "2024-11-16T13:00:16.854Z"
   },
   {
    "duration": 15,
    "start_time": "2024-11-16T13:00:16.863Z"
   },
   {
    "duration": 4,
    "start_time": "2024-11-16T13:00:16.879Z"
   },
   {
    "duration": 7,
    "start_time": "2024-11-16T13:00:16.884Z"
   },
   {
    "duration": 10,
    "start_time": "2024-11-16T13:00:16.913Z"
   },
   {
    "duration": 19,
    "start_time": "2024-11-16T13:00:16.925Z"
   },
   {
    "duration": 5,
    "start_time": "2024-11-16T13:00:16.945Z"
   },
   {
    "duration": 6,
    "start_time": "2024-11-16T13:00:16.951Z"
   },
   {
    "duration": 72,
    "start_time": "2024-11-16T13:00:16.959Z"
   },
   {
    "duration": 1660,
    "start_time": "2024-11-16T13:00:17.033Z"
   },
   {
    "duration": 33,
    "start_time": "2024-11-16T13:00:18.694Z"
   },
   {
    "duration": 113230,
    "start_time": "2024-11-16T13:00:18.729Z"
   },
   {
    "duration": 0,
    "start_time": "2024-11-16T13:02:12.020Z"
   },
   {
    "duration": 51,
    "start_time": "2024-11-16T14:12:04.091Z"
   },
   {
    "duration": 49,
    "start_time": "2024-11-16T14:12:37.430Z"
   },
   {
    "duration": 27,
    "start_time": "2024-11-16T14:13:45.693Z"
   },
   {
    "duration": 2729,
    "start_time": "2024-11-16T14:13:55.069Z"
   },
   {
    "duration": 6,
    "start_time": "2024-11-16T14:13:57.800Z"
   },
   {
    "duration": 133,
    "start_time": "2024-11-16T14:13:57.808Z"
   },
   {
    "duration": 77,
    "start_time": "2024-11-16T14:13:57.943Z"
   },
   {
    "duration": 8,
    "start_time": "2024-11-16T14:13:58.022Z"
   },
   {
    "duration": 24,
    "start_time": "2024-11-16T14:13:58.031Z"
   },
   {
    "duration": 7,
    "start_time": "2024-11-16T14:13:58.056Z"
   },
   {
    "duration": 15,
    "start_time": "2024-11-16T14:13:58.064Z"
   },
   {
    "duration": 55,
    "start_time": "2024-11-16T14:13:58.080Z"
   },
   {
    "duration": 6,
    "start_time": "2024-11-16T14:13:58.138Z"
   },
   {
    "duration": 7,
    "start_time": "2024-11-16T14:13:58.145Z"
   },
   {
    "duration": 16,
    "start_time": "2024-11-16T14:13:58.153Z"
   },
   {
    "duration": 7,
    "start_time": "2024-11-16T14:13:58.170Z"
   },
   {
    "duration": 10,
    "start_time": "2024-11-16T14:13:58.178Z"
   },
   {
    "duration": 11,
    "start_time": "2024-11-16T14:13:58.189Z"
   },
   {
    "duration": 15,
    "start_time": "2024-11-16T14:13:58.201Z"
   },
   {
    "duration": 6,
    "start_time": "2024-11-16T14:13:58.217Z"
   },
   {
    "duration": 54,
    "start_time": "2024-11-16T14:13:58.225Z"
   },
   {
    "duration": 1545,
    "start_time": "2024-11-16T14:13:58.280Z"
   },
   {
    "duration": 23,
    "start_time": "2024-11-16T14:13:59.826Z"
   },
   {
    "duration": 0,
    "start_time": "2024-11-16T14:15:58.969Z"
   },
   {
    "duration": 0,
    "start_time": "2024-11-16T14:15:58.971Z"
   },
   {
    "duration": 0,
    "start_time": "2024-11-16T14:15:58.973Z"
   },
   {
    "duration": 0,
    "start_time": "2024-11-16T14:15:58.975Z"
   },
   {
    "duration": 0,
    "start_time": "2024-11-16T14:15:58.976Z"
   },
   {
    "duration": 0,
    "start_time": "2024-11-16T14:15:58.978Z"
   },
   {
    "duration": 0,
    "start_time": "2024-11-16T14:15:58.980Z"
   },
   {
    "duration": 0,
    "start_time": "2024-11-16T14:15:59.012Z"
   },
   {
    "duration": 0,
    "start_time": "2024-11-16T14:15:59.013Z"
   },
   {
    "duration": 0,
    "start_time": "2024-11-16T14:15:59.014Z"
   },
   {
    "duration": 0,
    "start_time": "2024-11-16T14:15:59.015Z"
   },
   {
    "duration": 0,
    "start_time": "2024-11-16T14:15:59.021Z"
   },
   {
    "duration": 0,
    "start_time": "2024-11-16T14:15:59.022Z"
   },
   {
    "duration": 0,
    "start_time": "2024-11-16T14:15:59.026Z"
   },
   {
    "duration": 0,
    "start_time": "2024-11-16T14:15:59.027Z"
   },
   {
    "duration": 0,
    "start_time": "2024-11-16T14:15:59.030Z"
   },
   {
    "duration": 0,
    "start_time": "2024-11-16T14:15:59.032Z"
   },
   {
    "duration": 0,
    "start_time": "2024-11-16T14:15:59.034Z"
   },
   {
    "duration": 0,
    "start_time": "2024-11-16T14:15:59.036Z"
   },
   {
    "duration": 0,
    "start_time": "2024-11-16T14:15:59.038Z"
   },
   {
    "duration": 0,
    "start_time": "2024-11-16T14:15:59.041Z"
   },
   {
    "duration": 2772,
    "start_time": "2024-11-16T14:16:10.595Z"
   },
   {
    "duration": 4,
    "start_time": "2024-11-16T14:16:13.369Z"
   },
   {
    "duration": 105,
    "start_time": "2024-11-16T14:16:13.374Z"
   },
   {
    "duration": 90,
    "start_time": "2024-11-16T14:16:13.482Z"
   },
   {
    "duration": 6,
    "start_time": "2024-11-16T14:16:13.573Z"
   },
   {
    "duration": 9,
    "start_time": "2024-11-16T14:16:13.581Z"
   },
   {
    "duration": 7,
    "start_time": "2024-11-16T14:16:13.611Z"
   },
   {
    "duration": 25,
    "start_time": "2024-11-16T14:16:13.620Z"
   },
   {
    "duration": 4,
    "start_time": "2024-11-16T14:16:13.647Z"
   },
   {
    "duration": 8,
    "start_time": "2024-11-16T14:16:13.653Z"
   },
   {
    "duration": 10,
    "start_time": "2024-11-16T14:16:13.662Z"
   },
   {
    "duration": 3,
    "start_time": "2024-11-16T14:16:13.674Z"
   },
   {
    "duration": 7,
    "start_time": "2024-11-16T14:16:13.679Z"
   },
   {
    "duration": 33,
    "start_time": "2024-11-16T14:16:13.687Z"
   },
   {
    "duration": 11,
    "start_time": "2024-11-16T14:16:13.721Z"
   },
   {
    "duration": 7,
    "start_time": "2024-11-16T14:16:13.733Z"
   },
   {
    "duration": 13,
    "start_time": "2024-11-16T14:16:13.741Z"
   },
   {
    "duration": 80,
    "start_time": "2024-11-16T14:16:13.755Z"
   },
   {
    "duration": 1637,
    "start_time": "2024-11-16T14:16:13.838Z"
   },
   {
    "duration": 35,
    "start_time": "2024-11-16T14:16:15.477Z"
   },
   {
    "duration": 112600,
    "start_time": "2024-11-16T14:16:15.514Z"
   },
   {
    "duration": 27,
    "start_time": "2024-11-16T14:19:10.867Z"
   },
   {
    "duration": 2660,
    "start_time": "2024-11-16T14:19:16.771Z"
   },
   {
    "duration": 6,
    "start_time": "2024-11-16T14:19:19.434Z"
   },
   {
    "duration": 95,
    "start_time": "2024-11-16T14:19:19.442Z"
   },
   {
    "duration": 88,
    "start_time": "2024-11-16T14:19:19.539Z"
   },
   {
    "duration": 9,
    "start_time": "2024-11-16T14:19:19.629Z"
   },
   {
    "duration": 10,
    "start_time": "2024-11-16T14:19:19.639Z"
   },
   {
    "duration": 15,
    "start_time": "2024-11-16T14:19:19.650Z"
   },
   {
    "duration": 17,
    "start_time": "2024-11-16T14:19:19.666Z"
   },
   {
    "duration": 30,
    "start_time": "2024-11-16T14:19:19.685Z"
   },
   {
    "duration": 7,
    "start_time": "2024-11-16T14:19:19.716Z"
   },
   {
    "duration": 18,
    "start_time": "2024-11-16T14:19:19.724Z"
   },
   {
    "duration": 3,
    "start_time": "2024-11-16T14:19:19.743Z"
   },
   {
    "duration": 9,
    "start_time": "2024-11-16T14:19:19.747Z"
   },
   {
    "duration": 12,
    "start_time": "2024-11-16T14:19:19.759Z"
   },
   {
    "duration": 8,
    "start_time": "2024-11-16T14:19:19.772Z"
   },
   {
    "duration": 9,
    "start_time": "2024-11-16T14:19:19.781Z"
   },
   {
    "duration": 23,
    "start_time": "2024-11-16T14:19:19.791Z"
   },
   {
    "duration": 61,
    "start_time": "2024-11-16T14:19:19.815Z"
   },
   {
    "duration": 1584,
    "start_time": "2024-11-16T14:19:19.878Z"
   },
   {
    "duration": 32,
    "start_time": "2024-11-16T14:19:21.464Z"
   },
   {
    "duration": 113117,
    "start_time": "2024-11-16T14:19:21.498Z"
   },
   {
    "duration": 2682,
    "start_time": "2024-11-16T14:24:44.436Z"
   },
   {
    "duration": 8,
    "start_time": "2024-11-16T14:24:47.121Z"
   },
   {
    "duration": 95,
    "start_time": "2024-11-16T14:24:47.131Z"
   },
   {
    "duration": 67,
    "start_time": "2024-11-16T14:24:47.229Z"
   },
   {
    "duration": 16,
    "start_time": "2024-11-16T14:24:47.298Z"
   },
   {
    "duration": 11,
    "start_time": "2024-11-16T14:24:47.315Z"
   },
   {
    "duration": 6,
    "start_time": "2024-11-16T14:24:47.328Z"
   },
   {
    "duration": 36,
    "start_time": "2024-11-16T14:24:47.335Z"
   },
   {
    "duration": 4,
    "start_time": "2024-11-16T14:24:47.372Z"
   },
   {
    "duration": 4,
    "start_time": "2024-11-16T14:24:47.378Z"
   },
   {
    "duration": 5,
    "start_time": "2024-11-16T14:24:47.384Z"
   },
   {
    "duration": 21,
    "start_time": "2024-11-16T14:24:47.391Z"
   },
   {
    "duration": 7,
    "start_time": "2024-11-16T14:24:47.414Z"
   },
   {
    "duration": 22,
    "start_time": "2024-11-16T14:24:47.423Z"
   },
   {
    "duration": 9,
    "start_time": "2024-11-16T14:24:47.447Z"
   },
   {
    "duration": 7,
    "start_time": "2024-11-16T14:24:47.457Z"
   },
   {
    "duration": 6,
    "start_time": "2024-11-16T14:24:47.465Z"
   },
   {
    "duration": 72,
    "start_time": "2024-11-16T14:24:47.472Z"
   },
   {
    "duration": 1526,
    "start_time": "2024-11-16T14:24:47.545Z"
   },
   {
    "duration": 41,
    "start_time": "2024-11-16T14:24:49.073Z"
   },
   {
    "duration": 119201,
    "start_time": "2024-11-16T14:24:49.116Z"
   },
   {
    "duration": 27,
    "start_time": "2024-11-16T14:30:25.072Z"
   },
   {
    "duration": 2869,
    "start_time": "2024-11-16T14:30:40.058Z"
   },
   {
    "duration": 11,
    "start_time": "2024-11-16T14:30:42.931Z"
   },
   {
    "duration": 100,
    "start_time": "2024-11-16T14:30:42.943Z"
   },
   {
    "duration": 79,
    "start_time": "2024-11-16T14:30:43.045Z"
   },
   {
    "duration": 9,
    "start_time": "2024-11-16T14:30:43.126Z"
   },
   {
    "duration": 18,
    "start_time": "2024-11-16T14:30:43.137Z"
   },
   {
    "duration": 8,
    "start_time": "2024-11-16T14:30:43.156Z"
   },
   {
    "duration": 18,
    "start_time": "2024-11-16T14:30:43.166Z"
   },
   {
    "duration": 4,
    "start_time": "2024-11-16T14:30:43.185Z"
   },
   {
    "duration": 5,
    "start_time": "2024-11-16T14:30:43.212Z"
   },
   {
    "duration": 4,
    "start_time": "2024-11-16T14:30:43.219Z"
   },
   {
    "duration": 4,
    "start_time": "2024-11-16T14:30:43.224Z"
   },
   {
    "duration": 12,
    "start_time": "2024-11-16T14:30:43.230Z"
   },
   {
    "duration": 12,
    "start_time": "2024-11-16T14:30:43.243Z"
   },
   {
    "duration": 8,
    "start_time": "2024-11-16T14:30:43.256Z"
   },
   {
    "duration": 4,
    "start_time": "2024-11-16T14:30:43.266Z"
   },
   {
    "duration": 41,
    "start_time": "2024-11-16T14:30:43.272Z"
   },
   {
    "duration": 59,
    "start_time": "2024-11-16T14:30:43.314Z"
   },
   {
    "duration": 1731,
    "start_time": "2024-11-16T14:30:43.374Z"
   },
   {
    "duration": 28,
    "start_time": "2024-11-16T14:30:45.107Z"
   },
   {
    "duration": 114527,
    "start_time": "2024-11-16T14:30:45.137Z"
   },
   {
    "duration": 35,
    "start_time": "2024-11-16T14:36:51.707Z"
   },
   {
    "duration": 2753,
    "start_time": "2024-11-16T14:37:03.493Z"
   },
   {
    "duration": 8,
    "start_time": "2024-11-16T14:37:06.248Z"
   },
   {
    "duration": 137,
    "start_time": "2024-11-16T14:37:06.258Z"
   },
   {
    "duration": 74,
    "start_time": "2024-11-16T14:37:06.397Z"
   },
   {
    "duration": 6,
    "start_time": "2024-11-16T14:37:06.474Z"
   },
   {
    "duration": 39,
    "start_time": "2024-11-16T14:37:06.482Z"
   },
   {
    "duration": 7,
    "start_time": "2024-11-16T14:37:06.526Z"
   },
   {
    "duration": 106,
    "start_time": "2024-11-16T14:37:06.535Z"
   },
   {
    "duration": 18,
    "start_time": "2024-11-16T14:37:06.643Z"
   },
   {
    "duration": 33,
    "start_time": "2024-11-16T14:37:06.662Z"
   },
   {
    "duration": 26,
    "start_time": "2024-11-16T14:37:06.696Z"
   },
   {
    "duration": 29,
    "start_time": "2024-11-16T14:37:06.724Z"
   },
   {
    "duration": 14,
    "start_time": "2024-11-16T14:37:06.755Z"
   },
   {
    "duration": 22,
    "start_time": "2024-11-16T14:37:06.771Z"
   },
   {
    "duration": 11,
    "start_time": "2024-11-16T14:37:06.795Z"
   },
   {
    "duration": 18,
    "start_time": "2024-11-16T14:37:06.807Z"
   },
   {
    "duration": 5,
    "start_time": "2024-11-16T14:37:06.827Z"
   },
   {
    "duration": 56,
    "start_time": "2024-11-16T14:37:06.834Z"
   },
   {
    "duration": 1581,
    "start_time": "2024-11-16T14:37:06.891Z"
   },
   {
    "duration": 22,
    "start_time": "2024-11-16T14:37:08.473Z"
   },
   {
    "duration": 117881,
    "start_time": "2024-11-16T14:37:08.497Z"
   },
   {
    "duration": 45,
    "start_time": "2024-11-16T14:40:18.846Z"
   },
   {
    "duration": 2947,
    "start_time": "2024-11-16T14:40:23.380Z"
   },
   {
    "duration": 8,
    "start_time": "2024-11-16T14:40:26.329Z"
   },
   {
    "duration": 112,
    "start_time": "2024-11-16T14:40:26.339Z"
   },
   {
    "duration": 77,
    "start_time": "2024-11-16T14:40:26.452Z"
   },
   {
    "duration": 8,
    "start_time": "2024-11-16T14:40:26.531Z"
   },
   {
    "duration": 12,
    "start_time": "2024-11-16T14:40:26.540Z"
   },
   {
    "duration": 7,
    "start_time": "2024-11-16T14:40:26.553Z"
   },
   {
    "duration": 13,
    "start_time": "2024-11-16T14:40:26.562Z"
   },
   {
    "duration": 67,
    "start_time": "2024-11-16T14:40:26.576Z"
   },
   {
    "duration": 14,
    "start_time": "2024-11-16T14:40:26.645Z"
   },
   {
    "duration": 7,
    "start_time": "2024-11-16T14:40:26.660Z"
   },
   {
    "duration": 4,
    "start_time": "2024-11-16T14:40:26.668Z"
   },
   {
    "duration": 10,
    "start_time": "2024-11-16T14:40:26.673Z"
   },
   {
    "duration": 17,
    "start_time": "2024-11-16T14:40:26.686Z"
   },
   {
    "duration": 33,
    "start_time": "2024-11-16T14:40:26.704Z"
   },
   {
    "duration": 20,
    "start_time": "2024-11-16T14:40:26.738Z"
   },
   {
    "duration": 8,
    "start_time": "2024-11-16T14:40:26.759Z"
   },
   {
    "duration": 67,
    "start_time": "2024-11-16T14:40:26.769Z"
   },
   {
    "duration": 1854,
    "start_time": "2024-11-16T14:40:26.837Z"
   },
   {
    "duration": 30,
    "start_time": "2024-11-16T14:40:28.693Z"
   },
   {
    "duration": 127368,
    "start_time": "2024-11-16T14:40:28.725Z"
   },
   {
    "duration": 35,
    "start_time": "2024-11-16T14:45:02.602Z"
   },
   {
    "duration": 2803,
    "start_time": "2024-11-16T14:45:09.248Z"
   },
   {
    "duration": 20,
    "start_time": "2024-11-16T14:45:12.054Z"
   },
   {
    "duration": 103,
    "start_time": "2024-11-16T14:45:12.076Z"
   },
   {
    "duration": 82,
    "start_time": "2024-11-16T14:45:12.181Z"
   },
   {
    "duration": 8,
    "start_time": "2024-11-16T14:45:12.265Z"
   },
   {
    "duration": 9,
    "start_time": "2024-11-16T14:45:12.275Z"
   },
   {
    "duration": 27,
    "start_time": "2024-11-16T14:45:12.285Z"
   },
   {
    "duration": 18,
    "start_time": "2024-11-16T14:45:12.325Z"
   },
   {
    "duration": 5,
    "start_time": "2024-11-16T14:45:12.344Z"
   },
   {
    "duration": 5,
    "start_time": "2024-11-16T14:45:12.351Z"
   },
   {
    "duration": 12,
    "start_time": "2024-11-16T14:45:12.357Z"
   },
   {
    "duration": 3,
    "start_time": "2024-11-16T14:45:12.370Z"
   },
   {
    "duration": 15,
    "start_time": "2024-11-16T14:45:12.375Z"
   },
   {
    "duration": 33,
    "start_time": "2024-11-16T14:45:12.393Z"
   },
   {
    "duration": 11,
    "start_time": "2024-11-16T14:45:12.427Z"
   },
   {
    "duration": 14,
    "start_time": "2024-11-16T14:45:12.439Z"
   },
   {
    "duration": 11,
    "start_time": "2024-11-16T14:45:12.455Z"
   },
   {
    "duration": 70,
    "start_time": "2024-11-16T14:45:12.467Z"
   },
   {
    "duration": 1684,
    "start_time": "2024-11-16T14:45:12.540Z"
   },
   {
    "duration": 23,
    "start_time": "2024-11-16T14:45:14.226Z"
   },
   {
    "duration": 120618,
    "start_time": "2024-11-16T14:45:14.250Z"
   },
   {
    "duration": 2762,
    "start_time": "2024-11-16T14:48:03.234Z"
   },
   {
    "duration": 11,
    "start_time": "2024-11-16T14:48:05.999Z"
   },
   {
    "duration": 146,
    "start_time": "2024-11-16T14:48:06.011Z"
   },
   {
    "duration": 70,
    "start_time": "2024-11-16T14:48:06.158Z"
   },
   {
    "duration": 6,
    "start_time": "2024-11-16T14:48:06.230Z"
   },
   {
    "duration": 60,
    "start_time": "2024-11-16T14:48:06.238Z"
   },
   {
    "duration": 23,
    "start_time": "2024-11-16T14:48:06.299Z"
   },
   {
    "duration": 38,
    "start_time": "2024-11-16T14:48:06.324Z"
   },
   {
    "duration": 28,
    "start_time": "2024-11-16T14:48:06.364Z"
   },
   {
    "duration": 12,
    "start_time": "2024-11-16T14:48:06.393Z"
   },
   {
    "duration": 7,
    "start_time": "2024-11-16T14:48:06.406Z"
   },
   {
    "duration": 4,
    "start_time": "2024-11-16T14:48:06.415Z"
   },
   {
    "duration": 30,
    "start_time": "2024-11-16T14:48:06.421Z"
   },
   {
    "duration": 19,
    "start_time": "2024-11-16T14:48:06.453Z"
   },
   {
    "duration": 16,
    "start_time": "2024-11-16T14:48:06.473Z"
   },
   {
    "duration": 9,
    "start_time": "2024-11-16T14:48:06.490Z"
   },
   {
    "duration": 7,
    "start_time": "2024-11-16T14:48:06.501Z"
   },
   {
    "duration": 55,
    "start_time": "2024-11-16T14:48:06.509Z"
   },
   {
    "duration": 1688,
    "start_time": "2024-11-16T14:48:06.565Z"
   },
   {
    "duration": 36,
    "start_time": "2024-11-16T14:48:08.255Z"
   },
   {
    "duration": 120035,
    "start_time": "2024-11-16T14:48:08.293Z"
   },
   {
    "duration": 3626,
    "start_time": "2024-11-16T15:26:14.608Z"
   },
   {
    "duration": 3917,
    "start_time": "2024-11-16T15:36:42.436Z"
   },
   {
    "duration": 4024,
    "start_time": "2024-11-16T15:37:16.010Z"
   },
   {
    "duration": 4109,
    "start_time": "2024-11-16T15:37:58.507Z"
   },
   {
    "duration": 3996,
    "start_time": "2024-11-16T15:48:43.995Z"
   },
   {
    "duration": 56,
    "start_time": "2024-11-17T05:45:33.658Z"
   },
   {
    "duration": 4375,
    "start_time": "2024-11-17T05:45:37.776Z"
   },
   {
    "duration": 2047,
    "start_time": "2024-11-17T05:45:42.153Z"
   },
   {
    "duration": 316,
    "start_time": "2024-11-17T05:45:44.202Z"
   },
   {
    "duration": 97,
    "start_time": "2024-11-17T05:45:44.521Z"
   },
   {
    "duration": 7,
    "start_time": "2024-11-17T05:45:44.620Z"
   },
   {
    "duration": 14,
    "start_time": "2024-11-17T05:45:44.629Z"
   },
   {
    "duration": 13,
    "start_time": "2024-11-17T05:45:44.644Z"
   },
   {
    "duration": 3,
    "start_time": "2024-11-17T05:45:44.659Z"
   },
   {
    "duration": 88,
    "start_time": "2024-11-17T05:45:44.664Z"
   },
   {
    "duration": 6,
    "start_time": "2024-11-17T05:45:44.755Z"
   },
   {
    "duration": 6,
    "start_time": "2024-11-17T05:45:44.762Z"
   },
   {
    "duration": 10,
    "start_time": "2024-11-17T05:45:44.770Z"
   },
   {
    "duration": 3854,
    "start_time": "2024-11-17T05:45:44.782Z"
   },
   {
    "duration": 11,
    "start_time": "2024-11-17T05:45:48.638Z"
   },
   {
    "duration": 84,
    "start_time": "2024-11-17T05:45:48.651Z"
   },
   {
    "duration": 13,
    "start_time": "2024-11-17T05:45:48.737Z"
   },
   {
    "duration": 63,
    "start_time": "2024-11-17T05:45:48.751Z"
   },
   {
    "duration": 1769,
    "start_time": "2024-11-17T05:45:48.815Z"
   },
   {
    "duration": 38,
    "start_time": "2024-11-17T05:45:50.585Z"
   },
   {
    "duration": 142130,
    "start_time": "2024-11-17T05:45:50.625Z"
   },
   {
    "duration": 28,
    "start_time": "2024-11-17T06:04:33.197Z"
   },
   {
    "duration": 27,
    "start_time": "2024-11-17T06:19:21.467Z"
   },
   {
    "duration": 2530,
    "start_time": "2024-11-17T06:19:40.785Z"
   },
   {
    "duration": 10,
    "start_time": "2024-11-17T06:19:43.317Z"
   },
   {
    "duration": 110,
    "start_time": "2024-11-17T06:19:43.328Z"
   },
   {
    "duration": 85,
    "start_time": "2024-11-17T06:19:43.440Z"
   },
   {
    "duration": 8,
    "start_time": "2024-11-17T06:19:43.528Z"
   },
   {
    "duration": 26,
    "start_time": "2024-11-17T06:19:43.537Z"
   },
   {
    "duration": 100,
    "start_time": "2024-11-17T06:19:43.564Z"
   },
   {
    "duration": 18,
    "start_time": "2024-11-17T06:19:43.666Z"
   },
   {
    "duration": 23,
    "start_time": "2024-11-17T06:19:43.685Z"
   },
   {
    "duration": 13,
    "start_time": "2024-11-17T06:19:43.710Z"
   },
   {
    "duration": 13,
    "start_time": "2024-11-17T06:19:43.725Z"
   },
   {
    "duration": 14,
    "start_time": "2024-11-17T06:19:43.739Z"
   },
   {
    "duration": 3974,
    "start_time": "2024-11-17T06:19:43.755Z"
   },
   {
    "duration": 9,
    "start_time": "2024-11-17T06:19:47.732Z"
   },
   {
    "duration": 47,
    "start_time": "2024-11-17T06:19:47.743Z"
   },
   {
    "duration": 25,
    "start_time": "2024-11-17T06:19:47.792Z"
   },
   {
    "duration": 78,
    "start_time": "2024-11-17T06:19:47.819Z"
   },
   {
    "duration": 1729,
    "start_time": "2024-11-17T06:19:47.899Z"
   },
   {
    "duration": 70,
    "start_time": "2024-11-17T06:19:49.630Z"
   },
   {
    "duration": 0,
    "start_time": "2024-11-17T06:19:49.702Z"
   },
   {
    "duration": 0,
    "start_time": "2024-11-17T06:19:49.703Z"
   },
   {
    "duration": 0,
    "start_time": "2024-11-17T06:22:45.936Z"
   },
   {
    "duration": 0,
    "start_time": "2024-11-17T06:22:45.938Z"
   },
   {
    "duration": 0,
    "start_time": "2024-11-17T06:22:45.940Z"
   },
   {
    "duration": 0,
    "start_time": "2024-11-17T06:22:45.941Z"
   },
   {
    "duration": 0,
    "start_time": "2024-11-17T06:22:45.942Z"
   },
   {
    "duration": 0,
    "start_time": "2024-11-17T06:22:45.943Z"
   },
   {
    "duration": 0,
    "start_time": "2024-11-17T06:22:45.944Z"
   },
   {
    "duration": 0,
    "start_time": "2024-11-17T06:22:45.946Z"
   },
   {
    "duration": 0,
    "start_time": "2024-11-17T06:22:45.947Z"
   },
   {
    "duration": 0,
    "start_time": "2024-11-17T06:22:45.948Z"
   },
   {
    "duration": 0,
    "start_time": "2024-11-17T06:22:45.949Z"
   },
   {
    "duration": 0,
    "start_time": "2024-11-17T06:22:45.950Z"
   },
   {
    "duration": 0,
    "start_time": "2024-11-17T06:22:45.952Z"
   },
   {
    "duration": 0,
    "start_time": "2024-11-17T06:22:45.953Z"
   },
   {
    "duration": 0,
    "start_time": "2024-11-17T06:22:45.954Z"
   },
   {
    "duration": 0,
    "start_time": "2024-11-17T06:22:45.955Z"
   },
   {
    "duration": 0,
    "start_time": "2024-11-17T06:22:46.018Z"
   },
   {
    "duration": 0,
    "start_time": "2024-11-17T06:22:46.019Z"
   },
   {
    "duration": 0,
    "start_time": "2024-11-17T06:22:46.020Z"
   },
   {
    "duration": 0,
    "start_time": "2024-11-17T06:22:46.021Z"
   },
   {
    "duration": 0,
    "start_time": "2024-11-17T06:22:46.022Z"
   },
   {
    "duration": 2528,
    "start_time": "2024-11-17T06:23:24.141Z"
   },
   {
    "duration": 8,
    "start_time": "2024-11-17T06:23:26.672Z"
   },
   {
    "duration": 99,
    "start_time": "2024-11-17T06:23:26.681Z"
   },
   {
    "duration": 80,
    "start_time": "2024-11-17T06:23:26.783Z"
   },
   {
    "duration": 7,
    "start_time": "2024-11-17T06:23:26.865Z"
   },
   {
    "duration": 35,
    "start_time": "2024-11-17T06:23:26.874Z"
   },
   {
    "duration": 14,
    "start_time": "2024-11-17T06:23:26.911Z"
   },
   {
    "duration": 5,
    "start_time": "2024-11-17T06:23:26.927Z"
   },
   {
    "duration": 6,
    "start_time": "2024-11-17T06:23:26.934Z"
   },
   {
    "duration": 10,
    "start_time": "2024-11-17T06:23:26.943Z"
   },
   {
    "duration": 7,
    "start_time": "2024-11-17T06:23:26.955Z"
   },
   {
    "duration": 17,
    "start_time": "2024-11-17T06:23:26.963Z"
   },
   {
    "duration": 3947,
    "start_time": "2024-11-17T06:23:26.982Z"
   },
   {
    "duration": 10,
    "start_time": "2024-11-17T06:23:30.931Z"
   },
   {
    "duration": 24,
    "start_time": "2024-11-17T06:23:30.942Z"
   },
   {
    "duration": 35,
    "start_time": "2024-11-17T06:23:30.967Z"
   },
   {
    "duration": 71,
    "start_time": "2024-11-17T06:23:31.004Z"
   },
   {
    "duration": 1910,
    "start_time": "2024-11-17T06:23:31.078Z"
   },
   {
    "duration": 45,
    "start_time": "2024-11-17T06:23:32.990Z"
   },
   {
    "duration": 142358,
    "start_time": "2024-11-17T06:23:33.038Z"
   },
   {
    "duration": 42,
    "start_time": "2024-11-17T06:25:55.399Z"
   },
   {
    "duration": 14,
    "start_time": "2024-11-17T06:30:41.340Z"
   },
   {
    "duration": 58,
    "start_time": "2024-11-17T06:32:56.757Z"
   },
   {
    "duration": 59,
    "start_time": "2024-11-17T06:40:34.290Z"
   },
   {
    "duration": 13,
    "start_time": "2024-11-17T06:40:59.521Z"
   },
   {
    "duration": 16,
    "start_time": "2024-11-17T06:41:12.347Z"
   },
   {
    "duration": 35,
    "start_time": "2024-11-17T06:43:32.252Z"
   },
   {
    "duration": 4,
    "start_time": "2024-11-17T06:47:10.224Z"
   },
   {
    "duration": 71,
    "start_time": "2024-11-17T06:47:57.398Z"
   },
   {
    "duration": 35,
    "start_time": "2024-11-17T06:48:24.851Z"
   },
   {
    "duration": 38,
    "start_time": "2024-11-17T06:48:45.522Z"
   },
   {
    "duration": 57,
    "start_time": "2024-11-17T06:52:27.409Z"
   },
   {
    "duration": 75,
    "start_time": "2024-11-17T06:57:40.720Z"
   },
   {
    "duration": 66,
    "start_time": "2024-11-17T06:58:15.472Z"
   },
   {
    "duration": 61,
    "start_time": "2024-11-17T07:02:28.580Z"
   },
   {
    "duration": 64,
    "start_time": "2024-11-17T07:06:55.213Z"
   },
   {
    "duration": 92,
    "start_time": "2024-11-17T07:15:21.385Z"
   },
   {
    "duration": 29,
    "start_time": "2024-11-17T07:24:23.543Z"
   },
   {
    "duration": 33,
    "start_time": "2024-11-17T07:31:05.925Z"
   },
   {
    "duration": 2566,
    "start_time": "2024-11-17T07:31:11.219Z"
   },
   {
    "duration": 11,
    "start_time": "2024-11-17T07:31:13.789Z"
   },
   {
    "duration": 108,
    "start_time": "2024-11-17T07:31:13.801Z"
   },
   {
    "duration": 82,
    "start_time": "2024-11-17T07:31:13.911Z"
   },
   {
    "duration": 22,
    "start_time": "2024-11-17T07:31:13.995Z"
   },
   {
    "duration": 10,
    "start_time": "2024-11-17T07:31:14.019Z"
   },
   {
    "duration": 14,
    "start_time": "2024-11-17T07:31:14.031Z"
   },
   {
    "duration": 5,
    "start_time": "2024-11-17T07:31:14.046Z"
   },
   {
    "duration": 22,
    "start_time": "2024-11-17T07:31:14.052Z"
   },
   {
    "duration": 5,
    "start_time": "2024-11-17T07:31:14.076Z"
   },
   {
    "duration": 12,
    "start_time": "2024-11-17T07:31:14.083Z"
   },
   {
    "duration": 25,
    "start_time": "2024-11-17T07:31:14.096Z"
   },
   {
    "duration": 3937,
    "start_time": "2024-11-17T07:31:14.123Z"
   },
   {
    "duration": 10,
    "start_time": "2024-11-17T07:31:18.063Z"
   },
   {
    "duration": 6,
    "start_time": "2024-11-17T07:31:18.074Z"
   },
   {
    "duration": 12,
    "start_time": "2024-11-17T07:31:18.081Z"
   },
   {
    "duration": 76,
    "start_time": "2024-11-17T07:31:18.095Z"
   },
   {
    "duration": 1814,
    "start_time": "2024-11-17T07:31:18.173Z"
   },
   {
    "duration": 38,
    "start_time": "2024-11-17T07:31:19.988Z"
   },
   {
    "duration": 143470,
    "start_time": "2024-11-17T07:31:20.028Z"
   },
   {
    "duration": 0,
    "start_time": "2024-11-17T07:33:43.575Z"
   },
   {
    "duration": 25,
    "start_time": "2024-11-17T07:37:30.135Z"
   },
   {
    "duration": 2538,
    "start_time": "2024-11-17T07:37:50.124Z"
   },
   {
    "duration": 9,
    "start_time": "2024-11-17T07:37:52.665Z"
   },
   {
    "duration": 114,
    "start_time": "2024-11-17T07:37:52.676Z"
   },
   {
    "duration": 103,
    "start_time": "2024-11-17T07:37:52.792Z"
   },
   {
    "duration": 23,
    "start_time": "2024-11-17T07:37:52.898Z"
   },
   {
    "duration": 38,
    "start_time": "2024-11-17T07:37:52.923Z"
   },
   {
    "duration": 27,
    "start_time": "2024-11-17T07:37:52.963Z"
   },
   {
    "duration": 13,
    "start_time": "2024-11-17T07:37:52.992Z"
   },
   {
    "duration": 22,
    "start_time": "2024-11-17T07:37:53.006Z"
   },
   {
    "duration": 6,
    "start_time": "2024-11-17T07:37:53.030Z"
   },
   {
    "duration": 7,
    "start_time": "2024-11-17T07:37:53.038Z"
   },
   {
    "duration": 28,
    "start_time": "2024-11-17T07:37:53.047Z"
   },
   {
    "duration": 4041,
    "start_time": "2024-11-17T07:37:53.077Z"
   },
   {
    "duration": 10,
    "start_time": "2024-11-17T07:37:57.120Z"
   },
   {
    "duration": 66,
    "start_time": "2024-11-17T07:37:57.132Z"
   },
   {
    "duration": 9,
    "start_time": "2024-11-17T07:37:57.199Z"
   },
   {
    "duration": 63,
    "start_time": "2024-11-17T07:37:57.210Z"
   },
   {
    "duration": 1857,
    "start_time": "2024-11-17T07:37:57.274Z"
   },
   {
    "duration": 36,
    "start_time": "2024-11-17T07:37:59.134Z"
   },
   {
    "duration": 143834,
    "start_time": "2024-11-17T07:37:59.171Z"
   },
   {
    "duration": 49,
    "start_time": "2024-11-17T07:40:23.007Z"
   },
   {
    "duration": 22,
    "start_time": "2024-11-17T07:45:57.675Z"
   },
   {
    "duration": 19,
    "start_time": "2024-11-17T07:54:39.986Z"
   },
   {
    "duration": 2604,
    "start_time": "2024-11-17T07:55:22.973Z"
   },
   {
    "duration": 14,
    "start_time": "2024-11-17T07:55:25.580Z"
   },
   {
    "duration": 107,
    "start_time": "2024-11-17T07:55:25.596Z"
   },
   {
    "duration": 114,
    "start_time": "2024-11-17T07:55:25.705Z"
   },
   {
    "duration": 8,
    "start_time": "2024-11-17T07:55:25.821Z"
   },
   {
    "duration": 11,
    "start_time": "2024-11-17T07:55:25.830Z"
   },
   {
    "duration": 13,
    "start_time": "2024-11-17T07:55:25.843Z"
   },
   {
    "duration": 5,
    "start_time": "2024-11-17T07:55:25.858Z"
   },
   {
    "duration": 11,
    "start_time": "2024-11-17T07:55:25.864Z"
   },
   {
    "duration": 42,
    "start_time": "2024-11-17T07:55:25.876Z"
   },
   {
    "duration": 4,
    "start_time": "2024-11-17T07:55:25.920Z"
   },
   {
    "duration": 9,
    "start_time": "2024-11-17T07:55:25.926Z"
   },
   {
    "duration": 4150,
    "start_time": "2024-11-17T07:55:25.936Z"
   },
   {
    "duration": 11,
    "start_time": "2024-11-17T07:55:30.089Z"
   },
   {
    "duration": 39,
    "start_time": "2024-11-17T07:55:30.102Z"
   },
   {
    "duration": 34,
    "start_time": "2024-11-17T07:55:30.143Z"
   },
   {
    "duration": 88,
    "start_time": "2024-11-17T07:55:30.180Z"
   },
   {
    "duration": 1991,
    "start_time": "2024-11-17T07:55:30.270Z"
   },
   {
    "duration": 32,
    "start_time": "2024-11-17T07:55:32.264Z"
   },
   {
    "duration": 153222,
    "start_time": "2024-11-17T07:55:32.298Z"
   },
   {
    "duration": 21,
    "start_time": "2024-11-17T07:58:05.522Z"
   },
   {
    "duration": 21,
    "start_time": "2024-11-17T07:58:22.284Z"
   },
   {
    "duration": 3711105,
    "start_time": "2024-11-17T07:59:54.603Z"
   },
   {
    "duration": 191,
    "start_time": "2024-11-17T12:32:21.063Z"
   },
   {
    "duration": 1094,
    "start_time": "2024-11-17T14:28:18.531Z"
   },
   {
    "duration": 19,
    "start_time": "2024-11-17T14:32:20.384Z"
   },
   {
    "duration": 1157,
    "start_time": "2024-11-17T14:35:45.572Z"
   },
   {
    "duration": 2565,
    "start_time": "2024-11-17T14:37:19.623Z"
   },
   {
    "duration": 10,
    "start_time": "2024-11-17T14:37:22.191Z"
   },
   {
    "duration": 112,
    "start_time": "2024-11-17T14:37:22.203Z"
   },
   {
    "duration": 80,
    "start_time": "2024-11-17T14:37:22.317Z"
   },
   {
    "duration": 19,
    "start_time": "2024-11-17T14:37:22.399Z"
   },
   {
    "duration": 21,
    "start_time": "2024-11-17T14:37:22.420Z"
   },
   {
    "duration": 15,
    "start_time": "2024-11-17T14:37:22.443Z"
   },
   {
    "duration": 5,
    "start_time": "2024-11-17T14:37:22.459Z"
   },
   {
    "duration": 12,
    "start_time": "2024-11-17T14:37:22.466Z"
   },
   {
    "duration": 7,
    "start_time": "2024-11-17T14:37:22.480Z"
   },
   {
    "duration": 25,
    "start_time": "2024-11-17T14:37:22.489Z"
   },
   {
    "duration": 8,
    "start_time": "2024-11-17T14:37:22.515Z"
   },
   {
    "duration": 3983,
    "start_time": "2024-11-17T14:37:22.524Z"
   },
   {
    "duration": 11,
    "start_time": "2024-11-17T14:37:26.517Z"
   },
   {
    "duration": 6,
    "start_time": "2024-11-17T14:37:26.529Z"
   },
   {
    "duration": 19,
    "start_time": "2024-11-17T14:37:26.536Z"
   },
   {
    "duration": 91,
    "start_time": "2024-11-17T14:37:26.556Z"
   },
   {
    "duration": 1744,
    "start_time": "2024-11-17T14:37:26.649Z"
   },
   {
    "duration": 37,
    "start_time": "2024-11-17T14:37:28.395Z"
   },
   {
    "duration": 140493,
    "start_time": "2024-11-17T14:37:28.434Z"
   },
   {
    "duration": 1012,
    "start_time": "2024-11-17T14:39:48.929Z"
   },
   {
    "duration": 184,
    "start_time": "2024-11-17T14:39:49.943Z"
   },
   {
    "duration": 101,
    "start_time": "2024-11-17T16:44:13.871Z"
   },
   {
    "duration": 279,
    "start_time": "2024-11-17T16:44:44.994Z"
   },
   {
    "duration": 206,
    "start_time": "2024-11-17T16:44:59.618Z"
   },
   {
    "duration": 123,
    "start_time": "2024-11-17T16:45:18.946Z"
   },
   {
    "duration": 136,
    "start_time": "2024-11-17T16:45:39.323Z"
   },
   {
    "duration": 27,
    "start_time": "2024-11-17T17:35:10.695Z"
   },
   {
    "duration": 30,
    "start_time": "2024-11-17T17:36:56.994Z"
   },
   {
    "duration": 228,
    "start_time": "2024-11-17T17:40:45.980Z"
   },
   {
    "duration": 16,
    "start_time": "2024-11-17T18:00:05.435Z"
   },
   {
    "duration": 253,
    "start_time": "2024-11-17T18:00:45.429Z"
   },
   {
    "duration": 2769,
    "start_time": "2024-11-17T18:04:27.507Z"
   },
   {
    "duration": 9,
    "start_time": "2024-11-17T18:04:30.279Z"
   },
   {
    "duration": 157,
    "start_time": "2024-11-17T18:04:30.290Z"
   },
   {
    "duration": 126,
    "start_time": "2024-11-17T18:04:30.449Z"
   },
   {
    "duration": 10,
    "start_time": "2024-11-17T18:04:30.578Z"
   },
   {
    "duration": 64,
    "start_time": "2024-11-17T18:04:30.590Z"
   },
   {
    "duration": 53,
    "start_time": "2024-11-17T18:04:30.656Z"
   },
   {
    "duration": 39,
    "start_time": "2024-11-17T18:04:30.711Z"
   },
   {
    "duration": 37,
    "start_time": "2024-11-17T18:04:30.752Z"
   },
   {
    "duration": 42,
    "start_time": "2024-11-17T18:04:30.793Z"
   },
   {
    "duration": 34,
    "start_time": "2024-11-17T18:04:30.837Z"
   },
   {
    "duration": 62,
    "start_time": "2024-11-17T18:04:30.873Z"
   },
   {
    "duration": 57,
    "start_time": "2024-11-17T18:04:30.937Z"
   },
   {
    "duration": 0,
    "start_time": "2024-11-17T18:04:30.996Z"
   },
   {
    "duration": 0,
    "start_time": "2024-11-17T18:04:30.997Z"
   },
   {
    "duration": 0,
    "start_time": "2024-11-17T18:04:30.998Z"
   },
   {
    "duration": 0,
    "start_time": "2024-11-17T18:04:31.000Z"
   },
   {
    "duration": 0,
    "start_time": "2024-11-17T18:04:31.002Z"
   },
   {
    "duration": 0,
    "start_time": "2024-11-17T18:04:31.003Z"
   },
   {
    "duration": 0,
    "start_time": "2024-11-17T18:04:31.004Z"
   },
   {
    "duration": 0,
    "start_time": "2024-11-17T18:04:31.006Z"
   },
   {
    "duration": 0,
    "start_time": "2024-11-17T18:04:31.018Z"
   },
   {
    "duration": 0,
    "start_time": "2024-11-17T18:04:31.019Z"
   },
   {
    "duration": 0,
    "start_time": "2024-11-17T18:04:31.020Z"
   },
   {
    "duration": 23,
    "start_time": "2024-11-17T18:05:07.484Z"
   },
   {
    "duration": 26,
    "start_time": "2024-11-17T18:07:05.485Z"
   },
   {
    "duration": 25,
    "start_time": "2024-11-17T18:08:08.736Z"
   },
   {
    "duration": 118,
    "start_time": "2024-11-17T18:15:45.019Z"
   },
   {
    "duration": 237,
    "start_time": "2024-11-17T18:20:13.782Z"
   },
   {
    "duration": 232,
    "start_time": "2024-11-17T18:20:21.499Z"
   },
   {
    "duration": 4196,
    "start_time": "2024-11-17T18:21:39.540Z"
   },
   {
    "duration": 4246,
    "start_time": "2024-11-17T18:26:02.489Z"
   },
   {
    "duration": 17,
    "start_time": "2024-11-17T19:24:02.829Z"
   },
   {
    "duration": 4,
    "start_time": "2024-11-17T19:24:08.529Z"
   },
   {
    "duration": 6,
    "start_time": "2024-11-17T19:24:11.835Z"
   },
   {
    "duration": 2666,
    "start_time": "2024-11-17T19:25:59.356Z"
   },
   {
    "duration": 13,
    "start_time": "2024-11-17T19:26:02.026Z"
   },
   {
    "duration": 127,
    "start_time": "2024-11-17T19:26:02.041Z"
   },
   {
    "duration": 121,
    "start_time": "2024-11-17T19:26:02.170Z"
   },
   {
    "duration": 32,
    "start_time": "2024-11-17T19:26:02.294Z"
   },
   {
    "duration": 55,
    "start_time": "2024-11-17T19:26:02.328Z"
   },
   {
    "duration": 136,
    "start_time": "2024-11-17T19:26:02.385Z"
   },
   {
    "duration": 95,
    "start_time": "2024-11-17T19:26:02.523Z"
   },
   {
    "duration": 47,
    "start_time": "2024-11-17T19:26:02.620Z"
   },
   {
    "duration": 44,
    "start_time": "2024-11-17T19:26:02.669Z"
   },
   {
    "duration": 63,
    "start_time": "2024-11-17T19:26:02.715Z"
   },
   {
    "duration": 72,
    "start_time": "2024-11-17T19:26:02.780Z"
   },
   {
    "duration": 0,
    "start_time": "2024-11-17T19:26:02.854Z"
   },
   {
    "duration": 0,
    "start_time": "2024-11-17T19:26:02.855Z"
   },
   {
    "duration": 0,
    "start_time": "2024-11-17T19:26:02.857Z"
   },
   {
    "duration": 0,
    "start_time": "2024-11-17T19:26:02.858Z"
   },
   {
    "duration": 0,
    "start_time": "2024-11-17T19:26:02.859Z"
   },
   {
    "duration": 0,
    "start_time": "2024-11-17T19:26:02.860Z"
   },
   {
    "duration": 0,
    "start_time": "2024-11-17T19:26:02.861Z"
   },
   {
    "duration": 0,
    "start_time": "2024-11-17T19:26:02.862Z"
   },
   {
    "duration": 0,
    "start_time": "2024-11-17T19:26:02.864Z"
   },
   {
    "duration": 0,
    "start_time": "2024-11-17T19:26:02.864Z"
   },
   {
    "duration": 0,
    "start_time": "2024-11-17T19:26:02.866Z"
   },
   {
    "duration": 16,
    "start_time": "2024-11-17T19:30:06.018Z"
   },
   {
    "duration": 17,
    "start_time": "2024-11-17T19:30:32.929Z"
   },
   {
    "duration": 2693,
    "start_time": "2024-11-17T19:30:37.566Z"
   },
   {
    "duration": 12,
    "start_time": "2024-11-17T19:30:40.262Z"
   },
   {
    "duration": 131,
    "start_time": "2024-11-17T19:30:40.276Z"
   },
   {
    "duration": 310,
    "start_time": "2024-11-17T19:30:40.409Z"
   },
   {
    "duration": 8,
    "start_time": "2024-11-17T19:30:40.720Z"
   },
   {
    "duration": 11,
    "start_time": "2024-11-17T19:30:40.729Z"
   },
   {
    "duration": 14,
    "start_time": "2024-11-17T19:30:40.741Z"
   },
   {
    "duration": 5,
    "start_time": "2024-11-17T19:30:40.757Z"
   },
   {
    "duration": 7,
    "start_time": "2024-11-17T19:30:40.764Z"
   },
   {
    "duration": 4,
    "start_time": "2024-11-17T19:30:40.817Z"
   },
   {
    "duration": 9,
    "start_time": "2024-11-17T19:30:40.823Z"
   },
   {
    "duration": 16,
    "start_time": "2024-11-17T19:30:40.834Z"
   },
   {
    "duration": 0,
    "start_time": "2024-11-17T19:30:40.852Z"
   },
   {
    "duration": 0,
    "start_time": "2024-11-17T19:30:40.853Z"
   },
   {
    "duration": 1,
    "start_time": "2024-11-17T19:30:40.854Z"
   },
   {
    "duration": 0,
    "start_time": "2024-11-17T19:30:40.856Z"
   },
   {
    "duration": 0,
    "start_time": "2024-11-17T19:30:40.857Z"
   },
   {
    "duration": 0,
    "start_time": "2024-11-17T19:30:40.858Z"
   },
   {
    "duration": 0,
    "start_time": "2024-11-17T19:30:40.859Z"
   },
   {
    "duration": 0,
    "start_time": "2024-11-17T19:30:40.860Z"
   },
   {
    "duration": 0,
    "start_time": "2024-11-17T19:30:40.861Z"
   },
   {
    "duration": 0,
    "start_time": "2024-11-17T19:30:40.862Z"
   },
   {
    "duration": 0,
    "start_time": "2024-11-17T19:30:40.863Z"
   },
   {
    "duration": 15,
    "start_time": "2024-11-17T19:31:59.150Z"
   },
   {
    "duration": 253,
    "start_time": "2024-11-17T19:33:57.498Z"
   },
   {
    "duration": 244,
    "start_time": "2024-11-17T19:34:06.965Z"
   },
   {
    "duration": 4,
    "start_time": "2024-11-17T19:36:06.384Z"
   },
   {
    "duration": 5,
    "start_time": "2024-11-17T19:36:08.502Z"
   },
   {
    "duration": 67,
    "start_time": "2024-11-17T19:36:13.503Z"
   },
   {
    "duration": 4668,
    "start_time": "2024-11-17T19:36:28.762Z"
   },
   {
    "duration": 10,
    "start_time": "2024-11-17T19:36:36.327Z"
   },
   {
    "duration": 5,
    "start_time": "2024-11-17T19:36:40.687Z"
   },
   {
    "duration": 7,
    "start_time": "2024-11-17T19:36:41.784Z"
   },
   {
    "duration": 1848,
    "start_time": "2024-11-17T19:36:48.576Z"
   },
   {
    "duration": 26,
    "start_time": "2024-11-17T19:37:08.463Z"
   },
   {
    "duration": 148258,
    "start_time": "2024-11-17T19:37:19.586Z"
   },
   {
    "duration": 15,
    "start_time": "2024-11-17T19:55:28.097Z"
   },
   {
    "duration": 16,
    "start_time": "2024-11-17T19:56:15.731Z"
   },
   {
    "duration": 6,
    "start_time": "2024-11-17T19:56:33.566Z"
   },
   {
    "duration": 1225,
    "start_time": "2024-11-17T20:07:38.784Z"
   },
   {
    "duration": 203,
    "start_time": "2024-11-17T20:11:20.176Z"
   },
   {
    "duration": 19,
    "start_time": "2024-11-17T20:11:44.851Z"
   },
   {
    "duration": 2881,
    "start_time": "2024-11-17T20:11:49.308Z"
   },
   {
    "duration": 7,
    "start_time": "2024-11-17T20:11:52.192Z"
   },
   {
    "duration": 109,
    "start_time": "2024-11-17T20:11:52.201Z"
   },
   {
    "duration": 142,
    "start_time": "2024-11-17T20:11:52.312Z"
   },
   {
    "duration": 10,
    "start_time": "2024-11-17T20:11:52.457Z"
   },
   {
    "duration": 22,
    "start_time": "2024-11-17T20:11:52.470Z"
   },
   {
    "duration": 21,
    "start_time": "2024-11-17T20:11:52.517Z"
   },
   {
    "duration": 13,
    "start_time": "2024-11-17T20:11:52.540Z"
   },
   {
    "duration": 9,
    "start_time": "2024-11-17T20:11:52.556Z"
   },
   {
    "duration": 5,
    "start_time": "2024-11-17T20:11:52.568Z"
   },
   {
    "duration": 14,
    "start_time": "2024-11-17T20:11:52.575Z"
   },
   {
    "duration": 414,
    "start_time": "2024-11-17T20:11:52.619Z"
   },
   {
    "duration": 376,
    "start_time": "2024-11-17T20:11:53.035Z"
   },
   {
    "duration": 5045,
    "start_time": "2024-11-17T20:11:53.414Z"
   },
   {
    "duration": 11,
    "start_time": "2024-11-17T20:11:58.461Z"
   },
   {
    "duration": 14,
    "start_time": "2024-11-17T20:11:58.474Z"
   },
   {
    "duration": 68,
    "start_time": "2024-11-17T20:11:58.489Z"
   },
   {
    "duration": 72,
    "start_time": "2024-11-17T20:11:58.560Z"
   },
   {
    "duration": 2208,
    "start_time": "2024-11-17T20:11:58.638Z"
   },
   {
    "duration": 8,
    "start_time": "2024-11-17T20:12:00.848Z"
   },
   {
    "duration": 40,
    "start_time": "2024-11-17T20:12:00.858Z"
   },
   {
    "duration": 175928,
    "start_time": "2024-11-17T20:12:00.900Z"
   },
   {
    "duration": 1038,
    "start_time": "2024-11-17T20:14:56.830Z"
   },
   {
    "duration": 213,
    "start_time": "2024-11-17T20:14:57.870Z"
   },
   {
    "duration": 44,
    "start_time": "2024-11-17T20:14:58.085Z"
   },
   {
    "duration": 2318,
    "start_time": "2024-11-17T20:20:51.113Z"
   },
   {
    "duration": 2570,
    "start_time": "2024-11-17T20:25:33.993Z"
   },
   {
    "duration": 3023,
    "start_time": "2024-11-17T20:34:51.500Z"
   },
   {
    "duration": 2185,
    "start_time": "2024-11-17T20:59:54.005Z"
   },
   {
    "duration": 2152,
    "start_time": "2024-11-17T21:00:38.116Z"
   },
   {
    "duration": 2211,
    "start_time": "2024-11-17T21:02:24.737Z"
   },
   {
    "duration": 2500,
    "start_time": "2024-11-17T21:02:48.967Z"
   },
   {
    "duration": 2745,
    "start_time": "2024-11-17T21:03:31.074Z"
   },
   {
    "duration": 47,
    "start_time": "2024-11-18T06:43:17.128Z"
   },
   {
    "duration": 4389,
    "start_time": "2024-11-18T06:43:22.282Z"
   },
   {
    "duration": 1932,
    "start_time": "2024-11-18T06:43:26.673Z"
   },
   {
    "duration": 409,
    "start_time": "2024-11-18T06:43:28.607Z"
   },
   {
    "duration": 109,
    "start_time": "2024-11-18T06:43:29.018Z"
   },
   {
    "duration": 8,
    "start_time": "2024-11-18T06:43:29.129Z"
   },
   {
    "duration": 21,
    "start_time": "2024-11-18T06:43:29.138Z"
   },
   {
    "duration": 13,
    "start_time": "2024-11-18T06:43:29.161Z"
   },
   {
    "duration": 5,
    "start_time": "2024-11-18T06:43:29.175Z"
   },
   {
    "duration": 12,
    "start_time": "2024-11-18T06:43:29.182Z"
   },
   {
    "duration": 26,
    "start_time": "2024-11-18T06:43:29.196Z"
   },
   {
    "duration": 8,
    "start_time": "2024-11-18T06:43:29.223Z"
   },
   {
    "duration": 249,
    "start_time": "2024-11-18T06:43:29.233Z"
   },
   {
    "duration": 212,
    "start_time": "2024-11-18T06:43:29.484Z"
   },
   {
    "duration": 3957,
    "start_time": "2024-11-18T06:43:29.697Z"
   },
   {
    "duration": 9,
    "start_time": "2024-11-18T06:43:33.656Z"
   },
   {
    "duration": 5,
    "start_time": "2024-11-18T06:43:33.666Z"
   },
   {
    "duration": 11,
    "start_time": "2024-11-18T06:43:33.673Z"
   },
   {
    "duration": 188,
    "start_time": "2024-11-18T06:43:33.685Z"
   },
   {
    "duration": 1707,
    "start_time": "2024-11-18T06:43:33.874Z"
   },
   {
    "duration": 6,
    "start_time": "2024-11-18T06:43:35.582Z"
   },
   {
    "duration": 63,
    "start_time": "2024-11-18T06:43:35.590Z"
   },
   {
    "duration": 135543,
    "start_time": "2024-11-18T06:43:35.655Z"
   },
   {
    "duration": 105,
    "start_time": "2024-11-18T06:45:51.200Z"
   },
   {
    "duration": 0,
    "start_time": "2024-11-18T06:45:51.307Z"
   },
   {
    "duration": 0,
    "start_time": "2024-11-18T06:45:51.308Z"
   },
   {
    "duration": 0,
    "start_time": "2024-11-18T06:45:51.309Z"
   },
   {
    "duration": 12,
    "start_time": "2024-11-18T06:48:20.746Z"
   },
   {
    "duration": 20,
    "start_time": "2024-11-18T06:53:15.713Z"
   },
   {
    "duration": 2394,
    "start_time": "2024-11-18T06:53:36.789Z"
   },
   {
    "duration": 5,
    "start_time": "2024-11-18T06:53:39.186Z"
   },
   {
    "duration": 122,
    "start_time": "2024-11-18T06:53:39.192Z"
   },
   {
    "duration": 117,
    "start_time": "2024-11-18T06:53:39.316Z"
   },
   {
    "duration": 8,
    "start_time": "2024-11-18T06:53:39.436Z"
   },
   {
    "duration": 10,
    "start_time": "2024-11-18T06:53:39.445Z"
   },
   {
    "duration": 13,
    "start_time": "2024-11-18T06:53:39.457Z"
   },
   {
    "duration": 6,
    "start_time": "2024-11-18T06:53:39.471Z"
   },
   {
    "duration": 11,
    "start_time": "2024-11-18T06:53:39.478Z"
   },
   {
    "duration": 44,
    "start_time": "2024-11-18T06:53:39.490Z"
   },
   {
    "duration": 8,
    "start_time": "2024-11-18T06:53:39.535Z"
   },
   {
    "duration": 236,
    "start_time": "2024-11-18T06:53:39.545Z"
   },
   {
    "duration": 214,
    "start_time": "2024-11-18T06:53:39.782Z"
   },
   {
    "duration": 3784,
    "start_time": "2024-11-18T06:53:39.998Z"
   },
   {
    "duration": 11,
    "start_time": "2024-11-18T06:53:43.783Z"
   },
   {
    "duration": 23,
    "start_time": "2024-11-18T06:53:43.795Z"
   },
   {
    "duration": 28,
    "start_time": "2024-11-18T06:53:43.819Z"
   },
   {
    "duration": 76,
    "start_time": "2024-11-18T06:53:43.849Z"
   },
   {
    "duration": 1821,
    "start_time": "2024-11-18T06:53:43.927Z"
   },
   {
    "duration": 6,
    "start_time": "2024-11-18T06:53:45.749Z"
   },
   {
    "duration": 79,
    "start_time": "2024-11-18T06:53:45.756Z"
   },
   {
    "duration": 137362,
    "start_time": "2024-11-18T06:53:45.836Z"
   },
   {
    "duration": 28,
    "start_time": "2024-11-18T06:56:03.199Z"
   },
   {
    "duration": 0,
    "start_time": "2024-11-18T06:56:03.229Z"
   },
   {
    "duration": 0,
    "start_time": "2024-11-18T06:56:03.230Z"
   },
   {
    "duration": 4903,
    "start_time": "2024-12-02T08:57:30.156Z"
   },
   {
    "duration": 2153,
    "start_time": "2024-12-02T08:57:35.061Z"
   },
   {
    "duration": 492,
    "start_time": "2024-12-02T08:57:37.215Z"
   },
   {
    "duration": 154,
    "start_time": "2024-12-02T08:57:37.709Z"
   },
   {
    "duration": 8,
    "start_time": "2024-12-02T08:57:37.866Z"
   },
   {
    "duration": 58,
    "start_time": "2024-12-02T08:57:37.875Z"
   },
   {
    "duration": 73,
    "start_time": "2024-12-02T08:57:37.935Z"
   },
   {
    "duration": 22,
    "start_time": "2024-12-02T08:57:38.010Z"
   },
   {
    "duration": 43,
    "start_time": "2024-12-02T08:57:38.033Z"
   },
   {
    "duration": 25,
    "start_time": "2024-12-02T08:57:38.078Z"
   },
   {
    "duration": 52,
    "start_time": "2024-12-02T08:57:38.105Z"
   },
   {
    "duration": 315,
    "start_time": "2024-12-02T08:57:38.159Z"
   },
   {
    "duration": 1273,
    "start_time": "2024-12-02T08:57:38.475Z"
   },
   {
    "duration": 0,
    "start_time": "2024-12-02T08:57:39.749Z"
   },
   {
    "duration": 0,
    "start_time": "2024-12-02T08:57:39.750Z"
   },
   {
    "duration": 0,
    "start_time": "2024-12-02T08:57:39.751Z"
   },
   {
    "duration": 0,
    "start_time": "2024-12-02T08:57:39.753Z"
   },
   {
    "duration": 0,
    "start_time": "2024-12-02T08:57:39.754Z"
   },
   {
    "duration": 0,
    "start_time": "2024-12-02T08:57:39.755Z"
   },
   {
    "duration": 0,
    "start_time": "2024-12-02T08:57:39.756Z"
   },
   {
    "duration": 0,
    "start_time": "2024-12-02T08:57:39.757Z"
   },
   {
    "duration": 0,
    "start_time": "2024-12-02T08:57:39.758Z"
   },
   {
    "duration": 0,
    "start_time": "2024-12-02T08:57:39.759Z"
   },
   {
    "duration": 0,
    "start_time": "2024-12-02T08:57:39.760Z"
   },
   {
    "duration": 0,
    "start_time": "2024-12-02T08:57:39.761Z"
   },
   {
    "duration": 230,
    "start_time": "2024-12-02T09:27:23.547Z"
   },
   {
    "duration": 4207,
    "start_time": "2024-12-02T09:27:49.682Z"
   },
   {
    "duration": 11,
    "start_time": "2024-12-02T09:28:17.067Z"
   },
   {
    "duration": 10,
    "start_time": "2024-12-02T09:29:41.952Z"
   },
   {
    "duration": 5,
    "start_time": "2024-12-02T10:12:04.955Z"
   },
   {
    "duration": 5,
    "start_time": "2024-12-02T10:12:06.453Z"
   },
   {
    "duration": 4,
    "start_time": "2024-12-02T10:12:21.035Z"
   },
   {
    "duration": 64,
    "start_time": "2024-12-02T10:12:31.757Z"
   },
   {
    "duration": 1913,
    "start_time": "2024-12-02T10:12:36.857Z"
   },
   {
    "duration": 6,
    "start_time": "2024-12-02T10:12:44.338Z"
   },
   {
    "duration": 27,
    "start_time": "2024-12-02T10:12:52.077Z"
   },
   {
    "duration": 143954,
    "start_time": "2024-12-02T10:13:00.257Z"
   },
   {
    "duration": 20,
    "start_time": "2024-12-02T10:15:24.212Z"
   },
   {
    "duration": 2649,
    "start_time": "2024-12-02T10:15:31.089Z"
   },
   {
    "duration": 6,
    "start_time": "2024-12-02T10:15:33.740Z"
   },
   {
    "duration": 150,
    "start_time": "2024-12-02T10:15:33.747Z"
   },
   {
    "duration": 131,
    "start_time": "2024-12-02T10:15:33.899Z"
   },
   {
    "duration": 7,
    "start_time": "2024-12-02T10:15:34.032Z"
   },
   {
    "duration": 11,
    "start_time": "2024-12-02T10:15:34.063Z"
   },
   {
    "duration": 20,
    "start_time": "2024-12-02T10:15:34.076Z"
   },
   {
    "duration": 6,
    "start_time": "2024-12-02T10:15:34.098Z"
   },
   {
    "duration": 53,
    "start_time": "2024-12-02T10:15:34.105Z"
   },
   {
    "duration": 7,
    "start_time": "2024-12-02T10:15:34.159Z"
   },
   {
    "duration": 15,
    "start_time": "2024-12-02T10:15:34.167Z"
   },
   {
    "duration": 259,
    "start_time": "2024-12-02T10:15:34.184Z"
   },
   {
    "duration": 232,
    "start_time": "2024-12-02T10:15:34.445Z"
   },
   {
    "duration": 4213,
    "start_time": "2024-12-02T10:15:34.679Z"
   },
   {
    "duration": 11,
    "start_time": "2024-12-02T10:15:38.894Z"
   },
   {
    "duration": 7,
    "start_time": "2024-12-02T10:15:38.907Z"
   },
   {
    "duration": 32,
    "start_time": "2024-12-02T10:15:38.916Z"
   },
   {
    "duration": 63,
    "start_time": "2024-12-02T10:15:38.949Z"
   },
   {
    "duration": 1816,
    "start_time": "2024-12-02T10:15:39.013Z"
   },
   {
    "duration": 6,
    "start_time": "2024-12-02T10:15:40.830Z"
   },
   {
    "duration": 43,
    "start_time": "2024-12-02T10:15:40.837Z"
   },
   {
    "duration": 143108,
    "start_time": "2024-12-02T10:15:40.882Z"
   },
   {
    "duration": 24,
    "start_time": "2024-12-02T10:18:03.992Z"
   },
   {
    "duration": 0,
    "start_time": "2024-12-02T10:18:04.017Z"
   },
   {
    "duration": 0,
    "start_time": "2024-12-02T10:18:04.018Z"
   },
   {
    "duration": 25,
    "start_time": "2024-12-02T11:33:20.486Z"
   },
   {
    "duration": 21,
    "start_time": "2024-12-02T11:35:12.777Z"
   },
   {
    "duration": 22,
    "start_time": "2024-12-02T11:36:03.584Z"
   },
   {
    "duration": 59714045,
    "start_time": "2024-12-02T11:37:47.748Z"
   },
   {
    "duration": 43,
    "start_time": "2024-12-04T20:52:09.889Z"
   },
   {
    "duration": 4519,
    "start_time": "2024-12-04T20:52:28.548Z"
   },
   {
    "duration": 1829,
    "start_time": "2024-12-04T20:52:33.070Z"
   },
   {
    "duration": 371,
    "start_time": "2024-12-04T20:52:34.900Z"
   },
   {
    "duration": 76,
    "start_time": "2024-12-04T20:52:35.273Z"
   },
   {
    "duration": 23,
    "start_time": "2024-12-04T20:52:35.351Z"
   },
   {
    "duration": 16,
    "start_time": "2024-12-04T20:52:35.375Z"
   },
   {
    "duration": 11,
    "start_time": "2024-12-04T20:52:35.393Z"
   },
   {
    "duration": 5,
    "start_time": "2024-12-04T20:52:35.405Z"
   },
   {
    "duration": 8,
    "start_time": "2024-12-04T20:52:35.412Z"
   },
   {
    "duration": 12,
    "start_time": "2024-12-04T20:52:35.421Z"
   },
   {
    "duration": 24,
    "start_time": "2024-12-04T20:52:35.434Z"
   },
   {
    "duration": 217,
    "start_time": "2024-12-04T20:52:35.460Z"
   },
   {
    "duration": 195,
    "start_time": "2024-12-04T20:52:35.678Z"
   },
   {
    "duration": 3347,
    "start_time": "2024-12-04T20:52:35.875Z"
   },
   {
    "duration": 8,
    "start_time": "2024-12-04T20:52:39.223Z"
   },
   {
    "duration": 5,
    "start_time": "2024-12-04T20:52:39.232Z"
   },
   {
    "duration": 4,
    "start_time": "2024-12-04T20:52:39.238Z"
   },
   {
    "duration": 63,
    "start_time": "2024-12-04T20:52:39.244Z"
   },
   {
    "duration": 1521,
    "start_time": "2024-12-04T20:52:39.308Z"
   },
   {
    "duration": 5,
    "start_time": "2024-12-04T20:52:40.830Z"
   },
   {
    "duration": 25,
    "start_time": "2024-12-04T20:52:40.836Z"
   },
   {
    "duration": 108971,
    "start_time": "2024-12-04T20:52:40.871Z"
   },
   {
    "duration": 11,
    "start_time": "2024-12-05T10:02:43.452Z"
   },
   {
    "duration": 2574,
    "start_time": "2024-12-05T23:35:37.477Z"
   },
   {
    "duration": 5,
    "start_time": "2024-12-05T23:35:40.053Z"
   },
   {
    "duration": 2688,
    "start_time": "2024-12-06T13:14:30.248Z"
   },
   {
    "duration": 1751,
    "start_time": "2024-12-06T13:14:32.938Z"
   },
   {
    "duration": 120,
    "start_time": "2024-12-06T13:14:34.690Z"
   },
   {
    "duration": 98,
    "start_time": "2024-12-06T13:14:34.812Z"
   },
   {
    "duration": 6,
    "start_time": "2024-12-06T13:14:34.911Z"
   },
   {
    "duration": 31,
    "start_time": "2024-12-06T13:14:34.918Z"
   },
   {
    "duration": 11,
    "start_time": "2024-12-06T13:14:34.950Z"
   },
   {
    "duration": 6,
    "start_time": "2024-12-06T13:14:34.962Z"
   },
   {
    "duration": 14,
    "start_time": "2024-12-06T13:14:34.969Z"
   },
   {
    "duration": 12,
    "start_time": "2024-12-06T13:14:34.985Z"
   },
   {
    "duration": 14,
    "start_time": "2024-12-06T13:14:34.998Z"
   },
   {
    "duration": 237,
    "start_time": "2024-12-06T13:14:35.014Z"
   },
   {
    "duration": 198,
    "start_time": "2024-12-06T13:14:35.253Z"
   },
   {
    "duration": 3495,
    "start_time": "2024-12-06T13:14:35.452Z"
   },
   {
    "duration": 8,
    "start_time": "2024-12-06T13:14:38.948Z"
   },
   {
    "duration": 28,
    "start_time": "2024-12-06T13:14:38.957Z"
   },
   {
    "duration": 4,
    "start_time": "2024-12-06T13:14:38.987Z"
   },
   {
    "duration": 67,
    "start_time": "2024-12-06T13:14:38.993Z"
   },
   {
    "duration": 1528,
    "start_time": "2024-12-06T13:14:39.062Z"
   },
   {
    "duration": 5,
    "start_time": "2024-12-06T13:14:40.591Z"
   },
   {
    "duration": 22,
    "start_time": "2024-12-06T13:14:40.597Z"
   },
   {
    "duration": 114134,
    "start_time": "2024-12-06T13:14:40.620Z"
   },
   {
    "duration": 2693,
    "start_time": "2024-12-06T13:19:06.863Z"
   },
   {
    "duration": 1673,
    "start_time": "2024-12-06T13:19:09.558Z"
   },
   {
    "duration": 120,
    "start_time": "2024-12-06T13:19:11.232Z"
   },
   {
    "duration": 88,
    "start_time": "2024-12-06T13:19:11.353Z"
   },
   {
    "duration": 7,
    "start_time": "2024-12-06T13:19:11.442Z"
   },
   {
    "duration": 28,
    "start_time": "2024-12-06T13:19:11.450Z"
   },
   {
    "duration": 13,
    "start_time": "2024-12-06T13:19:11.479Z"
   },
   {
    "duration": 4,
    "start_time": "2024-12-06T13:19:11.493Z"
   },
   {
    "duration": 7,
    "start_time": "2024-12-06T13:19:11.499Z"
   },
   {
    "duration": 7,
    "start_time": "2024-12-06T13:19:11.507Z"
   },
   {
    "duration": 7,
    "start_time": "2024-12-06T13:19:11.515Z"
   },
   {
    "duration": 250,
    "start_time": "2024-12-06T13:19:11.523Z"
   },
   {
    "duration": 221,
    "start_time": "2024-12-06T13:19:11.776Z"
   },
   {
    "duration": 3379,
    "start_time": "2024-12-06T13:19:12.000Z"
   },
   {
    "duration": 10,
    "start_time": "2024-12-06T13:19:15.381Z"
   },
   {
    "duration": 17,
    "start_time": "2024-12-06T13:19:15.393Z"
   },
   {
    "duration": 24,
    "start_time": "2024-12-06T13:19:15.411Z"
   },
   {
    "duration": 89,
    "start_time": "2024-12-06T13:19:15.436Z"
   },
   {
    "duration": 1585,
    "start_time": "2024-12-06T13:19:15.526Z"
   },
   {
    "duration": 4,
    "start_time": "2024-12-06T13:19:17.113Z"
   },
   {
    "duration": 33,
    "start_time": "2024-12-06T13:19:17.118Z"
   },
   {
    "duration": 115954,
    "start_time": "2024-12-06T13:19:17.153Z"
   },
   {
    "duration": 252212,
    "start_time": "2024-12-06T13:21:13.108Z"
   },
   {
    "duration": 172,
    "start_time": "2024-12-06T13:25:25.321Z"
   },
   {
    "duration": 2112,
    "start_time": "2024-12-06T13:25:25.494Z"
   },
   {
    "duration": 56,
    "start_time": "2024-12-06T13:26:41.056Z"
   },
   {
    "duration": 50,
    "start_time": "2024-12-08T18:23:54.325Z"
   },
   {
    "duration": 4191,
    "start_time": "2024-12-08T18:24:02.890Z"
   },
   {
    "duration": 2543,
    "start_time": "2024-12-08T18:24:07.083Z"
   },
   {
    "duration": 216,
    "start_time": "2024-12-08T18:24:09.628Z"
   },
   {
    "duration": 0,
    "start_time": "2024-12-08T18:24:09.846Z"
   },
   {
    "duration": 0,
    "start_time": "2024-12-08T18:24:09.847Z"
   },
   {
    "duration": 0,
    "start_time": "2024-12-08T18:24:09.848Z"
   },
   {
    "duration": 0,
    "start_time": "2024-12-08T18:24:09.848Z"
   },
   {
    "duration": 0,
    "start_time": "2024-12-08T18:24:09.850Z"
   },
   {
    "duration": 0,
    "start_time": "2024-12-08T18:24:09.850Z"
   },
   {
    "duration": 0,
    "start_time": "2024-12-08T18:24:09.851Z"
   },
   {
    "duration": 0,
    "start_time": "2024-12-08T18:24:09.852Z"
   },
   {
    "duration": 0,
    "start_time": "2024-12-08T18:24:09.853Z"
   },
   {
    "duration": 0,
    "start_time": "2024-12-08T18:24:09.855Z"
   },
   {
    "duration": 0,
    "start_time": "2024-12-08T18:24:09.856Z"
   },
   {
    "duration": 0,
    "start_time": "2024-12-08T18:24:09.857Z"
   },
   {
    "duration": 0,
    "start_time": "2024-12-08T18:24:09.858Z"
   },
   {
    "duration": 0,
    "start_time": "2024-12-08T18:24:09.859Z"
   },
   {
    "duration": 0,
    "start_time": "2024-12-08T18:24:09.860Z"
   },
   {
    "duration": 0,
    "start_time": "2024-12-08T18:24:09.861Z"
   },
   {
    "duration": 0,
    "start_time": "2024-12-08T18:24:09.862Z"
   },
   {
    "duration": 0,
    "start_time": "2024-12-08T18:24:09.863Z"
   },
   {
    "duration": 0,
    "start_time": "2024-12-08T18:24:09.892Z"
   },
   {
    "duration": 0,
    "start_time": "2024-12-08T18:24:09.893Z"
   },
   {
    "duration": 0,
    "start_time": "2024-12-08T18:24:09.894Z"
   },
   {
    "duration": 0,
    "start_time": "2024-12-08T18:24:09.896Z"
   },
   {
    "duration": 0,
    "start_time": "2024-12-08T18:24:09.897Z"
   },
   {
    "duration": 0,
    "start_time": "2024-12-08T18:24:09.898Z"
   },
   {
    "duration": 0,
    "start_time": "2024-12-08T18:24:09.899Z"
   },
   {
    "duration": 0,
    "start_time": "2024-12-08T18:24:09.900Z"
   },
   {
    "duration": 0,
    "start_time": "2024-12-08T18:24:09.901Z"
   },
   {
    "duration": 0,
    "start_time": "2024-12-08T18:24:09.902Z"
   },
   {
    "duration": 318,
    "start_time": "2024-12-08T18:28:17.184Z"
   },
   {
    "duration": 11577,
    "start_time": "2024-12-08T18:31:02.067Z"
   },
   {
    "duration": 122,
    "start_time": "2024-12-08T18:38:20.710Z"
   },
   {
    "duration": 288,
    "start_time": "2024-12-08T18:41:09.778Z"
   },
   {
    "duration": 1275,
    "start_time": "2024-12-08T18:43:57.808Z"
   },
   {
    "duration": 6,
    "start_time": "2024-12-08T18:44:50.752Z"
   },
   {
    "duration": 9,
    "start_time": "2024-12-08T18:45:23.984Z"
   },
   {
    "duration": 346,
    "start_time": "2024-12-08T18:45:27.242Z"
   },
   {
    "duration": 13,
    "start_time": "2024-12-08T18:46:31.765Z"
   },
   {
    "duration": 343,
    "start_time": "2024-12-08T18:46:45.190Z"
   },
   {
    "duration": 3,
    "start_time": "2024-12-08T18:47:29.753Z"
   },
   {
    "duration": 332,
    "start_time": "2024-12-08T18:47:32.795Z"
   },
   {
    "duration": 49,
    "start_time": "2024-12-09T08:36:42.648Z"
   },
   {
    "duration": 5299,
    "start_time": "2024-12-09T08:36:48.853Z"
   },
   {
    "duration": 2121,
    "start_time": "2024-12-09T08:36:54.154Z"
   },
   {
    "duration": 437,
    "start_time": "2024-12-09T08:36:56.277Z"
   },
   {
    "duration": 121,
    "start_time": "2024-12-09T08:36:56.715Z"
   },
   {
    "duration": 7,
    "start_time": "2024-12-09T08:36:56.838Z"
   },
   {
    "duration": 14,
    "start_time": "2024-12-09T08:36:56.846Z"
   },
   {
    "duration": 14,
    "start_time": "2024-12-09T08:36:56.861Z"
   },
   {
    "duration": 5,
    "start_time": "2024-12-09T08:36:56.877Z"
   },
   {
    "duration": 9,
    "start_time": "2024-12-09T08:36:56.883Z"
   },
   {
    "duration": 32,
    "start_time": "2024-12-09T08:36:56.894Z"
   },
   {
    "duration": 15,
    "start_time": "2024-12-09T08:36:56.928Z"
   },
   {
    "duration": 278,
    "start_time": "2024-12-09T08:36:56.944Z"
   },
   {
    "duration": 261,
    "start_time": "2024-12-09T08:36:57.224Z"
   },
   {
    "duration": 13098,
    "start_time": "2024-12-09T08:36:57.487Z"
   },
   {
    "duration": 1351,
    "start_time": "2024-12-09T08:37:10.587Z"
   },
   {
    "duration": 0,
    "start_time": "2024-12-09T08:37:11.939Z"
   },
   {
    "duration": 0,
    "start_time": "2024-12-09T08:37:11.941Z"
   },
   {
    "duration": 0,
    "start_time": "2024-12-09T08:37:11.942Z"
   },
   {
    "duration": 0,
    "start_time": "2024-12-09T08:37:11.943Z"
   },
   {
    "duration": 0,
    "start_time": "2024-12-09T08:37:11.944Z"
   },
   {
    "duration": 0,
    "start_time": "2024-12-09T08:37:11.945Z"
   },
   {
    "duration": 0,
    "start_time": "2024-12-09T08:37:11.946Z"
   },
   {
    "duration": 0,
    "start_time": "2024-12-09T08:37:11.948Z"
   },
   {
    "duration": 0,
    "start_time": "2024-12-09T08:37:11.949Z"
   },
   {
    "duration": 0,
    "start_time": "2024-12-09T08:37:11.950Z"
   },
   {
    "duration": 0,
    "start_time": "2024-12-09T08:37:11.951Z"
   },
   {
    "duration": 0,
    "start_time": "2024-12-09T08:37:11.952Z"
   },
   {
    "duration": 0,
    "start_time": "2024-12-09T08:37:11.953Z"
   },
   {
    "duration": 0,
    "start_time": "2024-12-09T08:37:11.954Z"
   },
   {
    "duration": 0,
    "start_time": "2024-12-09T08:37:11.955Z"
   },
   {
    "duration": 0,
    "start_time": "2024-12-09T08:37:11.956Z"
   },
   {
    "duration": 0,
    "start_time": "2024-12-09T08:37:11.958Z"
   },
   {
    "duration": 1186,
    "start_time": "2024-12-09T08:38:15.233Z"
   },
   {
    "duration": 7,
    "start_time": "2024-12-09T08:38:27.995Z"
   },
   {
    "duration": 370,
    "start_time": "2024-12-09T08:38:47.564Z"
   },
   {
    "duration": 18,
    "start_time": "2024-12-09T08:39:00.687Z"
   },
   {
    "duration": 5,
    "start_time": "2024-12-09T08:42:53.830Z"
   },
   {
    "duration": 56,
    "start_time": "2024-12-09T08:43:02.982Z"
   },
   {
    "duration": 73,
    "start_time": "2024-12-09T08:47:03.445Z"
   },
   {
    "duration": 69,
    "start_time": "2024-12-10T15:52:32.356Z"
   },
   {
    "duration": 4772,
    "start_time": "2024-12-10T15:52:37.473Z"
   },
   {
    "duration": 2236,
    "start_time": "2024-12-10T15:52:42.248Z"
   },
   {
    "duration": 304,
    "start_time": "2024-12-10T15:52:44.487Z"
   },
   {
    "duration": 143,
    "start_time": "2024-12-10T15:52:44.793Z"
   },
   {
    "duration": 30,
    "start_time": "2024-12-10T15:52:44.938Z"
   },
   {
    "duration": 13,
    "start_time": "2024-12-10T15:52:44.978Z"
   },
   {
    "duration": 17,
    "start_time": "2024-12-10T15:52:44.993Z"
   },
   {
    "duration": 60,
    "start_time": "2024-12-10T15:52:45.012Z"
   },
   {
    "duration": 18,
    "start_time": "2024-12-10T15:52:45.078Z"
   },
   {
    "duration": 15,
    "start_time": "2024-12-10T15:52:45.098Z"
   },
   {
    "duration": 27,
    "start_time": "2024-12-10T15:52:45.115Z"
   },
   {
    "duration": 384,
    "start_time": "2024-12-10T15:52:45.144Z"
   },
   {
    "duration": 336,
    "start_time": "2024-12-10T15:52:45.530Z"
   },
   {
    "duration": 12362,
    "start_time": "2024-12-10T15:52:45.873Z"
   },
   {
    "duration": 10,
    "start_time": "2024-12-10T15:52:58.236Z"
   },
   {
    "duration": 402,
    "start_time": "2024-12-10T15:52:58.248Z"
   },
   {
    "duration": 3,
    "start_time": "2024-12-10T15:52:58.656Z"
   },
   {
    "duration": 9,
    "start_time": "2024-12-10T15:52:58.670Z"
   },
   {
    "duration": 123,
    "start_time": "2024-12-10T15:52:58.681Z"
   },
   {
    "duration": 0,
    "start_time": "2024-12-10T15:52:58.805Z"
   },
   {
    "duration": 0,
    "start_time": "2024-12-10T15:52:58.807Z"
   },
   {
    "duration": 0,
    "start_time": "2024-12-10T15:52:58.808Z"
   },
   {
    "duration": 0,
    "start_time": "2024-12-10T15:52:58.809Z"
   },
   {
    "duration": 0,
    "start_time": "2024-12-10T15:52:58.811Z"
   },
   {
    "duration": 0,
    "start_time": "2024-12-10T15:52:58.812Z"
   },
   {
    "duration": 0,
    "start_time": "2024-12-10T15:52:58.813Z"
   },
   {
    "duration": 0,
    "start_time": "2024-12-10T15:52:58.814Z"
   },
   {
    "duration": 0,
    "start_time": "2024-12-10T15:52:58.815Z"
   },
   {
    "duration": 0,
    "start_time": "2024-12-10T15:52:58.816Z"
   },
   {
    "duration": 0,
    "start_time": "2024-12-10T15:52:58.818Z"
   },
   {
    "duration": 0,
    "start_time": "2024-12-10T15:52:58.819Z"
   },
   {
    "duration": 0,
    "start_time": "2024-12-10T15:52:58.820Z"
   },
   {
    "duration": 20,
    "start_time": "2024-12-10T15:53:51.563Z"
   },
   {
    "duration": 20,
    "start_time": "2024-12-10T15:54:45.196Z"
   },
   {
    "duration": 52,
    "start_time": "2024-12-10T15:55:11.959Z"
   },
   {
    "duration": 63,
    "start_time": "2024-12-10T15:56:10.445Z"
   },
   {
    "duration": 45,
    "start_time": "2024-12-10T16:00:48.490Z"
   },
   {
    "duration": 2714,
    "start_time": "2024-12-10T16:01:05.081Z"
   },
   {
    "duration": 7,
    "start_time": "2024-12-10T16:01:07.798Z"
   },
   {
    "duration": 119,
    "start_time": "2024-12-10T16:01:07.807Z"
   },
   {
    "duration": 133,
    "start_time": "2024-12-10T16:01:07.928Z"
   },
   {
    "duration": 13,
    "start_time": "2024-12-10T16:01:08.068Z"
   },
   {
    "duration": 13,
    "start_time": "2024-12-10T16:01:08.083Z"
   },
   {
    "duration": 14,
    "start_time": "2024-12-10T16:01:08.098Z"
   },
   {
    "duration": 11,
    "start_time": "2024-12-10T16:01:08.113Z"
   },
   {
    "duration": 8,
    "start_time": "2024-12-10T16:01:08.125Z"
   },
   {
    "duration": 11,
    "start_time": "2024-12-10T16:01:08.163Z"
   },
   {
    "duration": 9,
    "start_time": "2024-12-10T16:01:08.176Z"
   },
   {
    "duration": 294,
    "start_time": "2024-12-10T16:01:08.187Z"
   },
   {
    "duration": 243,
    "start_time": "2024-12-10T16:01:08.483Z"
   },
   {
    "duration": 13954,
    "start_time": "2024-12-10T16:01:08.728Z"
   },
   {
    "duration": 8,
    "start_time": "2024-12-10T16:01:22.683Z"
   },
   {
    "duration": 401,
    "start_time": "2024-12-10T16:01:22.694Z"
   },
   {
    "duration": 4,
    "start_time": "2024-12-10T16:01:23.096Z"
   },
   {
    "duration": 29,
    "start_time": "2024-12-10T16:01:23.102Z"
   },
   {
    "duration": 96,
    "start_time": "2024-12-10T16:01:23.133Z"
   },
   {
    "duration": 1571,
    "start_time": "2024-12-10T16:01:23.231Z"
   },
   {
    "duration": 6,
    "start_time": "2024-12-10T16:01:24.804Z"
   },
   {
    "duration": 33,
    "start_time": "2024-12-10T16:01:24.812Z"
   },
   {
    "duration": 16,
    "start_time": "2024-12-10T16:01:24.847Z"
   },
   {
    "duration": 8,
    "start_time": "2024-12-10T16:01:24.865Z"
   },
   {
    "duration": 4,
    "start_time": "2024-12-10T16:01:24.875Z"
   },
   {
    "duration": 7,
    "start_time": "2024-12-10T16:01:24.880Z"
   },
   {
    "duration": 4,
    "start_time": "2024-12-10T16:01:24.889Z"
   },
   {
    "duration": 6635,
    "start_time": "2024-12-10T16:01:24.896Z"
   },
   {
    "duration": 0,
    "start_time": "2024-12-10T16:01:31.534Z"
   },
   {
    "duration": 0,
    "start_time": "2024-12-10T16:01:31.535Z"
   },
   {
    "duration": 0,
    "start_time": "2024-12-10T16:01:31.537Z"
   },
   {
    "duration": 0,
    "start_time": "2024-12-10T16:01:31.538Z"
   },
   {
    "duration": 65,
    "start_time": "2024-12-10T16:07:26.043Z"
   },
   {
    "duration": 55,
    "start_time": "2024-12-10T16:08:15.920Z"
   },
   {
    "duration": 2617,
    "start_time": "2024-12-10T16:08:38.973Z"
   },
   {
    "duration": 6,
    "start_time": "2024-12-10T16:08:41.592Z"
   },
   {
    "duration": 125,
    "start_time": "2024-12-10T16:08:41.600Z"
   },
   {
    "duration": 144,
    "start_time": "2024-12-10T16:08:41.727Z"
   },
   {
    "duration": 10,
    "start_time": "2024-12-10T16:08:41.873Z"
   },
   {
    "duration": 16,
    "start_time": "2024-12-10T16:08:41.885Z"
   },
   {
    "duration": 14,
    "start_time": "2024-12-10T16:08:41.903Z"
   },
   {
    "duration": 5,
    "start_time": "2024-12-10T16:08:41.918Z"
   },
   {
    "duration": 38,
    "start_time": "2024-12-10T16:08:41.925Z"
   },
   {
    "duration": 16,
    "start_time": "2024-12-10T16:08:41.964Z"
   },
   {
    "duration": 18,
    "start_time": "2024-12-10T16:08:41.982Z"
   },
   {
    "duration": 237,
    "start_time": "2024-12-10T16:08:42.002Z"
   },
   {
    "duration": 242,
    "start_time": "2024-12-10T16:08:42.241Z"
   },
   {
    "duration": 13175,
    "start_time": "2024-12-10T16:08:42.486Z"
   },
   {
    "duration": 13,
    "start_time": "2024-12-10T16:08:55.663Z"
   },
   {
    "duration": 388,
    "start_time": "2024-12-10T16:08:55.677Z"
   },
   {
    "duration": 4,
    "start_time": "2024-12-10T16:08:56.074Z"
   },
   {
    "duration": 43,
    "start_time": "2024-12-10T16:08:56.080Z"
   },
   {
    "duration": 59,
    "start_time": "2024-12-10T16:08:56.125Z"
   },
   {
    "duration": 1442,
    "start_time": "2024-12-10T16:08:56.185Z"
   },
   {
    "duration": 7,
    "start_time": "2024-12-10T16:08:57.629Z"
   },
   {
    "duration": 40,
    "start_time": "2024-12-10T16:08:57.638Z"
   },
   {
    "duration": 12,
    "start_time": "2024-12-10T16:08:57.679Z"
   },
   {
    "duration": 6,
    "start_time": "2024-12-10T16:08:57.693Z"
   },
   {
    "duration": 12,
    "start_time": "2024-12-10T16:08:57.700Z"
   },
   {
    "duration": 3,
    "start_time": "2024-12-10T16:08:57.714Z"
   },
   {
    "duration": 5,
    "start_time": "2024-12-10T16:08:57.719Z"
   },
   {
    "duration": 7250,
    "start_time": "2024-12-10T16:08:57.726Z"
   },
   {
    "duration": 0,
    "start_time": "2024-12-10T16:09:04.978Z"
   },
   {
    "duration": 0,
    "start_time": "2024-12-10T16:09:04.979Z"
   },
   {
    "duration": 0,
    "start_time": "2024-12-10T16:09:04.981Z"
   },
   {
    "duration": 0,
    "start_time": "2024-12-10T16:09:04.982Z"
   },
   {
    "duration": 64,
    "start_time": "2024-12-10T16:09:34.475Z"
   },
   {
    "duration": 56,
    "start_time": "2024-12-10T16:25:56.341Z"
   },
   {
    "duration": 52,
    "start_time": "2024-12-10T16:27:06.387Z"
   },
   {
    "duration": 47,
    "start_time": "2024-12-10T17:02:01.441Z"
   },
   {
    "duration": 61,
    "start_time": "2024-12-10T17:21:50.323Z"
   },
   {
    "duration": 57,
    "start_time": "2024-12-10T17:22:51.840Z"
   },
   {
    "duration": 1303,
    "start_time": "2024-12-10T17:23:39.131Z"
   },
   {
    "duration": 15,
    "start_time": "2024-12-10T18:17:16.142Z"
   },
   {
    "duration": 12,
    "start_time": "2024-12-10T18:20:24.476Z"
   },
   {
    "duration": 3021,
    "start_time": "2024-12-10T18:22:53.510Z"
   },
   {
    "duration": 2358,
    "start_time": "2024-12-10T18:23:13.259Z"
   },
   {
    "duration": 2318,
    "start_time": "2024-12-10T18:23:15.619Z"
   },
   {
    "duration": 1836,
    "start_time": "2024-12-10T18:23:17.939Z"
   },
   {
    "duration": 110,
    "start_time": "2024-12-10T18:23:19.777Z"
   },
   {
    "duration": 98,
    "start_time": "2024-12-10T18:23:19.888Z"
   },
   {
    "duration": 6,
    "start_time": "2024-12-10T18:23:19.988Z"
   },
   {
    "duration": 17,
    "start_time": "2024-12-10T18:23:19.995Z"
   },
   {
    "duration": 12,
    "start_time": "2024-12-10T18:23:20.014Z"
   },
   {
    "duration": 29,
    "start_time": "2024-12-10T18:23:20.028Z"
   },
   {
    "duration": 4,
    "start_time": "2024-12-10T18:23:20.061Z"
   },
   {
    "duration": 8,
    "start_time": "2024-12-10T18:23:20.066Z"
   },
   {
    "duration": 13,
    "start_time": "2024-12-10T18:23:20.075Z"
   },
   {
    "duration": 250,
    "start_time": "2024-12-10T18:23:20.090Z"
   },
   {
    "duration": 204,
    "start_time": "2024-12-10T18:23:20.342Z"
   },
   {
    "duration": 11877,
    "start_time": "2024-12-10T18:23:20.554Z"
   },
   {
    "duration": 9,
    "start_time": "2024-12-10T18:23:32.433Z"
   },
   {
    "duration": 353,
    "start_time": "2024-12-10T18:23:32.443Z"
   },
   {
    "duration": 4,
    "start_time": "2024-12-10T18:23:32.797Z"
   },
   {
    "duration": 32,
    "start_time": "2024-12-10T18:23:32.802Z"
   },
   {
    "duration": 59,
    "start_time": "2024-12-10T18:23:32.836Z"
   },
   {
    "duration": 1099,
    "start_time": "2024-12-10T18:23:32.897Z"
   },
   {
    "duration": 12919,
    "start_time": "2024-12-10T18:23:33.997Z"
   },
   {
    "duration": 5,
    "start_time": "2024-12-10T18:23:46.918Z"
   },
   {
    "duration": 30,
    "start_time": "2024-12-10T18:23:46.924Z"
   },
   {
    "duration": 3,
    "start_time": "2024-12-10T18:23:46.956Z"
   },
   {
    "duration": 5,
    "start_time": "2024-12-10T18:23:46.961Z"
   },
   {
    "duration": 2,
    "start_time": "2024-12-10T18:23:46.968Z"
   },
   {
    "duration": 3,
    "start_time": "2024-12-10T18:23:46.973Z"
   },
   {
    "duration": 7,
    "start_time": "2024-12-10T18:23:46.977Z"
   },
   {
    "duration": 5522,
    "start_time": "2024-12-10T18:23:46.986Z"
   },
   {
    "duration": 0,
    "start_time": "2024-12-10T18:23:52.510Z"
   },
   {
    "duration": 0,
    "start_time": "2024-12-10T18:23:52.511Z"
   },
   {
    "duration": 0,
    "start_time": "2024-12-10T18:23:52.512Z"
   },
   {
    "duration": 0,
    "start_time": "2024-12-10T18:23:52.513Z"
   },
   {
    "duration": 3,
    "start_time": "2024-12-10T18:52:41.771Z"
   },
   {
    "duration": 14,
    "start_time": "2024-12-10T18:52:46.180Z"
   },
   {
    "duration": 5,
    "start_time": "2024-12-10T18:55:07.487Z"
   },
   {
    "duration": 5638,
    "start_time": "2024-12-10T18:58:28.676Z"
   },
   {
    "duration": 2346,
    "start_time": "2024-12-10T19:00:58.257Z"
   },
   {
    "duration": 2956,
    "start_time": "2024-12-10T19:01:00.606Z"
   },
   {
    "duration": 6,
    "start_time": "2024-12-10T19:01:03.563Z"
   },
   {
    "duration": 114,
    "start_time": "2024-12-10T19:01:03.571Z"
   },
   {
    "duration": 106,
    "start_time": "2024-12-10T19:01:03.687Z"
   },
   {
    "duration": 7,
    "start_time": "2024-12-10T19:01:03.795Z"
   },
   {
    "duration": 14,
    "start_time": "2024-12-10T19:01:03.803Z"
   },
   {
    "duration": 38,
    "start_time": "2024-12-10T19:01:03.819Z"
   },
   {
    "duration": 5,
    "start_time": "2024-12-10T19:01:03.858Z"
   },
   {
    "duration": 73,
    "start_time": "2024-12-10T19:01:03.864Z"
   },
   {
    "duration": 13,
    "start_time": "2024-12-10T19:01:03.938Z"
   },
   {
    "duration": 9,
    "start_time": "2024-12-10T19:01:03.952Z"
   },
   {
    "duration": 233,
    "start_time": "2024-12-10T19:01:03.962Z"
   },
   {
    "duration": 216,
    "start_time": "2024-12-10T19:01:04.198Z"
   },
   {
    "duration": 11565,
    "start_time": "2024-12-10T19:01:04.416Z"
   },
   {
    "duration": 8,
    "start_time": "2024-12-10T19:01:15.982Z"
   },
   {
    "duration": 524,
    "start_time": "2024-12-10T19:01:15.991Z"
   },
   {
    "duration": 4,
    "start_time": "2024-12-10T19:01:16.517Z"
   },
   {
    "duration": 33,
    "start_time": "2024-12-10T19:01:16.522Z"
   },
   {
    "duration": 48,
    "start_time": "2024-12-10T19:01:16.556Z"
   },
   {
    "duration": 12941,
    "start_time": "2024-12-10T19:01:16.605Z"
   },
   {
    "duration": 19,
    "start_time": "2024-12-10T19:01:29.548Z"
   },
   {
    "duration": 13,
    "start_time": "2024-12-10T19:01:29.568Z"
   },
   {
    "duration": 7,
    "start_time": "2024-12-10T19:01:29.582Z"
   },
   {
    "duration": 2,
    "start_time": "2024-12-10T19:01:29.591Z"
   },
   {
    "duration": 4,
    "start_time": "2024-12-10T19:01:29.594Z"
   },
   {
    "duration": 4,
    "start_time": "2024-12-10T19:01:29.599Z"
   },
   {
    "duration": 5458,
    "start_time": "2024-12-10T19:01:29.605Z"
   },
   {
    "duration": 0,
    "start_time": "2024-12-10T19:01:35.065Z"
   },
   {
    "duration": 0,
    "start_time": "2024-12-10T19:01:35.066Z"
   },
   {
    "duration": 0,
    "start_time": "2024-12-10T19:01:35.067Z"
   },
   {
    "duration": 0,
    "start_time": "2024-12-10T19:01:35.068Z"
   },
   {
    "duration": 5432,
    "start_time": "2024-12-10T19:03:23.884Z"
   },
   {
    "duration": 3,
    "start_time": "2024-12-10T19:05:43.782Z"
   },
   {
    "duration": 3,
    "start_time": "2024-12-10T19:07:18.835Z"
   },
   {
    "duration": 5515,
    "start_time": "2024-12-10T19:07:24.041Z"
   },
   {
    "duration": 2356,
    "start_time": "2024-12-10T19:07:38.374Z"
   },
   {
    "duration": 3194,
    "start_time": "2024-12-10T19:07:40.732Z"
   },
   {
    "duration": 6,
    "start_time": "2024-12-10T19:07:43.928Z"
   },
   {
    "duration": 127,
    "start_time": "2024-12-10T19:07:43.936Z"
   },
   {
    "duration": 114,
    "start_time": "2024-12-10T19:07:44.066Z"
   },
   {
    "duration": 8,
    "start_time": "2024-12-10T19:07:44.182Z"
   },
   {
    "duration": 22,
    "start_time": "2024-12-10T19:07:44.191Z"
   },
   {
    "duration": 12,
    "start_time": "2024-12-10T19:07:44.215Z"
   },
   {
    "duration": 26,
    "start_time": "2024-12-10T19:07:44.229Z"
   },
   {
    "duration": 6,
    "start_time": "2024-12-10T19:07:44.256Z"
   },
   {
    "duration": 5,
    "start_time": "2024-12-10T19:07:44.263Z"
   },
   {
    "duration": 8,
    "start_time": "2024-12-10T19:07:44.270Z"
   },
   {
    "duration": 275,
    "start_time": "2024-12-10T19:07:44.280Z"
   },
   {
    "duration": 211,
    "start_time": "2024-12-10T19:07:44.558Z"
   },
   {
    "duration": 11317,
    "start_time": "2024-12-10T19:07:44.770Z"
   },
   {
    "duration": 7,
    "start_time": "2024-12-10T19:07:56.088Z"
   },
   {
    "duration": 366,
    "start_time": "2024-12-10T19:07:56.096Z"
   },
   {
    "duration": 4,
    "start_time": "2024-12-10T19:07:56.464Z"
   },
   {
    "duration": 29,
    "start_time": "2024-12-10T19:07:56.470Z"
   },
   {
    "duration": 70,
    "start_time": "2024-12-10T19:07:56.501Z"
   },
   {
    "duration": 13127,
    "start_time": "2024-12-10T19:07:56.573Z"
   },
   {
    "duration": 18,
    "start_time": "2024-12-10T19:08:09.702Z"
   },
   {
    "duration": 13,
    "start_time": "2024-12-10T19:08:09.721Z"
   },
   {
    "duration": 22,
    "start_time": "2024-12-10T19:08:09.735Z"
   },
   {
    "duration": 4,
    "start_time": "2024-12-10T19:08:09.759Z"
   },
   {
    "duration": 6,
    "start_time": "2024-12-10T19:08:09.765Z"
   },
   {
    "duration": 5,
    "start_time": "2024-12-10T19:08:09.772Z"
   },
   {
    "duration": 286,
    "start_time": "2024-12-10T19:08:09.778Z"
   },
   {
    "duration": 0,
    "start_time": "2024-12-10T19:08:10.066Z"
   },
   {
    "duration": 0,
    "start_time": "2024-12-10T19:08:10.067Z"
   },
   {
    "duration": 0,
    "start_time": "2024-12-10T19:08:10.068Z"
   },
   {
    "duration": 0,
    "start_time": "2024-12-10T19:08:10.069Z"
   },
   {
    "duration": 2555,
    "start_time": "2024-12-10T19:48:11.133Z"
   },
   {
    "duration": 2320,
    "start_time": "2024-12-10T19:48:13.690Z"
   },
   {
    "duration": 5,
    "start_time": "2024-12-10T19:48:16.012Z"
   },
   {
    "duration": 114,
    "start_time": "2024-12-10T19:48:16.019Z"
   },
   {
    "duration": 91,
    "start_time": "2024-12-10T19:48:16.134Z"
   },
   {
    "duration": 6,
    "start_time": "2024-12-10T19:48:16.226Z"
   },
   {
    "duration": 25,
    "start_time": "2024-12-10T19:48:16.234Z"
   },
   {
    "duration": 14,
    "start_time": "2024-12-10T19:48:16.260Z"
   },
   {
    "duration": 9,
    "start_time": "2024-12-10T19:48:16.275Z"
   },
   {
    "duration": 6,
    "start_time": "2024-12-10T19:48:16.286Z"
   },
   {
    "duration": 5,
    "start_time": "2024-12-10T19:48:16.293Z"
   },
   {
    "duration": 28,
    "start_time": "2024-12-10T19:48:16.299Z"
   },
   {
    "duration": 234,
    "start_time": "2024-12-10T19:48:16.329Z"
   },
   {
    "duration": 199,
    "start_time": "2024-12-10T19:48:16.565Z"
   },
   {
    "duration": 12257,
    "start_time": "2024-12-10T19:48:16.765Z"
   },
   {
    "duration": 8,
    "start_time": "2024-12-10T19:48:29.024Z"
   },
   {
    "duration": 341,
    "start_time": "2024-12-10T19:48:29.034Z"
   },
   {
    "duration": 4,
    "start_time": "2024-12-10T19:48:29.377Z"
   },
   {
    "duration": 23,
    "start_time": "2024-12-10T19:48:29.383Z"
   },
   {
    "duration": 63,
    "start_time": "2024-12-10T19:48:29.407Z"
   },
   {
    "duration": 13005,
    "start_time": "2024-12-10T19:48:29.472Z"
   },
   {
    "duration": 15,
    "start_time": "2024-12-10T19:48:42.478Z"
   },
   {
    "duration": 4,
    "start_time": "2024-12-10T19:48:42.494Z"
   },
   {
    "duration": 13,
    "start_time": "2024-12-10T19:48:42.499Z"
   },
   {
    "duration": 3,
    "start_time": "2024-12-10T19:48:42.513Z"
   },
   {
    "duration": 4,
    "start_time": "2024-12-10T19:48:42.517Z"
   },
   {
    "duration": 4,
    "start_time": "2024-12-10T19:48:42.522Z"
   },
   {
    "duration": 11392,
    "start_time": "2024-12-10T19:48:42.529Z"
   },
   {
    "duration": 2315,
    "start_time": "2024-12-10T19:48:53.922Z"
   },
   {
    "duration": 266722,
    "start_time": "2024-12-10T19:48:56.238Z"
   },
   {
    "duration": 15,
    "start_time": "2024-12-10T19:53:22.962Z"
   },
   {
    "duration": 0,
    "start_time": "2024-12-10T19:53:22.979Z"
   },
   {
    "duration": 2342,
    "start_time": "2024-12-10T20:31:59.922Z"
   },
   {
    "duration": 267108,
    "start_time": "2024-12-10T20:44:35.361Z"
   },
   {
    "duration": 50,
    "start_time": "2024-12-11T06:34:12.611Z"
   },
   {
    "duration": 4596,
    "start_time": "2024-12-11T06:34:17.904Z"
   },
   {
    "duration": 3603,
    "start_time": "2024-12-11T06:34:22.502Z"
   },
   {
    "duration": 1911,
    "start_time": "2024-12-11T06:34:26.107Z"
   },
   {
    "duration": 364,
    "start_time": "2024-12-11T06:34:28.019Z"
   },
   {
    "duration": 105,
    "start_time": "2024-12-11T06:34:28.385Z"
   },
   {
    "duration": 7,
    "start_time": "2024-12-11T06:34:28.492Z"
   },
   {
    "duration": 40,
    "start_time": "2024-12-11T06:34:28.500Z"
   },
   {
    "duration": 25,
    "start_time": "2024-12-11T06:34:28.541Z"
   },
   {
    "duration": 26,
    "start_time": "2024-12-11T06:34:28.568Z"
   },
   {
    "duration": 34,
    "start_time": "2024-12-11T06:34:28.596Z"
   },
   {
    "duration": 30,
    "start_time": "2024-12-11T06:34:28.631Z"
   },
   {
    "duration": 44,
    "start_time": "2024-12-11T06:34:28.662Z"
   },
   {
    "duration": 257,
    "start_time": "2024-12-11T06:34:28.708Z"
   },
   {
    "duration": 197,
    "start_time": "2024-12-11T06:34:28.967Z"
   },
   {
    "duration": 10219,
    "start_time": "2024-12-11T06:34:29.166Z"
   },
   {
    "duration": 6,
    "start_time": "2024-12-11T06:34:39.387Z"
   },
   {
    "duration": 300,
    "start_time": "2024-12-11T06:34:39.394Z"
   },
   {
    "duration": 3,
    "start_time": "2024-12-11T06:34:39.696Z"
   },
   {
    "duration": 108,
    "start_time": "2024-12-11T06:34:39.700Z"
   },
   {
    "duration": 114,
    "start_time": "2024-12-11T06:34:39.810Z"
   },
   {
    "duration": 12064,
    "start_time": "2024-12-11T06:34:39.926Z"
   },
   {
    "duration": 15,
    "start_time": "2024-12-11T06:34:51.991Z"
   },
   {
    "duration": 26,
    "start_time": "2024-12-11T06:34:52.007Z"
   },
   {
    "duration": 28,
    "start_time": "2024-12-11T06:34:52.034Z"
   },
   {
    "duration": 14,
    "start_time": "2024-12-11T06:34:52.063Z"
   },
   {
    "duration": 18,
    "start_time": "2024-12-11T06:34:52.078Z"
   },
   {
    "duration": 14,
    "start_time": "2024-12-11T06:34:52.097Z"
   },
   {
    "duration": 10423,
    "start_time": "2024-12-11T06:34:52.112Z"
   },
   {
    "duration": 2369,
    "start_time": "2024-12-11T06:35:02.537Z"
   },
   {
    "duration": 260053,
    "start_time": "2024-12-11T06:35:04.907Z"
   },
   {
    "duration": 110,
    "start_time": "2024-12-11T06:39:24.962Z"
   },
   {
    "duration": 0,
    "start_time": "2024-12-11T06:39:25.074Z"
   },
   {
    "duration": 263036,
    "start_time": "2024-12-11T06:46:24.464Z"
   },
   {
    "duration": 3,
    "start_time": "2024-12-11T06:50:51.220Z"
   },
   {
    "duration": 160,
    "start_time": "2024-12-11T06:53:37.098Z"
   },
   {
    "duration": 1203,
    "start_time": "2024-12-11T06:55:48.958Z"
   },
   {
    "duration": 141,
    "start_time": "2024-12-11T08:17:30.568Z"
   },
   {
    "duration": 1713,
    "start_time": "2024-12-11T08:19:24.402Z"
   },
   {
    "duration": 1989,
    "start_time": "2024-12-11T08:25:33.549Z"
   },
   {
    "duration": 275861,
    "start_time": "2024-12-11T08:50:36.258Z"
   },
   {
    "duration": 278501,
    "start_time": "2024-12-11T09:12:37.210Z"
   },
   {
    "duration": 53,
    "start_time": "2024-12-11T11:21:21.925Z"
   },
   {
    "duration": 4517,
    "start_time": "2024-12-11T11:21:27.482Z"
   },
   {
    "duration": 3311,
    "start_time": "2024-12-11T11:21:32.001Z"
   },
   {
    "duration": 2087,
    "start_time": "2024-12-11T11:21:35.314Z"
   },
   {
    "duration": 305,
    "start_time": "2024-12-11T11:21:37.403Z"
   },
   {
    "duration": 129,
    "start_time": "2024-12-11T11:21:37.711Z"
   },
   {
    "duration": 9,
    "start_time": "2024-12-11T11:21:37.841Z"
   },
   {
    "duration": 41,
    "start_time": "2024-12-11T11:21:37.852Z"
   },
   {
    "duration": 34,
    "start_time": "2024-12-11T11:21:37.894Z"
   },
   {
    "duration": 16,
    "start_time": "2024-12-11T11:21:37.929Z"
   },
   {
    "duration": 34,
    "start_time": "2024-12-11T11:21:37.946Z"
   },
   {
    "duration": 20,
    "start_time": "2024-12-11T11:21:37.982Z"
   },
   {
    "duration": 32,
    "start_time": "2024-12-11T11:21:38.004Z"
   },
   {
    "duration": 323,
    "start_time": "2024-12-11T11:21:38.037Z"
   },
   {
    "duration": 221,
    "start_time": "2024-12-11T11:21:38.363Z"
   },
   {
    "duration": 12772,
    "start_time": "2024-12-11T11:21:38.592Z"
   },
   {
    "duration": 9,
    "start_time": "2024-12-11T11:21:51.366Z"
   },
   {
    "duration": 405,
    "start_time": "2024-12-11T11:21:51.377Z"
   },
   {
    "duration": 4,
    "start_time": "2024-12-11T11:21:51.783Z"
   },
   {
    "duration": 27,
    "start_time": "2024-12-11T11:21:51.791Z"
   },
   {
    "duration": 51,
    "start_time": "2024-12-11T11:21:51.820Z"
   },
   {
    "duration": 13532,
    "start_time": "2024-12-11T11:21:51.890Z"
   },
   {
    "duration": 17,
    "start_time": "2024-12-11T11:22:05.424Z"
   },
   {
    "duration": 22,
    "start_time": "2024-12-11T11:22:05.443Z"
   },
   {
    "duration": 34,
    "start_time": "2024-12-11T11:22:05.467Z"
   },
   {
    "duration": 16,
    "start_time": "2024-12-11T11:22:05.502Z"
   },
   {
    "duration": 28,
    "start_time": "2024-12-11T11:22:05.520Z"
   },
   {
    "duration": 48,
    "start_time": "2024-12-11T11:22:05.550Z"
   },
   {
    "duration": 12219,
    "start_time": "2024-12-11T11:22:05.600Z"
   },
   {
    "duration": 2690,
    "start_time": "2024-12-11T11:22:17.820Z"
   },
   {
    "duration": 312340,
    "start_time": "2024-12-11T11:22:20.512Z"
   },
   {
    "duration": 1863,
    "start_time": "2024-12-11T11:27:32.854Z"
   },
   {
    "duration": 52,
    "start_time": "2024-12-11T15:35:40.693Z"
   },
   {
    "duration": 4285,
    "start_time": "2024-12-11T15:35:45.490Z"
   },
   {
    "duration": 3137,
    "start_time": "2024-12-11T15:35:49.777Z"
   },
   {
    "duration": 1899,
    "start_time": "2024-12-11T15:35:52.915Z"
   },
   {
    "duration": 370,
    "start_time": "2024-12-11T15:35:54.816Z"
   },
   {
    "duration": 84,
    "start_time": "2024-12-11T15:35:55.188Z"
   },
   {
    "duration": 7,
    "start_time": "2024-12-11T15:35:55.273Z"
   },
   {
    "duration": 32,
    "start_time": "2024-12-11T15:35:55.281Z"
   },
   {
    "duration": 10,
    "start_time": "2024-12-11T15:35:55.314Z"
   },
   {
    "duration": 4,
    "start_time": "2024-12-11T15:35:55.326Z"
   },
   {
    "duration": 12,
    "start_time": "2024-12-11T15:35:55.331Z"
   },
   {
    "duration": 3,
    "start_time": "2024-12-11T15:35:55.344Z"
   },
   {
    "duration": 22,
    "start_time": "2024-12-11T15:35:55.348Z"
   },
   {
    "duration": 216,
    "start_time": "2024-12-11T15:35:55.371Z"
   },
   {
    "duration": 188,
    "start_time": "2024-12-11T15:35:55.590Z"
   },
   {
    "duration": 10145,
    "start_time": "2024-12-11T15:35:55.779Z"
   },
   {
    "duration": 7,
    "start_time": "2024-12-11T15:36:05.926Z"
   },
   {
    "duration": 309,
    "start_time": "2024-12-11T15:36:05.935Z"
   },
   {
    "duration": 4,
    "start_time": "2024-12-11T15:36:06.246Z"
   },
   {
    "duration": 69,
    "start_time": "2024-12-11T15:36:06.252Z"
   },
   {
    "duration": 64,
    "start_time": "2024-12-11T15:36:06.322Z"
   },
   {
    "duration": 11697,
    "start_time": "2024-12-11T15:36:06.387Z"
   },
   {
    "duration": 30,
    "start_time": "2024-12-11T15:36:18.086Z"
   },
   {
    "duration": 3,
    "start_time": "2024-12-11T15:36:18.118Z"
   },
   {
    "duration": 9,
    "start_time": "2024-12-11T15:36:18.123Z"
   },
   {
    "duration": 3,
    "start_time": "2024-12-11T15:36:18.134Z"
   },
   {
    "duration": 6,
    "start_time": "2024-12-11T15:36:18.138Z"
   },
   {
    "duration": 21,
    "start_time": "2024-12-11T15:36:18.146Z"
   },
   {
    "duration": 10184,
    "start_time": "2024-12-11T15:36:18.168Z"
   },
   {
    "duration": 2246,
    "start_time": "2024-12-11T15:36:28.353Z"
   },
   {
    "duration": 257549,
    "start_time": "2024-12-11T15:36:30.601Z"
   },
   {
    "duration": 1588,
    "start_time": "2024-12-11T15:40:48.151Z"
   },
   {
    "duration": 2617,
    "start_time": "2024-12-11T15:49:39.668Z"
   },
   {
    "duration": 2606,
    "start_time": "2024-12-11T15:49:42.287Z"
   },
   {
    "duration": 6,
    "start_time": "2024-12-11T15:49:44.895Z"
   },
   {
    "duration": 112,
    "start_time": "2024-12-11T15:49:44.903Z"
   },
   {
    "duration": 114,
    "start_time": "2024-12-11T15:49:45.017Z"
   },
   {
    "duration": 5,
    "start_time": "2024-12-11T15:49:45.133Z"
   },
   {
    "duration": 58,
    "start_time": "2024-12-11T15:49:45.140Z"
   },
   {
    "duration": 41,
    "start_time": "2024-12-11T15:49:45.200Z"
   },
   {
    "duration": 4,
    "start_time": "2024-12-11T15:49:45.243Z"
   },
   {
    "duration": 33,
    "start_time": "2024-12-11T15:49:45.249Z"
   },
   {
    "duration": 15,
    "start_time": "2024-12-11T15:49:45.283Z"
   },
   {
    "duration": 8,
    "start_time": "2024-12-11T15:49:45.300Z"
   },
   {
    "duration": 240,
    "start_time": "2024-12-11T15:49:45.310Z"
   },
   {
    "duration": 193,
    "start_time": "2024-12-11T15:49:45.552Z"
   },
   {
    "duration": 10060,
    "start_time": "2024-12-11T15:49:45.747Z"
   },
   {
    "duration": 7,
    "start_time": "2024-12-11T15:49:55.811Z"
   },
   {
    "duration": 293,
    "start_time": "2024-12-11T15:49:55.819Z"
   },
   {
    "duration": 4,
    "start_time": "2024-12-11T15:49:56.113Z"
   },
   {
    "duration": 24,
    "start_time": "2024-12-11T15:49:56.119Z"
   },
   {
    "duration": 45,
    "start_time": "2024-12-11T15:49:56.144Z"
   },
   {
    "duration": 11821,
    "start_time": "2024-12-11T15:49:56.191Z"
   },
   {
    "duration": 14,
    "start_time": "2024-12-11T15:50:08.014Z"
   },
   {
    "duration": 4,
    "start_time": "2024-12-11T15:50:08.029Z"
   },
   {
    "duration": 7,
    "start_time": "2024-12-11T15:50:08.034Z"
   },
   {
    "duration": 3,
    "start_time": "2024-12-11T15:50:08.043Z"
   },
   {
    "duration": 6,
    "start_time": "2024-12-11T15:50:08.048Z"
   },
   {
    "duration": 11,
    "start_time": "2024-12-11T15:50:08.055Z"
   },
   {
    "duration": 9797,
    "start_time": "2024-12-11T15:50:08.069Z"
   },
   {
    "duration": 3498,
    "start_time": "2024-12-11T15:50:17.867Z"
   },
   {
    "duration": 119,
    "start_time": "2024-12-11T15:50:21.366Z"
   },
   {
    "duration": 0,
    "start_time": "2024-12-11T15:50:21.486Z"
   },
   {
    "duration": 12,
    "start_time": "2024-12-11T16:07:17.184Z"
   },
   {
    "duration": 58,
    "start_time": "2024-12-11T17:29:33.104Z"
   },
   {
    "duration": 4487,
    "start_time": "2024-12-11T17:29:37.991Z"
   },
   {
    "duration": 3389,
    "start_time": "2024-12-11T17:29:42.481Z"
   },
   {
    "duration": 2203,
    "start_time": "2024-12-11T17:29:45.871Z"
   },
   {
    "duration": 314,
    "start_time": "2024-12-11T17:29:48.076Z"
   },
   {
    "duration": 112,
    "start_time": "2024-12-11T17:29:48.392Z"
   },
   {
    "duration": 28,
    "start_time": "2024-12-11T17:29:48.506Z"
   },
   {
    "duration": 40,
    "start_time": "2024-12-11T17:29:48.536Z"
   },
   {
    "duration": 15,
    "start_time": "2024-12-11T17:29:48.578Z"
   },
   {
    "duration": 5,
    "start_time": "2024-12-11T17:29:48.595Z"
   },
   {
    "duration": 4,
    "start_time": "2024-12-11T17:29:48.602Z"
   },
   {
    "duration": 8,
    "start_time": "2024-12-11T17:29:48.608Z"
   },
   {
    "duration": 19,
    "start_time": "2024-12-11T17:29:48.617Z"
   },
   {
    "duration": 272,
    "start_time": "2024-12-11T17:29:48.638Z"
   },
   {
    "duration": 228,
    "start_time": "2024-12-11T17:29:48.912Z"
   },
   {
    "duration": 12966,
    "start_time": "2024-12-11T17:29:49.141Z"
   },
   {
    "duration": 9,
    "start_time": "2024-12-11T17:30:02.109Z"
   },
   {
    "duration": 421,
    "start_time": "2024-12-11T17:30:02.120Z"
   },
   {
    "duration": 5,
    "start_time": "2024-12-11T17:30:02.543Z"
   },
   {
    "duration": 40,
    "start_time": "2024-12-11T17:30:02.550Z"
   },
   {
    "duration": 63,
    "start_time": "2024-12-11T17:30:02.592Z"
   },
   {
    "duration": 13954,
    "start_time": "2024-12-11T17:30:02.657Z"
   },
   {
    "duration": 29,
    "start_time": "2024-12-11T17:30:16.613Z"
   },
   {
    "duration": 5,
    "start_time": "2024-12-11T17:30:16.644Z"
   },
   {
    "duration": 8,
    "start_time": "2024-12-11T17:30:16.651Z"
   },
   {
    "duration": 5,
    "start_time": "2024-12-11T17:30:16.660Z"
   },
   {
    "duration": 10,
    "start_time": "2024-12-11T17:30:16.666Z"
   },
   {
    "duration": 16,
    "start_time": "2024-12-11T17:30:16.678Z"
   },
   {
    "duration": 11348,
    "start_time": "2024-12-11T17:30:16.697Z"
   },
   {
    "duration": 4379,
    "start_time": "2024-12-11T17:30:28.047Z"
   },
   {
    "duration": 793755,
    "start_time": "2024-12-11T17:30:32.430Z"
   },
   {
    "duration": 1843,
    "start_time": "2024-12-11T17:43:46.187Z"
   },
   {
    "duration": 49,
    "start_time": "2024-12-13T18:09:34.080Z"
   },
   {
    "duration": 4120,
    "start_time": "2024-12-13T18:09:42.055Z"
   },
   {
    "duration": 3143,
    "start_time": "2024-12-13T18:09:46.177Z"
   },
   {
    "duration": 1862,
    "start_time": "2024-12-13T18:09:49.321Z"
   },
   {
    "duration": 339,
    "start_time": "2024-12-13T18:09:51.185Z"
   },
   {
    "duration": 79,
    "start_time": "2024-12-13T18:09:51.526Z"
   },
   {
    "duration": 7,
    "start_time": "2024-12-13T18:09:51.607Z"
   },
   {
    "duration": 35,
    "start_time": "2024-12-13T18:09:51.615Z"
   },
   {
    "duration": 13,
    "start_time": "2024-12-13T18:09:51.652Z"
   },
   {
    "duration": 38,
    "start_time": "2024-12-13T18:09:51.667Z"
   },
   {
    "duration": 40,
    "start_time": "2024-12-13T18:09:51.706Z"
   },
   {
    "duration": 50,
    "start_time": "2024-12-13T18:09:51.748Z"
   },
   {
    "duration": 45,
    "start_time": "2024-12-13T18:09:51.799Z"
   },
   {
    "duration": 233,
    "start_time": "2024-12-13T18:09:51.845Z"
   },
   {
    "duration": 191,
    "start_time": "2024-12-13T18:09:52.081Z"
   },
   {
    "duration": 9751,
    "start_time": "2024-12-13T18:09:52.274Z"
   },
   {
    "duration": 7,
    "start_time": "2024-12-13T18:10:02.026Z"
   },
   {
    "duration": 310,
    "start_time": "2024-12-13T18:10:02.034Z"
   },
   {
    "duration": 3,
    "start_time": "2024-12-13T18:10:02.346Z"
   },
   {
    "duration": 8013,
    "start_time": "2024-12-13T18:10:02.353Z"
   },
   {
    "duration": 43,
    "start_time": "2024-12-13T18:10:10.367Z"
   },
   {
    "duration": 11529,
    "start_time": "2024-12-13T18:10:10.411Z"
   },
   {
    "duration": 22,
    "start_time": "2024-12-13T18:10:21.942Z"
   },
   {
    "duration": 6,
    "start_time": "2024-12-13T18:10:21.965Z"
   },
   {
    "duration": 29,
    "start_time": "2024-12-13T18:10:21.972Z"
   },
   {
    "duration": 5,
    "start_time": "2024-12-13T18:10:22.002Z"
   },
   {
    "duration": 7,
    "start_time": "2024-12-13T18:10:22.009Z"
   },
   {
    "duration": 6,
    "start_time": "2024-12-13T18:10:22.017Z"
   },
   {
    "duration": 9655,
    "start_time": "2024-12-13T18:10:22.024Z"
   },
   {
    "duration": 3413,
    "start_time": "2024-12-13T18:10:31.681Z"
   },
   {
    "duration": 666153,
    "start_time": "2024-12-13T18:10:35.096Z"
   },
   {
    "duration": 1537,
    "start_time": "2024-12-13T18:21:41.252Z"
   },
   {
    "duration": 52,
    "start_time": "2024-12-13T18:21:42.837Z"
   },
   {
    "duration": 57,
    "start_time": "2024-12-16T10:51:56.721Z"
   },
   {
    "duration": 4971,
    "start_time": "2024-12-16T10:52:00.668Z"
   },
   {
    "duration": 3237,
    "start_time": "2024-12-16T10:52:05.641Z"
   },
   {
    "duration": 2057,
    "start_time": "2024-12-16T10:52:08.881Z"
   },
   {
    "duration": 292,
    "start_time": "2024-12-16T10:52:10.939Z"
   },
   {
    "duration": 115,
    "start_time": "2024-12-16T10:52:11.233Z"
   },
   {
    "duration": 7,
    "start_time": "2024-12-16T10:52:11.350Z"
   },
   {
    "duration": 13,
    "start_time": "2024-12-16T10:52:11.359Z"
   },
   {
    "duration": 14,
    "start_time": "2024-12-16T10:52:11.374Z"
   },
   {
    "duration": 9,
    "start_time": "2024-12-16T10:52:11.389Z"
   },
   {
    "duration": 11,
    "start_time": "2024-12-16T10:52:11.399Z"
   },
   {
    "duration": 3,
    "start_time": "2024-12-16T10:52:11.438Z"
   },
   {
    "duration": 9,
    "start_time": "2024-12-16T10:52:11.443Z"
   },
   {
    "duration": 254,
    "start_time": "2024-12-16T10:52:11.454Z"
   },
   {
    "duration": 227,
    "start_time": "2024-12-16T10:52:11.711Z"
   },
   {
    "duration": 3606,
    "start_time": "2024-12-16T10:52:11.940Z"
   },
   {
    "duration": 8,
    "start_time": "2024-12-16T10:52:15.547Z"
   },
   {
    "duration": 381,
    "start_time": "2024-12-16T10:52:15.557Z"
   },
   {
    "duration": 4,
    "start_time": "2024-12-16T10:52:15.940Z"
   },
   {
    "duration": 10258,
    "start_time": "2024-12-16T10:52:15.946Z"
   },
   {
    "duration": 60,
    "start_time": "2024-12-16T10:52:26.206Z"
   },
   {
    "duration": 13900,
    "start_time": "2024-12-16T10:52:26.267Z"
   },
   {
    "duration": 19,
    "start_time": "2024-12-16T10:52:40.169Z"
   },
   {
    "duration": 19,
    "start_time": "2024-12-16T10:52:40.190Z"
   },
   {
    "duration": 10,
    "start_time": "2024-12-16T10:52:40.210Z"
   },
   {
    "duration": 17,
    "start_time": "2024-12-16T10:52:40.222Z"
   },
   {
    "duration": 5,
    "start_time": "2024-12-16T10:52:40.241Z"
   },
   {
    "duration": 6,
    "start_time": "2024-12-16T10:52:40.248Z"
   },
   {
    "duration": 10921,
    "start_time": "2024-12-16T10:52:40.255Z"
   },
   {
    "duration": 4039,
    "start_time": "2024-12-16T10:52:51.177Z"
   },
   {
    "duration": 790958,
    "start_time": "2024-12-16T10:52:55.217Z"
   },
   {
    "duration": 1931,
    "start_time": "2024-12-16T11:06:06.177Z"
   },
   {
    "duration": 54,
    "start_time": "2024-12-16T11:13:46.075Z"
   },
   {
    "duration": 4,
    "start_time": "2024-12-16T11:20:20.975Z"
   },
   {
    "duration": 67,
    "start_time": "2024-12-16T12:09:55.918Z"
   },
   {
    "duration": 87,
    "start_time": "2024-12-16T12:44:18.285Z"
   },
   {
    "duration": 97,
    "start_time": "2024-12-16T12:45:14.641Z"
   },
   {
    "duration": 10767,
    "start_time": "2024-12-16T12:45:43.620Z"
   },
   {
    "duration": 10359,
    "start_time": "2024-12-16T12:47:26.445Z"
   },
   {
    "duration": 2550,
    "start_time": "2024-12-16T13:21:38.561Z"
   },
   {
    "duration": 2513,
    "start_time": "2024-12-16T13:21:41.113Z"
   },
   {
    "duration": 5,
    "start_time": "2024-12-16T13:21:43.629Z"
   },
   {
    "duration": 156,
    "start_time": "2024-12-16T13:21:43.635Z"
   },
   {
    "duration": 101,
    "start_time": "2024-12-16T13:21:43.794Z"
   },
   {
    "duration": 7,
    "start_time": "2024-12-16T13:21:43.897Z"
   },
   {
    "duration": 35,
    "start_time": "2024-12-16T13:21:43.906Z"
   },
   {
    "duration": 17,
    "start_time": "2024-12-16T13:21:43.943Z"
   },
   {
    "duration": 9,
    "start_time": "2024-12-16T13:21:43.962Z"
   },
   {
    "duration": 8,
    "start_time": "2024-12-16T13:21:43.972Z"
   },
   {
    "duration": 6,
    "start_time": "2024-12-16T13:21:43.982Z"
   },
   {
    "duration": 15,
    "start_time": "2024-12-16T13:21:43.989Z"
   },
   {
    "duration": 267,
    "start_time": "2024-12-16T13:21:44.005Z"
   },
   {
    "duration": 225,
    "start_time": "2024-12-16T13:21:44.274Z"
   },
   {
    "duration": 3529,
    "start_time": "2024-12-16T13:21:44.502Z"
   },
   {
    "duration": 8,
    "start_time": "2024-12-16T13:21:48.036Z"
   },
   {
    "duration": 408,
    "start_time": "2024-12-16T13:21:48.045Z"
   },
   {
    "duration": 3,
    "start_time": "2024-12-16T13:21:48.454Z"
   },
   {
    "duration": 10258,
    "start_time": "2024-12-16T13:21:48.459Z"
   },
   {
    "duration": 71,
    "start_time": "2024-12-16T13:21:58.719Z"
   },
   {
    "duration": 128,
    "start_time": "2024-12-16T13:21:58.792Z"
   },
   {
    "duration": 0,
    "start_time": "2024-12-16T13:21:58.922Z"
   },
   {
    "duration": 0,
    "start_time": "2024-12-16T13:21:58.923Z"
   },
   {
    "duration": 0,
    "start_time": "2024-12-16T13:21:58.924Z"
   },
   {
    "duration": 0,
    "start_time": "2024-12-16T13:21:58.937Z"
   },
   {
    "duration": 0,
    "start_time": "2024-12-16T13:21:58.938Z"
   },
   {
    "duration": 0,
    "start_time": "2024-12-16T13:21:58.939Z"
   },
   {
    "duration": 0,
    "start_time": "2024-12-16T13:21:58.940Z"
   },
   {
    "duration": 0,
    "start_time": "2024-12-16T13:21:58.942Z"
   },
   {
    "duration": 94,
    "start_time": "2024-12-16T13:22:16.374Z"
   },
   {
    "duration": 8866,
    "start_time": "2024-12-16T13:28:43.760Z"
   },
   {
    "duration": 2572,
    "start_time": "2024-12-16T13:45:10.002Z"
   },
   {
    "duration": 2527,
    "start_time": "2024-12-16T13:45:12.576Z"
   },
   {
    "duration": 6,
    "start_time": "2024-12-16T13:45:15.105Z"
   },
   {
    "duration": 168,
    "start_time": "2024-12-16T13:45:15.112Z"
   },
   {
    "duration": 113,
    "start_time": "2024-12-16T13:45:15.282Z"
   },
   {
    "duration": 8,
    "start_time": "2024-12-16T13:45:15.396Z"
   },
   {
    "duration": 38,
    "start_time": "2024-12-16T13:45:15.405Z"
   },
   {
    "duration": 57,
    "start_time": "2024-12-16T13:45:15.445Z"
   },
   {
    "duration": 48,
    "start_time": "2024-12-16T13:45:15.504Z"
   },
   {
    "duration": 21,
    "start_time": "2024-12-16T13:45:15.554Z"
   },
   {
    "duration": 17,
    "start_time": "2024-12-16T13:45:15.577Z"
   },
   {
    "duration": 11,
    "start_time": "2024-12-16T13:45:15.596Z"
   },
   {
    "duration": 281,
    "start_time": "2024-12-16T13:45:15.608Z"
   },
   {
    "duration": 230,
    "start_time": "2024-12-16T13:45:15.892Z"
   },
   {
    "duration": 3629,
    "start_time": "2024-12-16T13:45:16.123Z"
   },
   {
    "duration": 7,
    "start_time": "2024-12-16T13:45:19.754Z"
   },
   {
    "duration": 392,
    "start_time": "2024-12-16T13:45:19.763Z"
   },
   {
    "duration": 5,
    "start_time": "2024-12-16T13:45:20.156Z"
   },
   {
    "duration": 10111,
    "start_time": "2024-12-16T13:45:20.162Z"
   },
   {
    "duration": 70,
    "start_time": "2024-12-16T13:45:30.275Z"
   },
   {
    "duration": 22,
    "start_time": "2024-12-16T13:45:30.347Z"
   },
   {
    "duration": 0,
    "start_time": "2024-12-16T13:45:30.370Z"
   },
   {
    "duration": 0,
    "start_time": "2024-12-16T13:45:30.371Z"
   },
   {
    "duration": 0,
    "start_time": "2024-12-16T13:45:30.372Z"
   },
   {
    "duration": 0,
    "start_time": "2024-12-16T13:45:30.373Z"
   },
   {
    "duration": 0,
    "start_time": "2024-12-16T13:45:30.374Z"
   },
   {
    "duration": 0,
    "start_time": "2024-12-16T13:45:30.376Z"
   },
   {
    "duration": 0,
    "start_time": "2024-12-16T13:45:30.377Z"
   },
   {
    "duration": 0,
    "start_time": "2024-12-16T13:45:30.377Z"
   },
   {
    "duration": 0,
    "start_time": "2024-12-16T13:45:30.379Z"
   },
   {
    "duration": 2597,
    "start_time": "2024-12-16T14:04:36.156Z"
   },
   {
    "duration": 2514,
    "start_time": "2024-12-16T14:04:38.756Z"
   },
   {
    "duration": 5,
    "start_time": "2024-12-16T14:04:41.272Z"
   },
   {
    "duration": 138,
    "start_time": "2024-12-16T14:04:41.279Z"
   },
   {
    "duration": 103,
    "start_time": "2024-12-16T14:04:41.419Z"
   },
   {
    "duration": 21,
    "start_time": "2024-12-16T14:04:41.523Z"
   },
   {
    "duration": 20,
    "start_time": "2024-12-16T14:04:41.545Z"
   },
   {
    "duration": 14,
    "start_time": "2024-12-16T14:04:41.566Z"
   },
   {
    "duration": 5,
    "start_time": "2024-12-16T14:04:41.582Z"
   },
   {
    "duration": 10,
    "start_time": "2024-12-16T14:04:41.588Z"
   },
   {
    "duration": 9,
    "start_time": "2024-12-16T14:04:41.599Z"
   },
   {
    "duration": 32,
    "start_time": "2024-12-16T14:04:41.609Z"
   },
   {
    "duration": 394,
    "start_time": "2024-12-16T14:04:41.643Z"
   },
   {
    "duration": 220,
    "start_time": "2024-12-16T14:04:42.040Z"
   },
   {
    "duration": 3534,
    "start_time": "2024-12-16T14:04:42.261Z"
   },
   {
    "duration": 8,
    "start_time": "2024-12-16T14:04:45.797Z"
   },
   {
    "duration": 377,
    "start_time": "2024-12-16T14:04:45.807Z"
   },
   {
    "duration": 3,
    "start_time": "2024-12-16T14:04:46.185Z"
   },
   {
    "duration": 11079,
    "start_time": "2024-12-16T14:04:46.190Z"
   },
   {
    "duration": 68,
    "start_time": "2024-12-16T14:04:57.270Z"
   },
   {
    "duration": 21,
    "start_time": "2024-12-16T14:04:57.340Z"
   },
   {
    "duration": 0,
    "start_time": "2024-12-16T14:04:57.363Z"
   },
   {
    "duration": 0,
    "start_time": "2024-12-16T14:04:57.364Z"
   },
   {
    "duration": 0,
    "start_time": "2024-12-16T14:04:57.366Z"
   },
   {
    "duration": 0,
    "start_time": "2024-12-16T14:04:57.367Z"
   },
   {
    "duration": 0,
    "start_time": "2024-12-16T14:04:57.368Z"
   },
   {
    "duration": 0,
    "start_time": "2024-12-16T14:04:57.369Z"
   },
   {
    "duration": 0,
    "start_time": "2024-12-16T14:04:57.370Z"
   },
   {
    "duration": 0,
    "start_time": "2024-12-16T14:04:57.371Z"
   },
   {
    "duration": 0,
    "start_time": "2024-12-16T14:04:57.373Z"
   },
   {
    "duration": 20,
    "start_time": "2024-12-16T14:28:49.784Z"
   },
   {
    "duration": 2612,
    "start_time": "2024-12-16T15:14:09.705Z"
   },
   {
    "duration": 2552,
    "start_time": "2024-12-16T15:14:12.319Z"
   },
   {
    "duration": 6,
    "start_time": "2024-12-16T15:14:14.874Z"
   },
   {
    "duration": 121,
    "start_time": "2024-12-16T15:14:14.882Z"
   },
   {
    "duration": 103,
    "start_time": "2024-12-16T15:14:15.005Z"
   },
   {
    "duration": 27,
    "start_time": "2024-12-16T15:14:15.110Z"
   },
   {
    "duration": 33,
    "start_time": "2024-12-16T15:14:15.139Z"
   },
   {
    "duration": 50,
    "start_time": "2024-12-16T15:14:15.174Z"
   },
   {
    "duration": 29,
    "start_time": "2024-12-16T15:14:15.226Z"
   },
   {
    "duration": 17,
    "start_time": "2024-12-16T15:14:15.258Z"
   },
   {
    "duration": 19,
    "start_time": "2024-12-16T15:14:15.277Z"
   },
   {
    "duration": 38,
    "start_time": "2024-12-16T15:14:15.297Z"
   },
   {
    "duration": 313,
    "start_time": "2024-12-16T15:14:15.336Z"
   },
   {
    "duration": 228,
    "start_time": "2024-12-16T15:14:15.651Z"
   },
   {
    "duration": 3605,
    "start_time": "2024-12-16T15:14:15.881Z"
   },
   {
    "duration": 8,
    "start_time": "2024-12-16T15:14:19.487Z"
   },
   {
    "duration": 372,
    "start_time": "2024-12-16T15:14:19.496Z"
   },
   {
    "duration": 4,
    "start_time": "2024-12-16T15:14:19.870Z"
   },
   {
    "duration": 10276,
    "start_time": "2024-12-16T15:14:19.875Z"
   },
   {
    "duration": 62,
    "start_time": "2024-12-16T15:14:30.152Z"
   },
   {
    "duration": 124,
    "start_time": "2024-12-16T15:14:30.215Z"
   },
   {
    "duration": 0,
    "start_time": "2024-12-16T15:14:30.341Z"
   },
   {
    "duration": 0,
    "start_time": "2024-12-16T15:14:30.342Z"
   },
   {
    "duration": 0,
    "start_time": "2024-12-16T15:14:30.343Z"
   },
   {
    "duration": 0,
    "start_time": "2024-12-16T15:14:30.344Z"
   },
   {
    "duration": 0,
    "start_time": "2024-12-16T15:14:30.345Z"
   },
   {
    "duration": 0,
    "start_time": "2024-12-16T15:14:30.346Z"
   },
   {
    "duration": 0,
    "start_time": "2024-12-16T15:14:30.347Z"
   },
   {
    "duration": 0,
    "start_time": "2024-12-16T15:14:30.348Z"
   },
   {
    "duration": 0,
    "start_time": "2024-12-16T15:14:30.349Z"
   },
   {
    "duration": 48,
    "start_time": "2024-12-16T20:48:41.478Z"
   },
   {
    "duration": 4513,
    "start_time": "2024-12-16T20:48:46.475Z"
   },
   {
    "duration": 3113,
    "start_time": "2024-12-16T20:48:50.990Z"
   },
   {
    "duration": 1897,
    "start_time": "2024-12-16T20:48:54.104Z"
   },
   {
    "duration": 300,
    "start_time": "2024-12-16T20:48:56.003Z"
   },
   {
    "duration": 94,
    "start_time": "2024-12-16T20:48:56.305Z"
   },
   {
    "duration": 6,
    "start_time": "2024-12-16T20:48:56.401Z"
   },
   {
    "duration": 12,
    "start_time": "2024-12-16T20:48:56.408Z"
   },
   {
    "duration": 39,
    "start_time": "2024-12-16T20:48:56.421Z"
   },
   {
    "duration": 5,
    "start_time": "2024-12-16T20:48:56.461Z"
   },
   {
    "duration": 3,
    "start_time": "2024-12-16T20:48:56.468Z"
   },
   {
    "duration": 4,
    "start_time": "2024-12-16T20:48:56.472Z"
   },
   {
    "duration": 9,
    "start_time": "2024-12-16T20:48:56.477Z"
   },
   {
    "duration": 263,
    "start_time": "2024-12-16T20:48:56.487Z"
   },
   {
    "duration": 223,
    "start_time": "2024-12-16T20:48:56.751Z"
   },
   {
    "duration": 3247,
    "start_time": "2024-12-16T20:48:56.975Z"
   },
   {
    "duration": 7,
    "start_time": "2024-12-16T20:49:00.224Z"
   },
   {
    "duration": 377,
    "start_time": "2024-12-16T20:49:00.232Z"
   },
   {
    "duration": 5,
    "start_time": "2024-12-16T20:49:00.611Z"
   },
   {
    "duration": 9277,
    "start_time": "2024-12-16T20:49:00.617Z"
   },
   {
    "duration": 62,
    "start_time": "2024-12-16T20:49:09.895Z"
   },
   {
    "duration": 115,
    "start_time": "2024-12-16T20:49:09.958Z"
   },
   {
    "duration": 0,
    "start_time": "2024-12-16T20:49:10.074Z"
   },
   {
    "duration": 0,
    "start_time": "2024-12-16T20:49:10.075Z"
   },
   {
    "duration": 0,
    "start_time": "2024-12-16T20:49:10.076Z"
   },
   {
    "duration": 0,
    "start_time": "2024-12-16T20:49:10.077Z"
   },
   {
    "duration": 0,
    "start_time": "2024-12-16T20:49:10.078Z"
   },
   {
    "duration": 0,
    "start_time": "2024-12-16T20:49:10.079Z"
   },
   {
    "duration": 0,
    "start_time": "2024-12-16T20:49:10.080Z"
   },
   {
    "duration": 0,
    "start_time": "2024-12-16T20:49:10.081Z"
   },
   {
    "duration": 0,
    "start_time": "2024-12-16T20:49:10.083Z"
   },
   {
    "duration": 2275,
    "start_time": "2024-12-16T20:52:40.401Z"
   },
   {
    "duration": 2310,
    "start_time": "2024-12-16T20:52:42.679Z"
   },
   {
    "duration": 5,
    "start_time": "2024-12-16T20:52:44.991Z"
   },
   {
    "duration": 183,
    "start_time": "2024-12-16T20:52:44.998Z"
   },
   {
    "duration": 109,
    "start_time": "2024-12-16T20:52:45.183Z"
   },
   {
    "duration": 6,
    "start_time": "2024-12-16T20:52:45.294Z"
   },
   {
    "duration": 40,
    "start_time": "2024-12-16T20:52:45.302Z"
   },
   {
    "duration": 13,
    "start_time": "2024-12-16T20:52:45.343Z"
   },
   {
    "duration": 4,
    "start_time": "2024-12-16T20:52:45.358Z"
   },
   {
    "duration": 15,
    "start_time": "2024-12-16T20:52:45.364Z"
   },
   {
    "duration": 43,
    "start_time": "2024-12-16T20:52:45.380Z"
   },
   {
    "duration": 15,
    "start_time": "2024-12-16T20:52:45.424Z"
   },
   {
    "duration": 220,
    "start_time": "2024-12-16T20:52:45.440Z"
   },
   {
    "duration": 213,
    "start_time": "2024-12-16T20:52:45.662Z"
   },
   {
    "duration": 3342,
    "start_time": "2024-12-16T20:52:45.877Z"
   },
   {
    "duration": 7,
    "start_time": "2024-12-16T20:52:49.221Z"
   },
   {
    "duration": 341,
    "start_time": "2024-12-16T20:52:49.229Z"
   },
   {
    "duration": 4,
    "start_time": "2024-12-16T20:52:49.571Z"
   },
   {
    "duration": 9355,
    "start_time": "2024-12-16T20:52:49.576Z"
   },
   {
    "duration": 68,
    "start_time": "2024-12-16T20:52:58.933Z"
   },
   {
    "duration": 20,
    "start_time": "2024-12-16T20:52:59.002Z"
   },
   {
    "duration": 0,
    "start_time": "2024-12-16T20:52:59.024Z"
   },
   {
    "duration": 0,
    "start_time": "2024-12-16T20:52:59.025Z"
   },
   {
    "duration": 0,
    "start_time": "2024-12-16T20:52:59.026Z"
   },
   {
    "duration": 0,
    "start_time": "2024-12-16T20:52:59.027Z"
   },
   {
    "duration": 0,
    "start_time": "2024-12-16T20:52:59.028Z"
   },
   {
    "duration": 0,
    "start_time": "2024-12-16T20:52:59.029Z"
   },
   {
    "duration": 0,
    "start_time": "2024-12-16T20:52:59.030Z"
   },
   {
    "duration": 0,
    "start_time": "2024-12-16T20:52:59.054Z"
   },
   {
    "duration": 0,
    "start_time": "2024-12-16T20:52:59.056Z"
   },
   {
    "duration": 20,
    "start_time": "2024-12-16T20:56:52.360Z"
   },
   {
    "duration": 18,
    "start_time": "2024-12-16T20:58:02.432Z"
   },
   {
    "duration": 11,
    "start_time": "2024-12-16T20:58:17.569Z"
   },
   {
    "duration": 12,
    "start_time": "2024-12-16T20:58:39.438Z"
   },
   {
    "duration": 16,
    "start_time": "2024-12-16T20:59:25.165Z"
   },
   {
    "duration": 16,
    "start_time": "2024-12-16T21:03:32.674Z"
   },
   {
    "duration": 2353,
    "start_time": "2024-12-16T21:03:39.270Z"
   },
   {
    "duration": 2292,
    "start_time": "2024-12-16T21:03:41.625Z"
   },
   {
    "duration": 5,
    "start_time": "2024-12-16T21:03:43.919Z"
   },
   {
    "duration": 113,
    "start_time": "2024-12-16T21:03:43.926Z"
   },
   {
    "duration": 90,
    "start_time": "2024-12-16T21:03:44.041Z"
   },
   {
    "duration": 25,
    "start_time": "2024-12-16T21:03:44.133Z"
   },
   {
    "duration": 19,
    "start_time": "2024-12-16T21:03:44.159Z"
   },
   {
    "duration": 14,
    "start_time": "2024-12-16T21:03:44.179Z"
   },
   {
    "duration": 5,
    "start_time": "2024-12-16T21:03:44.194Z"
   },
   {
    "duration": 3,
    "start_time": "2024-12-16T21:03:44.200Z"
   },
   {
    "duration": 5,
    "start_time": "2024-12-16T21:03:44.205Z"
   },
   {
    "duration": 8,
    "start_time": "2024-12-16T21:03:44.212Z"
   },
   {
    "duration": 287,
    "start_time": "2024-12-16T21:03:44.221Z"
   },
   {
    "duration": 343,
    "start_time": "2024-12-16T21:03:44.512Z"
   },
   {
    "duration": 3274,
    "start_time": "2024-12-16T21:03:44.857Z"
   },
   {
    "duration": 8,
    "start_time": "2024-12-16T21:03:48.132Z"
   },
   {
    "duration": 365,
    "start_time": "2024-12-16T21:03:48.142Z"
   },
   {
    "duration": 4,
    "start_time": "2024-12-16T21:03:48.508Z"
   },
   {
    "duration": 9345,
    "start_time": "2024-12-16T21:03:48.514Z"
   },
   {
    "duration": 52,
    "start_time": "2024-12-16T21:03:57.860Z"
   },
   {
    "duration": 20,
    "start_time": "2024-12-16T21:03:57.914Z"
   },
   {
    "duration": 0,
    "start_time": "2024-12-16T21:03:57.954Z"
   },
   {
    "duration": 0,
    "start_time": "2024-12-16T21:03:57.956Z"
   },
   {
    "duration": 0,
    "start_time": "2024-12-16T21:03:57.957Z"
   },
   {
    "duration": 0,
    "start_time": "2024-12-16T21:03:57.958Z"
   },
   {
    "duration": 0,
    "start_time": "2024-12-16T21:03:57.960Z"
   },
   {
    "duration": 0,
    "start_time": "2024-12-16T21:03:57.961Z"
   },
   {
    "duration": 0,
    "start_time": "2024-12-16T21:03:57.962Z"
   },
   {
    "duration": 0,
    "start_time": "2024-12-16T21:03:57.964Z"
   },
   {
    "duration": 0,
    "start_time": "2024-12-16T21:03:57.965Z"
   },
   {
    "duration": 50,
    "start_time": "2024-12-17T08:10:09.818Z"
   },
   {
    "duration": 4999,
    "start_time": "2024-12-17T08:10:13.613Z"
   },
   {
    "duration": 3071,
    "start_time": "2024-12-17T08:10:18.614Z"
   },
   {
    "duration": 1991,
    "start_time": "2024-12-17T08:10:21.687Z"
   },
   {
    "duration": 284,
    "start_time": "2024-12-17T08:10:23.680Z"
   },
   {
    "duration": 97,
    "start_time": "2024-12-17T08:10:23.966Z"
   },
   {
    "duration": 7,
    "start_time": "2024-12-17T08:10:24.064Z"
   },
   {
    "duration": 19,
    "start_time": "2024-12-17T08:10:24.072Z"
   },
   {
    "duration": 30,
    "start_time": "2024-12-17T08:10:24.092Z"
   },
   {
    "duration": 4,
    "start_time": "2024-12-17T08:10:24.124Z"
   },
   {
    "duration": 22,
    "start_time": "2024-12-17T08:10:24.130Z"
   },
   {
    "duration": 6,
    "start_time": "2024-12-17T08:10:24.154Z"
   },
   {
    "duration": 16,
    "start_time": "2024-12-17T08:10:24.161Z"
   },
   {
    "duration": 231,
    "start_time": "2024-12-17T08:10:24.179Z"
   },
   {
    "duration": 217,
    "start_time": "2024-12-17T08:10:24.412Z"
   },
   {
    "duration": 3291,
    "start_time": "2024-12-17T08:10:24.631Z"
   },
   {
    "duration": 8,
    "start_time": "2024-12-17T08:10:27.923Z"
   },
   {
    "duration": 397,
    "start_time": "2024-12-17T08:10:27.933Z"
   },
   {
    "duration": 4,
    "start_time": "2024-12-17T08:10:28.331Z"
   },
   {
    "duration": 9511,
    "start_time": "2024-12-17T08:10:28.336Z"
   },
   {
    "duration": 55,
    "start_time": "2024-12-17T08:10:37.848Z"
   },
   {
    "duration": 123,
    "start_time": "2024-12-17T08:10:37.905Z"
   },
   {
    "duration": 0,
    "start_time": "2024-12-17T08:10:38.030Z"
   },
   {
    "duration": 0,
    "start_time": "2024-12-17T08:10:38.030Z"
   },
   {
    "duration": 0,
    "start_time": "2024-12-17T08:10:38.032Z"
   },
   {
    "duration": 0,
    "start_time": "2024-12-17T08:10:38.033Z"
   },
   {
    "duration": 0,
    "start_time": "2024-12-17T08:10:38.033Z"
   },
   {
    "duration": 0,
    "start_time": "2024-12-17T08:10:38.034Z"
   },
   {
    "duration": 0,
    "start_time": "2024-12-17T08:10:38.035Z"
   },
   {
    "duration": 0,
    "start_time": "2024-12-17T08:10:38.036Z"
   },
   {
    "duration": 0,
    "start_time": "2024-12-17T08:10:38.037Z"
   },
   {
    "duration": 1877,
    "start_time": "2024-12-17T08:11:09.927Z"
   },
   {
    "duration": 1767,
    "start_time": "2024-12-17T08:11:53.973Z"
   },
   {
    "duration": 2309,
    "start_time": "2024-12-17T08:12:49.988Z"
   },
   {
    "duration": 2303,
    "start_time": "2024-12-17T08:12:52.299Z"
   },
   {
    "duration": 5,
    "start_time": "2024-12-17T08:12:54.604Z"
   },
   {
    "duration": 113,
    "start_time": "2024-12-17T08:12:54.610Z"
   },
   {
    "duration": 105,
    "start_time": "2024-12-17T08:12:54.725Z"
   },
   {
    "duration": 6,
    "start_time": "2024-12-17T08:12:54.831Z"
   },
   {
    "duration": 14,
    "start_time": "2024-12-17T08:12:54.838Z"
   },
   {
    "duration": 12,
    "start_time": "2024-12-17T08:12:54.853Z"
   },
   {
    "duration": 4,
    "start_time": "2024-12-17T08:12:54.867Z"
   },
   {
    "duration": 4,
    "start_time": "2024-12-17T08:12:54.872Z"
   },
   {
    "duration": 4,
    "start_time": "2024-12-17T08:12:54.877Z"
   },
   {
    "duration": 45,
    "start_time": "2024-12-17T08:12:54.882Z"
   },
   {
    "duration": 216,
    "start_time": "2024-12-17T08:12:54.928Z"
   },
   {
    "duration": 218,
    "start_time": "2024-12-17T08:12:55.147Z"
   },
   {
    "duration": 3310,
    "start_time": "2024-12-17T08:12:55.366Z"
   },
   {
    "duration": 7,
    "start_time": "2024-12-17T08:12:58.678Z"
   },
   {
    "duration": 352,
    "start_time": "2024-12-17T08:12:58.687Z"
   },
   {
    "duration": 4,
    "start_time": "2024-12-17T08:12:59.040Z"
   },
   {
    "duration": 10180,
    "start_time": "2024-12-17T08:12:59.045Z"
   },
   {
    "duration": 56,
    "start_time": "2024-12-17T08:13:09.227Z"
   },
   {
    "duration": 48,
    "start_time": "2024-12-17T08:13:09.285Z"
   },
   {
    "duration": 0,
    "start_time": "2024-12-17T08:13:09.335Z"
   },
   {
    "duration": 0,
    "start_time": "2024-12-17T08:13:09.336Z"
   },
   {
    "duration": 0,
    "start_time": "2024-12-17T08:13:09.337Z"
   },
   {
    "duration": 0,
    "start_time": "2024-12-17T08:13:09.338Z"
   },
   {
    "duration": 0,
    "start_time": "2024-12-17T08:13:09.339Z"
   },
   {
    "duration": 0,
    "start_time": "2024-12-17T08:13:09.340Z"
   },
   {
    "duration": 0,
    "start_time": "2024-12-17T08:13:09.341Z"
   },
   {
    "duration": 0,
    "start_time": "2024-12-17T08:13:09.342Z"
   },
   {
    "duration": 0,
    "start_time": "2024-12-17T08:13:09.343Z"
   },
   {
    "duration": 2161,
    "start_time": "2024-12-17T08:16:08.224Z"
   },
   {
    "duration": 2406,
    "start_time": "2024-12-17T08:16:55.091Z"
   },
   {
    "duration": 2409,
    "start_time": "2024-12-17T08:16:57.500Z"
   },
   {
    "duration": 5,
    "start_time": "2024-12-17T08:16:59.911Z"
   },
   {
    "duration": 129,
    "start_time": "2024-12-17T08:16:59.918Z"
   },
   {
    "duration": 127,
    "start_time": "2024-12-17T08:17:00.050Z"
   },
   {
    "duration": 7,
    "start_time": "2024-12-17T08:17:00.178Z"
   },
   {
    "duration": 87,
    "start_time": "2024-12-17T08:17:00.186Z"
   },
   {
    "duration": 110,
    "start_time": "2024-12-17T08:17:00.275Z"
   },
   {
    "duration": 111,
    "start_time": "2024-12-17T08:17:00.387Z"
   },
   {
    "duration": 89,
    "start_time": "2024-12-17T08:17:00.500Z"
   },
   {
    "duration": 22,
    "start_time": "2024-12-17T08:17:00.591Z"
   },
   {
    "duration": 44,
    "start_time": "2024-12-17T08:17:00.614Z"
   },
   {
    "duration": 281,
    "start_time": "2024-12-17T08:17:00.660Z"
   },
   {
    "duration": 351,
    "start_time": "2024-12-17T08:17:00.944Z"
   },
   {
    "duration": 3478,
    "start_time": "2024-12-17T08:17:01.297Z"
   },
   {
    "duration": 7,
    "start_time": "2024-12-17T08:17:04.776Z"
   },
   {
    "duration": 400,
    "start_time": "2024-12-17T08:17:04.785Z"
   },
   {
    "duration": 4,
    "start_time": "2024-12-17T08:17:05.186Z"
   },
   {
    "duration": 9947,
    "start_time": "2024-12-17T08:17:05.191Z"
   },
   {
    "duration": 66,
    "start_time": "2024-12-17T08:17:15.140Z"
   },
   {
    "duration": 59,
    "start_time": "2024-12-17T08:17:15.208Z"
   },
   {
    "duration": 0,
    "start_time": "2024-12-17T08:17:15.269Z"
   },
   {
    "duration": 0,
    "start_time": "2024-12-17T08:17:15.270Z"
   },
   {
    "duration": 0,
    "start_time": "2024-12-17T08:17:15.271Z"
   },
   {
    "duration": 0,
    "start_time": "2024-12-17T08:17:15.272Z"
   },
   {
    "duration": 0,
    "start_time": "2024-12-17T08:17:15.274Z"
   },
   {
    "duration": 0,
    "start_time": "2024-12-17T08:17:15.275Z"
   },
   {
    "duration": 0,
    "start_time": "2024-12-17T08:17:15.276Z"
   },
   {
    "duration": 0,
    "start_time": "2024-12-17T08:17:15.277Z"
   },
   {
    "duration": 0,
    "start_time": "2024-12-17T08:17:15.278Z"
   },
   {
    "duration": 31,
    "start_time": "2024-12-17T08:19:55.550Z"
   },
   {
    "duration": 2424,
    "start_time": "2024-12-17T08:21:22.389Z"
   },
   {
    "duration": 2390,
    "start_time": "2024-12-17T08:21:24.815Z"
   },
   {
    "duration": 6,
    "start_time": "2024-12-17T08:21:27.207Z"
   },
   {
    "duration": 165,
    "start_time": "2024-12-17T08:21:27.214Z"
   },
   {
    "duration": 105,
    "start_time": "2024-12-17T08:21:27.381Z"
   },
   {
    "duration": 7,
    "start_time": "2024-12-17T08:21:27.487Z"
   },
   {
    "duration": 11,
    "start_time": "2024-12-17T08:21:27.521Z"
   },
   {
    "duration": 31,
    "start_time": "2024-12-17T08:21:27.534Z"
   },
   {
    "duration": 12,
    "start_time": "2024-12-17T08:21:27.566Z"
   },
   {
    "duration": 15,
    "start_time": "2024-12-17T08:21:27.579Z"
   },
   {
    "duration": 19,
    "start_time": "2024-12-17T08:21:27.595Z"
   },
   {
    "duration": 11,
    "start_time": "2024-12-17T08:21:27.615Z"
   },
   {
    "duration": 234,
    "start_time": "2024-12-17T08:21:27.628Z"
   },
   {
    "duration": 230,
    "start_time": "2024-12-17T08:21:27.864Z"
   },
   {
    "duration": 3451,
    "start_time": "2024-12-17T08:21:28.096Z"
   },
   {
    "duration": 8,
    "start_time": "2024-12-17T08:21:31.549Z"
   },
   {
    "duration": 382,
    "start_time": "2024-12-17T08:21:31.559Z"
   },
   {
    "duration": 5,
    "start_time": "2024-12-17T08:21:31.943Z"
   },
   {
    "duration": 10119,
    "start_time": "2024-12-17T08:21:31.950Z"
   },
   {
    "duration": 81,
    "start_time": "2024-12-17T08:21:42.070Z"
   },
   {
    "duration": 41,
    "start_time": "2024-12-17T08:21:42.153Z"
   },
   {
    "duration": 0,
    "start_time": "2024-12-17T08:21:42.195Z"
   },
   {
    "duration": 0,
    "start_time": "2024-12-17T08:21:42.197Z"
   },
   {
    "duration": 0,
    "start_time": "2024-12-17T08:21:42.198Z"
   },
   {
    "duration": 0,
    "start_time": "2024-12-17T08:21:42.222Z"
   },
   {
    "duration": 0,
    "start_time": "2024-12-17T08:21:42.223Z"
   },
   {
    "duration": 0,
    "start_time": "2024-12-17T08:21:42.224Z"
   },
   {
    "duration": 0,
    "start_time": "2024-12-17T08:21:42.225Z"
   },
   {
    "duration": 0,
    "start_time": "2024-12-17T08:21:42.227Z"
   },
   {
    "duration": 0,
    "start_time": "2024-12-17T08:21:42.228Z"
   },
   {
    "duration": 31,
    "start_time": "2024-12-17T08:22:56.739Z"
   },
   {
    "duration": 43,
    "start_time": "2024-12-17T08:26:46.430Z"
   },
   {
    "duration": 20,
    "start_time": "2024-12-17T08:30:10.600Z"
   },
   {
    "duration": 20,
    "start_time": "2024-12-17T08:33:19.008Z"
   },
   {
    "duration": 20,
    "start_time": "2024-12-17T08:37:39.670Z"
   },
   {
    "duration": 20,
    "start_time": "2024-12-17T09:50:25.927Z"
   },
   {
    "duration": 21,
    "start_time": "2024-12-17T09:52:51.528Z"
   },
   {
    "duration": 18,
    "start_time": "2024-12-17T09:54:55.681Z"
   },
   {
    "duration": 12,
    "start_time": "2024-12-17T09:55:38.956Z"
   },
   {
    "duration": 13,
    "start_time": "2024-12-17T09:55:54.406Z"
   },
   {
    "duration": 20,
    "start_time": "2024-12-17T09:56:01.219Z"
   },
   {
    "duration": 53,
    "start_time": "2024-12-17T14:03:03.533Z"
   },
   {
    "duration": 4569,
    "start_time": "2024-12-17T14:03:10.464Z"
   },
   {
    "duration": 3859,
    "start_time": "2024-12-17T14:03:15.036Z"
   },
   {
    "duration": 2385,
    "start_time": "2024-12-17T14:03:18.898Z"
   },
   {
    "duration": 291,
    "start_time": "2024-12-17T14:03:21.285Z"
   },
   {
    "duration": 130,
    "start_time": "2024-12-17T14:03:21.578Z"
   },
   {
    "duration": 8,
    "start_time": "2024-12-17T14:03:21.710Z"
   },
   {
    "duration": 40,
    "start_time": "2024-12-17T14:03:21.719Z"
   },
   {
    "duration": 33,
    "start_time": "2024-12-17T14:03:21.761Z"
   },
   {
    "duration": 10,
    "start_time": "2024-12-17T14:03:21.796Z"
   },
   {
    "duration": 19,
    "start_time": "2024-12-17T14:03:21.807Z"
   },
   {
    "duration": 18,
    "start_time": "2024-12-17T14:03:21.827Z"
   },
   {
    "duration": 33,
    "start_time": "2024-12-17T14:03:21.847Z"
   },
   {
    "duration": 278,
    "start_time": "2024-12-17T14:03:21.882Z"
   },
   {
    "duration": 228,
    "start_time": "2024-12-17T14:03:22.163Z"
   },
   {
    "duration": 3706,
    "start_time": "2024-12-17T14:03:22.393Z"
   },
   {
    "duration": 8,
    "start_time": "2024-12-17T14:03:26.101Z"
   },
   {
    "duration": 414,
    "start_time": "2024-12-17T14:03:26.111Z"
   },
   {
    "duration": 4,
    "start_time": "2024-12-17T14:03:26.527Z"
   },
   {
    "duration": 10614,
    "start_time": "2024-12-17T14:03:26.533Z"
   },
   {
    "duration": 70,
    "start_time": "2024-12-17T14:03:37.149Z"
   },
   {
    "duration": 1523,
    "start_time": "2024-12-17T14:03:37.221Z"
   },
   {
    "duration": 0,
    "start_time": "2024-12-17T14:03:38.746Z"
   },
   {
    "duration": 0,
    "start_time": "2024-12-17T14:03:38.748Z"
   },
   {
    "duration": 0,
    "start_time": "2024-12-17T14:03:38.749Z"
   },
   {
    "duration": 0,
    "start_time": "2024-12-17T14:03:38.751Z"
   },
   {
    "duration": 0,
    "start_time": "2024-12-17T14:03:38.753Z"
   },
   {
    "duration": 0,
    "start_time": "2024-12-17T14:03:38.755Z"
   },
   {
    "duration": 0,
    "start_time": "2024-12-17T14:03:38.756Z"
   },
   {
    "duration": 0,
    "start_time": "2024-12-17T14:03:38.757Z"
   },
   {
    "duration": 0,
    "start_time": "2024-12-17T14:03:38.759Z"
   },
   {
    "duration": 22,
    "start_time": "2024-12-17T14:03:59.618Z"
   },
   {
    "duration": 1513,
    "start_time": "2024-12-17T14:05:47.920Z"
   },
   {
    "duration": 26,
    "start_time": "2024-12-17T14:06:22.628Z"
   },
   {
    "duration": 17,
    "start_time": "2024-12-17T14:07:01.707Z"
   },
   {
    "duration": 23,
    "start_time": "2024-12-17T14:08:47.162Z"
   },
   {
    "duration": 31,
    "start_time": "2024-12-17T14:24:55.827Z"
   },
   {
    "duration": 29,
    "start_time": "2024-12-17T14:32:50.159Z"
   },
   {
    "duration": 2567,
    "start_time": "2024-12-17T14:36:30.669Z"
   },
   {
    "duration": 2764,
    "start_time": "2024-12-17T14:36:33.239Z"
   },
   {
    "duration": 6,
    "start_time": "2024-12-17T14:36:36.005Z"
   },
   {
    "duration": 173,
    "start_time": "2024-12-17T14:36:36.013Z"
   },
   {
    "duration": 214,
    "start_time": "2024-12-17T14:36:36.188Z"
   },
   {
    "duration": 7,
    "start_time": "2024-12-17T14:36:36.404Z"
   },
   {
    "duration": 67,
    "start_time": "2024-12-17T14:36:36.413Z"
   },
   {
    "duration": 120,
    "start_time": "2024-12-17T14:36:36.482Z"
   },
   {
    "duration": 23,
    "start_time": "2024-12-17T14:36:36.603Z"
   },
   {
    "duration": 44,
    "start_time": "2024-12-17T14:36:36.629Z"
   },
   {
    "duration": 5,
    "start_time": "2024-12-17T14:36:36.675Z"
   },
   {
    "duration": 10,
    "start_time": "2024-12-17T14:36:36.682Z"
   },
   {
    "duration": 267,
    "start_time": "2024-12-17T14:36:36.694Z"
   },
   {
    "duration": 227,
    "start_time": "2024-12-17T14:36:36.963Z"
   },
   {
    "duration": 3609,
    "start_time": "2024-12-17T14:36:37.192Z"
   },
   {
    "duration": 8,
    "start_time": "2024-12-17T14:36:40.803Z"
   },
   {
    "duration": 390,
    "start_time": "2024-12-17T14:36:40.813Z"
   },
   {
    "duration": 4,
    "start_time": "2024-12-17T14:36:41.205Z"
   },
   {
    "duration": 10660,
    "start_time": "2024-12-17T14:36:41.211Z"
   },
   {
    "duration": 62,
    "start_time": "2024-12-17T14:36:51.873Z"
   },
   {
    "duration": 48,
    "start_time": "2024-12-17T14:36:51.937Z"
   },
   {
    "duration": 0,
    "start_time": "2024-12-17T14:36:51.987Z"
   },
   {
    "duration": 0,
    "start_time": "2024-12-17T14:36:51.988Z"
   },
   {
    "duration": 0,
    "start_time": "2024-12-17T14:36:51.989Z"
   },
   {
    "duration": 0,
    "start_time": "2024-12-17T14:36:51.990Z"
   },
   {
    "duration": 0,
    "start_time": "2024-12-17T14:36:51.991Z"
   },
   {
    "duration": 0,
    "start_time": "2024-12-17T14:36:51.992Z"
   },
   {
    "duration": 0,
    "start_time": "2024-12-17T14:36:51.994Z"
   },
   {
    "duration": 0,
    "start_time": "2024-12-17T14:36:51.994Z"
   },
   {
    "duration": 0,
    "start_time": "2024-12-17T14:36:51.996Z"
   },
   {
    "duration": 29,
    "start_time": "2024-12-17T14:42:12.534Z"
   },
   {
    "duration": 28,
    "start_time": "2024-12-17T14:45:23.748Z"
   },
   {
    "duration": 27,
    "start_time": "2024-12-17T14:46:41.262Z"
   },
   {
    "duration": 34,
    "start_time": "2024-12-17T14:48:47.694Z"
   },
   {
    "duration": 18,
    "start_time": "2024-12-17T14:55:50.014Z"
   },
   {
    "duration": 23,
    "start_time": "2024-12-17T14:57:39.747Z"
   },
   {
    "duration": 112,
    "start_time": "2024-12-17T14:58:30.922Z"
   },
   {
    "duration": 18,
    "start_time": "2024-12-17T15:00:06.808Z"
   },
   {
    "duration": 85,
    "start_time": "2024-12-17T15:02:08.608Z"
   },
   {
    "duration": 18,
    "start_time": "2024-12-17T15:02:24.838Z"
   },
   {
    "duration": 17,
    "start_time": "2024-12-17T15:02:41.945Z"
   },
   {
    "duration": 1687,
    "start_time": "2024-12-17T15:12:15.156Z"
   },
   {
    "duration": 58,
    "start_time": "2024-12-17T15:13:17.650Z"
   },
   {
    "duration": 2667,
    "start_time": "2024-12-17T15:31:35.396Z"
   },
   {
    "duration": 2680,
    "start_time": "2024-12-17T15:31:38.183Z"
   },
   {
    "duration": 6,
    "start_time": "2024-12-17T15:31:40.989Z"
   },
   {
    "duration": 123,
    "start_time": "2024-12-17T15:31:41.006Z"
   },
   {
    "duration": 135,
    "start_time": "2024-12-17T15:31:41.143Z"
   },
   {
    "duration": 7,
    "start_time": "2024-12-17T15:31:41.300Z"
   },
   {
    "duration": 27,
    "start_time": "2024-12-17T15:31:41.340Z"
   },
   {
    "duration": 28,
    "start_time": "2024-12-17T15:31:41.393Z"
   },
   {
    "duration": 18,
    "start_time": "2024-12-17T15:31:41.428Z"
   },
   {
    "duration": 5,
    "start_time": "2024-12-17T15:31:41.460Z"
   },
   {
    "duration": 4,
    "start_time": "2024-12-17T15:31:41.734Z"
   },
   {
    "duration": 7,
    "start_time": "2024-12-17T15:31:41.988Z"
   },
   {
    "duration": 250,
    "start_time": "2024-12-17T15:31:45.794Z"
   },
   {
    "duration": 250,
    "start_time": "2024-12-17T15:31:46.054Z"
   },
   {
    "duration": 3742,
    "start_time": "2024-12-17T15:31:46.721Z"
   },
   {
    "duration": 19,
    "start_time": "2024-12-17T15:31:50.476Z"
   },
   {
    "duration": 399,
    "start_time": "2024-12-17T15:32:01.718Z"
   },
   {
    "duration": 4,
    "start_time": "2024-12-17T15:32:02.189Z"
   },
   {
    "duration": 11109,
    "start_time": "2024-12-17T15:32:06.976Z"
   },
   {
    "duration": 69,
    "start_time": "2024-12-17T15:32:18.106Z"
   },
   {
    "duration": 1103292,
    "start_time": "2024-12-17T15:32:18.188Z"
   },
   {
    "duration": 0,
    "start_time": "2024-12-17T15:50:41.504Z"
   },
   {
    "duration": 0,
    "start_time": "2024-12-17T15:50:41.506Z"
   },
   {
    "duration": 0,
    "start_time": "2024-12-17T15:50:41.509Z"
   },
   {
    "duration": 0,
    "start_time": "2024-12-17T15:50:41.511Z"
   },
   {
    "duration": 0,
    "start_time": "2024-12-17T15:50:41.513Z"
   },
   {
    "duration": 0,
    "start_time": "2024-12-17T15:50:41.516Z"
   },
   {
    "duration": 0,
    "start_time": "2024-12-17T15:50:41.518Z"
   },
   {
    "duration": 0,
    "start_time": "2024-12-17T15:50:41.519Z"
   },
   {
    "duration": 0,
    "start_time": "2024-12-17T15:50:41.520Z"
   },
   {
    "duration": 4371,
    "start_time": "2024-12-17T17:53:06.695Z"
   },
   {
    "duration": 3744,
    "start_time": "2024-12-17T17:53:11.069Z"
   },
   {
    "duration": 2239,
    "start_time": "2024-12-17T17:53:14.815Z"
   },
   {
    "duration": 287,
    "start_time": "2024-12-17T17:53:17.056Z"
   },
   {
    "duration": 121,
    "start_time": "2024-12-17T17:53:17.345Z"
   },
   {
    "duration": 7,
    "start_time": "2024-12-17T17:53:17.468Z"
   },
   {
    "duration": 28,
    "start_time": "2024-12-17T17:53:17.477Z"
   },
   {
    "duration": 30,
    "start_time": "2024-12-17T17:53:17.506Z"
   },
   {
    "duration": 5,
    "start_time": "2024-12-17T17:53:17.537Z"
   },
   {
    "duration": 15,
    "start_time": "2024-12-17T17:53:17.545Z"
   },
   {
    "duration": 24,
    "start_time": "2024-12-17T17:53:17.561Z"
   },
   {
    "duration": 9,
    "start_time": "2024-12-17T17:53:17.587Z"
   },
   {
    "duration": 250,
    "start_time": "2024-12-17T17:53:17.598Z"
   },
   {
    "duration": 233,
    "start_time": "2024-12-17T17:53:17.850Z"
   },
   {
    "duration": 3454,
    "start_time": "2024-12-17T17:53:18.085Z"
   },
   {
    "duration": 8,
    "start_time": "2024-12-17T17:53:21.540Z"
   },
   {
    "duration": 382,
    "start_time": "2024-12-17T17:53:21.549Z"
   },
   {
    "duration": 5,
    "start_time": "2024-12-17T17:53:21.932Z"
   },
   {
    "duration": 9950,
    "start_time": "2024-12-17T17:53:21.938Z"
   },
   {
    "duration": 68,
    "start_time": "2024-12-17T17:53:31.889Z"
   },
   {
    "duration": 2648,
    "start_time": "2024-12-17T18:05:02.273Z"
   },
   {
    "duration": 2631,
    "start_time": "2024-12-17T18:05:04.923Z"
   },
   {
    "duration": 1894,
    "start_time": "2024-12-17T18:05:07.556Z"
   },
   {
    "duration": 114,
    "start_time": "2024-12-17T18:05:09.452Z"
   },
   {
    "duration": 110,
    "start_time": "2024-12-17T18:05:09.568Z"
   },
   {
    "duration": 8,
    "start_time": "2024-12-17T18:05:09.679Z"
   },
   {
    "duration": 55,
    "start_time": "2024-12-17T18:05:09.689Z"
   },
   {
    "duration": 15,
    "start_time": "2024-12-17T18:05:09.745Z"
   },
   {
    "duration": 5,
    "start_time": "2024-12-17T18:05:09.762Z"
   },
   {
    "duration": 20,
    "start_time": "2024-12-17T18:05:09.769Z"
   },
   {
    "duration": 4,
    "start_time": "2024-12-17T18:05:09.791Z"
   },
   {
    "duration": 10,
    "start_time": "2024-12-17T18:05:09.796Z"
   },
   {
    "duration": 284,
    "start_time": "2024-12-17T18:05:09.807Z"
   },
   {
    "duration": 241,
    "start_time": "2024-12-17T18:05:10.093Z"
   },
   {
    "duration": 4171,
    "start_time": "2024-12-17T18:05:10.336Z"
   },
   {
    "duration": 31,
    "start_time": "2024-12-17T18:05:14.508Z"
   },
   {
    "duration": 476,
    "start_time": "2024-12-17T18:05:14.540Z"
   },
   {
    "duration": 4,
    "start_time": "2024-12-17T18:05:15.017Z"
   },
   {
    "duration": 10047,
    "start_time": "2024-12-17T18:05:15.031Z"
   },
   {
    "duration": 50,
    "start_time": "2024-12-17T18:05:25.081Z"
   },
   {
    "duration": 1172,
    "start_time": "2024-12-17T18:05:25.133Z"
   },
   {
    "duration": 2205,
    "start_time": "2024-12-17T18:05:26.307Z"
   },
   {
    "duration": 0,
    "start_time": "2024-12-17T18:05:28.514Z"
   },
   {
    "duration": 0,
    "start_time": "2024-12-17T18:05:28.515Z"
   },
   {
    "duration": 0,
    "start_time": "2024-12-17T18:05:28.516Z"
   },
   {
    "duration": 0,
    "start_time": "2024-12-17T18:05:28.518Z"
   },
   {
    "duration": 0,
    "start_time": "2024-12-17T18:05:28.519Z"
   },
   {
    "duration": 0,
    "start_time": "2024-12-17T18:05:28.520Z"
   },
   {
    "duration": 0,
    "start_time": "2024-12-17T18:05:28.521Z"
   },
   {
    "duration": 0,
    "start_time": "2024-12-17T18:05:28.522Z"
   },
   {
    "duration": 33,
    "start_time": "2024-12-17T18:28:22.767Z"
   },
   {
    "duration": 35,
    "start_time": "2024-12-17T18:28:41.521Z"
   },
   {
    "duration": 62,
    "start_time": "2024-12-17T19:30:36.405Z"
   },
   {
    "duration": 63,
    "start_time": "2024-12-17T20:13:40.413Z"
   },
   {
    "duration": 32,
    "start_time": "2024-12-17T20:14:04.955Z"
   },
   {
    "duration": 69,
    "start_time": "2024-12-17T20:15:50.301Z"
   },
   {
    "duration": 58,
    "start_time": "2024-12-17T20:18:49.883Z"
   },
   {
    "duration": 64,
    "start_time": "2024-12-17T20:23:31.045Z"
   },
   {
    "duration": 31,
    "start_time": "2024-12-17T20:24:19.990Z"
   },
   {
    "duration": 61,
    "start_time": "2024-12-17T20:25:01.088Z"
   },
   {
    "duration": 50,
    "start_time": "2024-12-17T20:25:50.415Z"
   },
   {
    "duration": 23,
    "start_time": "2024-12-17T20:26:28.849Z"
   },
   {
    "duration": 2593,
    "start_time": "2024-12-17T20:26:37.255Z"
   },
   {
    "duration": 2488,
    "start_time": "2024-12-17T20:26:39.851Z"
   },
   {
    "duration": 6,
    "start_time": "2024-12-17T20:26:42.341Z"
   },
   {
    "duration": 145,
    "start_time": "2024-12-17T20:26:42.349Z"
   },
   {
    "duration": 102,
    "start_time": "2024-12-17T20:26:42.496Z"
   },
   {
    "duration": 30,
    "start_time": "2024-12-17T20:26:42.600Z"
   },
   {
    "duration": 12,
    "start_time": "2024-12-17T20:26:42.632Z"
   },
   {
    "duration": 18,
    "start_time": "2024-12-17T20:26:42.645Z"
   },
   {
    "duration": 6,
    "start_time": "2024-12-17T20:26:42.665Z"
   },
   {
    "duration": 4,
    "start_time": "2024-12-17T20:26:42.673Z"
   },
   {
    "duration": 6,
    "start_time": "2024-12-17T20:26:42.678Z"
   },
   {
    "duration": 45,
    "start_time": "2024-12-17T20:26:42.685Z"
   },
   {
    "duration": 259,
    "start_time": "2024-12-17T20:26:42.732Z"
   },
   {
    "duration": 346,
    "start_time": "2024-12-17T20:26:42.993Z"
   },
   {
    "duration": 3531,
    "start_time": "2024-12-17T20:26:43.341Z"
   },
   {
    "duration": 7,
    "start_time": "2024-12-17T20:26:46.874Z"
   },
   {
    "duration": 378,
    "start_time": "2024-12-17T20:26:46.882Z"
   },
   {
    "duration": 4,
    "start_time": "2024-12-17T20:26:47.262Z"
   },
   {
    "duration": 10148,
    "start_time": "2024-12-17T20:26:47.267Z"
   },
   {
    "duration": 57,
    "start_time": "2024-12-17T20:26:57.417Z"
   },
   {
    "duration": 28,
    "start_time": "2024-12-17T20:26:57.475Z"
   },
   {
    "duration": 0,
    "start_time": "2024-12-17T20:26:57.504Z"
   },
   {
    "duration": 0,
    "start_time": "2024-12-17T20:26:57.506Z"
   },
   {
    "duration": 0,
    "start_time": "2024-12-17T20:26:57.507Z"
   },
   {
    "duration": 0,
    "start_time": "2024-12-17T20:26:57.529Z"
   },
   {
    "duration": 0,
    "start_time": "2024-12-17T20:26:57.531Z"
   },
   {
    "duration": 0,
    "start_time": "2024-12-17T20:26:57.532Z"
   },
   {
    "duration": 0,
    "start_time": "2024-12-17T20:26:57.533Z"
   },
   {
    "duration": 0,
    "start_time": "2024-12-17T20:26:57.534Z"
   },
   {
    "duration": 0,
    "start_time": "2024-12-17T20:26:57.535Z"
   },
   {
    "duration": 25,
    "start_time": "2024-12-17T20:27:46.576Z"
   },
   {
    "duration": 50,
    "start_time": "2024-12-17T20:28:24.035Z"
   },
   {
    "duration": 4206,
    "start_time": "2024-12-17T20:29:01.298Z"
   },
   {
    "duration": 70,
    "start_time": "2024-12-17T20:36:53.343Z"
   },
   {
    "duration": 4076,
    "start_time": "2024-12-17T20:38:35.430Z"
   },
   {
    "duration": 18,
    "start_time": "2024-12-17T20:43:06.154Z"
   },
   {
    "duration": 2511,
    "start_time": "2024-12-17T20:43:19.034Z"
   },
   {
    "duration": 2438,
    "start_time": "2024-12-17T20:43:21.547Z"
   },
   {
    "duration": 5,
    "start_time": "2024-12-17T20:43:23.988Z"
   },
   {
    "duration": 122,
    "start_time": "2024-12-17T20:43:23.995Z"
   },
   {
    "duration": 118,
    "start_time": "2024-12-17T20:43:24.120Z"
   },
   {
    "duration": 8,
    "start_time": "2024-12-17T20:43:24.239Z"
   },
   {
    "duration": 16,
    "start_time": "2024-12-17T20:43:24.248Z"
   },
   {
    "duration": 19,
    "start_time": "2024-12-17T20:43:24.265Z"
   },
   {
    "duration": 54,
    "start_time": "2024-12-17T20:43:24.285Z"
   },
   {
    "duration": 10,
    "start_time": "2024-12-17T20:43:24.340Z"
   },
   {
    "duration": 4,
    "start_time": "2024-12-17T20:43:24.352Z"
   },
   {
    "duration": 8,
    "start_time": "2024-12-17T20:43:24.358Z"
   },
   {
    "duration": 367,
    "start_time": "2024-12-17T20:43:24.368Z"
   },
   {
    "duration": 223,
    "start_time": "2024-12-17T20:43:24.738Z"
   },
   {
    "duration": 3391,
    "start_time": "2024-12-17T20:43:24.963Z"
   },
   {
    "duration": 8,
    "start_time": "2024-12-17T20:43:28.356Z"
   },
   {
    "duration": 365,
    "start_time": "2024-12-17T20:43:28.365Z"
   },
   {
    "duration": 4,
    "start_time": "2024-12-17T20:43:28.732Z"
   },
   {
    "duration": 10043,
    "start_time": "2024-12-17T20:43:28.739Z"
   },
   {
    "duration": 87,
    "start_time": "2024-12-17T20:43:38.784Z"
   },
   {
    "duration": 4048,
    "start_time": "2024-12-17T20:43:38.873Z"
   },
   {
    "duration": 17,
    "start_time": "2024-12-17T20:43:42.930Z"
   },
   {
    "duration": 4,
    "start_time": "2024-12-17T20:43:42.949Z"
   },
   {
    "duration": 81,
    "start_time": "2024-12-17T20:43:42.955Z"
   },
   {
    "duration": 0,
    "start_time": "2024-12-17T20:43:43.038Z"
   },
   {
    "duration": 0,
    "start_time": "2024-12-17T20:43:43.039Z"
   },
   {
    "duration": 0,
    "start_time": "2024-12-17T20:43:43.041Z"
   },
   {
    "duration": 0,
    "start_time": "2024-12-17T20:43:43.042Z"
   },
   {
    "duration": 0,
    "start_time": "2024-12-17T20:43:43.043Z"
   },
   {
    "duration": 0,
    "start_time": "2024-12-17T20:43:43.044Z"
   },
   {
    "duration": 2446,
    "start_time": "2024-12-17T20:45:26.393Z"
   },
   {
    "duration": 2485,
    "start_time": "2024-12-17T20:45:28.841Z"
   },
   {
    "duration": 6,
    "start_time": "2024-12-17T20:45:31.328Z"
   },
   {
    "duration": 119,
    "start_time": "2024-12-17T20:45:31.336Z"
   },
   {
    "duration": 186,
    "start_time": "2024-12-17T20:45:31.458Z"
   },
   {
    "duration": 8,
    "start_time": "2024-12-17T20:45:31.647Z"
   },
   {
    "duration": 21,
    "start_time": "2024-12-17T20:45:31.657Z"
   },
   {
    "duration": 61,
    "start_time": "2024-12-17T20:45:31.680Z"
   },
   {
    "duration": 9,
    "start_time": "2024-12-17T20:45:31.742Z"
   },
   {
    "duration": 11,
    "start_time": "2024-12-17T20:45:31.752Z"
   },
   {
    "duration": 15,
    "start_time": "2024-12-17T20:45:31.765Z"
   },
   {
    "duration": 54,
    "start_time": "2024-12-17T20:45:31.782Z"
   },
   {
    "duration": 502,
    "start_time": "2024-12-17T20:45:31.838Z"
   },
   {
    "duration": 487,
    "start_time": "2024-12-17T20:45:32.343Z"
   },
   {
    "duration": 3755,
    "start_time": "2024-12-17T20:45:32.832Z"
   },
   {
    "duration": 8,
    "start_time": "2024-12-17T20:45:36.589Z"
   },
   {
    "duration": 382,
    "start_time": "2024-12-17T20:45:36.599Z"
   },
   {
    "duration": 4,
    "start_time": "2024-12-17T20:45:36.983Z"
   },
   {
    "duration": 9918,
    "start_time": "2024-12-17T20:45:36.989Z"
   },
   {
    "duration": 79,
    "start_time": "2024-12-17T20:45:46.908Z"
   },
   {
    "duration": 4202,
    "start_time": "2024-12-17T20:45:46.988Z"
   },
   {
    "duration": 16,
    "start_time": "2024-12-17T20:45:51.192Z"
   },
   {
    "duration": 20,
    "start_time": "2024-12-17T20:45:51.211Z"
   },
   {
    "duration": 18,
    "start_time": "2024-12-17T20:45:51.233Z"
   },
   {
    "duration": 15,
    "start_time": "2024-12-17T20:45:51.252Z"
   },
   {
    "duration": 0,
    "start_time": "2024-12-17T20:45:51.268Z"
   },
   {
    "duration": 0,
    "start_time": "2024-12-17T20:45:51.270Z"
   },
   {
    "duration": 0,
    "start_time": "2024-12-17T20:45:51.271Z"
   },
   {
    "duration": 0,
    "start_time": "2024-12-17T20:45:51.272Z"
   },
   {
    "duration": 0,
    "start_time": "2024-12-17T20:45:51.273Z"
   },
   {
    "duration": 5,
    "start_time": "2024-12-17T20:48:46.473Z"
   },
   {
    "duration": 5,
    "start_time": "2024-12-17T20:48:51.572Z"
   },
   {
    "duration": 5604,
    "start_time": "2024-12-17T20:48:55.230Z"
   },
   {
    "duration": 51,
    "start_time": "2024-12-18T10:01:08.909Z"
   },
   {
    "duration": 3961,
    "start_time": "2024-12-18T10:01:15.831Z"
   },
   {
    "duration": 3006,
    "start_time": "2024-12-18T10:01:19.794Z"
   },
   {
    "duration": 2012,
    "start_time": "2024-12-18T10:01:22.802Z"
   },
   {
    "duration": 285,
    "start_time": "2024-12-18T10:01:24.816Z"
   },
   {
    "duration": 99,
    "start_time": "2024-12-18T10:01:25.104Z"
   },
   {
    "duration": 7,
    "start_time": "2024-12-18T10:01:25.205Z"
   },
   {
    "duration": 43,
    "start_time": "2024-12-18T10:01:25.214Z"
   },
   {
    "duration": 12,
    "start_time": "2024-12-18T10:01:25.259Z"
   },
   {
    "duration": 4,
    "start_time": "2024-12-18T10:01:25.273Z"
   },
   {
    "duration": 9,
    "start_time": "2024-12-18T10:01:25.279Z"
   },
   {
    "duration": 6,
    "start_time": "2024-12-18T10:01:25.289Z"
   },
   {
    "duration": 25,
    "start_time": "2024-12-18T10:01:25.297Z"
   },
   {
    "duration": 240,
    "start_time": "2024-12-18T10:01:25.324Z"
   },
   {
    "duration": 204,
    "start_time": "2024-12-18T10:01:25.567Z"
   },
   {
    "duration": 3294,
    "start_time": "2024-12-18T10:01:25.773Z"
   },
   {
    "duration": 8,
    "start_time": "2024-12-18T10:01:29.068Z"
   },
   {
    "duration": 362,
    "start_time": "2024-12-18T10:01:29.078Z"
   },
   {
    "duration": 4,
    "start_time": "2024-12-18T10:01:29.442Z"
   },
   {
    "duration": 9533,
    "start_time": "2024-12-18T10:01:29.453Z"
   },
   {
    "duration": 170,
    "start_time": "2024-12-18T10:01:38.988Z"
   },
   {
    "duration": 0,
    "start_time": "2024-12-18T10:01:39.159Z"
   },
   {
    "duration": 0,
    "start_time": "2024-12-18T10:01:39.160Z"
   },
   {
    "duration": 0,
    "start_time": "2024-12-18T10:01:39.161Z"
   },
   {
    "duration": 0,
    "start_time": "2024-12-18T10:01:39.162Z"
   },
   {
    "duration": 0,
    "start_time": "2024-12-18T10:01:39.163Z"
   },
   {
    "duration": 0,
    "start_time": "2024-12-18T10:01:39.164Z"
   },
   {
    "duration": 0,
    "start_time": "2024-12-18T10:01:39.166Z"
   },
   {
    "duration": 0,
    "start_time": "2024-12-18T10:01:39.167Z"
   },
   {
    "duration": 0,
    "start_time": "2024-12-18T10:01:39.168Z"
   },
   {
    "duration": 0,
    "start_time": "2024-12-18T10:01:39.170Z"
   },
   {
    "duration": 70,
    "start_time": "2024-12-18T10:02:47.637Z"
   },
   {
    "duration": 68,
    "start_time": "2024-12-18T10:06:49.923Z"
   },
   {
    "duration": 3824,
    "start_time": "2024-12-18T10:07:01.645Z"
   },
   {
    "duration": 2445,
    "start_time": "2024-12-18T10:07:26.775Z"
   },
   {
    "duration": 2428,
    "start_time": "2024-12-18T10:07:29.223Z"
   },
   {
    "duration": 7,
    "start_time": "2024-12-18T10:07:31.652Z"
   },
   {
    "duration": 159,
    "start_time": "2024-12-18T10:07:31.661Z"
   },
   {
    "duration": 100,
    "start_time": "2024-12-18T10:07:31.823Z"
   },
   {
    "duration": 29,
    "start_time": "2024-12-18T10:07:31.924Z"
   },
   {
    "duration": 20,
    "start_time": "2024-12-18T10:07:31.955Z"
   },
   {
    "duration": 18,
    "start_time": "2024-12-18T10:07:31.976Z"
   },
   {
    "duration": 17,
    "start_time": "2024-12-18T10:07:31.995Z"
   },
   {
    "duration": 25,
    "start_time": "2024-12-18T10:07:32.014Z"
   },
   {
    "duration": 21,
    "start_time": "2024-12-18T10:07:32.041Z"
   },
   {
    "duration": 21,
    "start_time": "2024-12-18T10:07:32.063Z"
   },
   {
    "duration": 363,
    "start_time": "2024-12-18T10:07:32.085Z"
   },
   {
    "duration": 205,
    "start_time": "2024-12-18T10:07:32.453Z"
   },
   {
    "duration": 3429,
    "start_time": "2024-12-18T10:07:32.660Z"
   },
   {
    "duration": 8,
    "start_time": "2024-12-18T10:07:36.090Z"
   },
   {
    "duration": 370,
    "start_time": "2024-12-18T10:07:36.100Z"
   },
   {
    "duration": 4,
    "start_time": "2024-12-18T10:07:36.471Z"
   },
   {
    "duration": 9685,
    "start_time": "2024-12-18T10:07:36.476Z"
   },
   {
    "duration": 64,
    "start_time": "2024-12-18T10:07:46.162Z"
   },
   {
    "duration": 3815,
    "start_time": "2024-12-18T10:07:46.228Z"
   },
   {
    "duration": 22,
    "start_time": "2024-12-18T10:07:50.045Z"
   },
   {
    "duration": 27,
    "start_time": "2024-12-18T10:07:50.069Z"
   },
   {
    "duration": 20,
    "start_time": "2024-12-18T10:07:50.097Z"
   },
   {
    "duration": 18,
    "start_time": "2024-12-18T10:07:50.118Z"
   },
   {
    "duration": 16,
    "start_time": "2024-12-18T10:07:50.137Z"
   },
   {
    "duration": 4588,
    "start_time": "2024-12-18T12:53:24.041Z"
   },
   {
    "duration": 3225,
    "start_time": "2024-12-18T12:53:28.632Z"
   },
   {
    "duration": 2239,
    "start_time": "2024-12-18T12:53:31.859Z"
   },
   {
    "duration": 306,
    "start_time": "2024-12-18T12:53:34.099Z"
   },
   {
    "duration": 106,
    "start_time": "2024-12-18T12:53:34.407Z"
   },
   {
    "duration": 27,
    "start_time": "2024-12-18T12:53:34.514Z"
   },
   {
    "duration": 72,
    "start_time": "2024-12-18T12:53:34.543Z"
   },
   {
    "duration": 17,
    "start_time": "2024-12-18T12:53:34.617Z"
   },
   {
    "duration": 6,
    "start_time": "2024-12-18T12:53:34.636Z"
   },
   {
    "duration": 25,
    "start_time": "2024-12-18T12:53:34.643Z"
   },
   {
    "duration": 4,
    "start_time": "2024-12-18T12:53:34.670Z"
   },
   {
    "duration": 22,
    "start_time": "2024-12-18T12:53:34.675Z"
   },
   {
    "duration": 261,
    "start_time": "2024-12-18T12:53:34.698Z"
   },
   {
    "duration": 233,
    "start_time": "2024-12-18T12:53:34.961Z"
   },
   {
    "duration": 3570,
    "start_time": "2024-12-18T12:53:35.196Z"
   },
   {
    "duration": 9,
    "start_time": "2024-12-18T12:53:38.767Z"
   },
   {
    "duration": 399,
    "start_time": "2024-12-18T12:53:38.777Z"
   },
   {
    "duration": 4,
    "start_time": "2024-12-18T12:53:39.178Z"
   },
   {
    "duration": 10075,
    "start_time": "2024-12-18T12:53:39.183Z"
   },
   {
    "duration": 87,
    "start_time": "2024-12-18T12:53:49.260Z"
   },
   {
    "duration": 3990,
    "start_time": "2024-12-18T12:53:49.348Z"
   },
   {
    "duration": 16,
    "start_time": "2024-12-18T12:53:53.340Z"
   },
   {
    "duration": 66,
    "start_time": "2024-12-18T12:53:53.358Z"
   },
   {
    "duration": 115,
    "start_time": "2024-12-18T12:53:53.426Z"
   },
   {
    "duration": 73,
    "start_time": "2024-12-18T12:53:53.542Z"
   },
   {
    "duration": 41,
    "start_time": "2024-12-18T12:53:53.616Z"
   },
   {
    "duration": 5557,
    "start_time": "2024-12-18T12:53:53.658Z"
   },
   {
    "duration": 0,
    "start_time": "2024-12-18T12:53:59.217Z"
   },
   {
    "duration": 0,
    "start_time": "2024-12-18T12:53:59.218Z"
   },
   {
    "duration": 0,
    "start_time": "2024-12-18T12:53:59.220Z"
   },
   {
    "duration": 77,
    "start_time": "2024-12-18T18:22:05.248Z"
   },
   {
    "duration": 4348,
    "start_time": "2024-12-18T18:22:08.863Z"
   },
   {
    "duration": 3074,
    "start_time": "2024-12-18T18:22:13.213Z"
   },
   {
    "duration": 2124,
    "start_time": "2024-12-18T18:22:16.289Z"
   },
   {
    "duration": 288,
    "start_time": "2024-12-18T18:22:18.415Z"
   },
   {
    "duration": 111,
    "start_time": "2024-12-18T18:22:18.705Z"
   },
   {
    "duration": 6,
    "start_time": "2024-12-18T18:22:18.818Z"
   },
   {
    "duration": 112,
    "start_time": "2024-12-18T18:22:18.825Z"
   },
   {
    "duration": 37,
    "start_time": "2024-12-18T18:22:18.938Z"
   },
   {
    "duration": 27,
    "start_time": "2024-12-18T18:22:18.976Z"
   },
   {
    "duration": 16,
    "start_time": "2024-12-18T18:22:19.004Z"
   },
   {
    "duration": 29,
    "start_time": "2024-12-18T18:22:19.022Z"
   },
   {
    "duration": 25,
    "start_time": "2024-12-18T18:22:19.052Z"
   },
   {
    "duration": 240,
    "start_time": "2024-12-18T18:22:19.079Z"
   },
   {
    "duration": 214,
    "start_time": "2024-12-18T18:22:19.322Z"
   },
   {
    "duration": 3446,
    "start_time": "2024-12-18T18:22:19.537Z"
   },
   {
    "duration": 10,
    "start_time": "2024-12-18T18:22:22.985Z"
   },
   {
    "duration": 376,
    "start_time": "2024-12-18T18:22:22.996Z"
   },
   {
    "duration": 4,
    "start_time": "2024-12-18T18:22:23.375Z"
   },
   {
    "duration": 9674,
    "start_time": "2024-12-18T18:22:23.380Z"
   },
   {
    "duration": 104,
    "start_time": "2024-12-18T18:22:33.055Z"
   },
   {
    "duration": 3988,
    "start_time": "2024-12-18T18:22:33.161Z"
   },
   {
    "duration": 17,
    "start_time": "2024-12-18T18:22:37.155Z"
   },
   {
    "duration": 70,
    "start_time": "2024-12-18T18:22:37.174Z"
   },
   {
    "duration": 50,
    "start_time": "2024-12-18T18:22:37.246Z"
   },
   {
    "duration": 14,
    "start_time": "2024-12-18T18:22:37.298Z"
   },
   {
    "duration": 28,
    "start_time": "2024-12-18T18:22:37.314Z"
   },
   {
    "duration": 5616,
    "start_time": "2024-12-18T18:22:37.344Z"
   },
   {
    "duration": 0,
    "start_time": "2024-12-18T18:22:42.961Z"
   },
   {
    "duration": 0,
    "start_time": "2024-12-18T18:22:42.963Z"
   },
   {
    "duration": 0,
    "start_time": "2024-12-18T18:22:42.964Z"
   },
   {
    "duration": 4,
    "start_time": "2024-12-18T18:32:01.908Z"
   },
   {
    "duration": 5,
    "start_time": "2024-12-18T18:39:46.526Z"
   },
   {
    "duration": 11618,
    "start_time": "2024-12-18T18:39:52.846Z"
   },
   {
    "duration": 6,
    "start_time": "2024-12-18T18:42:27.348Z"
   },
   {
    "duration": 5,
    "start_time": "2024-12-18T18:42:30.320Z"
   },
   {
    "duration": 7,
    "start_time": "2024-12-18T18:42:34.175Z"
   },
   {
    "duration": 11781,
    "start_time": "2024-12-18T18:42:37.881Z"
   },
   {
    "duration": 2527,
    "start_time": "2024-12-18T18:43:03.137Z"
   },
   {
    "duration": 2399,
    "start_time": "2024-12-18T18:43:05.667Z"
   },
   {
    "duration": 5,
    "start_time": "2024-12-18T18:43:08.068Z"
   },
   {
    "duration": 135,
    "start_time": "2024-12-18T18:43:08.075Z"
   },
   {
    "duration": 97,
    "start_time": "2024-12-18T18:43:08.212Z"
   },
   {
    "duration": 7,
    "start_time": "2024-12-18T18:43:08.310Z"
   },
   {
    "duration": 21,
    "start_time": "2024-12-18T18:43:08.318Z"
   },
   {
    "duration": 12,
    "start_time": "2024-12-18T18:43:08.355Z"
   },
   {
    "duration": 5,
    "start_time": "2024-12-18T18:43:08.369Z"
   },
   {
    "duration": 4,
    "start_time": "2024-12-18T18:43:08.375Z"
   },
   {
    "duration": 6,
    "start_time": "2024-12-18T18:43:08.381Z"
   },
   {
    "duration": 33,
    "start_time": "2024-12-18T18:43:08.389Z"
   },
   {
    "duration": 219,
    "start_time": "2024-12-18T18:43:08.423Z"
   },
   {
    "duration": 210,
    "start_time": "2024-12-18T18:43:08.644Z"
   },
   {
    "duration": 3354,
    "start_time": "2024-12-18T18:43:08.855Z"
   },
   {
    "duration": 7,
    "start_time": "2024-12-18T18:43:12.211Z"
   },
   {
    "duration": 343,
    "start_time": "2024-12-18T18:43:12.219Z"
   },
   {
    "duration": 4,
    "start_time": "2024-12-18T18:43:12.564Z"
   },
   {
    "duration": 9450,
    "start_time": "2024-12-18T18:43:12.569Z"
   },
   {
    "duration": 70,
    "start_time": "2024-12-18T18:43:22.020Z"
   },
   {
    "duration": 3745,
    "start_time": "2024-12-18T18:43:22.092Z"
   },
   {
    "duration": 25,
    "start_time": "2024-12-18T18:43:25.838Z"
   },
   {
    "duration": 4,
    "start_time": "2024-12-18T18:43:25.864Z"
   },
   {
    "duration": 16,
    "start_time": "2024-12-18T18:43:25.869Z"
   },
   {
    "duration": 5,
    "start_time": "2024-12-18T18:43:25.886Z"
   },
   {
    "duration": 17,
    "start_time": "2024-12-18T18:43:25.893Z"
   },
   {
    "duration": 11844,
    "start_time": "2024-12-18T18:43:25.911Z"
   },
   {
    "duration": 57813,
    "start_time": "2024-12-18T18:43:37.762Z"
   },
   {
    "duration": 2281689,
    "start_time": "2024-12-18T18:44:35.576Z"
   },
   {
    "duration": 1843,
    "start_time": "2024-12-18T19:22:37.267Z"
   },
   {
    "duration": 1916,
    "start_time": "2024-12-18T20:55:23.324Z"
   },
   {
    "duration": 2582,
    "start_time": "2024-12-18T21:20:10.064Z"
   },
   {
    "duration": 2610,
    "start_time": "2024-12-18T21:20:12.648Z"
   },
   {
    "duration": 5,
    "start_time": "2024-12-18T21:20:15.260Z"
   },
   {
    "duration": 127,
    "start_time": "2024-12-18T21:20:15.267Z"
   },
   {
    "duration": 112,
    "start_time": "2024-12-18T21:20:15.397Z"
   },
   {
    "duration": 6,
    "start_time": "2024-12-18T21:20:15.511Z"
   },
   {
    "duration": 36,
    "start_time": "2024-12-18T21:20:15.519Z"
   },
   {
    "duration": 20,
    "start_time": "2024-12-18T21:20:15.559Z"
   },
   {
    "duration": 8,
    "start_time": "2024-12-18T21:20:15.582Z"
   },
   {
    "duration": 23,
    "start_time": "2024-12-18T21:20:15.592Z"
   },
   {
    "duration": 6,
    "start_time": "2024-12-18T21:20:15.616Z"
   },
   {
    "duration": 52,
    "start_time": "2024-12-18T21:20:15.624Z"
   },
   {
    "duration": 250,
    "start_time": "2024-12-18T21:20:15.679Z"
   },
   {
    "duration": 252,
    "start_time": "2024-12-18T21:20:15.932Z"
   },
   {
    "duration": 3629,
    "start_time": "2024-12-18T21:20:16.186Z"
   },
   {
    "duration": 7,
    "start_time": "2024-12-18T21:20:19.817Z"
   },
   {
    "duration": 413,
    "start_time": "2024-12-18T21:20:19.826Z"
   },
   {
    "duration": 4,
    "start_time": "2024-12-18T21:20:20.241Z"
   },
   {
    "duration": 10880,
    "start_time": "2024-12-18T21:20:20.255Z"
   },
   {
    "duration": 86,
    "start_time": "2024-12-18T21:20:31.136Z"
   },
   {
    "duration": 4291,
    "start_time": "2024-12-18T21:20:31.223Z"
   },
   {
    "duration": 16,
    "start_time": "2024-12-18T21:20:35.515Z"
   },
   {
    "duration": 36,
    "start_time": "2024-12-18T21:20:35.532Z"
   },
   {
    "duration": 60,
    "start_time": "2024-12-18T21:20:35.571Z"
   },
   {
    "duration": 30,
    "start_time": "2024-12-18T21:20:35.632Z"
   },
   {
    "duration": 42,
    "start_time": "2024-12-18T21:20:35.665Z"
   },
   {
    "duration": 11858,
    "start_time": "2024-12-18T21:20:35.709Z"
   },
   {
    "duration": 60016,
    "start_time": "2024-12-18T21:20:47.570Z"
   },
   {
    "duration": 4259,
    "start_time": "2024-12-19T03:32:08.487Z"
   },
   {
    "duration": 3320,
    "start_time": "2024-12-19T03:32:12.748Z"
   },
   {
    "duration": 2046,
    "start_time": "2024-12-19T03:32:16.071Z"
   },
   {
    "duration": 307,
    "start_time": "2024-12-19T03:32:18.119Z"
   },
   {
    "duration": 118,
    "start_time": "2024-12-19T03:32:18.427Z"
   },
   {
    "duration": 7,
    "start_time": "2024-12-19T03:32:18.547Z"
   },
   {
    "duration": 106,
    "start_time": "2024-12-19T03:32:18.556Z"
   },
   {
    "duration": 13,
    "start_time": "2024-12-19T03:32:18.664Z"
   },
   {
    "duration": 6,
    "start_time": "2024-12-19T03:32:18.678Z"
   },
   {
    "duration": 10,
    "start_time": "2024-12-19T03:32:18.686Z"
   },
   {
    "duration": 7,
    "start_time": "2024-12-19T03:32:18.697Z"
   },
   {
    "duration": 15,
    "start_time": "2024-12-19T03:32:18.706Z"
   },
   {
    "duration": 243,
    "start_time": "2024-12-19T03:32:18.722Z"
   },
   {
    "duration": 220,
    "start_time": "2024-12-19T03:32:18.967Z"
   },
   {
    "duration": 3462,
    "start_time": "2024-12-19T03:32:19.189Z"
   },
   {
    "duration": 8,
    "start_time": "2024-12-19T03:32:22.652Z"
   },
   {
    "duration": 374,
    "start_time": "2024-12-19T03:32:22.661Z"
   },
   {
    "duration": 4,
    "start_time": "2024-12-19T03:32:23.036Z"
   },
   {
    "duration": 9798,
    "start_time": "2024-12-19T03:32:23.041Z"
   },
   {
    "duration": 69,
    "start_time": "2024-12-19T03:32:32.841Z"
   },
   {
    "duration": 4002,
    "start_time": "2024-12-19T03:32:32.929Z"
   },
   {
    "duration": 16,
    "start_time": "2024-12-19T03:32:36.933Z"
   },
   {
    "duration": 11,
    "start_time": "2024-12-19T03:32:36.950Z"
   },
   {
    "duration": 24,
    "start_time": "2024-12-19T03:32:36.963Z"
   },
   {
    "duration": 24,
    "start_time": "2024-12-19T03:32:36.989Z"
   },
   {
    "duration": 33,
    "start_time": "2024-12-19T03:32:37.015Z"
   },
   {
    "duration": 11981,
    "start_time": "2024-12-19T03:32:37.050Z"
   },
   {
    "duration": 60725,
    "start_time": "2024-12-19T03:32:49.036Z"
   },
   {
    "duration": 48,
    "start_time": "2024-12-20T13:38:56.950Z"
   },
   {
    "duration": 10,
    "start_time": "2024-12-20T13:39:56.488Z"
   },
   {
    "duration": 4392,
    "start_time": "2024-12-20T13:40:01.165Z"
   },
   {
    "duration": 3625,
    "start_time": "2024-12-20T13:40:05.559Z"
   },
   {
    "duration": 2025,
    "start_time": "2024-12-20T13:40:09.186Z"
   },
   {
    "duration": 374,
    "start_time": "2024-12-20T13:40:11.213Z"
   },
   {
    "duration": 90,
    "start_time": "2024-12-20T13:40:11.588Z"
   },
   {
    "duration": 7,
    "start_time": "2024-12-20T13:40:11.679Z"
   },
   {
    "duration": 35,
    "start_time": "2024-12-20T13:40:11.687Z"
   },
   {
    "duration": 40,
    "start_time": "2024-12-20T13:40:11.724Z"
   },
   {
    "duration": 16,
    "start_time": "2024-12-20T13:40:11.765Z"
   },
   {
    "duration": 3,
    "start_time": "2024-12-20T13:40:11.785Z"
   },
   {
    "duration": 5,
    "start_time": "2024-12-20T13:40:11.790Z"
   },
   {
    "duration": 10,
    "start_time": "2024-12-20T13:40:11.797Z"
   },
   {
    "duration": 242,
    "start_time": "2024-12-20T13:40:11.808Z"
   },
   {
    "duration": 221,
    "start_time": "2024-12-20T13:40:12.052Z"
   },
   {
    "duration": 3213,
    "start_time": "2024-12-20T13:40:12.275Z"
   },
   {
    "duration": 7,
    "start_time": "2024-12-20T13:40:15.489Z"
   },
   {
    "duration": 303,
    "start_time": "2024-12-20T13:40:15.497Z"
   },
   {
    "duration": 10,
    "start_time": "2024-12-20T13:40:15.802Z"
   },
   {
    "duration": 8507,
    "start_time": "2024-12-20T13:40:15.813Z"
   },
   {
    "duration": 65,
    "start_time": "2024-12-20T13:40:24.322Z"
   },
   {
    "duration": 2650,
    "start_time": "2024-12-20T13:40:24.389Z"
   },
   {
    "duration": 14,
    "start_time": "2024-12-20T13:40:27.041Z"
   },
   {
    "duration": 3,
    "start_time": "2024-12-20T13:40:27.057Z"
   },
   {
    "duration": 25,
    "start_time": "2024-12-20T13:40:27.061Z"
   },
   {
    "duration": 20,
    "start_time": "2024-12-20T13:40:27.087Z"
   },
   {
    "duration": 7,
    "start_time": "2024-12-20T13:40:27.108Z"
   },
   {
    "duration": 11503,
    "start_time": "2024-12-20T13:40:27.117Z"
   },
   {
    "duration": 51002,
    "start_time": "2024-12-20T13:40:38.715Z"
   },
   {
    "duration": 2066825,
    "start_time": "2024-12-20T13:41:29.719Z"
   },
   {
    "duration": 1785,
    "start_time": "2024-12-20T14:15:56.545Z"
   },
   {
    "duration": 5,
    "start_time": "2024-12-20T14:24:17.236Z"
   },
   {
    "duration": 7,
    "start_time": "2024-12-20T14:25:56.291Z"
   },
   {
    "duration": 5,
    "start_time": "2024-12-20T14:33:04.299Z"
   },
   {
    "duration": 11463,
    "start_time": "2024-12-20T14:33:37.247Z"
   },
   {
    "duration": 2751,
    "start_time": "2024-12-20T14:33:58.599Z"
   },
   {
    "duration": 2711,
    "start_time": "2024-12-20T14:34:01.352Z"
   },
   {
    "duration": 7,
    "start_time": "2024-12-20T14:34:04.064Z"
   },
   {
    "duration": 128,
    "start_time": "2024-12-20T14:34:04.072Z"
   },
   {
    "duration": 90,
    "start_time": "2024-12-20T14:34:04.202Z"
   },
   {
    "duration": 18,
    "start_time": "2024-12-20T14:34:04.293Z"
   },
   {
    "duration": 30,
    "start_time": "2024-12-20T14:34:04.312Z"
   },
   {
    "duration": 17,
    "start_time": "2024-12-20T14:34:04.344Z"
   },
   {
    "duration": 6,
    "start_time": "2024-12-20T14:34:04.363Z"
   },
   {
    "duration": 6,
    "start_time": "2024-12-20T14:34:04.370Z"
   },
   {
    "duration": 6,
    "start_time": "2024-12-20T14:34:04.378Z"
   },
   {
    "duration": 21,
    "start_time": "2024-12-20T14:34:04.385Z"
   },
   {
    "duration": 223,
    "start_time": "2024-12-20T14:34:04.408Z"
   },
   {
    "duration": 211,
    "start_time": "2024-12-20T14:34:04.634Z"
   },
   {
    "duration": 3230,
    "start_time": "2024-12-20T14:34:04.846Z"
   },
   {
    "duration": 9,
    "start_time": "2024-12-20T14:34:08.078Z"
   },
   {
    "duration": 310,
    "start_time": "2024-12-20T14:34:08.089Z"
   },
   {
    "duration": 11,
    "start_time": "2024-12-20T14:34:08.401Z"
   },
   {
    "duration": 8493,
    "start_time": "2024-12-20T14:34:08.414Z"
   },
   {
    "duration": 63,
    "start_time": "2024-12-20T14:34:16.908Z"
   },
   {
    "duration": 2624,
    "start_time": "2024-12-20T14:34:16.972Z"
   },
   {
    "duration": 24,
    "start_time": "2024-12-20T14:34:19.597Z"
   },
   {
    "duration": 4,
    "start_time": "2024-12-20T14:34:19.622Z"
   },
   {
    "duration": 8,
    "start_time": "2024-12-20T14:34:19.628Z"
   },
   {
    "duration": 14,
    "start_time": "2024-12-20T14:34:19.638Z"
   },
   {
    "duration": 20,
    "start_time": "2024-12-20T14:34:19.653Z"
   },
   {
    "duration": 11541,
    "start_time": "2024-12-20T14:34:19.675Z"
   },
   {
    "duration": 50519,
    "start_time": "2024-12-20T14:34:31.218Z"
   },
   {
    "duration": 115,
    "start_time": "2024-12-20T14:35:21.738Z"
   },
   {
    "duration": 0,
    "start_time": "2024-12-20T14:35:21.855Z"
   },
   {
    "duration": 2053913,
    "start_time": "2024-12-20T15:10:39.546Z"
   },
   {
    "duration": 1760,
    "start_time": "2024-12-20T15:44:53.461Z"
   },
   {
    "duration": 3391,
    "start_time": "2024-12-20T17:38:48.745Z"
   },
   {
    "duration": 3408,
    "start_time": "2024-12-20T18:14:41.645Z"
   },
   {
    "duration": 3639,
    "start_time": "2024-12-20T19:33:08.515Z"
   },
   {
    "duration": 3469,
    "start_time": "2024-12-20T19:34:40.195Z"
   },
   {
    "duration": 3427,
    "start_time": "2024-12-20T19:36:16.566Z"
   },
   {
    "duration": 1401,
    "start_time": "2024-12-20T20:00:50.925Z"
   },
   {
    "duration": 4964,
    "start_time": "2024-12-22T13:25:28.913Z"
   },
   {
    "duration": 3200,
    "start_time": "2024-12-22T13:25:33.880Z"
   },
   {
    "duration": 2139,
    "start_time": "2024-12-22T13:25:37.082Z"
   },
   {
    "duration": 305,
    "start_time": "2024-12-22T13:25:39.223Z"
   },
   {
    "duration": 125,
    "start_time": "2024-12-22T13:25:39.530Z"
   },
   {
    "duration": 7,
    "start_time": "2024-12-22T13:25:39.656Z"
   },
   {
    "duration": 50,
    "start_time": "2024-12-22T13:25:39.665Z"
   },
   {
    "duration": 20,
    "start_time": "2024-12-22T13:25:39.716Z"
   },
   {
    "duration": 6,
    "start_time": "2024-12-22T13:25:39.737Z"
   },
   {
    "duration": 6,
    "start_time": "2024-12-22T13:25:39.744Z"
   },
   {
    "duration": 14,
    "start_time": "2024-12-22T13:25:39.752Z"
   },
   {
    "duration": 9,
    "start_time": "2024-12-22T13:25:39.768Z"
   },
   {
    "duration": 281,
    "start_time": "2024-12-22T13:25:39.779Z"
   },
   {
    "duration": 240,
    "start_time": "2024-12-22T13:25:40.063Z"
   },
   {
    "duration": 1765,
    "start_time": "2024-12-22T13:25:40.305Z"
   },
   {
    "duration": 0,
    "start_time": "2024-12-22T13:25:42.072Z"
   },
   {
    "duration": 0,
    "start_time": "2024-12-22T13:25:42.073Z"
   },
   {
    "duration": 0,
    "start_time": "2024-12-22T13:25:42.075Z"
   },
   {
    "duration": 0,
    "start_time": "2024-12-22T13:25:42.076Z"
   },
   {
    "duration": 0,
    "start_time": "2024-12-22T13:25:42.077Z"
   },
   {
    "duration": 0,
    "start_time": "2024-12-22T13:25:42.078Z"
   },
   {
    "duration": 0,
    "start_time": "2024-12-22T13:25:42.079Z"
   },
   {
    "duration": 0,
    "start_time": "2024-12-22T13:25:42.080Z"
   },
   {
    "duration": 0,
    "start_time": "2024-12-22T13:25:42.081Z"
   },
   {
    "duration": 0,
    "start_time": "2024-12-22T13:25:42.082Z"
   },
   {
    "duration": 0,
    "start_time": "2024-12-22T13:25:42.083Z"
   },
   {
    "duration": 0,
    "start_time": "2024-12-22T13:25:42.085Z"
   },
   {
    "duration": 0,
    "start_time": "2024-12-22T13:25:42.086Z"
   },
   {
    "duration": 0,
    "start_time": "2024-12-22T13:25:42.087Z"
   },
   {
    "duration": 0,
    "start_time": "2024-12-22T13:25:42.114Z"
   },
   {
    "duration": 3543,
    "start_time": "2024-12-22T14:38:56.748Z"
   },
   {
    "duration": 90,
    "start_time": "2024-12-22T20:50:54.985Z"
   },
   {
    "duration": 5022,
    "start_time": "2024-12-22T20:50:58.568Z"
   },
   {
    "duration": 3590,
    "start_time": "2024-12-22T20:51:03.592Z"
   },
   {
    "duration": 2273,
    "start_time": "2024-12-22T20:51:07.184Z"
   },
   {
    "duration": 310,
    "start_time": "2024-12-22T20:51:09.459Z"
   },
   {
    "duration": 108,
    "start_time": "2024-12-22T20:51:09.770Z"
   },
   {
    "duration": 6,
    "start_time": "2024-12-22T20:51:09.879Z"
   },
   {
    "duration": 99,
    "start_time": "2024-12-22T20:51:09.887Z"
   },
   {
    "duration": 17,
    "start_time": "2024-12-22T20:51:09.991Z"
   },
   {
    "duration": 22,
    "start_time": "2024-12-22T20:51:10.009Z"
   },
   {
    "duration": 11,
    "start_time": "2024-12-22T20:51:10.034Z"
   },
   {
    "duration": 31,
    "start_time": "2024-12-22T20:51:10.047Z"
   },
   {
    "duration": 10,
    "start_time": "2024-12-22T20:51:10.079Z"
   },
   {
    "duration": 328,
    "start_time": "2024-12-22T20:51:10.090Z"
   },
   {
    "duration": 238,
    "start_time": "2024-12-22T20:51:10.421Z"
   },
   {
    "duration": 3638,
    "start_time": "2024-12-22T20:51:10.661Z"
   },
   {
    "duration": 7,
    "start_time": "2024-12-22T20:51:14.302Z"
   },
   {
    "duration": 506,
    "start_time": "2024-12-22T20:51:14.311Z"
   },
   {
    "duration": 6,
    "start_time": "2024-12-22T20:51:14.819Z"
   },
   {
    "duration": 11367,
    "start_time": "2024-12-22T20:51:14.828Z"
   },
   {
    "duration": 85,
    "start_time": "2024-12-22T20:51:26.197Z"
   },
   {
    "duration": 3103,
    "start_time": "2024-12-22T20:51:26.284Z"
   },
   {
    "duration": 27,
    "start_time": "2024-12-22T20:51:29.388Z"
   },
   {
    "duration": 10,
    "start_time": "2024-12-22T20:51:29.417Z"
   },
   {
    "duration": 15,
    "start_time": "2024-12-22T20:51:29.429Z"
   },
   {
    "duration": 6,
    "start_time": "2024-12-22T20:51:29.446Z"
   },
   {
    "duration": 19,
    "start_time": "2024-12-22T20:51:29.453Z"
   },
   {
    "duration": 12359,
    "start_time": "2024-12-22T20:51:29.474Z"
   },
   {
    "duration": 46023,
    "start_time": "2024-12-22T20:51:41.837Z"
   },
   {
    "duration": 2641,
    "start_time": "2024-12-22T21:30:38.902Z"
   },
   {
    "duration": 2422,
    "start_time": "2024-12-22T21:30:41.546Z"
   },
   {
    "duration": 6,
    "start_time": "2024-12-22T21:30:43.970Z"
   },
   {
    "duration": 159,
    "start_time": "2024-12-22T21:30:43.978Z"
   },
   {
    "duration": 115,
    "start_time": "2024-12-22T21:30:44.139Z"
   },
   {
    "duration": 8,
    "start_time": "2024-12-22T21:30:44.256Z"
   },
   {
    "duration": 16,
    "start_time": "2024-12-22T21:30:44.267Z"
   },
   {
    "duration": 32,
    "start_time": "2024-12-22T21:30:44.285Z"
   },
   {
    "duration": 5,
    "start_time": "2024-12-22T21:30:44.319Z"
   },
   {
    "duration": 9,
    "start_time": "2024-12-22T21:30:44.325Z"
   },
   {
    "duration": 5,
    "start_time": "2024-12-22T21:30:44.335Z"
   },
   {
    "duration": 8,
    "start_time": "2024-12-22T21:30:44.342Z"
   },
   {
    "duration": 244,
    "start_time": "2024-12-22T21:30:44.352Z"
   },
   {
    "duration": 379,
    "start_time": "2024-12-22T21:30:44.599Z"
   },
   {
    "duration": 3500,
    "start_time": "2024-12-22T21:30:44.980Z"
   },
   {
    "duration": 7,
    "start_time": "2024-12-22T21:30:48.482Z"
   },
   {
    "duration": 344,
    "start_time": "2024-12-22T21:30:48.490Z"
   },
   {
    "duration": 4,
    "start_time": "2024-12-22T21:30:48.836Z"
   },
   {
    "duration": 9534,
    "start_time": "2024-12-22T21:30:48.841Z"
   },
   {
    "duration": 76,
    "start_time": "2024-12-22T21:30:58.376Z"
   },
   {
    "duration": 2727,
    "start_time": "2024-12-22T21:30:58.454Z"
   },
   {
    "duration": 16,
    "start_time": "2024-12-22T21:31:01.183Z"
   },
   {
    "duration": 21,
    "start_time": "2024-12-22T21:31:01.200Z"
   },
   {
    "duration": 51,
    "start_time": "2024-12-22T21:31:01.222Z"
   },
   {
    "duration": 12,
    "start_time": "2024-12-22T21:31:01.274Z"
   },
   {
    "duration": 15,
    "start_time": "2024-12-22T21:31:01.288Z"
   },
   {
    "duration": 11811,
    "start_time": "2024-12-22T21:31:01.305Z"
   },
   {
    "duration": 62731,
    "start_time": "2024-12-22T21:31:13.123Z"
   },
   {
    "duration": 2301131,
    "start_time": "2024-12-22T21:32:15.856Z"
   },
   {
    "duration": 2102,
    "start_time": "2024-12-22T22:10:36.989Z"
   },
   {
    "duration": 4898,
    "start_time": "2024-12-24T17:39:05.047Z"
   },
   {
    "duration": 3349,
    "start_time": "2024-12-24T17:39:09.947Z"
   },
   {
    "duration": 2021,
    "start_time": "2024-12-24T17:39:13.298Z"
   },
   {
    "duration": 373,
    "start_time": "2024-12-24T17:39:15.320Z"
   },
   {
    "duration": 91,
    "start_time": "2024-12-24T17:39:15.695Z"
   },
   {
    "duration": 8,
    "start_time": "2024-12-24T17:39:15.787Z"
   },
   {
    "duration": 83,
    "start_time": "2024-12-24T17:39:15.796Z"
   },
   {
    "duration": 20,
    "start_time": "2024-12-24T17:39:15.881Z"
   },
   {
    "duration": 17,
    "start_time": "2024-12-24T17:39:15.902Z"
   },
   {
    "duration": 34,
    "start_time": "2024-12-24T17:39:15.920Z"
   },
   {
    "duration": 15,
    "start_time": "2024-12-24T17:39:15.956Z"
   },
   {
    "duration": 8,
    "start_time": "2024-12-24T17:39:15.973Z"
   },
   {
    "duration": 249,
    "start_time": "2024-12-24T17:39:15.982Z"
   },
   {
    "duration": 204,
    "start_time": "2024-12-24T17:39:16.235Z"
   },
   {
    "duration": 3268,
    "start_time": "2024-12-24T17:39:16.441Z"
   },
   {
    "duration": 7,
    "start_time": "2024-12-24T17:39:19.711Z"
   },
   {
    "duration": 319,
    "start_time": "2024-12-24T17:39:19.719Z"
   },
   {
    "duration": 3,
    "start_time": "2024-12-24T17:39:20.040Z"
   },
   {
    "duration": 8460,
    "start_time": "2024-12-24T17:39:20.045Z"
   },
   {
    "duration": 75,
    "start_time": "2024-12-24T17:39:28.507Z"
   },
   {
    "duration": 2544,
    "start_time": "2024-12-24T17:39:28.584Z"
   },
   {
    "duration": 33,
    "start_time": "2024-12-24T17:39:31.130Z"
   },
   {
    "duration": 29,
    "start_time": "2024-12-24T17:39:31.165Z"
   },
   {
    "duration": 28,
    "start_time": "2024-12-24T17:39:31.196Z"
   },
   {
    "duration": 5,
    "start_time": "2024-12-24T17:39:31.226Z"
   },
   {
    "duration": 21,
    "start_time": "2024-12-24T17:39:31.233Z"
   },
   {
    "duration": 11620,
    "start_time": "2024-12-24T17:39:31.256Z"
   },
   {
    "duration": 51251,
    "start_time": "2024-12-24T17:39:42.954Z"
   },
   {
    "duration": 3396,
    "start_time": "2024-12-24T18:17:43.157Z"
   },
   {
    "duration": 3377,
    "start_time": "2024-12-24T18:20:42.827Z"
   },
   {
    "duration": 2941,
    "start_time": "2024-12-24T18:25:23.587Z"
   },
   {
    "duration": 2787,
    "start_time": "2024-12-24T18:26:21.424Z"
   },
   {
    "duration": 2675,
    "start_time": "2024-12-24T18:26:24.214Z"
   },
   {
    "duration": 8,
    "start_time": "2024-12-24T18:26:26.891Z"
   },
   {
    "duration": 126,
    "start_time": "2024-12-24T18:26:26.902Z"
   },
   {
    "duration": 92,
    "start_time": "2024-12-24T18:26:27.030Z"
   },
   {
    "duration": 8,
    "start_time": "2024-12-24T18:26:27.123Z"
   },
   {
    "duration": 11,
    "start_time": "2024-12-24T18:26:27.152Z"
   },
   {
    "duration": 13,
    "start_time": "2024-12-24T18:26:27.164Z"
   },
   {
    "duration": 6,
    "start_time": "2024-12-24T18:26:27.179Z"
   },
   {
    "duration": 5,
    "start_time": "2024-12-24T18:26:27.188Z"
   },
   {
    "duration": 3,
    "start_time": "2024-12-24T18:26:27.195Z"
   },
   {
    "duration": 11,
    "start_time": "2024-12-24T18:26:27.200Z"
   },
   {
    "duration": 268,
    "start_time": "2024-12-24T18:26:27.212Z"
   },
   {
    "duration": 209,
    "start_time": "2024-12-24T18:26:27.481Z"
   },
   {
    "duration": 2730,
    "start_time": "2024-12-24T18:26:27.692Z"
   },
   {
    "duration": 8,
    "start_time": "2024-12-24T18:26:30.423Z"
   },
   {
    "duration": 310,
    "start_time": "2024-12-24T18:26:30.432Z"
   },
   {
    "duration": 4,
    "start_time": "2024-12-24T18:26:30.743Z"
   },
   {
    "duration": 9393,
    "start_time": "2024-12-24T18:26:30.753Z"
   },
   {
    "duration": 106,
    "start_time": "2024-12-24T18:26:40.148Z"
   },
   {
    "duration": 2545,
    "start_time": "2024-12-24T18:26:40.256Z"
   },
   {
    "duration": 15,
    "start_time": "2024-12-24T18:26:42.802Z"
   },
   {
    "duration": 24,
    "start_time": "2024-12-24T18:26:42.819Z"
   },
   {
    "duration": 23,
    "start_time": "2024-12-24T18:26:42.845Z"
   },
   {
    "duration": 24,
    "start_time": "2024-12-24T18:26:42.870Z"
   },
   {
    "duration": 20,
    "start_time": "2024-12-24T18:26:42.895Z"
   },
   {
    "duration": 12141,
    "start_time": "2024-12-24T18:26:42.917Z"
   },
   {
    "duration": 51703,
    "start_time": "2024-12-24T18:26:55.061Z"
   },
   {
    "duration": 1980605,
    "start_time": "2024-12-24T18:27:46.765Z"
   },
   {
    "duration": 1862,
    "start_time": "2024-12-24T19:00:47.372Z"
   },
   {
    "duration": 2423,
    "start_time": "2024-12-24T19:09:18.475Z"
   },
   {
    "duration": 4795,
    "start_time": "2024-12-26T08:30:41.758Z"
   },
   {
    "duration": 3590,
    "start_time": "2024-12-26T08:30:46.555Z"
   },
   {
    "duration": 2222,
    "start_time": "2024-12-26T08:30:50.147Z"
   },
   {
    "duration": 364,
    "start_time": "2024-12-26T08:30:52.371Z"
   },
   {
    "duration": 127,
    "start_time": "2024-12-26T08:30:52.737Z"
   },
   {
    "duration": 8,
    "start_time": "2024-12-26T08:30:52.866Z"
   },
   {
    "duration": 92,
    "start_time": "2024-12-26T08:30:52.875Z"
   },
   {
    "duration": 25,
    "start_time": "2024-12-26T08:30:52.969Z"
   },
   {
    "duration": 13,
    "start_time": "2024-12-26T08:30:52.996Z"
   },
   {
    "duration": 16,
    "start_time": "2024-12-26T08:30:53.012Z"
   },
   {
    "duration": 11,
    "start_time": "2024-12-26T08:30:53.031Z"
   },
   {
    "duration": 19,
    "start_time": "2024-12-26T08:30:53.044Z"
   },
   {
    "duration": 280,
    "start_time": "2024-12-26T08:30:53.065Z"
   },
   {
    "duration": 217,
    "start_time": "2024-12-26T08:30:53.348Z"
   },
   {
    "duration": 3057,
    "start_time": "2024-12-26T08:30:53.567Z"
   },
   {
    "duration": 7,
    "start_time": "2024-12-26T08:30:56.625Z"
   },
   {
    "duration": 350,
    "start_time": "2024-12-26T08:30:56.634Z"
   },
   {
    "duration": 12,
    "start_time": "2024-12-26T08:30:56.994Z"
   },
   {
    "duration": 9964,
    "start_time": "2024-12-26T08:30:57.009Z"
   },
   {
    "duration": 90,
    "start_time": "2024-12-26T08:31:06.975Z"
   },
   {
    "duration": 2989,
    "start_time": "2024-12-26T08:31:07.067Z"
   },
   {
    "duration": 25,
    "start_time": "2024-12-26T08:31:10.059Z"
   },
   {
    "duration": 20,
    "start_time": "2024-12-26T08:31:10.086Z"
   },
   {
    "duration": 22,
    "start_time": "2024-12-26T08:31:10.108Z"
   },
   {
    "duration": 7,
    "start_time": "2024-12-26T08:31:10.132Z"
   },
   {
    "duration": 12,
    "start_time": "2024-12-26T08:31:10.141Z"
   },
   {
    "duration": 12842,
    "start_time": "2024-12-26T08:31:10.155Z"
   },
   {
    "duration": 48353,
    "start_time": "2024-12-26T08:31:22.999Z"
   },
   {
    "duration": 51,
    "start_time": "2024-12-26T20:04:39.612Z"
   },
   {
    "duration": 4917,
    "start_time": "2024-12-26T20:04:46.826Z"
   },
   {
    "duration": 2943,
    "start_time": "2024-12-26T20:04:51.745Z"
   },
   {
    "duration": 1956,
    "start_time": "2024-12-26T20:04:54.690Z"
   },
   {
    "duration": 291,
    "start_time": "2024-12-26T20:04:56.648Z"
   },
   {
    "duration": 88,
    "start_time": "2024-12-26T20:04:56.941Z"
   },
   {
    "duration": 25,
    "start_time": "2024-12-26T20:04:57.031Z"
   },
   {
    "duration": 11,
    "start_time": "2024-12-26T20:04:57.057Z"
   },
   {
    "duration": 13,
    "start_time": "2024-12-26T20:04:57.070Z"
   },
   {
    "duration": 5,
    "start_time": "2024-12-26T20:04:57.084Z"
   },
   {
    "duration": 5,
    "start_time": "2024-12-26T20:04:57.090Z"
   },
   {
    "duration": 3,
    "start_time": "2024-12-26T20:04:57.096Z"
   },
   {
    "duration": 9,
    "start_time": "2024-12-26T20:04:57.101Z"
   },
   {
    "duration": 262,
    "start_time": "2024-12-26T20:04:57.112Z"
   },
   {
    "duration": 203,
    "start_time": "2024-12-26T20:04:57.377Z"
   },
   {
    "duration": 2668,
    "start_time": "2024-12-26T20:04:57.582Z"
   },
   {
    "duration": 8,
    "start_time": "2024-12-26T20:05:00.254Z"
   },
   {
    "duration": 365,
    "start_time": "2024-12-26T20:05:00.263Z"
   },
   {
    "duration": 4,
    "start_time": "2024-12-26T20:05:00.629Z"
   },
   {
    "duration": 9531,
    "start_time": "2024-12-26T20:05:00.634Z"
   },
   {
    "duration": 96,
    "start_time": "2024-12-26T20:05:10.167Z"
   },
   {
    "duration": 2711,
    "start_time": "2024-12-26T20:05:10.264Z"
   },
   {
    "duration": 17,
    "start_time": "2024-12-26T20:05:12.977Z"
   },
   {
    "duration": 71,
    "start_time": "2024-12-26T20:05:12.995Z"
   },
   {
    "duration": 11,
    "start_time": "2024-12-26T20:05:13.068Z"
   },
   {
    "duration": 4,
    "start_time": "2024-12-26T20:05:13.080Z"
   },
   {
    "duration": 5,
    "start_time": "2024-12-26T20:05:13.086Z"
   },
   {
    "duration": 11568,
    "start_time": "2024-12-26T20:05:13.092Z"
   },
   {
    "duration": 51907,
    "start_time": "2024-12-26T20:05:24.662Z"
   },
   {
    "duration": 2229081,
    "start_time": "2024-12-26T20:06:16.571Z"
   },
   {
    "duration": 2348,
    "start_time": "2024-12-26T20:43:25.654Z"
   },
   {
    "duration": 1979,
    "start_time": "2024-12-26T20:45:39.459Z"
   },
   {
    "duration": 2391,
    "start_time": "2024-12-26T20:48:12.915Z"
   },
   {
    "duration": 18,
    "start_time": "2024-12-26T20:51:17.442Z"
   },
   {
    "duration": 2540,
    "start_time": "2024-12-26T20:51:33.353Z"
   },
   {
    "duration": 2316,
    "start_time": "2024-12-26T20:52:28.387Z"
   },
   {
    "duration": 61,
    "start_time": "2024-12-27T06:00:34.914Z"
   },
   {
    "duration": 4753,
    "start_time": "2024-12-27T06:00:43.482Z"
   },
   {
    "duration": 3429,
    "start_time": "2024-12-27T06:00:48.238Z"
   },
   {
    "duration": 2320,
    "start_time": "2024-12-27T06:00:51.670Z"
   },
   {
    "duration": 305,
    "start_time": "2024-12-27T06:00:53.993Z"
   },
   {
    "duration": 179,
    "start_time": "2024-12-27T06:00:54.300Z"
   },
   {
    "duration": 10,
    "start_time": "2024-12-27T06:00:54.481Z"
   },
   {
    "duration": 17,
    "start_time": "2024-12-27T06:00:54.494Z"
   },
   {
    "duration": 31,
    "start_time": "2024-12-27T06:00:54.513Z"
   },
   {
    "duration": 24,
    "start_time": "2024-12-27T06:00:54.547Z"
   },
   {
    "duration": 8,
    "start_time": "2024-12-27T06:00:54.575Z"
   },
   {
    "duration": 12,
    "start_time": "2024-12-27T06:00:54.585Z"
   },
   {
    "duration": 13,
    "start_time": "2024-12-27T06:00:54.599Z"
   },
   {
    "duration": 300,
    "start_time": "2024-12-27T06:00:54.613Z"
   },
   {
    "duration": 327,
    "start_time": "2024-12-27T06:00:54.917Z"
   },
   {
    "duration": 3146,
    "start_time": "2024-12-27T06:00:55.246Z"
   },
   {
    "duration": 8,
    "start_time": "2024-12-27T06:00:58.394Z"
   },
   {
    "duration": 430,
    "start_time": "2024-12-27T06:00:58.404Z"
   },
   {
    "duration": 6,
    "start_time": "2024-12-27T06:00:58.836Z"
   },
   {
    "duration": 11319,
    "start_time": "2024-12-27T06:00:58.844Z"
   },
   {
    "duration": 125,
    "start_time": "2024-12-27T06:01:10.170Z"
   },
   {
    "duration": 3511,
    "start_time": "2024-12-27T06:01:10.297Z"
   },
   {
    "duration": 22,
    "start_time": "2024-12-27T06:01:13.810Z"
   },
   {
    "duration": 41,
    "start_time": "2024-12-27T06:01:13.834Z"
   },
   {
    "duration": 28,
    "start_time": "2024-12-27T06:01:13.878Z"
   },
   {
    "duration": 12,
    "start_time": "2024-12-27T06:01:13.908Z"
   },
   {
    "duration": 39,
    "start_time": "2024-12-27T06:01:13.922Z"
   },
   {
    "duration": 12315,
    "start_time": "2024-12-27T06:01:13.964Z"
   },
   {
    "duration": 53972,
    "start_time": "2024-12-27T06:01:26.369Z"
   },
   {
    "duration": 2382179,
    "start_time": "2024-12-27T06:02:20.343Z"
   },
   {
    "duration": 1783,
    "start_time": "2024-12-27T06:42:02.524Z"
   },
   {
    "duration": 56,
    "start_time": "2024-12-27T21:12:59.374Z"
   },
   {
    "duration": 5610,
    "start_time": "2024-12-27T21:13:06.355Z"
   },
   {
    "duration": 3443,
    "start_time": "2024-12-27T21:13:11.967Z"
   },
   {
    "duration": 2217,
    "start_time": "2024-12-27T21:13:15.412Z"
   },
   {
    "duration": 300,
    "start_time": "2024-12-27T21:13:17.631Z"
   },
   {
    "duration": 130,
    "start_time": "2024-12-27T21:13:17.933Z"
   },
   {
    "duration": 7,
    "start_time": "2024-12-27T21:13:18.064Z"
   },
   {
    "duration": 14,
    "start_time": "2024-12-27T21:13:18.073Z"
   },
   {
    "duration": 23,
    "start_time": "2024-12-27T21:13:18.088Z"
   },
   {
    "duration": 12,
    "start_time": "2024-12-27T21:13:18.138Z"
   },
   {
    "duration": 10,
    "start_time": "2024-12-27T21:13:18.151Z"
   },
   {
    "duration": 11,
    "start_time": "2024-12-27T21:13:18.163Z"
   },
   {
    "duration": 15,
    "start_time": "2024-12-27T21:13:18.176Z"
   },
   {
    "duration": 332,
    "start_time": "2024-12-27T21:13:18.193Z"
   },
   {
    "duration": 275,
    "start_time": "2024-12-27T21:13:18.538Z"
   },
   {
    "duration": 3163,
    "start_time": "2024-12-27T21:13:18.815Z"
   },
   {
    "duration": 8,
    "start_time": "2024-12-27T21:13:21.980Z"
   },
   {
    "duration": 413,
    "start_time": "2024-12-27T21:13:21.990Z"
   },
   {
    "duration": 4,
    "start_time": "2024-12-27T21:13:22.405Z"
   },
   {
    "duration": 10725,
    "start_time": "2024-12-27T21:13:22.412Z"
   },
   {
    "duration": 80,
    "start_time": "2024-12-27T21:13:33.139Z"
   },
   {
    "duration": 3078,
    "start_time": "2024-12-27T21:13:33.237Z"
   },
   {
    "duration": 21,
    "start_time": "2024-12-27T21:13:36.316Z"
   },
   {
    "duration": 41,
    "start_time": "2024-12-27T21:13:36.338Z"
   },
   {
    "duration": 75,
    "start_time": "2024-12-27T21:13:36.381Z"
   },
   {
    "duration": 69,
    "start_time": "2024-12-27T21:13:36.458Z"
   },
   {
    "duration": 67,
    "start_time": "2024-12-27T21:13:36.529Z"
   },
   {
    "duration": 12045,
    "start_time": "2024-12-27T21:13:36.598Z"
   },
   {
    "duration": 60940,
    "start_time": "2024-12-27T21:13:48.645Z"
   },
   {
    "duration": 4384,
    "start_time": "2024-12-28T06:41:37.520Z"
   },
   {
    "duration": 3252,
    "start_time": "2024-12-28T06:41:41.906Z"
   },
   {
    "duration": 2063,
    "start_time": "2024-12-28T06:41:45.160Z"
   },
   {
    "duration": 308,
    "start_time": "2024-12-28T06:41:47.226Z"
   },
   {
    "duration": 115,
    "start_time": "2024-12-28T06:41:47.536Z"
   },
   {
    "duration": 7,
    "start_time": "2024-12-28T06:41:47.652Z"
   },
   {
    "duration": 22,
    "start_time": "2024-12-28T06:41:47.661Z"
   },
   {
    "duration": 13,
    "start_time": "2024-12-28T06:41:47.684Z"
   },
   {
    "duration": 5,
    "start_time": "2024-12-28T06:41:47.698Z"
   },
   {
    "duration": 6,
    "start_time": "2024-12-28T06:41:47.706Z"
   },
   {
    "duration": 5,
    "start_time": "2024-12-28T06:41:47.713Z"
   },
   {
    "duration": 15,
    "start_time": "2024-12-28T06:41:47.720Z"
   },
   {
    "duration": 405,
    "start_time": "2024-12-28T06:41:47.737Z"
   },
   {
    "duration": 237,
    "start_time": "2024-12-28T06:41:48.144Z"
   },
   {
    "duration": 2823,
    "start_time": "2024-12-28T06:41:48.383Z"
   },
   {
    "duration": 8,
    "start_time": "2024-12-28T06:41:51.207Z"
   },
   {
    "duration": 380,
    "start_time": "2024-12-28T06:41:51.216Z"
   },
   {
    "duration": 4,
    "start_time": "2024-12-28T06:41:51.598Z"
   },
   {
    "duration": 9898,
    "start_time": "2024-12-28T06:41:51.604Z"
   },
   {
    "duration": 89,
    "start_time": "2024-12-28T06:42:01.504Z"
   },
   {
    "duration": 2896,
    "start_time": "2024-12-28T06:42:01.594Z"
   },
   {
    "duration": 21,
    "start_time": "2024-12-28T06:42:04.492Z"
   },
   {
    "duration": 16,
    "start_time": "2024-12-28T06:42:04.515Z"
   },
   {
    "duration": 24,
    "start_time": "2024-12-28T06:42:04.532Z"
   },
   {
    "duration": 61,
    "start_time": "2024-12-28T06:42:04.557Z"
   },
   {
    "duration": 39,
    "start_time": "2024-12-28T06:42:04.620Z"
   },
   {
    "duration": 11887,
    "start_time": "2024-12-28T06:42:04.661Z"
   },
   {
    "duration": 58316,
    "start_time": "2024-12-28T06:42:16.551Z"
   },
   {
    "duration": 4288,
    "start_time": "2024-12-28T08:35:07.540Z"
   },
   {
    "duration": 3019,
    "start_time": "2024-12-28T08:35:11.831Z"
   },
   {
    "duration": 2107,
    "start_time": "2024-12-28T08:35:14.852Z"
   },
   {
    "duration": 294,
    "start_time": "2024-12-28T08:35:16.961Z"
   },
   {
    "duration": 125,
    "start_time": "2024-12-28T08:35:17.257Z"
   },
   {
    "duration": 7,
    "start_time": "2024-12-28T08:35:17.383Z"
   },
   {
    "duration": 14,
    "start_time": "2024-12-28T08:35:17.391Z"
   },
   {
    "duration": 35,
    "start_time": "2024-12-28T08:35:17.406Z"
   },
   {
    "duration": 5,
    "start_time": "2024-12-28T08:35:17.442Z"
   },
   {
    "duration": 16,
    "start_time": "2024-12-28T08:35:17.449Z"
   },
   {
    "duration": 7,
    "start_time": "2024-12-28T08:35:17.466Z"
   },
   {
    "duration": 14,
    "start_time": "2024-12-28T08:35:17.474Z"
   },
   {
    "duration": 266,
    "start_time": "2024-12-28T08:35:17.490Z"
   },
   {
    "duration": 226,
    "start_time": "2024-12-28T08:35:17.759Z"
   },
   {
    "duration": 2918,
    "start_time": "2024-12-28T08:35:17.987Z"
   },
   {
    "duration": 8,
    "start_time": "2024-12-28T08:35:20.906Z"
   },
   {
    "duration": 471,
    "start_time": "2024-12-28T08:35:20.916Z"
   },
   {
    "duration": 4,
    "start_time": "2024-12-28T08:35:21.389Z"
   },
   {
    "duration": 9991,
    "start_time": "2024-12-28T08:35:21.395Z"
   },
   {
    "duration": 90,
    "start_time": "2024-12-28T08:35:31.388Z"
   },
   {
    "duration": 3014,
    "start_time": "2024-12-28T08:35:31.480Z"
   },
   {
    "duration": 19,
    "start_time": "2024-12-28T08:35:34.512Z"
   },
   {
    "duration": 17,
    "start_time": "2024-12-28T08:35:34.532Z"
   },
   {
    "duration": 10,
    "start_time": "2024-12-28T08:35:34.550Z"
   },
   {
    "duration": 4,
    "start_time": "2024-12-28T08:35:34.562Z"
   },
   {
    "duration": 14,
    "start_time": "2024-12-28T08:35:34.568Z"
   },
   {
    "duration": 12046,
    "start_time": "2024-12-28T08:35:34.584Z"
   },
   {
    "duration": 57701,
    "start_time": "2024-12-28T08:35:46.632Z"
   },
   {
    "duration": 2361845,
    "start_time": "2024-12-28T08:36:44.335Z"
   },
   {
    "duration": 2014,
    "start_time": "2024-12-28T09:16:06.182Z"
   },
   {
    "duration": 1685,
    "start_time": "2024-12-28T09:24:32.445Z"
   },
   {
    "duration": 1586,
    "start_time": "2024-12-28T09:29:54.685Z"
   },
   {
    "duration": 13,
    "start_time": "2024-12-28T09:32:12.039Z"
   },
   {
    "duration": 2143,
    "start_time": "2024-12-28T09:43:47.218Z"
   },
   {
    "duration": 1522,
    "start_time": "2024-12-28T09:45:11.252Z"
   },
   {
    "duration": 1514,
    "start_time": "2024-12-28T09:46:10.064Z"
   },
   {
    "duration": 9,
    "start_time": "2024-12-28T09:46:18.373Z"
   },
   {
    "duration": 13,
    "start_time": "2024-12-28T09:50:37.969Z"
   },
   {
    "duration": 19,
    "start_time": "2024-12-28T09:52:14.865Z"
   },
   {
    "duration": 4,
    "start_time": "2024-12-28T09:53:35.366Z"
   },
   {
    "duration": 8,
    "start_time": "2024-12-28T09:53:49.987Z"
   },
   {
    "duration": 7,
    "start_time": "2024-12-28T09:54:40.487Z"
   },
   {
    "duration": 2503,
    "start_time": "2024-12-28T09:54:52.105Z"
   },
   {
    "duration": 2494,
    "start_time": "2024-12-28T09:54:54.611Z"
   },
   {
    "duration": 6,
    "start_time": "2024-12-28T09:54:57.107Z"
   },
   {
    "duration": 116,
    "start_time": "2024-12-28T09:54:57.115Z"
   },
   {
    "duration": 115,
    "start_time": "2024-12-28T09:54:57.233Z"
   },
   {
    "duration": 6,
    "start_time": "2024-12-28T09:54:57.350Z"
   },
   {
    "duration": 134,
    "start_time": "2024-12-28T09:54:57.358Z"
   },
   {
    "duration": 19,
    "start_time": "2024-12-28T09:54:57.494Z"
   },
   {
    "duration": 21,
    "start_time": "2024-12-28T09:54:57.515Z"
   },
   {
    "duration": 6,
    "start_time": "2024-12-28T09:54:57.538Z"
   },
   {
    "duration": 9,
    "start_time": "2024-12-28T09:54:57.546Z"
   },
   {
    "duration": 12,
    "start_time": "2024-12-28T09:54:57.557Z"
   },
   {
    "duration": 248,
    "start_time": "2024-12-28T09:54:57.570Z"
   },
   {
    "duration": 229,
    "start_time": "2024-12-28T09:54:57.821Z"
   },
   {
    "duration": 2952,
    "start_time": "2024-12-28T09:54:58.052Z"
   },
   {
    "duration": 8,
    "start_time": "2024-12-28T09:55:01.005Z"
   },
   {
    "duration": 374,
    "start_time": "2024-12-28T09:55:01.032Z"
   },
   {
    "duration": 4,
    "start_time": "2024-12-28T09:55:01.407Z"
   },
   {
    "duration": 10236,
    "start_time": "2024-12-28T09:55:01.412Z"
   },
   {
    "duration": 101,
    "start_time": "2024-12-28T09:55:11.650Z"
   },
   {
    "duration": 2928,
    "start_time": "2024-12-28T09:55:11.752Z"
   },
   {
    "duration": 19,
    "start_time": "2024-12-28T09:55:14.682Z"
   },
   {
    "duration": 28,
    "start_time": "2024-12-28T09:55:14.703Z"
   },
   {
    "duration": 9,
    "start_time": "2024-12-28T09:55:14.733Z"
   },
   {
    "duration": 6,
    "start_time": "2024-12-28T09:55:14.743Z"
   },
   {
    "duration": 16,
    "start_time": "2024-12-28T09:55:14.751Z"
   },
   {
    "duration": 11866,
    "start_time": "2024-12-28T09:55:14.768Z"
   },
   {
    "duration": 58139,
    "start_time": "2024-12-28T09:55:26.639Z"
   },
   {
    "duration": 2434402,
    "start_time": "2024-12-28T09:56:24.780Z"
   },
   {
    "duration": 8,
    "start_time": "2024-12-28T10:36:59.185Z"
   },
   {
    "duration": 19,
    "start_time": "2024-12-28T10:36:59.194Z"
   },
   {
    "duration": 1623,
    "start_time": "2024-12-28T10:36:59.215Z"
   },
   {
    "duration": 44,
    "start_time": "2024-12-28T19:36:15.464Z"
   },
   {
    "duration": 7389,
    "start_time": "2024-12-28T19:36:19.540Z"
   },
   {
    "duration": 3098,
    "start_time": "2024-12-28T19:36:26.932Z"
   },
   {
    "duration": 1957,
    "start_time": "2024-12-28T19:36:30.032Z"
   },
   {
    "duration": 285,
    "start_time": "2024-12-28T19:36:31.991Z"
   },
   {
    "duration": 1864,
    "start_time": "2024-12-28T19:36:32.277Z"
   },
   {
    "duration": 8,
    "start_time": "2024-12-28T19:36:34.142Z"
   },
   {
    "duration": 145,
    "start_time": "2024-12-28T19:36:34.152Z"
   },
   {
    "duration": 30,
    "start_time": "2024-12-28T19:36:34.299Z"
   },
   {
    "duration": 26,
    "start_time": "2024-12-28T19:36:34.330Z"
   },
   {
    "duration": 9,
    "start_time": "2024-12-28T19:36:34.358Z"
   },
   {
    "duration": 8,
    "start_time": "2024-12-28T19:36:34.368Z"
   },
   {
    "duration": 58,
    "start_time": "2024-12-28T19:36:34.377Z"
   },
   {
    "duration": 259,
    "start_time": "2024-12-28T19:36:34.437Z"
   },
   {
    "duration": 204,
    "start_time": "2024-12-28T19:36:34.699Z"
   },
   {
    "duration": 2851,
    "start_time": "2024-12-28T19:36:34.905Z"
   },
   {
    "duration": 10,
    "start_time": "2024-12-28T19:36:37.758Z"
   },
   {
    "duration": 434,
    "start_time": "2024-12-28T19:36:37.769Z"
   },
   {
    "duration": 4,
    "start_time": "2024-12-28T19:36:38.205Z"
   },
   {
    "duration": 9646,
    "start_time": "2024-12-28T19:36:38.210Z"
   },
   {
    "duration": 80,
    "start_time": "2024-12-28T19:36:47.858Z"
   },
   {
    "duration": 4624,
    "start_time": "2024-12-28T19:36:47.939Z"
   },
   {
    "duration": 18,
    "start_time": "2024-12-28T19:36:52.564Z"
   },
   {
    "duration": 79,
    "start_time": "2024-12-28T19:36:52.584Z"
   },
   {
    "duration": 13,
    "start_time": "2024-12-28T19:36:52.664Z"
   },
   {
    "duration": 33,
    "start_time": "2024-12-28T19:36:52.678Z"
   },
   {
    "duration": 17,
    "start_time": "2024-12-28T19:36:52.712Z"
   },
   {
    "duration": 12297,
    "start_time": "2024-12-28T19:36:52.731Z"
   },
   {
    "duration": 53601,
    "start_time": "2024-12-28T19:37:05.030Z"
   },
   {
    "duration": 2193154,
    "start_time": "2024-12-28T20:41:19.664Z"
   },
   {
    "duration": 7,
    "start_time": "2024-12-28T21:21:29.396Z"
   },
   {
    "duration": 13,
    "start_time": "2024-12-28T21:21:35.398Z"
   },
   {
    "duration": 16,
    "start_time": "2024-12-28T21:21:48.767Z"
   },
   {
    "duration": 9,
    "start_time": "2024-12-28T21:22:40.687Z"
   },
   {
    "duration": 1843,
    "start_time": "2024-12-28T21:22:47.655Z"
   },
   {
    "duration": 2315,
    "start_time": "2024-12-28T21:25:21.359Z"
   },
   {
    "duration": 2280,
    "start_time": "2024-12-28T21:25:23.676Z"
   },
   {
    "duration": 8,
    "start_time": "2024-12-28T21:25:25.958Z"
   },
   {
    "duration": 121,
    "start_time": "2024-12-28T21:25:25.968Z"
   },
   {
    "duration": 94,
    "start_time": "2024-12-28T21:25:26.091Z"
   },
   {
    "duration": 7,
    "start_time": "2024-12-28T21:25:26.186Z"
   },
   {
    "duration": 31,
    "start_time": "2024-12-28T21:25:26.194Z"
   },
   {
    "duration": 13,
    "start_time": "2024-12-28T21:25:26.227Z"
   },
   {
    "duration": 5,
    "start_time": "2024-12-28T21:25:26.242Z"
   },
   {
    "duration": 11,
    "start_time": "2024-12-28T21:25:26.248Z"
   },
   {
    "duration": 10,
    "start_time": "2024-12-28T21:25:26.260Z"
   },
   {
    "duration": 11,
    "start_time": "2024-12-28T21:25:26.272Z"
   },
   {
    "duration": 232,
    "start_time": "2024-12-28T21:25:26.284Z"
   },
   {
    "duration": 337,
    "start_time": "2024-12-28T21:25:26.523Z"
   },
   {
    "duration": 2568,
    "start_time": "2024-12-28T21:25:26.862Z"
   },
   {
    "duration": 8,
    "start_time": "2024-12-28T21:25:29.431Z"
   },
   {
    "duration": 460,
    "start_time": "2024-12-28T21:25:29.440Z"
   },
   {
    "duration": 4,
    "start_time": "2024-12-28T21:25:29.902Z"
   },
   {
    "duration": 9422,
    "start_time": "2024-12-28T21:25:29.907Z"
   },
   {
    "duration": 67,
    "start_time": "2024-12-28T21:25:39.331Z"
   },
   {
    "duration": 2506,
    "start_time": "2024-12-28T21:25:39.400Z"
   },
   {
    "duration": 26,
    "start_time": "2024-12-28T21:25:41.908Z"
   },
   {
    "duration": 5,
    "start_time": "2024-12-28T21:25:41.935Z"
   },
   {
    "duration": 9,
    "start_time": "2024-12-28T21:25:41.942Z"
   },
   {
    "duration": 9,
    "start_time": "2024-12-28T21:25:41.952Z"
   },
   {
    "duration": 21,
    "start_time": "2024-12-28T21:25:41.963Z"
   },
   {
    "duration": 11340,
    "start_time": "2024-12-28T21:25:41.985Z"
   },
   {
    "duration": 51509,
    "start_time": "2024-12-28T21:25:53.328Z"
   },
   {
    "duration": 6464,
    "start_time": "2024-12-29T17:25:34.808Z"
   },
   {
    "duration": 3782,
    "start_time": "2024-12-29T17:25:41.275Z"
   },
   {
    "duration": 4317,
    "start_time": "2024-12-29T17:25:45.060Z"
   },
   {
    "duration": 307,
    "start_time": "2024-12-29T17:25:49.379Z"
   },
   {
    "duration": 135,
    "start_time": "2024-12-29T17:25:49.688Z"
   },
   {
    "duration": 9,
    "start_time": "2024-12-29T17:25:49.826Z"
   },
   {
    "duration": 26,
    "start_time": "2024-12-29T17:25:49.837Z"
   },
   {
    "duration": 14,
    "start_time": "2024-12-29T17:25:49.865Z"
   },
   {
    "duration": 28,
    "start_time": "2024-12-29T17:25:49.881Z"
   },
   {
    "duration": 14,
    "start_time": "2024-12-29T17:25:49.912Z"
   },
   {
    "duration": 17,
    "start_time": "2024-12-29T17:25:49.931Z"
   },
   {
    "duration": 47,
    "start_time": "2024-12-29T17:25:49.950Z"
   },
   {
    "duration": 294,
    "start_time": "2024-12-29T17:25:49.998Z"
   },
   {
    "duration": 249,
    "start_time": "2024-12-29T17:25:50.293Z"
   },
   {
    "duration": 3086,
    "start_time": "2024-12-29T17:25:50.544Z"
   },
   {
    "duration": 8,
    "start_time": "2024-12-29T17:25:53.633Z"
   },
   {
    "duration": 410,
    "start_time": "2024-12-29T17:25:53.643Z"
   },
   {
    "duration": 4,
    "start_time": "2024-12-29T17:25:54.056Z"
   },
   {
    "duration": 10718,
    "start_time": "2024-12-29T17:25:54.063Z"
   },
   {
    "duration": 95,
    "start_time": "2024-12-29T17:26:04.783Z"
   },
   {
    "duration": 3077,
    "start_time": "2024-12-29T17:26:04.880Z"
   },
   {
    "duration": 22,
    "start_time": "2024-12-29T17:26:07.959Z"
   },
   {
    "duration": 35,
    "start_time": "2024-12-29T17:26:07.983Z"
   },
   {
    "duration": 42,
    "start_time": "2024-12-29T17:26:08.030Z"
   },
   {
    "duration": 133,
    "start_time": "2024-12-29T17:26:08.074Z"
   },
   {
    "duration": 25,
    "start_time": "2024-12-29T17:26:08.209Z"
   },
   {
    "duration": 12083,
    "start_time": "2024-12-29T17:26:08.236Z"
   },
   {
    "duration": 61754,
    "start_time": "2024-12-29T17:26:20.326Z"
   },
   {
    "duration": 117011,
    "start_time": "2024-12-29T17:27:22.082Z"
   },
   {
    "duration": 0,
    "start_time": "2024-12-29T17:29:19.095Z"
   },
   {
    "duration": 0,
    "start_time": "2024-12-29T17:29:19.096Z"
   },
   {
    "duration": 0,
    "start_time": "2024-12-29T17:29:19.098Z"
   },
   {
    "duration": 7,
    "start_time": "2024-12-29T17:29:24.845Z"
   },
   {
    "duration": 86,
    "start_time": "2024-12-29T17:29:24.854Z"
   },
   {
    "duration": 2092,
    "start_time": "2024-12-29T17:29:24.942Z"
   },
   {
    "duration": 4353,
    "start_time": "2025-03-28T18:08:17.506Z"
   },
   {
    "duration": 3133,
    "start_time": "2025-03-28T18:08:21.861Z"
   },
   {
    "duration": 2000,
    "start_time": "2025-03-28T18:08:24.996Z"
   },
   {
    "duration": 106,
    "start_time": "2025-03-28T18:08:26.997Z"
   },
   {
    "duration": 108,
    "start_time": "2025-03-28T18:08:27.105Z"
   },
   {
    "duration": 7,
    "start_time": "2025-03-28T18:08:27.214Z"
   },
   {
    "duration": 29,
    "start_time": "2025-03-28T18:08:27.223Z"
   },
   {
    "duration": 14,
    "start_time": "2025-03-28T18:08:27.254Z"
   },
   {
    "duration": 10,
    "start_time": "2025-03-28T18:08:27.269Z"
   },
   {
    "duration": 32,
    "start_time": "2025-03-28T18:08:27.281Z"
   },
   {
    "duration": 13,
    "start_time": "2025-03-28T18:08:27.315Z"
   },
   {
    "duration": 13,
    "start_time": "2025-03-28T18:08:27.330Z"
   },
   {
    "duration": 283,
    "start_time": "2025-03-28T18:08:27.345Z"
   },
   {
    "duration": 220,
    "start_time": "2025-03-28T18:08:27.631Z"
   },
   {
    "duration": 2699,
    "start_time": "2025-03-28T18:08:27.853Z"
   },
   {
    "duration": 7,
    "start_time": "2025-03-28T18:08:30.554Z"
   },
   {
    "duration": 371,
    "start_time": "2025-03-28T18:08:30.563Z"
   },
   {
    "duration": 4,
    "start_time": "2025-03-28T18:08:30.935Z"
   },
   {
    "duration": 9481,
    "start_time": "2025-03-28T18:08:30.941Z"
   },
   {
    "duration": 84,
    "start_time": "2025-03-28T18:08:40.424Z"
   },
   {
    "duration": 2700,
    "start_time": "2025-03-28T18:08:40.509Z"
   },
   {
    "duration": 19,
    "start_time": "2025-03-28T18:08:43.210Z"
   },
   {
    "duration": 3,
    "start_time": "2025-03-28T18:08:43.231Z"
   },
   {
    "duration": 8,
    "start_time": "2025-03-28T18:08:43.235Z"
   },
   {
    "duration": 4,
    "start_time": "2025-03-28T18:08:43.245Z"
   },
   {
    "duration": 6,
    "start_time": "2025-03-28T18:08:43.250Z"
   },
   {
    "duration": 11347,
    "start_time": "2025-03-28T18:08:43.257Z"
   },
   {
    "duration": 56441,
    "start_time": "2025-03-28T18:08:54.606Z"
   }
  ],
  "colab": {
   "provenance": []
  },
  "kernelspec": {
   "display_name": "Python 3 (ipykernel)",
   "language": "python",
   "name": "python3"
  },
  "language_info": {
   "codemirror_mode": {
    "name": "ipython",
    "version": 3
   },
   "file_extension": ".py",
   "mimetype": "text/x-python",
   "name": "python",
   "nbconvert_exporter": "python",
   "pygments_lexer": "ipython3",
   "version": "3.11.7"
  },
  "toc": {
   "base_numbering": 1,
   "nav_menu": {},
   "number_sections": true,
   "sideBar": true,
   "skip_h1_title": true,
   "title_cell": "Table of Contents",
   "title_sidebar": "Contents",
   "toc_cell": false,
   "toc_position": {
    "height": "calc(100% - 180px)",
    "left": "10px",
    "top": "150px",
    "width": "288px"
   },
   "toc_section_display": true,
   "toc_window_display": true
  }
 },
 "nbformat": 4,
 "nbformat_minor": 1
}
